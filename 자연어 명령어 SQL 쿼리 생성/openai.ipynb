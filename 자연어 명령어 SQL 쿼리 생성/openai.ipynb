{
 "cells": [
  {
   "cell_type": "code",
   "execution_count": 134,
   "metadata": {},
   "outputs": [],
   "source": [
    "import pandas as pd\n",
    "import os\n",
    "from openai import OpenAI"
   ]
  },
  {
   "cell_type": "markdown",
   "metadata": {},
   "source": [
    "## 데이터 불러오기"
   ]
  },
  {
   "cell_type": "code",
   "execution_count": 135,
   "metadata": {},
   "outputs": [
    {
     "data": {
      "text/html": [
       "<div>\n",
       "<style scoped>\n",
       "    .dataframe tbody tr th:only-of-type {\n",
       "        vertical-align: middle;\n",
       "    }\n",
       "\n",
       "    .dataframe tbody tr th {\n",
       "        vertical-align: top;\n",
       "    }\n",
       "\n",
       "    .dataframe thead th {\n",
       "        text-align: right;\n",
       "    }\n",
       "</style>\n",
       "<table border=\"1\" class=\"dataframe\">\n",
       "  <thead>\n",
       "    <tr style=\"text-align: right;\">\n",
       "      <th></th>\n",
       "      <th>Retailer</th>\n",
       "      <th>Retailer ID</th>\n",
       "      <th>Invoice Date</th>\n",
       "      <th>Region</th>\n",
       "      <th>State</th>\n",
       "      <th>City</th>\n",
       "      <th>Gender Type</th>\n",
       "      <th>Product Category</th>\n",
       "      <th>Price per Unit</th>\n",
       "      <th>Units Sold</th>\n",
       "      <th>Total Sales</th>\n",
       "      <th>Operating Profit</th>\n",
       "      <th>Operating Margin</th>\n",
       "      <th>Sales Method</th>\n",
       "    </tr>\n",
       "  </thead>\n",
       "  <tbody>\n",
       "    <tr>\n",
       "      <th>0</th>\n",
       "      <td>Foot Locker</td>\n",
       "      <td>1185732</td>\n",
       "      <td>2021-10-26</td>\n",
       "      <td>Northeast</td>\n",
       "      <td>Pennsylvania</td>\n",
       "      <td>Philadelphia</td>\n",
       "      <td>Men</td>\n",
       "      <td>Apparel</td>\n",
       "      <td>55</td>\n",
       "      <td>125</td>\n",
       "      <td>68750.0</td>\n",
       "      <td>24062.50</td>\n",
       "      <td>0.35</td>\n",
       "      <td>Outlet</td>\n",
       "    </tr>\n",
       "    <tr>\n",
       "      <th>1</th>\n",
       "      <td>Foot Locker</td>\n",
       "      <td>1185732</td>\n",
       "      <td>2021-10-27</td>\n",
       "      <td>Northeast</td>\n",
       "      <td>Pennsylvania</td>\n",
       "      <td>Philadelphia</td>\n",
       "      <td>Women</td>\n",
       "      <td>Apparel</td>\n",
       "      <td>45</td>\n",
       "      <td>225</td>\n",
       "      <td>101250.0</td>\n",
       "      <td>30375.00</td>\n",
       "      <td>0.30</td>\n",
       "      <td>Outlet</td>\n",
       "    </tr>\n",
       "    <tr>\n",
       "      <th>2</th>\n",
       "      <td>Foot Locker</td>\n",
       "      <td>1185732</td>\n",
       "      <td>2021-10-28</td>\n",
       "      <td>Northeast</td>\n",
       "      <td>Pennsylvania</td>\n",
       "      <td>Philadelphia</td>\n",
       "      <td>Men</td>\n",
       "      <td>Street Footwear</td>\n",
       "      <td>45</td>\n",
       "      <td>475</td>\n",
       "      <td>213750.0</td>\n",
       "      <td>117562.50</td>\n",
       "      <td>0.55</td>\n",
       "      <td>Outlet</td>\n",
       "    </tr>\n",
       "    <tr>\n",
       "      <th>3</th>\n",
       "      <td>Foot Locker</td>\n",
       "      <td>1185732</td>\n",
       "      <td>2021-10-29</td>\n",
       "      <td>Northeast</td>\n",
       "      <td>Pennsylvania</td>\n",
       "      <td>Philadelphia</td>\n",
       "      <td>Men</td>\n",
       "      <td>Athletic Footwear</td>\n",
       "      <td>45</td>\n",
       "      <td>125</td>\n",
       "      <td>56250.0</td>\n",
       "      <td>19687.50</td>\n",
       "      <td>0.35</td>\n",
       "      <td>Outlet</td>\n",
       "    </tr>\n",
       "    <tr>\n",
       "      <th>4</th>\n",
       "      <td>Foot Locker</td>\n",
       "      <td>1185732</td>\n",
       "      <td>2021-10-30</td>\n",
       "      <td>Northeast</td>\n",
       "      <td>Pennsylvania</td>\n",
       "      <td>Philadelphia</td>\n",
       "      <td>Women</td>\n",
       "      <td>Street Footwear</td>\n",
       "      <td>35</td>\n",
       "      <td>175</td>\n",
       "      <td>61250.0</td>\n",
       "      <td>24500.00</td>\n",
       "      <td>0.40</td>\n",
       "      <td>Outlet</td>\n",
       "    </tr>\n",
       "    <tr>\n",
       "      <th>...</th>\n",
       "      <td>...</td>\n",
       "      <td>...</td>\n",
       "      <td>...</td>\n",
       "      <td>...</td>\n",
       "      <td>...</td>\n",
       "      <td>...</td>\n",
       "      <td>...</td>\n",
       "      <td>...</td>\n",
       "      <td>...</td>\n",
       "      <td>...</td>\n",
       "      <td>...</td>\n",
       "      <td>...</td>\n",
       "      <td>...</td>\n",
       "      <td>...</td>\n",
       "    </tr>\n",
       "    <tr>\n",
       "      <th>9643</th>\n",
       "      <td>West Gear</td>\n",
       "      <td>1128299</td>\n",
       "      <td>2020-03-14</td>\n",
       "      <td>West</td>\n",
       "      <td>Nevada</td>\n",
       "      <td>Las Vegas</td>\n",
       "      <td>Women</td>\n",
       "      <td>Apparel</td>\n",
       "      <td>56</td>\n",
       "      <td>170</td>\n",
       "      <td>9520.0</td>\n",
       "      <td>1713.60</td>\n",
       "      <td>0.18</td>\n",
       "      <td>Outlet</td>\n",
       "    </tr>\n",
       "    <tr>\n",
       "      <th>9644</th>\n",
       "      <td>West Gear</td>\n",
       "      <td>1128299</td>\n",
       "      <td>2020-03-15</td>\n",
       "      <td>West</td>\n",
       "      <td>Nevada</td>\n",
       "      <td>Las Vegas</td>\n",
       "      <td>Men</td>\n",
       "      <td>Street Footwear</td>\n",
       "      <td>20</td>\n",
       "      <td>149</td>\n",
       "      <td>2980.0</td>\n",
       "      <td>1192.00</td>\n",
       "      <td>0.40</td>\n",
       "      <td>Outlet</td>\n",
       "    </tr>\n",
       "    <tr>\n",
       "      <th>9645</th>\n",
       "      <td>West Gear</td>\n",
       "      <td>1128299</td>\n",
       "      <td>2020-03-16</td>\n",
       "      <td>West</td>\n",
       "      <td>Nevada</td>\n",
       "      <td>Las Vegas</td>\n",
       "      <td>Men</td>\n",
       "      <td>Athletic Footwear</td>\n",
       "      <td>31</td>\n",
       "      <td>145</td>\n",
       "      <td>4495.0</td>\n",
       "      <td>1123.75</td>\n",
       "      <td>0.25</td>\n",
       "      <td>Outlet</td>\n",
       "    </tr>\n",
       "    <tr>\n",
       "      <th>9646</th>\n",
       "      <td>West Gear</td>\n",
       "      <td>1128299</td>\n",
       "      <td>2020-03-17</td>\n",
       "      <td>West</td>\n",
       "      <td>Nevada</td>\n",
       "      <td>Las Vegas</td>\n",
       "      <td>Women</td>\n",
       "      <td>Street Footwear</td>\n",
       "      <td>26</td>\n",
       "      <td>128</td>\n",
       "      <td>3328.0</td>\n",
       "      <td>1397.76</td>\n",
       "      <td>0.42</td>\n",
       "      <td>Outlet</td>\n",
       "    </tr>\n",
       "    <tr>\n",
       "      <th>9647</th>\n",
       "      <td>West Gear</td>\n",
       "      <td>1128299</td>\n",
       "      <td>2020-03-18</td>\n",
       "      <td>West</td>\n",
       "      <td>Nevada</td>\n",
       "      <td>Las Vegas</td>\n",
       "      <td>Women</td>\n",
       "      <td>Athletic Footwear</td>\n",
       "      <td>26</td>\n",
       "      <td>96</td>\n",
       "      <td>2496.0</td>\n",
       "      <td>848.64</td>\n",
       "      <td>0.34</td>\n",
       "      <td>Outlet</td>\n",
       "    </tr>\n",
       "  </tbody>\n",
       "</table>\n",
       "<p>9648 rows × 14 columns</p>\n",
       "</div>"
      ],
      "text/plain": [
       "         Retailer  Retailer ID Invoice Date     Region         State  \\\n",
       "0     Foot Locker      1185732   2021-10-26  Northeast  Pennsylvania   \n",
       "1     Foot Locker      1185732   2021-10-27  Northeast  Pennsylvania   \n",
       "2     Foot Locker      1185732   2021-10-28  Northeast  Pennsylvania   \n",
       "3     Foot Locker      1185732   2021-10-29  Northeast  Pennsylvania   \n",
       "4     Foot Locker      1185732   2021-10-30  Northeast  Pennsylvania   \n",
       "...           ...          ...          ...        ...           ...   \n",
       "9643    West Gear      1128299   2020-03-14       West        Nevada   \n",
       "9644    West Gear      1128299   2020-03-15       West        Nevada   \n",
       "9645    West Gear      1128299   2020-03-16       West        Nevada   \n",
       "9646    West Gear      1128299   2020-03-17       West        Nevada   \n",
       "9647    West Gear      1128299   2020-03-18       West        Nevada   \n",
       "\n",
       "              City Gender Type   Product Category  Price per Unit  Units Sold  \\\n",
       "0     Philadelphia         Men            Apparel              55         125   \n",
       "1     Philadelphia       Women            Apparel              45         225   \n",
       "2     Philadelphia         Men    Street Footwear              45         475   \n",
       "3     Philadelphia         Men  Athletic Footwear              45         125   \n",
       "4     Philadelphia       Women    Street Footwear              35         175   \n",
       "...            ...         ...                ...             ...         ...   \n",
       "9643     Las Vegas       Women            Apparel              56         170   \n",
       "9644     Las Vegas         Men    Street Footwear              20         149   \n",
       "9645     Las Vegas         Men  Athletic Footwear              31         145   \n",
       "9646     Las Vegas       Women    Street Footwear              26         128   \n",
       "9647     Las Vegas       Women  Athletic Footwear              26          96   \n",
       "\n",
       "      Total Sales  Operating Profit  Operating Margin Sales Method  \n",
       "0         68750.0          24062.50              0.35       Outlet  \n",
       "1        101250.0          30375.00              0.30       Outlet  \n",
       "2        213750.0         117562.50              0.55       Outlet  \n",
       "3         56250.0          19687.50              0.35       Outlet  \n",
       "4         61250.0          24500.00              0.40       Outlet  \n",
       "...           ...               ...               ...          ...  \n",
       "9643       9520.0           1713.60              0.18       Outlet  \n",
       "9644       2980.0           1192.00              0.40       Outlet  \n",
       "9645       4495.0           1123.75              0.25       Outlet  \n",
       "9646       3328.0           1397.76              0.42       Outlet  \n",
       "9647       2496.0            848.64              0.34       Outlet  \n",
       "\n",
       "[9648 rows x 14 columns]"
      ]
     },
     "execution_count": 135,
     "metadata": {},
     "output_type": "execute_result"
    }
   ],
   "source": [
    "df = pd.read_excel('/Users/hj/Documents/무제/자연어 명령어 SQL 쿼리 생성/AdidasSalesdata.xlsx')\n",
    "df"
   ]
  },
  {
   "cell_type": "code",
   "execution_count": 136,
   "metadata": {},
   "outputs": [
    {
     "data": {
      "text/plain": [
       "Index(['Retailer', 'Retailer ID', 'Invoice Date', 'Region', 'State', 'City',\n",
       "       'Gender Type', 'Product Category', 'Price per Unit', 'Units Sold',\n",
       "       'Total Sales', 'Operating Profit', 'Operating Margin', 'Sales Method'],\n",
       "      dtype='object')"
      ]
     },
     "execution_count": 136,
     "metadata": {},
     "output_type": "execute_result"
    }
   ],
   "source": [
    "df.columns"
   ]
  },
  {
   "cell_type": "code",
   "execution_count": 137,
   "metadata": {},
   "outputs": [
    {
     "data": {
      "text/plain": [
       "Index(['Retailer', 'Retailer_ID', 'Invoice_Date', 'Region', 'State', 'City',\n",
       "       'Gender_Type', 'Product_Category', 'Price_per_Unit', 'Units_Sold',\n",
       "       'Total_Sales', 'Operating_Profit', 'Operating_Margin', 'Sales_Method'],\n",
       "      dtype='object')"
      ]
     },
     "execution_count": 137,
     "metadata": {},
     "output_type": "execute_result"
    }
   ],
   "source": [
    "df.columns = [col.replace(' ','_') for col in df.columns]\n",
    "df.columns"
   ]
  },
  {
   "cell_type": "code",
   "execution_count": 138,
   "metadata": {},
   "outputs": [
    {
     "name": "stdout",
     "output_type": "stream",
     "text": [
      "<class 'pandas.core.frame.DataFrame'>\n",
      "RangeIndex: 9648 entries, 0 to 9647\n",
      "Data columns (total 14 columns):\n",
      " #   Column            Non-Null Count  Dtype         \n",
      "---  ------            --------------  -----         \n",
      " 0   Retailer          9648 non-null   object        \n",
      " 1   Retailer_ID       9648 non-null   int64         \n",
      " 2   Invoice_Date      9648 non-null   datetime64[ns]\n",
      " 3   Region            9648 non-null   object        \n",
      " 4   State             9648 non-null   object        \n",
      " 5   City              9648 non-null   object        \n",
      " 6   Gender_Type       9648 non-null   object        \n",
      " 7   Product_Category  9648 non-null   object        \n",
      " 8   Price_per_Unit    9648 non-null   int64         \n",
      " 9   Units_Sold        9648 non-null   int64         \n",
      " 10  Total_Sales       9648 non-null   float64       \n",
      " 11  Operating_Profit  9648 non-null   float64       \n",
      " 12  Operating_Margin  9648 non-null   float64       \n",
      " 13  Sales_Method      9648 non-null   object        \n",
      "dtypes: datetime64[ns](1), float64(3), int64(3), object(7)\n",
      "memory usage: 1.0+ MB\n"
     ]
    }
   ],
   "source": [
    "df.info()"
   ]
  },
  {
   "cell_type": "markdown",
   "metadata": {},
   "source": [
    "## 데이터 확인하기"
   ]
  },
  {
   "cell_type": "code",
   "execution_count": 139,
   "metadata": {},
   "outputs": [
    {
     "data": {
      "text/plain": [
       "Region\n",
       "West         269943182.0\n",
       "Northeast    186324067.0\n",
       "Southeast    163171236.0\n",
       "South        144663181.0\n",
       "Midwest      135800459.0\n",
       "Name: Total_Sales, dtype: float64"
      ]
     },
     "execution_count": 139,
     "metadata": {},
     "output_type": "execute_result"
    }
   ],
   "source": [
    "# 각 region 별 sum\n",
    "df.groupby(\"Region\")['Total_Sales'].sum().sort_values(ascending=False)"
   ]
  },
  {
   "cell_type": "markdown",
   "metadata": {},
   "source": [
    "## SQL Database 셋팅하기"
   ]
  },
  {
   "cell_type": "code",
   "execution_count": 140,
   "metadata": {},
   "outputs": [],
   "source": [
    "from sqlalchemy import create_engine  # 임시 데이터베이스 만듦\n",
    "from sqlalchemy import text"
   ]
  },
  {
   "cell_type": "code",
   "execution_count": 141,
   "metadata": {},
   "outputs": [],
   "source": [
    "temp_db = create_engine('sqlite:///:memory:', echo=True)"
   ]
  },
  {
   "cell_type": "code",
   "execution_count": 142,
   "metadata": {},
   "outputs": [
    {
     "name": "stdout",
     "output_type": "stream",
     "text": [
      "2024-06-21 15:09:38,231 INFO sqlalchemy.engine.Engine BEGIN (implicit)\n",
      "2024-06-21 15:09:38,234 INFO sqlalchemy.engine.Engine PRAGMA main.table_info(\"Sales\")\n",
      "2024-06-21 15:09:38,234 INFO sqlalchemy.engine.Engine [raw sql] ()\n",
      "2024-06-21 15:09:38,235 INFO sqlalchemy.engine.Engine PRAGMA temp.table_info(\"Sales\")\n",
      "2024-06-21 15:09:38,235 INFO sqlalchemy.engine.Engine [raw sql] ()\n",
      "2024-06-21 15:09:38,236 INFO sqlalchemy.engine.Engine \n",
      "CREATE TABLE \"Sales\" (\n",
      "\t\"index\" BIGINT, \n",
      "\t\"Retailer\" TEXT, \n",
      "\t\"Retailer_ID\" BIGINT, \n",
      "\t\"Invoice_Date\" DATETIME, \n",
      "\t\"Region\" TEXT, \n",
      "\t\"State\" TEXT, \n",
      "\t\"City\" TEXT, \n",
      "\t\"Gender_Type\" TEXT, \n",
      "\t\"Product_Category\" TEXT, \n",
      "\t\"Price_per_Unit\" BIGINT, \n",
      "\t\"Units_Sold\" BIGINT, \n",
      "\t\"Total_Sales\" FLOAT, \n",
      "\t\"Operating_Profit\" FLOAT, \n",
      "\t\"Operating_Margin\" FLOAT, \n",
      "\t\"Sales_Method\" TEXT\n",
      ")\n",
      "\n",
      "\n",
      "2024-06-21 15:09:38,237 INFO sqlalchemy.engine.Engine [no key 0.00034s] ()\n",
      "2024-06-21 15:09:38,238 INFO sqlalchemy.engine.Engine CREATE INDEX \"ix_Sales_index\" ON \"Sales\" (\"index\")\n",
      "2024-06-21 15:09:38,238 INFO sqlalchemy.engine.Engine [no key 0.00034s] ()\n",
      "2024-06-21 15:09:38,304 INFO sqlalchemy.engine.Engine INSERT INTO \"Sales\" (\"index\", \"Retailer\", \"Retailer_ID\", \"Invoice_Date\", \"Region\", \"State\", \"City\", \"Gender_Type\", \"Product_Category\", \"Price_per_Unit\", \"Units_Sold\", \"Total_Sales\", \"Operating_Profit\", \"Operating_Margin\", \"Sales_Method\") VALUES (?, ?, ?, ?, ?, ?, ?, ?, ?, ?, ?, ?, ?, ?, ?)\n",
      "2024-06-21 15:09:38,304 INFO sqlalchemy.engine.Engine [generated in 0.04882s] [(0, 'Foot Locker', 1185732, '2021-10-26 00:00:00.000000', 'Northeast', 'Pennsylvania', 'Philadelphia', 'Men', 'Apparel', 55, 125, 68750.0, 24062.5, 0.35, 'Outlet'), (1, 'Foot Locker', 1185732, '2021-10-27 00:00:00.000000', 'Northeast', 'Pennsylvania', 'Philadelphia', 'Women', 'Apparel', 45, 225, 101250.0, 30375.0, 0.3, 'Outlet'), (2, 'Foot Locker', 1185732, '2021-10-28 00:00:00.000000', 'Northeast', 'Pennsylvania', 'Philadelphia', 'Men', 'Street Footwear', 45, 475, 213750.0, 117562.5, 0.55, 'Outlet'), (3, 'Foot Locker', 1185732, '2021-10-29 00:00:00.000000', 'Northeast', 'Pennsylvania', 'Philadelphia', 'Men', 'Athletic Footwear', 45, 125, 56250.0, 19687.5, 0.35, 'Outlet'), (4, 'Foot Locker', 1185732, '2021-10-30 00:00:00.000000', 'Northeast', 'Pennsylvania', 'Philadelphia', 'Women', 'Street Footwear', 35, 175, 61250.0, 24500.0, 0.4, 'Outlet'), (5, 'Foot Locker', 1185732, '2021-10-31 00:00:00.000000', 'Northeast', 'Pennsylvania', 'Philadelphia', 'Women', 'Athletic Footwear', 40, 50, 20000.0, 8000.0, 0.4, 'Outlet'), (6, 'Foot Locker', 1185732, '2021-11-01 00:00:00.000000', 'Northeast', 'Pennsylvania', 'Philadelphia', 'Men', 'Apparel', 55, 125, 68750.0, 24062.5, 0.35, 'Outlet'), (7, 'Foot Locker', 1185732, '2021-11-02 00:00:00.000000', 'Northeast', 'Pennsylvania', 'Philadelphia', 'Women', 'Apparel', 45, 225, 101250.0, 30375.0, 0.3, 'Outlet')  ... displaying 10 of 9648 total bound parameter sets ...  (9646, 'West Gear', 1128299, '2020-03-17 00:00:00.000000', 'West', 'Nevada', 'Las Vegas', 'Women', 'Street Footwear', 26, 128, 3328.0, 1397.76, 0.42, 'Outlet'), (9647, 'West Gear', 1128299, '2020-03-18 00:00:00.000000', 'West', 'Nevada', 'Las Vegas', 'Women', 'Athletic Footwear', 26, 96, 2496.0, 848.64, 0.34, 'Outlet')]\n",
      "2024-06-21 15:09:38,320 INFO sqlalchemy.engine.Engine SELECT name FROM sqlite_master WHERE type='table' AND name NOT LIKE 'sqlite~_%' ESCAPE '~' ORDER BY name\n",
      "2024-06-21 15:09:38,321 INFO sqlalchemy.engine.Engine [raw sql] ()\n",
      "2024-06-21 15:09:38,321 INFO sqlalchemy.engine.Engine COMMIT\n"
     ]
    }
   ],
   "source": [
    "data = df.to_sql(name='Sales', con=temp_db)  ## con = connection"
   ]
  },
  {
   "cell_type": "code",
   "execution_count": 143,
   "metadata": {},
   "outputs": [
    {
     "name": "stdout",
     "output_type": "stream",
     "text": [
      "2024-06-21 15:09:38,325 INFO sqlalchemy.engine.Engine BEGIN (implicit)\n",
      "2024-06-21 15:09:38,325 INFO sqlalchemy.engine.Engine SELECT Retailer, City, State, Total_Sales from Sales ORDER BY Total_Sales DESC LIMIT 1\n",
      "2024-06-21 15:09:38,326 INFO sqlalchemy.engine.Engine [generated in 0.00079s] ()\n",
      "2024-06-21 15:09:38,327 INFO sqlalchemy.engine.Engine ROLLBACK\n"
     ]
    }
   ],
   "source": [
    "## python으로 쿼리 작성하는 방법\n",
    "\n",
    "with temp_db.connect() as conn:\n",
    "    result = conn.execute(text(\"SELECT Retailer, City, State, Total_Sales from Sales ORDER BY Total_Sales DESC LIMIT 1\"))"
   ]
  },
  {
   "cell_type": "code",
   "execution_count": 144,
   "metadata": {},
   "outputs": [
    {
     "data": {
      "text/plain": [
       "[('Walmart', 'Orlando', 'Florida', 825000.0)]"
      ]
     },
     "execution_count": 144,
     "metadata": {},
     "output_type": "execute_result"
    }
   ],
   "source": [
    "result.all()"
   ]
  },
  {
   "cell_type": "markdown",
   "metadata": {},
   "source": [
    "## OPEN AI 셋팅\n",
    "### API 사용을 위한 Key 입력 및 셋팅"
   ]
  },
  {
   "cell_type": "code",
   "execution_count": 145,
   "metadata": {},
   "outputs": [],
   "source": [
    "api_key = os.getenv('OPENAI_API_KEY')"
   ]
  },
  {
   "cell_type": "code",
   "execution_count": 146,
   "metadata": {},
   "outputs": [],
   "source": [
    "client = OpenAI()"
   ]
  },
  {
   "cell_type": "code",
   "execution_count": 147,
   "metadata": {},
   "outputs": [],
   "source": [
    "from dotenv import load_dotenv\n",
    "import os\n",
    "\n",
    "load_dotenv()\n",
    "api_key = os.getenv(\"OPENAI_API_KEY\")"
   ]
  },
  {
   "cell_type": "code",
   "execution_count": 148,
   "metadata": {},
   "outputs": [],
   "source": [
    "# GPT 한테 우리가 다루는 데이터, 테이블이 어떤 구조인지 알려주는 함수 (테이블 컬럼들 뭐있는지)\n",
    "\n",
    "def tabel_definition_prompt(df):\n",
    "    prompt = '''Given the following SQL definition, write queries based on the request\n",
    "                \\n### sqlite SQL table, with its properties:\n",
    "    #\n",
    "    # Sales({})\n",
    "    # \n",
    "    '''.format(\",\".join(str(x) for x in df.columns))\n",
    "    \n",
    "    return prompt"
   ]
  },
  {
   "cell_type": "code",
   "execution_count": 149,
   "metadata": {},
   "outputs": [
    {
     "name": "stdout",
     "output_type": "stream",
     "text": [
      "Given the following SQL definition, write queries based on the request\n",
      "                \n",
      "### sqlite SQL table, with its properties:\n",
      "    #\n",
      "    # Sales(Retailer,Retailer_ID,Invoice_Date,Region,State,City,Gender_Type,Product_Category,Price_per_Unit,Units_Sold,Total_Sales,Operating_Profit,Operating_Margin,Sales_Method)\n",
      "    # \n",
      "    \n"
     ]
    }
   ],
   "source": [
    "print(tabel_definition_prompt(df))"
   ]
  },
  {
   "cell_type": "code",
   "execution_count": 150,
   "metadata": {},
   "outputs": [],
   "source": [
    "# 사용자로부터 어떤걸 확인하고 싶은지 ? 받는 내용의 함수 \n",
    "\n",
    "def prompt_input():\n",
    "    nlp_text = input(\"질의 하고자 하는 내용을 입력해주세요: \")\n",
    "    return nlp_text"
   ]
  },
  {
   "cell_type": "code",
   "execution_count": 151,
   "metadata": {},
   "outputs": [],
   "source": [
    "nlp_text = prompt_input()"
   ]
  },
  {
   "cell_type": "code",
   "execution_count": 152,
   "metadata": {},
   "outputs": [
    {
     "data": {
      "text/plain": [
       "'Given the following SQL definition, write queries based on the request\\n                \\n### sqlite SQL table, with its properties:\\n    #\\n    # Sales(Retailer,Retailer_ID,Invoice_Date,Region,State,City,Gender_Type,Product_Category,Price_per_Unit,Units_Sold,Total_Sales,Operating_Profit,Operating_Margin,Sales_Method)\\n    # \\n    전체 state의 총 매출'"
      ]
     },
     "execution_count": 152,
     "metadata": {},
     "output_type": "execute_result"
    }
   ],
   "source": [
    "full_prompt = str(tabel_definition_prompt(df)) + str(nlp_text)\n",
    "full_prompt"
   ]
  },
  {
   "cell_type": "markdown",
   "metadata": {},
   "source": [
    "## API Call\n",
    "\n",
    "- 모델 (model): 사용할 모델을 지정합니다. `gpt-3.5-turbo` 와 같은 특정 모델을 선택하여 사용할 수 있습니다.\n",
    "- 메시지 (message) : 대화의 맥락을 구성하는 메시지 목록. 시스템 메시지와 사용자 메시지를 포함할 수 있으며, 각 메시지는 role 과  content를 가집니다.\n",
    "- `system` : assistant 의 behavior를 set. instruction을 줌\n",
    "- `user` : assistant가 반응해야하는 request나 comment를 주는 사용자 역할\n",
    "- 기타 조정 가능한 파라미터 :\n",
    "- `max_tokens` : 생성할 텍스트의 최대 길이를 제어. 대화형 모델에서는 응답의 길이를 제한하는 데 유용\n",
    "- `temperature` : 생성된 응답의 다양성과 창의성을 조정. 낮은 값은 보다 결정적이고 예측 가능한 응답을, 높은 값은 더 창의적이고 다양한 응답을 생성.\n",
    "- `stop` : 생성을 중지할 특정 문자열 또는 문자열 배열을 지정할 수 있음. 이는 응답을 특정 지점에서 멈추게 하는데 유용"
   ]
  },
  {
   "cell_type": "code",
   "execution_count": 153,
   "metadata": {},
   "outputs": [],
   "source": [
    "response = client.chat.completions.create(\n",
    "    model = \"gpt-3.5-turbo\",\n",
    "    messages=[\n",
    "        {\"role\": \"system\", \"content\": \"You are an assistant that generates SQL queries based on the given SQLite table definition and a natual language request. The query should start with 'SELECT' and end with a semicolon(;).\"},\n",
    "        {\"role\": \"user\", \"content\": f\"A query to answer: {full_prompt}\"},\n",
    "    ],\n",
    "    max_tokens=200,\n",
    "    temperature=1.0,\n",
    "    stop=None\n",
    "    )"
   ]
  },
  {
   "cell_type": "code",
   "execution_count": 154,
   "metadata": {},
   "outputs": [
    {
     "data": {
      "text/plain": [
       "ChatCompletion(id='chatcmpl-9cRkyFiXP4lGJwMZ8KEy0PPNIQeJr', choices=[Choice(finish_reason='stop', index=0, logprobs=None, message=ChatCompletionMessage(content='SELECT State, SUM(Total_Sales) AS Total_Sales\\nFROM Sales\\nGROUP BY State\\nORDER BY Total_Sales DESC;', role='assistant', function_call=None, tool_calls=None))], created=1718950188, model='gpt-3.5-turbo-0125', object='chat.completion', service_tier=None, system_fingerprint=None, usage=CompletionUsage(completion_tokens=28, prompt_tokens=141, total_tokens=169))"
      ]
     },
     "execution_count": 154,
     "metadata": {},
     "output_type": "execute_result"
    }
   ],
   "source": [
    "response"
   ]
  },
  {
   "cell_type": "code",
   "execution_count": 155,
   "metadata": {},
   "outputs": [
    {
     "data": {
      "text/plain": [
       "'SELECT State, SUM(Total_Sales) AS Total_Sales\\nFROM Sales\\nGROUP BY State\\nORDER BY Total_Sales DESC;'"
      ]
     },
     "execution_count": 155,
     "metadata": {},
     "output_type": "execute_result"
    }
   ],
   "source": [
    "# 필요한 부분만 추출해보자\n",
    "\n",
    "# response.choices[0]\n",
    "# response.choices[0].message\n",
    "response.choices[0].message.content"
   ]
  },
  {
   "cell_type": "code",
   "execution_count": 156,
   "metadata": {},
   "outputs": [],
   "source": [
    "def handle_response(response):\n",
    "    query = response.choices[0].message.content.strip()\n",
    "    \n",
    "    if not query.upper().startswith(\"SELECT\"):\n",
    "        query = \"SELECT\" + query\n",
    "        \n",
    "    if not query.endswith(\";\"):\n",
    "        query += \";\"\n",
    "        \n",
    "    return query"
   ]
  },
  {
   "cell_type": "code",
   "execution_count": 157,
   "metadata": {},
   "outputs": [
    {
     "name": "stdout",
     "output_type": "stream",
     "text": [
      "SELECT State, SUM(Total_Sales) AS Total_Sales\n",
      "FROM Sales\n",
      "GROUP BY State\n",
      "ORDER BY Total_Sales DESC;\n"
     ]
    }
   ],
   "source": [
    "print(handle_response(response))"
   ]
  },
  {
   "cell_type": "markdown",
   "metadata": {},
   "source": [
    "## Query 를 DB에 입력해보자"
   ]
  },
  {
   "cell_type": "code",
   "execution_count": 158,
   "metadata": {},
   "outputs": [
    {
     "name": "stdout",
     "output_type": "stream",
     "text": [
      "2024-06-21 15:09:49,387 INFO sqlalchemy.engine.Engine BEGIN (implicit)\n",
      "2024-06-21 15:09:49,388 INFO sqlalchemy.engine.Engine SELECT State, SUM(Total_Sales) AS Total_Sales\n",
      "FROM Sales\n",
      "GROUP BY State\n",
      "ORDER BY Total_Sales DESC;\n",
      "2024-06-21 15:09:49,389 INFO sqlalchemy.engine.Engine [generated in 0.00129s] ()\n",
      "2024-06-21 15:09:49,392 INFO sqlalchemy.engine.Engine ROLLBACK\n"
     ]
    }
   ],
   "source": [
    "with temp_db.connect() as conn:\n",
    "    result = conn.execute(text(handle_response(response)))"
   ]
  },
  {
   "cell_type": "code",
   "execution_count": 159,
   "metadata": {},
   "outputs": [
    {
     "data": {
      "text/plain": [
       "[('New York', 64229039.0),\n",
       " ('California', 60174133.0),\n",
       " ('Florida', 59283714.0),\n",
       " ('Texas', 46359746.0),\n",
       " ('South Carolina', 29285637.0),\n",
       " ('Washington', 26330718.0),\n",
       " ('North Carolina', 23956531.0),\n",
       " ('Louisiana', 23750781.0),\n",
       " ('Hawaii', 22282457.0),\n",
       " ('Virginia', 21575040.0),\n",
       " ('Oregon', 21349674.0),\n",
       " ('Colorado', 20996536.0),\n",
       " ('Nevada', 20858509.0),\n",
       " ('New Mexico', 19865016.0),\n",
       " ('Idaho', 19276878.0),\n",
       " ('Georgia', 18997466.0),\n",
       " ('Michigan', 18625433.0),\n",
       " ('Wyoming', 18577517.0),\n",
       " ('Ohio', 18484583.0),\n",
       " ('Tennessee', 18067440.0),\n",
       " ('Alabama', 17633424.0),\n",
       " ('New Hampshire', 16411667.0),\n",
       " ('Arizona', 15782221.0),\n",
       " ('Montana', 15710886.0),\n",
       " ('Mississippi', 15591709.0),\n",
       " ('Alaska', 14753103.0),\n",
       " ('Vermont', 14352923.0),\n",
       " ('Arkansas', 12639347.0),\n",
       " ('Delaware', 12298412.0),\n",
       " ('Connecticut', 11573448.0),\n",
       " ('Massachusetts', 11076810.0),\n",
       " ('West Virginia', 10689160.0),\n",
       " ('Oklahoma', 10620734.0),\n",
       " ('Pennsylvania', 10357519.0),\n",
       " ('Kentucky', 10072848.0),\n",
       " ('Kansas', 9972864.0),\n",
       " ('New Jersey', 9934246.0),\n",
       " ('Illinois', 9797488.0),\n",
       " ('Utah', 9696420.0),\n",
       " ('Missouri', 9683265.0),\n",
       " ('Maine', 9195978.0),\n",
       " ('Indiana', 8836198.0),\n",
       " ('South Dakota', 8495576.0),\n",
       " ('Rhode Island', 8446806.0),\n",
       " ('Maryland', 7758059.0),\n",
       " ('North Dakota', 7735580.0),\n",
       " ('Wisconsin', 7727469.0),\n",
       " ('Iowa', 7424011.0),\n",
       " ('Minnesota', 7378068.0),\n",
       " ('Nebraska', 5929038.0)]"
      ]
     },
     "execution_count": 159,
     "metadata": {},
     "output_type": "execute_result"
    }
   ],
   "source": [
    "result.all()"
   ]
  },
  {
   "cell_type": "code",
   "execution_count": null,
   "metadata": {},
   "outputs": [],
   "source": []
  }
 ],
 "metadata": {
  "kernelspec": {
   "display_name": ".venv",
   "language": "python",
   "name": "python3"
  },
  "language_info": {
   "codemirror_mode": {
    "name": "ipython",
    "version": 3
   },
   "file_extension": ".py",
   "mimetype": "text/x-python",
   "name": "python",
   "nbconvert_exporter": "python",
   "pygments_lexer": "ipython3",
   "version": "3.9.13"
  },
  "orig_nbformat": 4
 },
 "nbformat": 4,
 "nbformat_minor": 2
}
