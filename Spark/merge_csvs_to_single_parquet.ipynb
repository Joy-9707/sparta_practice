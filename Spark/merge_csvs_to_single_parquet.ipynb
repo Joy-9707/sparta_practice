{
 "cells": [
  {
   "cell_type": "code",
   "execution_count": 2,
   "id": "0734b4e9",
   "metadata": {},
   "outputs": [
    {
     "name": "stderr",
     "output_type": "stream",
     "text": [
      "/var/folders/qv/tqmmyp0s5dj996k_tcvqmtqm0000gn/T/ipykernel_4048/513717696.py:5: DeprecationWarning: \n",
      "Pyarrow will become a required dependency of pandas in the next major release of pandas (pandas 3.0),\n",
      "(to allow more performant data types, such as the Arrow string type, and better interoperability with other libraries)\n",
      "but was not found to be installed on your system.\n",
      "If this would cause problems for you,\n",
      "please provide us feedback at https://github.com/pandas-dev/pandas/issues/54466\n",
      "        \n",
      "  import pandas as pd\n"
     ]
    }
   ],
   "source": [
    "from glob import glob\n",
    "from datetime import timedelta\n",
    "\n",
    "from tqdm import tqdm\n",
    "import pandas as pd\n",
    "import matplotlib.pyplot as plt"
   ]
  },
  {
   "cell_type": "code",
   "execution_count": 9,
   "id": "3db1a3b0",
   "metadata": {},
   "outputs": [
    {
     "data": {
      "text/plain": [
       "['/Users/hj/Downloads/app_review_data']"
      ]
     },
     "execution_count": 9,
     "metadata": {},
     "output_type": "execute_result"
    }
   ],
   "source": [
    "glob(\"/Users/hj/Downloads/app_review_data\")"
   ]
  },
  {
   "cell_type": "code",
   "execution_count": 10,
   "id": "5e3a788f",
   "metadata": {},
   "outputs": [],
   "source": [
    "def extract_csvs():\n",
    "    res = []\n",
    "    for path in tqdm(glob(\"/Users/hj/Downloads/app_review_data\")):\n",
    "        app_name = path.split(\"/\")[-1].replace(\".csv\", \"\")\n",
    "        df_temp = pd.read_csv(path)\n",
    "        df_temp = df_temp.assign(app_name=app_name)\n",
    "        res.append(df_temp)\n",
    "    df = pd.concat(res)\n",
    "    return df"
   ]
  },
  {
   "cell_type": "code",
   "execution_count": 11,
   "id": "a2d35a10",
   "metadata": {},
   "outputs": [
    {
     "name": "stderr",
     "output_type": "stream",
     "text": [
      "  0%|          | 0/1 [00:00<?, ?it/s]\n"
     ]
    },
    {
     "ename": "IsADirectoryError",
     "evalue": "[Errno 21] Is a directory: '/Users/hj/Downloads/app_review_data'",
     "output_type": "error",
     "traceback": [
      "\u001b[0;31m---------------------------------------------------------------------------\u001b[0m",
      "\u001b[0;31mIsADirectoryError\u001b[0m                         Traceback (most recent call last)",
      "\u001b[1;32m/Users/hj/Documents/무제/Spark/merge_csvs_to_single_parquet.ipynb Cell 4\u001b[0m line \u001b[0;36m1\n\u001b[0;32m----> <a href='vscode-notebook-cell:/Users/hj/Documents/%EB%AC%B4%EC%A0%9C/Spark/merge_csvs_to_single_parquet.ipynb#W3sZmlsZQ%3D%3D?line=0'>1</a>\u001b[0m df \u001b[39m=\u001b[39m extract_csvs()\n",
      "\u001b[1;32m/Users/hj/Documents/무제/Spark/merge_csvs_to_single_parquet.ipynb Cell 4\u001b[0m line \u001b[0;36m5\n\u001b[1;32m      <a href='vscode-notebook-cell:/Users/hj/Documents/%EB%AC%B4%EC%A0%9C/Spark/merge_csvs_to_single_parquet.ipynb#W3sZmlsZQ%3D%3D?line=2'>3</a>\u001b[0m \u001b[39mfor\u001b[39;00m path \u001b[39min\u001b[39;00m tqdm(glob(\u001b[39m\"\u001b[39m\u001b[39m/Users/hj/Downloads/app_review_data\u001b[39m\u001b[39m\"\u001b[39m)):\n\u001b[1;32m      <a href='vscode-notebook-cell:/Users/hj/Documents/%EB%AC%B4%EC%A0%9C/Spark/merge_csvs_to_single_parquet.ipynb#W3sZmlsZQ%3D%3D?line=3'>4</a>\u001b[0m     app_name \u001b[39m=\u001b[39m path\u001b[39m.\u001b[39msplit(\u001b[39m\"\u001b[39m\u001b[39m/\u001b[39m\u001b[39m\"\u001b[39m)[\u001b[39m-\u001b[39m\u001b[39m1\u001b[39m]\u001b[39m.\u001b[39mreplace(\u001b[39m\"\u001b[39m\u001b[39m.csv\u001b[39m\u001b[39m\"\u001b[39m, \u001b[39m\"\u001b[39m\u001b[39m\"\u001b[39m)\n\u001b[0;32m----> <a href='vscode-notebook-cell:/Users/hj/Documents/%EB%AC%B4%EC%A0%9C/Spark/merge_csvs_to_single_parquet.ipynb#W3sZmlsZQ%3D%3D?line=4'>5</a>\u001b[0m     df_temp \u001b[39m=\u001b[39m pd\u001b[39m.\u001b[39;49mread_csv(path)\n\u001b[1;32m      <a href='vscode-notebook-cell:/Users/hj/Documents/%EB%AC%B4%EC%A0%9C/Spark/merge_csvs_to_single_parquet.ipynb#W3sZmlsZQ%3D%3D?line=5'>6</a>\u001b[0m     df_temp \u001b[39m=\u001b[39m df_temp\u001b[39m.\u001b[39massign(app_name\u001b[39m=\u001b[39mapp_name)\n\u001b[1;32m      <a href='vscode-notebook-cell:/Users/hj/Documents/%EB%AC%B4%EC%A0%9C/Spark/merge_csvs_to_single_parquet.ipynb#W3sZmlsZQ%3D%3D?line=6'>7</a>\u001b[0m     res\u001b[39m.\u001b[39mappend(df_temp)\n",
      "File \u001b[0;32m/Library/Frameworks/Python.framework/Versions/3.11/lib/python3.11/site-packages/pandas/io/parsers/readers.py:1024\u001b[0m, in \u001b[0;36mread_csv\u001b[0;34m(filepath_or_buffer, sep, delimiter, header, names, index_col, usecols, dtype, engine, converters, true_values, false_values, skipinitialspace, skiprows, skipfooter, nrows, na_values, keep_default_na, na_filter, verbose, skip_blank_lines, parse_dates, infer_datetime_format, keep_date_col, date_parser, date_format, dayfirst, cache_dates, iterator, chunksize, compression, thousands, decimal, lineterminator, quotechar, quoting, doublequote, escapechar, comment, encoding, encoding_errors, dialect, on_bad_lines, delim_whitespace, low_memory, memory_map, float_precision, storage_options, dtype_backend)\u001b[0m\n\u001b[1;32m   1011\u001b[0m kwds_defaults \u001b[39m=\u001b[39m _refine_defaults_read(\n\u001b[1;32m   1012\u001b[0m     dialect,\n\u001b[1;32m   1013\u001b[0m     delimiter,\n\u001b[0;32m   (...)\u001b[0m\n\u001b[1;32m   1020\u001b[0m     dtype_backend\u001b[39m=\u001b[39mdtype_backend,\n\u001b[1;32m   1021\u001b[0m )\n\u001b[1;32m   1022\u001b[0m kwds\u001b[39m.\u001b[39mupdate(kwds_defaults)\n\u001b[0;32m-> 1024\u001b[0m \u001b[39mreturn\u001b[39;00m _read(filepath_or_buffer, kwds)\n",
      "File \u001b[0;32m/Library/Frameworks/Python.framework/Versions/3.11/lib/python3.11/site-packages/pandas/io/parsers/readers.py:618\u001b[0m, in \u001b[0;36m_read\u001b[0;34m(filepath_or_buffer, kwds)\u001b[0m\n\u001b[1;32m    615\u001b[0m _validate_names(kwds\u001b[39m.\u001b[39mget(\u001b[39m\"\u001b[39m\u001b[39mnames\u001b[39m\u001b[39m\"\u001b[39m, \u001b[39mNone\u001b[39;00m))\n\u001b[1;32m    617\u001b[0m \u001b[39m# Create the parser.\u001b[39;00m\n\u001b[0;32m--> 618\u001b[0m parser \u001b[39m=\u001b[39m TextFileReader(filepath_or_buffer, \u001b[39m*\u001b[39;49m\u001b[39m*\u001b[39;49mkwds)\n\u001b[1;32m    620\u001b[0m \u001b[39mif\u001b[39;00m chunksize \u001b[39mor\u001b[39;00m iterator:\n\u001b[1;32m    621\u001b[0m     \u001b[39mreturn\u001b[39;00m parser\n",
      "File \u001b[0;32m/Library/Frameworks/Python.framework/Versions/3.11/lib/python3.11/site-packages/pandas/io/parsers/readers.py:1618\u001b[0m, in \u001b[0;36mTextFileReader.__init__\u001b[0;34m(self, f, engine, **kwds)\u001b[0m\n\u001b[1;32m   1615\u001b[0m     \u001b[39mself\u001b[39m\u001b[39m.\u001b[39moptions[\u001b[39m\"\u001b[39m\u001b[39mhas_index_names\u001b[39m\u001b[39m\"\u001b[39m] \u001b[39m=\u001b[39m kwds[\u001b[39m\"\u001b[39m\u001b[39mhas_index_names\u001b[39m\u001b[39m\"\u001b[39m]\n\u001b[1;32m   1617\u001b[0m \u001b[39mself\u001b[39m\u001b[39m.\u001b[39mhandles: IOHandles \u001b[39m|\u001b[39m \u001b[39mNone\u001b[39;00m \u001b[39m=\u001b[39m \u001b[39mNone\u001b[39;00m\n\u001b[0;32m-> 1618\u001b[0m \u001b[39mself\u001b[39m\u001b[39m.\u001b[39m_engine \u001b[39m=\u001b[39m \u001b[39mself\u001b[39;49m\u001b[39m.\u001b[39;49m_make_engine(f, \u001b[39mself\u001b[39;49m\u001b[39m.\u001b[39;49mengine)\n",
      "File \u001b[0;32m/Library/Frameworks/Python.framework/Versions/3.11/lib/python3.11/site-packages/pandas/io/parsers/readers.py:1878\u001b[0m, in \u001b[0;36mTextFileReader._make_engine\u001b[0;34m(self, f, engine)\u001b[0m\n\u001b[1;32m   1876\u001b[0m     \u001b[39mif\u001b[39;00m \u001b[39m\"\u001b[39m\u001b[39mb\u001b[39m\u001b[39m\"\u001b[39m \u001b[39mnot\u001b[39;00m \u001b[39min\u001b[39;00m mode:\n\u001b[1;32m   1877\u001b[0m         mode \u001b[39m+\u001b[39m\u001b[39m=\u001b[39m \u001b[39m\"\u001b[39m\u001b[39mb\u001b[39m\u001b[39m\"\u001b[39m\n\u001b[0;32m-> 1878\u001b[0m \u001b[39mself\u001b[39m\u001b[39m.\u001b[39mhandles \u001b[39m=\u001b[39m get_handle(\n\u001b[1;32m   1879\u001b[0m     f,\n\u001b[1;32m   1880\u001b[0m     mode,\n\u001b[1;32m   1881\u001b[0m     encoding\u001b[39m=\u001b[39;49m\u001b[39mself\u001b[39;49m\u001b[39m.\u001b[39;49moptions\u001b[39m.\u001b[39;49mget(\u001b[39m\"\u001b[39;49m\u001b[39mencoding\u001b[39;49m\u001b[39m\"\u001b[39;49m, \u001b[39mNone\u001b[39;49;00m),\n\u001b[1;32m   1882\u001b[0m     compression\u001b[39m=\u001b[39;49m\u001b[39mself\u001b[39;49m\u001b[39m.\u001b[39;49moptions\u001b[39m.\u001b[39;49mget(\u001b[39m\"\u001b[39;49m\u001b[39mcompression\u001b[39;49m\u001b[39m\"\u001b[39;49m, \u001b[39mNone\u001b[39;49;00m),\n\u001b[1;32m   1883\u001b[0m     memory_map\u001b[39m=\u001b[39;49m\u001b[39mself\u001b[39;49m\u001b[39m.\u001b[39;49moptions\u001b[39m.\u001b[39;49mget(\u001b[39m\"\u001b[39;49m\u001b[39mmemory_map\u001b[39;49m\u001b[39m\"\u001b[39;49m, \u001b[39mFalse\u001b[39;49;00m),\n\u001b[1;32m   1884\u001b[0m     is_text\u001b[39m=\u001b[39;49mis_text,\n\u001b[1;32m   1885\u001b[0m     errors\u001b[39m=\u001b[39;49m\u001b[39mself\u001b[39;49m\u001b[39m.\u001b[39;49moptions\u001b[39m.\u001b[39;49mget(\u001b[39m\"\u001b[39;49m\u001b[39mencoding_errors\u001b[39;49m\u001b[39m\"\u001b[39;49m, \u001b[39m\"\u001b[39;49m\u001b[39mstrict\u001b[39;49m\u001b[39m\"\u001b[39;49m),\n\u001b[1;32m   1886\u001b[0m     storage_options\u001b[39m=\u001b[39;49m\u001b[39mself\u001b[39;49m\u001b[39m.\u001b[39;49moptions\u001b[39m.\u001b[39;49mget(\u001b[39m\"\u001b[39;49m\u001b[39mstorage_options\u001b[39;49m\u001b[39m\"\u001b[39;49m, \u001b[39mNone\u001b[39;49;00m),\n\u001b[1;32m   1887\u001b[0m )\n\u001b[1;32m   1888\u001b[0m \u001b[39massert\u001b[39;00m \u001b[39mself\u001b[39m\u001b[39m.\u001b[39mhandles \u001b[39mis\u001b[39;00m \u001b[39mnot\u001b[39;00m \u001b[39mNone\u001b[39;00m\n\u001b[1;32m   1889\u001b[0m f \u001b[39m=\u001b[39m \u001b[39mself\u001b[39m\u001b[39m.\u001b[39mhandles\u001b[39m.\u001b[39mhandle\n",
      "File \u001b[0;32m/Library/Frameworks/Python.framework/Versions/3.11/lib/python3.11/site-packages/pandas/io/common.py:873\u001b[0m, in \u001b[0;36mget_handle\u001b[0;34m(path_or_buf, mode, encoding, compression, memory_map, is_text, errors, storage_options)\u001b[0m\n\u001b[1;32m    868\u001b[0m \u001b[39melif\u001b[39;00m \u001b[39misinstance\u001b[39m(handle, \u001b[39mstr\u001b[39m):\n\u001b[1;32m    869\u001b[0m     \u001b[39m# Check whether the filename is to be opened in binary mode.\u001b[39;00m\n\u001b[1;32m    870\u001b[0m     \u001b[39m# Binary mode does not support 'encoding' and 'newline'.\u001b[39;00m\n\u001b[1;32m    871\u001b[0m     \u001b[39mif\u001b[39;00m ioargs\u001b[39m.\u001b[39mencoding \u001b[39mand\u001b[39;00m \u001b[39m\"\u001b[39m\u001b[39mb\u001b[39m\u001b[39m\"\u001b[39m \u001b[39mnot\u001b[39;00m \u001b[39min\u001b[39;00m ioargs\u001b[39m.\u001b[39mmode:\n\u001b[1;32m    872\u001b[0m         \u001b[39m# Encoding\u001b[39;00m\n\u001b[0;32m--> 873\u001b[0m         handle \u001b[39m=\u001b[39m \u001b[39mopen\u001b[39;49m(\n\u001b[1;32m    874\u001b[0m             handle,\n\u001b[1;32m    875\u001b[0m             ioargs\u001b[39m.\u001b[39;49mmode,\n\u001b[1;32m    876\u001b[0m             encoding\u001b[39m=\u001b[39;49mioargs\u001b[39m.\u001b[39;49mencoding,\n\u001b[1;32m    877\u001b[0m             errors\u001b[39m=\u001b[39;49merrors,\n\u001b[1;32m    878\u001b[0m             newline\u001b[39m=\u001b[39;49m\u001b[39m\"\u001b[39;49m\u001b[39m\"\u001b[39;49m,\n\u001b[1;32m    879\u001b[0m         )\n\u001b[1;32m    880\u001b[0m     \u001b[39melse\u001b[39;00m:\n\u001b[1;32m    881\u001b[0m         \u001b[39m# Binary mode\u001b[39;00m\n\u001b[1;32m    882\u001b[0m         handle \u001b[39m=\u001b[39m \u001b[39mopen\u001b[39m(handle, ioargs\u001b[39m.\u001b[39mmode)\n",
      "\u001b[0;31mIsADirectoryError\u001b[0m: [Errno 21] Is a directory: '/Users/hj/Downloads/app_review_data'"
     ]
    }
   ],
   "source": [
    "df = extract_csvs()"
   ]
  },
  {
   "cell_type": "code",
   "execution_count": 27,
   "id": "a4782cee",
   "metadata": {},
   "outputs": [
    {
     "data": {
      "text/html": [
       "<div>\n",
       "<style scoped>\n",
       "    .dataframe tbody tr th:only-of-type {\n",
       "        vertical-align: middle;\n",
       "    }\n",
       "\n",
       "    .dataframe tbody tr th {\n",
       "        vertical-align: top;\n",
       "    }\n",
       "\n",
       "    .dataframe thead th {\n",
       "        text-align: right;\n",
       "    }\n",
       "</style>\n",
       "<table border=\"1\" class=\"dataframe\">\n",
       "  <thead>\n",
       "    <tr style=\"text-align: right;\">\n",
       "      <th></th>\n",
       "      <th>Unnamed: 0</th>\n",
       "      <th>review_id</th>\n",
       "      <th>pseudo_author_id</th>\n",
       "      <th>author_name</th>\n",
       "      <th>review_text</th>\n",
       "      <th>review_rating</th>\n",
       "      <th>review_likes</th>\n",
       "      <th>author_app_version</th>\n",
       "      <th>review_timestamp</th>\n",
       "      <th>app_name</th>\n",
       "      <th>author_id</th>\n",
       "      <th>review_datetime_utc</th>\n",
       "    </tr>\n",
       "  </thead>\n",
       "  <tbody>\n",
       "    <tr>\n",
       "      <th>0</th>\n",
       "      <td>0.0</td>\n",
       "      <td>ff27dd54-d785-418f-998c-8c2e01351201</td>\n",
       "      <td>232289234882626103787</td>\n",
       "      <td>VI*******AR</td>\n",
       "      <td>Very nice 👍</td>\n",
       "      <td>5.0</td>\n",
       "      <td>0</td>\n",
       "      <td>2.21.23.23</td>\n",
       "      <td>2021-11-25 03:12:29</td>\n",
       "      <td>WHATSAPP_REVIEWS</td>\n",
       "      <td>NaN</td>\n",
       "      <td>NaN</td>\n",
       "    </tr>\n",
       "    <tr>\n",
       "      <th>1</th>\n",
       "      <td>1.0</td>\n",
       "      <td>08e30530-c0fe-4a94-86d3-cc2ddb08b66b</td>\n",
       "      <td>165667818870073259663</td>\n",
       "      <td>Ha************an</td>\n",
       "      <td>Very nice 👌</td>\n",
       "      <td>5.0</td>\n",
       "      <td>0</td>\n",
       "      <td>2.21.10.16</td>\n",
       "      <td>2021-11-25 03:12:37</td>\n",
       "      <td>WHATSAPP_REVIEWS</td>\n",
       "      <td>NaN</td>\n",
       "      <td>NaN</td>\n",
       "    </tr>\n",
       "    <tr>\n",
       "      <th>2</th>\n",
       "      <td>2.0</td>\n",
       "      <td>f6077a17-bcc3-4445-b23e-15d292f217b9</td>\n",
       "      <td>235241404052650920045</td>\n",
       "      <td>Ar******77</td>\n",
       "      <td>Phaltu aap</td>\n",
       "      <td>1.0</td>\n",
       "      <td>0</td>\n",
       "      <td>2.21.21.19</td>\n",
       "      <td>2021-11-25 03:12:55</td>\n",
       "      <td>WHATSAPP_REVIEWS</td>\n",
       "      <td>NaN</td>\n",
       "      <td>NaN</td>\n",
       "    </tr>\n",
       "    <tr>\n",
       "      <th>3</th>\n",
       "      <td>3.0</td>\n",
       "      <td>6ac91332-f85e-488f-8538-3d50f803f22b</td>\n",
       "      <td>217415827699074437622</td>\n",
       "      <td>Na************* U</td>\n",
       "      <td>Gg</td>\n",
       "      <td>5.0</td>\n",
       "      <td>0</td>\n",
       "      <td>2.21.10.16</td>\n",
       "      <td>2021-11-25 03:12:59</td>\n",
       "      <td>WHATSAPP_REVIEWS</td>\n",
       "      <td>NaN</td>\n",
       "      <td>NaN</td>\n",
       "    </tr>\n",
       "    <tr>\n",
       "      <th>4</th>\n",
       "      <td>4.0</td>\n",
       "      <td>8eaf12b4-386e-4ca3-a5b4-6dd45e051b54</td>\n",
       "      <td>326804115988587106741</td>\n",
       "      <td>or*****************ne</td>\n",
       "      <td>É o Melhor aplicativo do mundo</td>\n",
       "      <td>5.0</td>\n",
       "      <td>0</td>\n",
       "      <td>2.21.22.26</td>\n",
       "      <td>2021-11-25 03:12:59</td>\n",
       "      <td>WHATSAPP_REVIEWS</td>\n",
       "      <td>NaN</td>\n",
       "      <td>NaN</td>\n",
       "    </tr>\n",
       "  </tbody>\n",
       "</table>\n",
       "</div>"
      ],
      "text/plain": [
       "   Unnamed: 0                             review_id       pseudo_author_id  \\\n",
       "0         0.0  ff27dd54-d785-418f-998c-8c2e01351201  232289234882626103787   \n",
       "1         1.0  08e30530-c0fe-4a94-86d3-cc2ddb08b66b  165667818870073259663   \n",
       "2         2.0  f6077a17-bcc3-4445-b23e-15d292f217b9  235241404052650920045   \n",
       "3         3.0  6ac91332-f85e-488f-8538-3d50f803f22b  217415827699074437622   \n",
       "4         4.0  8eaf12b4-386e-4ca3-a5b4-6dd45e051b54  326804115988587106741   \n",
       "\n",
       "             author_name                     review_text  review_rating  \\\n",
       "0            VI*******AR                     Very nice 👍            5.0   \n",
       "1       Ha************an                     Very nice 👌            5.0   \n",
       "2             Ar******77                      Phaltu aap            1.0   \n",
       "3      Na************* U                              Gg            5.0   \n",
       "4  or*****************ne  É o Melhor aplicativo do mundo            5.0   \n",
       "\n",
       "   review_likes author_app_version     review_timestamp          app_name  \\\n",
       "0             0         2.21.23.23  2021-11-25 03:12:29  WHATSAPP_REVIEWS   \n",
       "1             0         2.21.10.16  2021-11-25 03:12:37  WHATSAPP_REVIEWS   \n",
       "2             0         2.21.21.19  2021-11-25 03:12:55  WHATSAPP_REVIEWS   \n",
       "3             0         2.21.10.16  2021-11-25 03:12:59  WHATSAPP_REVIEWS   \n",
       "4             0         2.21.22.26  2021-11-25 03:12:59  WHATSAPP_REVIEWS   \n",
       "\n",
       "  author_id review_datetime_utc  \n",
       "0       NaN                 NaN  \n",
       "1       NaN                 NaN  \n",
       "2       NaN                 NaN  \n",
       "3       NaN                 NaN  \n",
       "4       NaN                 NaN  "
      ]
     },
     "execution_count": 27,
     "metadata": {},
     "output_type": "execute_result"
    }
   ],
   "source": [
    "df.head()"
   ]
  },
  {
   "cell_type": "code",
   "execution_count": 31,
   "id": "5a10a2b5",
   "metadata": {},
   "outputs": [
    {
     "data": {
      "text/plain": [
       "5.0    17783765\n",
       "1.0     4892198\n",
       "4.0     3125902\n",
       "3.0     1446163\n",
       "2.0      905889\n",
       "0.0         459\n",
       "Name: review_rating, dtype: int64"
      ]
     },
     "execution_count": 31,
     "metadata": {},
     "output_type": "execute_result"
    }
   ],
   "source": [
    "df.review_rating.value_counts()"
   ]
  },
  {
   "cell_type": "code",
   "execution_count": 30,
   "id": "99155b1b",
   "metadata": {},
   "outputs": [
    {
     "data": {
      "text/plain": [
       "5999       0.0\n",
       "6389       0.0\n",
       "5249       0.0\n",
       "6394       0.0\n",
       "5246       0.0\n",
       "          ... \n",
       "1589056    NaN\n",
       "1627080    NaN\n",
       "1674542    NaN\n",
       "1686933    NaN\n",
       "1693901    NaN\n",
       "Name: review_rating, Length: 28154385, dtype: float64"
      ]
     },
     "execution_count": 30,
     "metadata": {},
     "output_type": "execute_result"
    }
   ],
   "source": [
    "df.review_rating.sort_values()"
   ]
  },
  {
   "cell_type": "code",
   "execution_count": 5,
   "id": "67a24f3c",
   "metadata": {},
   "outputs": [
    {
     "name": "stdout",
     "output_type": "stream",
     "text": [
      "<class 'pandas.core.frame.DataFrame'>\n",
      "Int64Index: 28154385 entries, 0 to 3465865\n",
      "Data columns (total 12 columns):\n",
      " #   Column               Dtype  \n",
      "---  ------               -----  \n",
      " 0   Unnamed: 0           float64\n",
      " 1   review_id            object \n",
      " 2   pseudo_author_id     object \n",
      " 3   author_name          object \n",
      " 4   review_text          object \n",
      " 5   review_rating        float64\n",
      " 6   review_likes         int64  \n",
      " 7   author_app_version   object \n",
      " 8   review_timestamp     object \n",
      " 9   app_name             object \n",
      " 10  author_id            object \n",
      " 11  review_datetime_utc  object \n",
      "dtypes: float64(2), int64(1), object(9)\n",
      "memory usage: 2.7+ GB\n"
     ]
    }
   ],
   "source": [
    "df.info()"
   ]
  },
  {
   "cell_type": "code",
   "execution_count": 6,
   "id": "ad387067",
   "metadata": {},
   "outputs": [
    {
     "data": {
      "text/plain": [
       "Unnamed: 0             1.457340e-01\n",
       "review_id              2.997116e-01\n",
       "pseudo_author_id       2.997116e-01\n",
       "author_name            0.000000e+00\n",
       "review_text            2.985681e-04\n",
       "review_rating          3.196660e-07\n",
       "review_likes           0.000000e+00\n",
       "author_app_version     2.079358e-01\n",
       "review_timestamp       2.997116e-01\n",
       "app_name               0.000000e+00\n",
       "author_id              7.003858e-01\n",
       "review_datetime_utc    7.002884e-01\n",
       "dtype: float64"
      ]
     },
     "execution_count": 6,
     "metadata": {},
     "output_type": "execute_result"
    }
   ],
   "source": [
    "df.isna().mean()"
   ]
  },
  {
   "cell_type": "code",
   "execution_count": 7,
   "id": "cdf9da16",
   "metadata": {},
   "outputs": [],
   "source": [
    "target_columns = [\n",
    "    \"review_id\", \"app_name\",\n",
    "    \"author_name\", \"pseudo_author_id\", \"author_app_version\",\n",
    "    \"review_rating\", \"review_likes\",\n",
    "    \"review_datetime_utc\", \"review_timestamp\"   \n",
    "]"
   ]
  },
  {
   "cell_type": "code",
   "execution_count": 8,
   "id": "1a6b52d6",
   "metadata": {},
   "outputs": [],
   "source": [
    "df_target = df[target_columns]"
   ]
  },
  {
   "cell_type": "code",
   "execution_count": 9,
   "id": "733e7040",
   "metadata": {},
   "outputs": [],
   "source": [
    "df = df_target\n",
    "del df_target"
   ]
  },
  {
   "cell_type": "markdown",
   "id": "3554407c",
   "metadata": {},
   "source": [
    "### 추가 전처리"
   ]
  },
  {
   "cell_type": "code",
   "execution_count": 10,
   "id": "95d2c472",
   "metadata": {},
   "outputs": [
    {
     "data": {
      "text/plain": [
       "review_id               8438195\n",
       "app_name                      0\n",
       "author_name                   0\n",
       "pseudo_author_id        8438195\n",
       "author_app_version      5854305\n",
       "review_rating                 9\n",
       "review_likes                  0\n",
       "review_datetime_utc    19716190\n",
       "review_timestamp        8438195\n",
       "dtype: int64"
      ]
     },
     "execution_count": 10,
     "metadata": {},
     "output_type": "execute_result"
    }
   ],
   "source": [
    "df.isna().sum()"
   ]
  },
  {
   "cell_type": "code",
   "execution_count": 11,
   "id": "c4945998",
   "metadata": {},
   "outputs": [],
   "source": [
    "if (df.review_timestamp.notna() & df.review_datetime_utc.notna()).sum() > 0:\n",
    "    raise Exception(\"review_timestamp와 review_datetime_utc가 동시에 존재합니다\")"
   ]
  },
  {
   "cell_type": "code",
   "execution_count": 12,
   "id": "ef5682fb",
   "metadata": {},
   "outputs": [
    {
     "data": {
      "text/plain": [
       "1.0"
      ]
     },
     "execution_count": 12,
     "metadata": {},
     "output_type": "execute_result"
    }
   ],
   "source": [
    "df.review_timestamp.fillna(df.review_datetime_utc).notna().mean()"
   ]
  },
  {
   "cell_type": "code",
   "execution_count": 13,
   "id": "25a1fb5a",
   "metadata": {},
   "outputs": [
    {
     "data": {
      "text/plain": [
       "0    2021-11-25 03:12:29\n",
       "1    2021-11-25 03:12:37\n",
       "2    2021-11-25 03:12:55\n",
       "3    2021-11-25 03:12:59\n",
       "4    2021-11-25 03:12:59\n",
       "Name: review_timestamp, dtype: object"
      ]
     },
     "execution_count": 13,
     "metadata": {},
     "output_type": "execute_result"
    }
   ],
   "source": [
    "df.review_timestamp.head()"
   ]
  },
  {
   "cell_type": "code",
   "execution_count": 14,
   "id": "2edbce30",
   "metadata": {},
   "outputs": [
    {
     "data": {
      "text/plain": [
       "0    2011-07-08T05:26:10.000Z\n",
       "1    2011-07-18T15:59:43.000Z\n",
       "2    2011-08-14T17:12:20.000Z\n",
       "3    2011-09-03T17:00:18.000Z\n",
       "4    2011-09-23T09:03:47.000Z\n",
       "Name: review_datetime_utc, dtype: object"
      ]
     },
     "execution_count": 14,
     "metadata": {},
     "output_type": "execute_result"
    }
   ],
   "source": [
    "df.review_datetime_utc.dropna().head()"
   ]
  },
  {
   "cell_type": "code",
   "execution_count": 15,
   "id": "edb73651",
   "metadata": {},
   "outputs": [],
   "source": [
    "df.review_timestamp = pd.to_datetime(df.review_timestamp)\n",
    "df.review_datetime_utc = pd.to_datetime(df.review_datetime_utc)"
   ]
  },
  {
   "cell_type": "code",
   "execution_count": 16,
   "id": "61e149d1",
   "metadata": {},
   "outputs": [
    {
     "data": {
      "text/plain": [
       "<Axes: >"
      ]
     },
     "execution_count": 16,
     "metadata": {},
     "output_type": "execute_result"
    },
    {
     "data": {
      "image/png": "[encoded data removed]",
      "text/plain": [
       "<Figure size 640x480 with 1 Axes>"
      ]
     },
     "metadata": {},
     "output_type": "display_data"
    }
   ],
   "source": [
    "(df.review_timestamp + timedelta(hours=5)).dt.hour.value_counts(normalize=True).sort_index().plot()"
   ]
  },
  {
   "cell_type": "code",
   "execution_count": 17,
   "id": "baebed0e",
   "metadata": {},
   "outputs": [
    {
     "data": {
      "image/png": "[encoded data removed]",
      "text/plain": [
       "<Figure size 640x480 with 1 Axes>"
      ]
     },
     "metadata": {},
     "output_type": "display_data"
    }
   ],
   "source": [
    "df.review_timestamp.dt.hour.value_counts(normalize=True).sort_index().plot()\n",
    "df.review_datetime_utc.dt.hour.value_counts(normalize=True).sort_index().plot()\n",
    "plt.legend([\"review_timestam\", \"review_datetime_utc\"])\n",
    "plt.show()"
   ]
  },
  {
   "cell_type": "code",
   "execution_count": 18,
   "id": "e2f5ae09",
   "metadata": {},
   "outputs": [
    {
     "data": {
      "image/png": "[encoded data removed]",
      "text/plain": [
       "<Figure size 640x480 with 1 Axes>"
      ]
     },
     "metadata": {},
     "output_type": "display_data"
    }
   ],
   "source": [
    "(df.review_timestamp + timedelta(hours=5)).dt.hour.value_counts(normalize=True).sort_index().plot()\n",
    "df.review_datetime_utc.dt.hour.value_counts(normalize=True).sort_index().plot()\n",
    "plt.legend([\"review_timestam\", \"review_datetime_utc\"])\n",
    "plt.show()"
   ]
  },
  {
   "cell_type": "code",
   "execution_count": 19,
   "id": "7fdf0362",
   "metadata": {},
   "outputs": [],
   "source": [
    "df.review_datetime_utc = df.review_datetime_utc.dt.tz_localize(None)\n",
    "df.review_datetime_utc += timedelta(hours=5)\n",
    "df.review_timestamp += timedelta(hours=5)"
   ]
  },
  {
   "cell_type": "code",
   "execution_count": 20,
   "id": "95ea3b11",
   "metadata": {},
   "outputs": [],
   "source": [
    "df.review_timestamp = df.review_timestamp.fillna(df.review_datetime_utc)\n",
    "df = df.drop(\"review_datetime_utc\", axis=1)"
   ]
  },
  {
   "cell_type": "code",
   "execution_count": 21,
   "id": "79978680",
   "metadata": {},
   "outputs": [
    {
     "data": {
      "text/plain": [
       "<Axes: >"
      ]
     },
     "execution_count": 21,
     "metadata": {},
     "output_type": "execute_result"
    },
    {
     "data": {
      "image/png": "[encoded data removed]",
      "text/plain": [
       "<Figure size 640x480 with 1 Axes>"
      ]
     },
     "metadata": {},
     "output_type": "display_data"
    }
   ],
   "source": [
    "df.review_timestamp.dt.hour.value_counts().sort_index().plot()"
   ]
  },
  {
   "cell_type": "code",
   "execution_count": 22,
   "id": "0444b7e6",
   "metadata": {},
   "outputs": [
    {
     "data": {
      "text/html": [
       "<div>\n",
       "<style scoped>\n",
       "    .dataframe tbody tr th:only-of-type {\n",
       "        vertical-align: middle;\n",
       "    }\n",
       "\n",
       "    .dataframe tbody tr th {\n",
       "        vertical-align: top;\n",
       "    }\n",
       "\n",
       "    .dataframe thead th {\n",
       "        text-align: right;\n",
       "    }\n",
       "</style>\n",
       "<table border=\"1\" class=\"dataframe\">\n",
       "  <thead>\n",
       "    <tr style=\"text-align: right;\">\n",
       "      <th></th>\n",
       "      <th>review_id</th>\n",
       "      <th>app_name</th>\n",
       "      <th>author_name</th>\n",
       "      <th>pseudo_author_id</th>\n",
       "      <th>author_app_version</th>\n",
       "      <th>review_rating</th>\n",
       "      <th>review_likes</th>\n",
       "      <th>review_timestamp</th>\n",
       "    </tr>\n",
       "  </thead>\n",
       "  <tbody>\n",
       "    <tr>\n",
       "      <th>0</th>\n",
       "      <td>ff27dd54-d785-418f-998c-8c2e01351201</td>\n",
       "      <td>WHATSAPP_REVIEWS</td>\n",
       "      <td>VI*******AR</td>\n",
       "      <td>232289234882626103787</td>\n",
       "      <td>2.21.23.23</td>\n",
       "      <td>5.0</td>\n",
       "      <td>0</td>\n",
       "      <td>2021-11-25 08:12:29</td>\n",
       "    </tr>\n",
       "    <tr>\n",
       "      <th>1</th>\n",
       "      <td>08e30530-c0fe-4a94-86d3-cc2ddb08b66b</td>\n",
       "      <td>WHATSAPP_REVIEWS</td>\n",
       "      <td>Ha************an</td>\n",
       "      <td>165667818870073259663</td>\n",
       "      <td>2.21.10.16</td>\n",
       "      <td>5.0</td>\n",
       "      <td>0</td>\n",
       "      <td>2021-11-25 08:12:37</td>\n",
       "    </tr>\n",
       "    <tr>\n",
       "      <th>2</th>\n",
       "      <td>f6077a17-bcc3-4445-b23e-15d292f217b9</td>\n",
       "      <td>WHATSAPP_REVIEWS</td>\n",
       "      <td>Ar******77</td>\n",
       "      <td>235241404052650920045</td>\n",
       "      <td>2.21.21.19</td>\n",
       "      <td>1.0</td>\n",
       "      <td>0</td>\n",
       "      <td>2021-11-25 08:12:55</td>\n",
       "    </tr>\n",
       "    <tr>\n",
       "      <th>3</th>\n",
       "      <td>6ac91332-f85e-488f-8538-3d50f803f22b</td>\n",
       "      <td>WHATSAPP_REVIEWS</td>\n",
       "      <td>Na************* U</td>\n",
       "      <td>217415827699074437622</td>\n",
       "      <td>2.21.10.16</td>\n",
       "      <td>5.0</td>\n",
       "      <td>0</td>\n",
       "      <td>2021-11-25 08:12:59</td>\n",
       "    </tr>\n",
       "    <tr>\n",
       "      <th>4</th>\n",
       "      <td>8eaf12b4-386e-4ca3-a5b4-6dd45e051b54</td>\n",
       "      <td>WHATSAPP_REVIEWS</td>\n",
       "      <td>or*****************ne</td>\n",
       "      <td>326804115988587106741</td>\n",
       "      <td>2.21.22.26</td>\n",
       "      <td>5.0</td>\n",
       "      <td>0</td>\n",
       "      <td>2021-11-25 08:12:59</td>\n",
       "    </tr>\n",
       "  </tbody>\n",
       "</table>\n",
       "</div>"
      ],
      "text/plain": [
       "                              review_id          app_name  \\\n",
       "0  ff27dd54-d785-418f-998c-8c2e01351201  WHATSAPP_REVIEWS   \n",
       "1  08e30530-c0fe-4a94-86d3-cc2ddb08b66b  WHATSAPP_REVIEWS   \n",
       "2  f6077a17-bcc3-4445-b23e-15d292f217b9  WHATSAPP_REVIEWS   \n",
       "3  6ac91332-f85e-488f-8538-3d50f803f22b  WHATSAPP_REVIEWS   \n",
       "4  8eaf12b4-386e-4ca3-a5b4-6dd45e051b54  WHATSAPP_REVIEWS   \n",
       "\n",
       "             author_name       pseudo_author_id author_app_version  \\\n",
       "0            VI*******AR  232289234882626103787         2.21.23.23   \n",
       "1       Ha************an  165667818870073259663         2.21.10.16   \n",
       "2             Ar******77  235241404052650920045         2.21.21.19   \n",
       "3      Na************* U  217415827699074437622         2.21.10.16   \n",
       "4  or*****************ne  326804115988587106741         2.21.22.26   \n",
       "\n",
       "   review_rating  review_likes    review_timestamp  \n",
       "0            5.0             0 2021-11-25 08:12:29  \n",
       "1            5.0             0 2021-11-25 08:12:37  \n",
       "2            1.0             0 2021-11-25 08:12:55  \n",
       "3            5.0             0 2021-11-25 08:12:59  \n",
       "4            5.0             0 2021-11-25 08:12:59  "
      ]
     },
     "execution_count": 22,
     "metadata": {},
     "output_type": "execute_result"
    }
   ],
   "source": [
    "df.head()"
   ]
  },
  {
   "cell_type": "code",
   "execution_count": 23,
   "id": "7adb4823",
   "metadata": {},
   "outputs": [
    {
     "name": "stdout",
     "output_type": "stream",
     "text": [
      "<class 'pandas.core.frame.DataFrame'>\n",
      "Int64Index: 28154385 entries, 0 to 3465865\n",
      "Data columns (total 8 columns):\n",
      " #   Column              Dtype         \n",
      "---  ------              -----         \n",
      " 0   review_id           object        \n",
      " 1   app_name            object        \n",
      " 2   author_name         object        \n",
      " 3   pseudo_author_id    object        \n",
      " 4   author_app_version  object        \n",
      " 5   review_rating       float64       \n",
      " 6   review_likes        int64         \n",
      " 7   review_timestamp    datetime64[ns]\n",
      "dtypes: datetime64[ns](1), float64(1), int64(1), object(5)\n",
      "memory usage: 1.9+ GB\n"
     ]
    }
   ],
   "source": [
    "df.info()"
   ]
  },
  {
   "cell_type": "code",
   "execution_count": 24,
   "id": "913eb8e8",
   "metadata": {},
   "outputs": [],
   "source": [
    "df.to_parquet(\"./target_raw.parquet\")"
   ]
  },
  {
   "cell_type": "code",
   "execution_count": 25,
   "id": "504d5b1a",
   "metadata": {},
   "outputs": [
    {
     "data": {
      "text/plain": [
       "app_name\n",
       "FACEBOOK_REVIEWS     3.169134\n",
       "FLIPKART_REVIEWS     4.322431\n",
       "INSTAGRAM_REVIEWS    3.931349\n",
       "SPOTIFY_REVIEWS      4.043836\n",
       "TIKTOK_REVIEWS       4.276736\n",
       "TWITTER_REVIEWS      3.835051\n",
       "WHATSAPP_REVIEWS     3.995535\n",
       "Name: review_rating, dtype: float64"
      ]
     },
     "execution_count": 25,
     "metadata": {},
     "output_type": "execute_result"
    }
   ],
   "source": [
    "df.groupby(\"app_name\")[\"review_rating\"].mean()"
   ]
  }
 ],
 "metadata": {
  "kernelspec": {
   "display_name": "Python 3 (ipykernel)",
   "language": "python",
   "name": "python3"
  },
  "language_info": {
   "codemirror_mode": {
    "name": "ipython",
    "version": 3
   },
   "file_extension": ".py",
   "mimetype": "text/x-python",
   "name": "python",
   "nbconvert_exporter": "python",
   "pygments_lexer": "ipython3",
   "version": "3.11.5"
  }
 },
 "nbformat": 4,
 "nbformat_minor": 5
}
