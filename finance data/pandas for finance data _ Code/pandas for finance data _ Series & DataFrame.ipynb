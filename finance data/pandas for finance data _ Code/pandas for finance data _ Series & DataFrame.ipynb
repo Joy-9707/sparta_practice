{
 "cells": [
  {
   "cell_type": "markdown",
   "id": "929a4344",
   "metadata": {},
   "source": [
    "# About Series"
   ]
  },
  {
   "cell_type": "markdown",
   "id": "a48e1509",
   "metadata": {},
   "source": [
    "* Series란?<br>\n",
    "    Data의 컬럼이 1개인 자료구조이며, 인덱스와 1개의 열로 구성되어 있음"
   ]
  },
  {
   "cell_type": "markdown",
   "id": "14f8f9a9",
   "metadata": {},
   "source": [
    "## Series 만드는 방법"
   ]
  },
  {
   "cell_type": "markdown",
   "id": "050b402f",
   "metadata": {
    "ExecuteTime": {
     "end_time": "2022-01-09T00:15:19.899186Z",
     "start_time": "2022-01-09T00:15:19.884986Z"
    }
   },
   "source": [
    "* pd.Series()에 DataType이 1. 리스트 혹은 2.딕셔너리 로 만들 수 있음<br>\n",
    "\n",
    "* 딕셔너리의 경우 index와 value가 같이 만들어지며, 리스트의 경우 value만 지정"
   ]
  },
  {
   "cell_type": "code",
   "execution_count": 1,
   "id": "3c20b3f9",
   "metadata": {
    "ExecuteTime": {
     "end_time": "2022-01-09T00:15:44.279696Z",
     "start_time": "2022-01-09T00:15:44.264694Z"
    }
   },
   "outputs": [
    {
     "name": "stderr",
     "output_type": "stream",
     "text": [
      "/var/folders/qv/tqmmyp0s5dj996k_tcvqmtqm0000gn/T/ipykernel_1997/3952730005.py:2: DeprecationWarning: \n",
      "Pyarrow will become a required dependency of pandas in the next major release of pandas (pandas 3.0),\n",
      "(to allow more performant data types, such as the Arrow string type, and better interoperability with other libraries)\n",
      "but was not found to be installed on your system.\n",
      "If this would cause problems for you,\n",
      "please provide us feedback at https://github.com/pandas-dev/pandas/issues/54466\n",
      "        \n",
      "  import pandas as pd\n"
     ]
    }
   ],
   "source": [
    "# 판다스 라이브러리(패키지) 불러오기\n",
    "import pandas as pd"
   ]
  },
  {
   "cell_type": "code",
   "execution_count": 2,
   "id": "dd842e92",
   "metadata": {
    "ExecuteTime": {
     "end_time": "2022-01-09T00:15:48.028530Z",
     "start_time": "2022-01-09T00:15:48.016339Z"
    }
   },
   "outputs": [
    {
     "data": {
      "text/plain": [
       "0        1\n",
       "1        2\n",
       "2        3\n",
       "3    Apple\n",
       "4     play\n",
       "5        6\n",
       "6        7\n",
       "7        8\n",
       "8        9\n",
       "dtype: object"
      ]
     },
     "execution_count": 2,
     "metadata": {},
     "output_type": "execute_result"
    }
   ],
   "source": [
    "# Data Type이 '리스트'인 경우\n",
    "\n",
    "ls1 = [1,2,3,4,5,6,7,8,9]\n",
    "\n",
    "ls2 = [1,2,3,'Apple','play',6,7,8,9]\n",
    "\n",
    "sr1 = pd.Series(ls1)\n",
    "sr1\n",
    "\n",
    "sr2 = pd.Series(ls2)\n",
    "sr2"
   ]
  },
  {
   "cell_type": "code",
   "execution_count": 3,
   "id": "4eaf8316",
   "metadata": {
    "ExecuteTime": {
     "end_time": "2022-01-09T00:15:53.680400Z",
     "start_time": "2022-01-09T00:15:53.672605Z"
    }
   },
   "outputs": [
    {
     "data": {
      "text/plain": [
       "0        1\n",
       "1        2\n",
       "2        3\n",
       "3    Apple\n",
       "4     play\n",
       "5        6\n",
       "6        7\n",
       "7        8\n",
       "8        9\n",
       "Name: Word, dtype: object"
      ]
     },
     "execution_count": 3,
     "metadata": {},
     "output_type": "execute_result"
    }
   ],
   "source": [
    "# Series에 Name설정\n",
    "sr1.name = \"Number\"\n",
    "sr2.name = \"Word\"\n",
    "sr2"
   ]
  },
  {
   "cell_type": "code",
   "execution_count": 7,
   "id": "df6e3bc6",
   "metadata": {
    "ExecuteTime": {
     "end_time": "2022-01-09T00:16:13.099188Z",
     "start_time": "2022-01-09T00:16:13.089149Z"
    }
   },
   "outputs": [
    {
     "data": {
      "text/plain": [
       "a    1\n",
       "b    2\n",
       "c    3\n",
       "d    4\n",
       "Name: Number, dtype: int64"
      ]
     },
     "execution_count": 7,
     "metadata": {},
     "output_type": "execute_result"
    }
   ],
   "source": [
    "# Data Type이 '딕셔너리'인 경우\n",
    "dic1 = {\"a\":1, 'b':2, \"c\":3, \"d\":4}\n",
    "\n",
    "sr3 = pd.Series(dic1)\n",
    "sr3\n",
    "sr3.name = \"Number\"\n",
    "sr3\n"
   ]
  },
  {
   "cell_type": "markdown",
   "id": "e3cfcdba",
   "metadata": {},
   "source": [
    "## 삼성전자 종가 Series로 불러오기"
   ]
  },
  {
   "cell_type": "markdown",
   "id": "87966ddd",
   "metadata": {},
   "source": [
    "* path<br>\n",
    "* index_col<br>\n",
    "* header<br>\n",
    "* squeeze"
   ]
  },
  {
   "cell_type": "code",
   "execution_count": 8,
   "id": "8de4764f",
   "metadata": {
    "ExecuteTime": {
     "end_time": "2022-01-09T00:16:53.924586Z",
     "start_time": "2022-01-09T00:16:53.903984Z"
    }
   },
   "outputs": [
    {
     "data": {
      "text/plain": [
       "Date\n",
       "2018-01-02    51020\n",
       "2018-01-03    51620\n",
       "2018-01-04    51080\n",
       "2018-01-05    52120\n",
       "2018-01-08    52020\n",
       "              ...  \n",
       "2021-12-13    76800\n",
       "2021-12-14    77000\n",
       "2021-12-15    77600\n",
       "2021-12-16    77800\n",
       "2021-12-17    78000\n",
       "Name: Close, Length: 977, dtype: int64"
      ]
     },
     "execution_count": 8,
     "metadata": {},
     "output_type": "execute_result"
    }
   ],
   "source": [
    "import pandas as pd\n",
    "\n",
    "path = '/Users/hj/Documents/무제/finance data/Data/삼성전자 종가.csv'\n",
    "\n",
    "df = pd.read_csv(path, index_col = 0, header = 0)\n",
    "\n",
    "a = df.squeeze()\n",
    "\n",
    "a"
   ]
  },
  {
   "cell_type": "markdown",
   "id": "e550cf93",
   "metadata": {},
   "source": [
    "## Series Index & Value"
   ]
  },
  {
   "cell_type": "code",
   "execution_count": 10,
   "id": "6cdfb594",
   "metadata": {
    "ExecuteTime": {
     "end_time": "2022-01-09T00:19:19.349813Z",
     "start_time": "2022-01-09T00:19:19.336615Z"
    }
   },
   "outputs": [
    {
     "data": {
      "text/plain": [
       "Date\n",
       "2018-01-02    51020\n",
       "2018-01-03    51620\n",
       "2018-01-04    51080\n",
       "2018-01-05    52120\n",
       "2018-01-08    52020\n",
       "              ...  \n",
       "2021-12-13    76800\n",
       "2021-12-14    77000\n",
       "2021-12-15    77600\n",
       "2021-12-16    77800\n",
       "2021-12-17    78000\n",
       "Name: Close, Length: 977, dtype: int64"
      ]
     },
     "execution_count": 10,
     "metadata": {},
     "output_type": "execute_result"
    }
   ],
   "source": [
    "import pandas as pd\n",
    "\n",
    "samsung_price = a\n",
    "samsung_price"
   ]
  },
  {
   "cell_type": "code",
   "execution_count": 11,
   "id": "64d50ac0",
   "metadata": {
    "ExecuteTime": {
     "end_time": "2022-01-09T00:19:26.789697Z",
     "start_time": "2022-01-09T00:19:26.775976Z"
    }
   },
   "outputs": [
    {
     "data": {
      "text/plain": [
       "Index(['2018-01-02', '2018-01-03', '2018-01-04', '2018-01-05', '2018-01-08',\n",
       "       '2018-01-09', '2018-01-10', '2018-01-11', '2018-01-12', '2018-01-15',\n",
       "       ...\n",
       "       '2021-12-06', '2021-12-07', '2021-12-08', '2021-12-09', '2021-12-10',\n",
       "       '2021-12-13', '2021-12-14', '2021-12-15', '2021-12-16', '2021-12-17'],\n",
       "      dtype='object', name='Date', length=977)"
      ]
     },
     "execution_count": 11,
     "metadata": {},
     "output_type": "execute_result"
    }
   ],
   "source": [
    "# samsung_price의 index만 따로 추출\n",
    "samsung_price.index"
   ]
  },
  {
   "cell_type": "code",
   "execution_count": 18,
   "id": "b35c2106",
   "metadata": {
    "ExecuteTime": {
     "end_time": "2022-01-09T00:19:31.756706Z",
     "start_time": "2022-01-09T00:19:31.744707Z"
    }
   },
   "outputs": [
    {
     "name": "stdout",
     "output_type": "stream",
     "text": [
      "찾는 값이 없습니다.\n"
     ]
    }
   ],
   "source": [
    "# '2020-12-15 Data가 있을까?'\n",
    "\n",
    "samsung_price.loc['2020-12-15']\n",
    "\n",
    "date = '2022-12-15'\n",
    "if date in samsung_price.index:\n",
    "    data = samsung_price.loc['2022-12-15']\n",
    "    print(data)\n",
    "else:\n",
    "    print(\"찾는 값이 없습니다.\")"
   ]
  },
  {
   "cell_type": "code",
   "execution_count": 13,
   "id": "7fbdc6ea",
   "metadata": {
    "ExecuteTime": {
     "end_time": "2022-01-09T00:19:35.930665Z",
     "start_time": "2022-01-09T00:19:35.912845Z"
    }
   },
   "outputs": [
    {
     "data": {
      "text/plain": [
       "49500"
      ]
     },
     "execution_count": 13,
     "metadata": {},
     "output_type": "execute_result"
    }
   ],
   "source": [
    "# 100번째 Dataq값은?\n",
    "\n",
    "samsung_price.iloc[100]"
   ]
  },
  {
   "cell_type": "markdown",
   "id": "b522e485",
   "metadata": {},
   "source": [
    "## Series에 새로운 행을 추가하고 싶을때?"
   ]
  },
  {
   "cell_type": "code",
   "execution_count": 18,
   "id": "d72609ea",
   "metadata": {
    "ExecuteTime": {
     "end_time": "2022-01-09T00:22:17.365929Z",
     "start_time": "2022-01-09T00:22:17.352973Z"
    }
   },
   "outputs": [
    {
     "data": {
      "text/plain": [
       "Date\n",
       "2018-01-02    51020\n",
       "2018-01-03    51620\n",
       "2018-01-04    51080\n",
       "2018-01-05    52120\n",
       "2018-01-08    52020\n",
       "              ...  \n",
       "2021-12-13    76800\n",
       "2021-12-14    77000\n",
       "2021-12-15    77600\n",
       "2021-12-16    77800\n",
       "2021-12-17    78000\n",
       "Name: Close, Length: 977, dtype: int64"
      ]
     },
     "execution_count": 18,
     "metadata": {},
     "output_type": "execute_result"
    }
   ],
   "source": [
    "# import pandas as pd\n",
    "\n",
    "# samsung_price = pd.read_csv('삼성전자 종가.csv', index_col = 0, squeeze = True, header = 0)\n",
    "# samsung_price"
   ]
  },
  {
   "cell_type": "code",
   "execution_count": 26,
   "id": "fcb6e2f8",
   "metadata": {
    "ExecuteTime": {
     "end_time": "2022-01-09T00:22:17.819271Z",
     "start_time": "2022-01-09T00:22:17.808690Z"
    }
   },
   "outputs": [
    {
     "data": {
      "text/plain": [
       "(977,)"
      ]
     },
     "execution_count": 26,
     "metadata": {},
     "output_type": "execute_result"
    }
   ],
   "source": [
    "# samsung_price에 총 길이는?\n",
    "# samsung_price.index[samsung_price.shape[0]-1]\n",
    "samsung_price.shape"
   ]
  },
  {
   "cell_type": "code",
   "execution_count": 27,
   "id": "8b7b1a58",
   "metadata": {
    "ExecuteTime": {
     "end_time": "2022-01-09T00:32:18.180001Z",
     "start_time": "2022-01-09T00:32:18.160070Z"
    }
   },
   "outputs": [
    {
     "data": {
      "text/plain": [
       "Date\n",
       "2018-01-02    51020\n",
       "2018-01-03    51620\n",
       "2018-01-04    51080\n",
       "2018-01-05    52120\n",
       "2018-01-08    52020\n",
       "              ...  \n",
       "2021-12-14    77000\n",
       "2021-12-15    77600\n",
       "2021-12-16        0\n",
       "2021-12-17    78000\n",
       "2021-12-20    77100\n",
       "Name: Close, Length: 978, dtype: int64"
      ]
     },
     "execution_count": 27,
     "metadata": {},
     "output_type": "execute_result"
    }
   ],
   "source": [
    "# samsung_price에 '2021-12-19'주가를 추가하고 싶다면?\n",
    "samsung_price.loc['2021-12-20'] = 77100\n",
    "samsung_price\n",
    "samsung_price.loc['2021-12-16'] = 0\n",
    "samsung_price\n",
    "\n",
    "# 새로운 값을 추가하거나 덮어씌울때 loc 쓰자!! "
   ]
  },
  {
   "cell_type": "code",
   "execution_count": 27,
   "id": "e286b880",
   "metadata": {
    "ExecuteTime": {
     "end_time": "2022-01-09T00:25:29.170665Z",
     "start_time": "2022-01-09T00:25:29.160993Z"
    }
   },
   "outputs": [
    {
     "data": {
      "text/plain": [
       "count      978.000000\n",
       "mean     57236.554192\n",
       "std      14194.895001\n",
       "min          0.000000\n",
       "25%      46262.500000\n",
       "50%      51300.000000\n",
       "75%      70200.000000\n",
       "max      91000.000000\n",
       "Name: Close, dtype: float64"
      ]
     },
     "execution_count": 27,
     "metadata": {},
     "output_type": "execute_result"
    }
   ],
   "source": [
    "samsung_price.describe()"
   ]
  },
  {
   "cell_type": "markdown",
   "id": "65f71cb0",
   "metadata": {
    "ExecuteTime": {
     "end_time": "2022-01-09T00:22:48.835638Z",
     "start_time": "2022-01-09T00:22:48.792796Z"
    }
   },
   "source": [
    "## 두개의 Series 연결"
   ]
  },
  {
   "cell_type": "code",
   "execution_count": 34,
   "id": "09f1fef5",
   "metadata": {
    "ExecuteTime": {
     "end_time": "2022-01-09T00:30:11.603114Z",
     "start_time": "2022-01-09T00:30:11.472289Z"
    }
   },
   "outputs": [
    {
     "data": {
      "text/plain": [
       "Date\n",
       "2018-01-02    51020\n",
       "2018-01-03    51620\n",
       "2018-01-04    51080\n",
       "2018-01-05    52120\n",
       "2018-01-08    52020\n",
       "              ...  \n",
       "2021-12-20    77100\n",
       "2021-12-21    78100\n",
       "2021-12-22    79400\n",
       "2021-12-23    79900\n",
       "2021-12-24    80500\n",
       "Name: Close, Length: 982, dtype: int64"
      ]
     },
     "execution_count": 34,
     "metadata": {},
     "output_type": "execute_result"
    }
   ],
   "source": [
    "import pandas as pd\n",
    "#pd.set_option('display.max_rows', None)\n",
    "\n",
    "series1_samsung = pd.read_excel('/Users/hj/Documents/무제/finance data/Data/samsung_excel.xlsx', sheet_name = 'Sheet1', index_col = 0)\n",
    "series1_samsung= series1_samsung.squeeze()\n",
    "\n",
    "series2_samsung = pd.read_excel('/Users/hj/Documents/무제/finance data/Data/samsung_excel.xlsx', sheet_name = 'Sheet2', index_col = 0)\n",
    "series2_samsung = series2_samsung.squeeze()\n",
    "\n",
    "series_samsung = pd.concat([series1_samsung, series2_samsung], ignore_index = False)\n",
    "series_samsung"
   ]
  },
  {
   "cell_type": "markdown",
   "id": "324fa4ad",
   "metadata": {},
   "source": [
    "## Series 기본 통계치 구하기"
   ]
  },
  {
   "cell_type": "code",
   "execution_count": 36,
   "id": "b6ddd68e",
   "metadata": {
    "ExecuteTime": {
     "end_time": "2022-01-09T00:30:15.554650Z",
     "start_time": "2022-01-09T00:30:15.544495Z"
    }
   },
   "outputs": [
    {
     "data": {
      "text/plain": [
       "Date\n",
       "2018-01-02    51020\n",
       "2018-01-03    51620\n",
       "2018-01-04    51080\n",
       "2018-01-05    52120\n",
       "2018-01-08    52020\n",
       "              ...  \n",
       "2021-12-13    76800\n",
       "2021-12-14    77000\n",
       "2021-12-15    77600\n",
       "2021-12-16    77800\n",
       "2021-12-17    78000\n",
       "Name: Close, Length: 977, dtype: int64"
      ]
     },
     "execution_count": 36,
     "metadata": {},
     "output_type": "execute_result"
    }
   ],
   "source": [
    "# import pandas as pd\n",
    "\n",
    "# samsung_price = pd.read_csv('삼성전자 종가.csv', index_col = 0, squeeze = True, header = 0)\n",
    "# samsung_price"
   ]
  },
  {
   "cell_type": "code",
   "execution_count": 36,
   "id": "af220551",
   "metadata": {
    "ExecuteTime": {
     "end_time": "2022-01-09T00:30:44.033169Z",
     "start_time": "2022-01-09T00:30:44.024649Z"
    }
   },
   "outputs": [
    {
     "data": {
      "text/plain": [
       "count      978.000000\n",
       "mean     57236.554192\n",
       "std      14194.895001\n",
       "min          0.000000\n",
       "25%      46262.500000\n",
       "50%      51300.000000\n",
       "75%      70200.000000\n",
       "max      91000.000000\n",
       "Name: Close, dtype: float64"
      ]
     },
     "execution_count": 36,
     "metadata": {},
     "output_type": "execute_result"
    }
   ],
   "source": [
    "# 삼성전자 고점? 저점?\n",
    "\n",
    "samsung_price.max()\n",
    "samsung_price.min()\n",
    "\n",
    "samsung_price.describe()"
   ]
  },
  {
   "cell_type": "code",
   "execution_count": 44,
   "id": "0af90c6d",
   "metadata": {
    "ExecuteTime": {
     "end_time": "2022-01-09T00:30:50.562599Z",
     "start_time": "2022-01-09T00:30:50.544267Z"
    }
   },
   "outputs": [
    {
     "data": {
      "text/plain": [
       "1"
      ]
     },
     "execution_count": 44,
     "metadata": {},
     "output_type": "execute_result"
    }
   ],
   "source": [
    "# samsung_price.index[samsung_price.values == samsung_price.max()]\n",
    "samsung_price.index[samsung_price.values == samsung_price.min()]\n",
    "\n",
    "sum(samsung_price.values == samsung_price.min())"
   ]
  },
  {
   "cell_type": "code",
   "execution_count": 46,
   "id": "f254c916",
   "metadata": {},
   "outputs": [
    {
     "data": {
      "text/plain": [
       "975"
      ]
     },
     "execution_count": 46,
     "metadata": {},
     "output_type": "execute_result"
    }
   ],
   "source": [
    "samsung_price.argmin()  # min의 인덱스값"
   ]
  },
  {
   "cell_type": "code",
   "execution_count": 51,
   "id": "3c7769b3",
   "metadata": {
    "ExecuteTime": {
     "end_time": "2022-01-09T00:30:56.963348Z",
     "start_time": "2022-01-09T00:30:56.953120Z"
    }
   },
   "outputs": [
    {
     "data": {
      "text/plain": [
       "'2021-12-16'"
      ]
     },
     "execution_count": 51,
     "metadata": {},
     "output_type": "execute_result"
    }
   ],
   "source": [
    "# samsung_price.iloc[samsung_price.argmin()]\n",
    "samsung_price.index[samsung_price.argmin()]\n",
    "# samsung_price.iloc[samsung_price.argmax()]\n",
    "# samsung_price.index[samsung_price.argmax()]"
   ]
  },
  {
   "cell_type": "code",
   "execution_count": 53,
   "id": "6d6cb9fb",
   "metadata": {},
   "outputs": [
    {
     "data": {
      "text/plain": [
       "246"
      ]
     },
     "execution_count": 53,
     "metadata": {},
     "output_type": "execute_result"
    }
   ],
   "source": [
    "samsung_price.loc['2021-12-16'] = 37450\n",
    "samsung_price.argmin()"
   ]
  },
  {
   "cell_type": "code",
   "execution_count": 54,
   "id": "84a00aa3",
   "metadata": {},
   "outputs": [
    {
     "data": {
      "text/plain": [
       "count      978.000000\n",
       "mean     57274.846626\n",
       "std      14090.463271\n",
       "min      37450.000000\n",
       "25%      46262.500000\n",
       "50%      51300.000000\n",
       "75%      70200.000000\n",
       "max      91000.000000\n",
       "Name: Close, dtype: float64"
      ]
     },
     "execution_count": 54,
     "metadata": {},
     "output_type": "execute_result"
    }
   ],
   "source": [
    "samsung_price.describe()"
   ]
  },
  {
   "cell_type": "markdown",
   "id": "6d329a6c",
   "metadata": {},
   "source": [
    "## Series 연산\n",
    "* 삼성전자 수익률 구하기"
   ]
  },
  {
   "cell_type": "code",
   "execution_count": 40,
   "id": "6043fd4e",
   "metadata": {
    "ExecuteTime": {
     "end_time": "2022-01-09T00:31:44.251712Z",
     "start_time": "2022-01-09T00:31:44.240595Z"
    }
   },
   "outputs": [
    {
     "data": {
      "text/plain": [
       "Date\n",
       "2018-01-02    51020\n",
       "2018-01-03    51620\n",
       "2018-01-04    51080\n",
       "2018-01-05    52120\n",
       "2018-01-08    52020\n",
       "              ...  \n",
       "2021-12-13    76800\n",
       "2021-12-14    77000\n",
       "2021-12-15    77600\n",
       "2021-12-16    77800\n",
       "2021-12-17    78000\n",
       "Name: Close, Length: 977, dtype: int64"
      ]
     },
     "execution_count": 40,
     "metadata": {},
     "output_type": "execute_result"
    }
   ],
   "source": [
    "import pandas as pd\n",
    "\n",
    "samsung_price = pd.read_csv('삼성전자 종가.csv', index_col = 0, squeeze = True, header = 0)\n",
    "samsung_price"
   ]
  },
  {
   "cell_type": "code",
   "execution_count": 41,
   "id": "3c8f8881",
   "metadata": {
    "ExecuteTime": {
     "end_time": "2022-01-09T00:31:48.948340Z",
     "start_time": "2022-01-09T00:31:48.937207Z"
    }
   },
   "outputs": [
    {
     "data": {
      "text/plain": [
       "Date\n",
       "2018-01-02        NaN\n",
       "2018-01-03    51020.0\n",
       "2018-01-04    51620.0\n",
       "2018-01-05    51080.0\n",
       "2018-01-08    52120.0\n",
       "               ...   \n",
       "2021-12-13    76900.0\n",
       "2021-12-14    76800.0\n",
       "2021-12-15    77000.0\n",
       "2021-12-16    77600.0\n",
       "2021-12-17    77800.0\n",
       "Name: Close, Length: 977, dtype: float64"
      ]
     },
     "execution_count": 41,
     "metadata": {},
     "output_type": "execute_result"
    }
   ],
   "source": [
    "samsung_price.shift(1)"
   ]
  },
  {
   "cell_type": "code",
   "execution_count": 42,
   "id": "9d3daea4",
   "metadata": {
    "ExecuteTime": {
     "end_time": "2022-01-09T00:31:53.359178Z",
     "start_time": "2022-01-09T00:31:53.343136Z"
    }
   },
   "outputs": [
    {
     "data": {
      "text/plain": [
       "Date\n",
       "2018-01-02       NaN\n",
       "2018-01-03     600.0\n",
       "2018-01-04    -540.0\n",
       "2018-01-05    1040.0\n",
       "2018-01-08    -100.0\n",
       "               ...  \n",
       "2021-12-13    -100.0\n",
       "2021-12-14     200.0\n",
       "2021-12-15     600.0\n",
       "2021-12-16     200.0\n",
       "2021-12-17     200.0\n",
       "Name: Close, Length: 977, dtype: float64"
      ]
     },
     "execution_count": 42,
     "metadata": {},
     "output_type": "execute_result"
    }
   ],
   "source": [
    "samsung_price - samsung_price.shift(1)"
   ]
  },
  {
   "cell_type": "code",
   "execution_count": 43,
   "id": "1795c52b",
   "metadata": {
    "ExecuteTime": {
     "end_time": "2022-01-09T00:31:57.613827Z",
     "start_time": "2022-01-09T00:31:57.600329Z"
    }
   },
   "outputs": [
    {
     "data": {
      "text/plain": [
       "Date\n",
       "2018-01-02         NaN\n",
       "2018-01-03    0.011760\n",
       "2018-01-04   -0.010461\n",
       "2018-01-05    0.020360\n",
       "2018-01-08   -0.001919\n",
       "                ...   \n",
       "2021-12-13   -0.001300\n",
       "2021-12-14    0.002604\n",
       "2021-12-15    0.007792\n",
       "2021-12-16    0.002577\n",
       "2021-12-17    0.002571\n",
       "Name: Close, Length: 977, dtype: float64"
      ]
     },
     "execution_count": 43,
     "metadata": {},
     "output_type": "execute_result"
    }
   ],
   "source": [
    "samsung_return = (samsung_price - samsung_price.shift(1))/samsung_price.shift(1)\n",
    "samsung_return"
   ]
  },
  {
   "cell_type": "code",
   "execution_count": 44,
   "id": "092106ba",
   "metadata": {
    "ExecuteTime": {
     "end_time": "2022-01-09T00:32:01.830244Z",
     "start_time": "2022-01-09T00:32:01.816328Z"
    }
   },
   "outputs": [
    {
     "data": {
      "text/plain": [
       "Date\n",
       "2018-01-02         NaN\n",
       "2018-01-03    0.011760\n",
       "2018-01-04   -0.010461\n",
       "2018-01-05    0.020360\n",
       "2018-01-08   -0.001919\n",
       "                ...   \n",
       "2021-12-13   -0.001300\n",
       "2021-12-14    0.002604\n",
       "2021-12-15    0.007792\n",
       "2021-12-16    0.002577\n",
       "2021-12-17    0.002571\n",
       "Name: Close, Length: 977, dtype: float64"
      ]
     },
     "execution_count": 44,
     "metadata": {},
     "output_type": "execute_result"
    }
   ],
   "source": [
    "samsung_price.pct_change()"
   ]
  },
  {
   "cell_type": "code",
   "execution_count": 45,
   "id": "86cf207e",
   "metadata": {
    "ExecuteTime": {
     "end_time": "2022-01-09T00:32:06.178121Z",
     "start_time": "2022-01-09T00:32:06.160018Z"
    }
   },
   "outputs": [
    {
     "data": {
      "text/plain": [
       "0.10470588235294118"
      ]
     },
     "execution_count": 45,
     "metadata": {},
     "output_type": "execute_result"
    }
   ],
   "source": [
    "samsung_return.max()"
   ]
  },
  {
   "cell_type": "code",
   "execution_count": 46,
   "id": "41ca4fea",
   "metadata": {
    "ExecuteTime": {
     "end_time": "2022-01-09T00:32:10.845613Z",
     "start_time": "2022-01-09T00:32:10.835461Z"
    }
   },
   "outputs": [
    {
     "data": {
      "text/plain": [
       "'2020-03-24'"
      ]
     },
     "execution_count": 46,
     "metadata": {},
     "output_type": "execute_result"
    }
   ],
   "source": [
    "samsung_return.index[samsung_return.argmax()]"
   ]
  },
  {
   "cell_type": "markdown",
   "id": "4cf930c0",
   "metadata": {},
   "source": [
    "## Nan값"
   ]
  },
  {
   "cell_type": "code",
   "execution_count": 48,
   "id": "fdd3b4e1",
   "metadata": {
    "ExecuteTime": {
     "end_time": "2022-01-09T00:32:38.370092Z",
     "start_time": "2022-01-09T00:32:38.352949Z"
    }
   },
   "outputs": [
    {
     "data": {
      "text/plain": [
       "Date\n",
       "2018-01-02         NaN\n",
       "2018-01-03    0.011760\n",
       "2018-01-04   -0.010461\n",
       "2018-01-05    0.020360\n",
       "2018-01-08   -0.001919\n",
       "                ...   \n",
       "2021-12-13   -0.001300\n",
       "2021-12-14    0.002604\n",
       "2021-12-15    0.007792\n",
       "2021-12-16    0.002577\n",
       "2021-12-17    0.002571\n",
       "Name: Close, Length: 977, dtype: float64"
      ]
     },
     "execution_count": 48,
     "metadata": {},
     "output_type": "execute_result"
    }
   ],
   "source": [
    "import pandas as pd\n",
    "\n",
    "samsung_price = pd.read_csv('삼성전자 종가.csv', index_col = 0, squeeze = True, header = 0)\n",
    "samsung_price\n",
    "samsung_return = (samsung_price - samsung_price.shift(1))/samsung_price.shift(1)\n",
    "samsung_return"
   ]
  },
  {
   "cell_type": "code",
   "execution_count": 49,
   "id": "c339a2b6",
   "metadata": {
    "ExecuteTime": {
     "end_time": "2022-01-09T00:32:42.462241Z",
     "start_time": "2022-01-09T00:32:42.448161Z"
    }
   },
   "outputs": [
    {
     "data": {
      "text/plain": [
       "Date\n",
       "2018-01-03    0.011760\n",
       "2018-01-04   -0.010461\n",
       "2018-01-05    0.020360\n",
       "2018-01-08   -0.001919\n",
       "2018-01-09   -0.031142\n",
       "                ...   \n",
       "2021-12-13   -0.001300\n",
       "2021-12-14    0.002604\n",
       "2021-12-15    0.007792\n",
       "2021-12-16    0.002577\n",
       "2021-12-17    0.002571\n",
       "Name: Close, Length: 976, dtype: float64"
      ]
     },
     "execution_count": 49,
     "metadata": {},
     "output_type": "execute_result"
    }
   ],
   "source": [
    "samsung_return.dropna()"
   ]
  },
  {
   "cell_type": "code",
   "execution_count": 50,
   "id": "79312ca5",
   "metadata": {
    "ExecuteTime": {
     "end_time": "2022-01-09T00:32:47.721227Z",
     "start_time": "2022-01-09T00:32:47.712125Z"
    }
   },
   "outputs": [
    {
     "data": {
      "text/plain": [
       "Date\n",
       "2018-01-02    0.000000\n",
       "2018-01-03    0.011760\n",
       "2018-01-04   -0.010461\n",
       "2018-01-05    0.020360\n",
       "2018-01-08   -0.001919\n",
       "                ...   \n",
       "2021-12-13   -0.001300\n",
       "2021-12-14    0.002604\n",
       "2021-12-15    0.007792\n",
       "2021-12-16    0.002577\n",
       "2021-12-17    0.002571\n",
       "Name: Close, Length: 977, dtype: float64"
      ]
     },
     "execution_count": 50,
     "metadata": {},
     "output_type": "execute_result"
    }
   ],
   "source": [
    "samsung_return.fillna(0)"
   ]
  },
  {
   "cell_type": "markdown",
   "id": "83faef6f",
   "metadata": {},
   "source": [
    "## 순서대로 정렬"
   ]
  },
  {
   "cell_type": "code",
   "execution_count": 51,
   "id": "e98b8d4c",
   "metadata": {
    "ExecuteTime": {
     "end_time": "2022-01-09T00:33:34.890916Z",
     "start_time": "2022-01-09T00:33:34.880797Z"
    }
   },
   "outputs": [
    {
     "data": {
      "text/plain": [
       "Date\n",
       "2018-01-02         NaN\n",
       "2018-01-03    0.011760\n",
       "2018-01-04   -0.010461\n",
       "2018-01-05    0.020360\n",
       "2018-01-08   -0.001919\n",
       "                ...   \n",
       "2021-12-13   -0.001300\n",
       "2021-12-14    0.002604\n",
       "2021-12-15    0.007792\n",
       "2021-12-16    0.002577\n",
       "2021-12-17    0.002571\n",
       "Name: Close, Length: 977, dtype: float64"
      ]
     },
     "execution_count": 51,
     "metadata": {},
     "output_type": "execute_result"
    }
   ],
   "source": [
    "import pandas as pd\n",
    "\n",
    "samsung_price = pd.read_csv('삼성전자 종가.csv', index_col = 0, squeeze = True, header = 0)\n",
    "samsung_price\n",
    "samsung_return = (samsung_price - samsung_price.shift(1))/samsung_price.shift(1)\n",
    "samsung_return"
   ]
  },
  {
   "cell_type": "code",
   "execution_count": 52,
   "id": "124851bd",
   "metadata": {
    "ExecuteTime": {
     "end_time": "2022-01-09T00:33:40.240519Z",
     "start_time": "2022-01-09T00:33:40.232151Z"
    }
   },
   "outputs": [
    {
     "data": {
      "text/plain": [
       "Date\n",
       "2018-01-02    51020\n",
       "2018-01-03    51620\n",
       "2018-01-04    51080\n",
       "2018-01-05    52120\n",
       "2018-01-08    52020\n",
       "              ...  \n",
       "2021-12-13    76800\n",
       "2021-12-14    77000\n",
       "2021-12-15    77600\n",
       "2021-12-16    77800\n",
       "2021-12-17    78000\n",
       "Name: Close, Length: 977, dtype: int64"
      ]
     },
     "execution_count": 52,
     "metadata": {},
     "output_type": "execute_result"
    }
   ],
   "source": [
    "# index순서대로 정렬\n",
    "samsung_price.sort_index(ascending = True)"
   ]
  },
  {
   "cell_type": "code",
   "execution_count": 53,
   "id": "0e52b076",
   "metadata": {
    "ExecuteTime": {
     "end_time": "2022-01-09T00:33:49.831213Z",
     "start_time": "2022-01-09T00:33:49.815213Z"
    }
   },
   "outputs": [
    {
     "data": {
      "text/plain": [
       "Date\n",
       "2019-01-04    37450\n",
       "2019-01-03    37600\n",
       "2019-01-08    38100\n",
       "2018-12-27    38250\n",
       "2018-12-26    38350\n",
       "              ...  \n",
       "2018-10-25    41000\n",
       "2018-10-26    41000\n",
       "2019-01-15    41100\n",
       "2019-05-17    41200\n",
       "2018-10-29    41400\n",
       "Name: Close, Length: 30, dtype: int64"
      ]
     },
     "execution_count": 53,
     "metadata": {},
     "output_type": "execute_result"
    }
   ],
   "source": [
    "# value순서대로 정렬\n",
    "samsung_price.sort_values(ascending = True).head(30)"
   ]
  },
  {
   "cell_type": "markdown",
   "id": "c75201e7",
   "metadata": {},
   "source": [
    "## Series 조건설정"
   ]
  },
  {
   "cell_type": "code",
   "execution_count": 54,
   "id": "7650244c",
   "metadata": {
    "ExecuteTime": {
     "end_time": "2022-01-09T00:34:11.362051Z",
     "start_time": "2022-01-09T00:34:11.352071Z"
    }
   },
   "outputs": [
    {
     "data": {
      "text/plain": [
       "Date\n",
       "2018-01-02         NaN\n",
       "2018-01-03    1.176009\n",
       "2018-01-04   -1.046106\n",
       "2018-01-05    2.036022\n",
       "2018-01-08   -0.191865\n",
       "                ...   \n",
       "2021-12-13   -0.130039\n",
       "2021-12-14    0.260417\n",
       "2021-12-15    0.779221\n",
       "2021-12-16    0.257732\n",
       "2021-12-17    0.257069\n",
       "Name: Close, Length: 977, dtype: float64"
      ]
     },
     "execution_count": 54,
     "metadata": {},
     "output_type": "execute_result"
    }
   ],
   "source": [
    "import pandas as pd\n",
    "import numpy as np\n",
    "\n",
    "samsung_price = pd.read_csv('삼성전자 종가.csv', index_col = 0, squeeze = True, header = 0)\n",
    "samsung_price\n",
    "samsung_return = (samsung_price - samsung_price.shift(1))/samsung_price.shift(1)\n",
    "samsung_return = samsung_return * 100\n",
    "samsung_return"
   ]
  },
  {
   "cell_type": "code",
   "execution_count": 55,
   "id": "3f14a8d5",
   "metadata": {
    "ExecuteTime": {
     "end_time": "2022-01-09T00:34:16.555135Z",
     "start_time": "2022-01-09T00:34:16.536250Z"
    }
   },
   "outputs": [
    {
     "data": {
      "text/plain": [
       "Date\n",
       "2018-03-06     4.026549\n",
       "2018-09-14     4.086266\n",
       "2018-11-02     4.744958\n",
       "2019-03-21     4.086266\n",
       "2020-03-20     5.704307\n",
       "2020-03-24    10.470588\n",
       "2020-04-17     4.897959\n",
       "2020-06-03     6.031128\n",
       "2020-06-16     4.408818\n",
       "2020-07-28     5.395683\n",
       "2020-11-16     4.905063\n",
       "2020-11-23     4.327666\n",
       "2020-12-24     5.277402\n",
       "2021-01-08     7.117008\n",
       "2021-02-25     4.024390\n",
       "2021-11-22     5.196629\n",
       "2021-12-01     4.347826\n",
       "Name: Close, dtype: float64"
      ]
     },
     "execution_count": 55,
     "metadata": {},
     "output_type": "execute_result"
    }
   ],
   "source": [
    "samsung_return[samsung_return.values >= 4]"
   ]
  },
  {
   "cell_type": "code",
   "execution_count": 56,
   "id": "5c273cc3",
   "metadata": {
    "ExecuteTime": {
     "end_time": "2022-01-09T00:34:21.624008Z",
     "start_time": "2022-01-09T00:34:21.617008Z"
    }
   },
   "outputs": [
    {
     "data": {
      "text/plain": [
       "'Over 4%'"
      ]
     },
     "execution_count": 56,
     "metadata": {},
     "output_type": "execute_result"
    }
   ],
   "source": [
    "np.where(samsung_return.values >= 4, 1, 0)\n",
    "\n",
    "samsung_return_over_4 = pd.Series(np.where(samsung_return.values >= 4, \"Over 4%\", \"Under\"))\n",
    "samsung_return_over_4.index = samsung_return.index\n",
    "samsung_return_over_4.loc['2020-06-16']"
   ]
  },
  {
   "cell_type": "markdown",
   "id": "1d9502e2",
   "metadata": {},
   "source": [
    "## Series값의 구간을 나눠보자\n"
   ]
  },
  {
   "cell_type": "code",
   "execution_count": 57,
   "id": "497b528a",
   "metadata": {
    "ExecuteTime": {
     "end_time": "2022-01-09T00:34:38.713554Z",
     "start_time": "2022-01-09T00:34:38.704119Z"
    }
   },
   "outputs": [
    {
     "data": {
      "text/plain": [
       "Date\n",
       "2018-01-02         NaN\n",
       "2018-01-03    0.011760\n",
       "2018-01-04   -0.010461\n",
       "2018-01-05    0.020360\n",
       "2018-01-08   -0.001919\n",
       "                ...   \n",
       "2021-12-13   -0.001300\n",
       "2021-12-14    0.002604\n",
       "2021-12-15    0.007792\n",
       "2021-12-16    0.002577\n",
       "2021-12-17    0.002571\n",
       "Name: Close, Length: 977, dtype: float64"
      ]
     },
     "execution_count": 57,
     "metadata": {},
     "output_type": "execute_result"
    }
   ],
   "source": [
    "import pandas as pd\n",
    "import numpy as np\n",
    "\n",
    "samsung_price = pd.read_csv('삼성전자 종가.csv', index_col = 0, squeeze = True, header = 0)\n",
    "samsung_price\n",
    "samsung_return = (samsung_price - samsung_price.shift(1))/samsung_price.shift(1)\n",
    "samsung_return"
   ]
  },
  {
   "cell_type": "code",
   "execution_count": 58,
   "id": "5e8f0e88",
   "metadata": {
    "ExecuteTime": {
     "end_time": "2022-01-09T00:34:47.906629Z",
     "start_time": "2022-01-09T00:34:47.888054Z"
    }
   },
   "outputs": [
    {
     "data": {
      "text/plain": [
       "(-0.0133, 0.00356]    414\n",
       "(0.00356, 0.0204]     298\n",
       "(-0.0302, -0.0133]    137\n",
       "(0.0204, 0.0373]       70\n",
       "(-0.047, -0.0302]      31\n",
       "(0.0373, 0.0541]       19\n",
       "(-0.064, -0.047]        3\n",
       "(0.0541, 0.071]         2\n",
       "(0.071, 0.0878]         1\n",
       "(0.0878, 0.105]         1\n",
       "Name: Close, dtype: int64"
      ]
     },
     "execution_count": 58,
     "metadata": {},
     "output_type": "execute_result"
    }
   ],
   "source": [
    "# pd.cut()\n",
    "pd.cut(samsung_return, bins=10)\n",
    "pd.cut(samsung_return, bins=10).value_counts()"
   ]
  },
  {
   "cell_type": "code",
   "execution_count": 59,
   "id": "c32a1336",
   "metadata": {
    "ExecuteTime": {
     "end_time": "2022-01-09T00:34:53.911267Z",
     "start_time": "2022-01-09T00:34:53.888042Z"
    }
   },
   "outputs": [
    {
     "data": {
      "text/plain": [
       "(-0.00332, 0.0]         108\n",
       "(-0.0649, -0.0194]       98\n",
       "(-0.0194, -0.0116]       98\n",
       "(-0.00702, -0.00332]     98\n",
       "(0.00753, 0.0122]        98\n",
       "(0.02, 0.105]            98\n",
       "(-0.0116, -0.00702]      97\n",
       "(0.00358, 0.00753]       97\n",
       "(0.0122, 0.02]           97\n",
       "(0.0, 0.00358]           87\n",
       "Name: Close, dtype: int64"
      ]
     },
     "execution_count": 59,
     "metadata": {},
     "output_type": "execute_result"
    }
   ],
   "source": [
    "#pd.qcut()\n",
    "pd.qcut(samsung_return, 10)\n",
    "pd.qcut(samsung_return, 10).value_counts()"
   ]
  },
  {
   "cell_type": "markdown",
   "id": "1d56cb3a",
   "metadata": {},
   "source": [
    "## Series rolling"
   ]
  },
  {
   "cell_type": "code",
   "execution_count": 60,
   "id": "91bd3f5b",
   "metadata": {
    "ExecuteTime": {
     "end_time": "2022-01-09T00:35:10.648246Z",
     "start_time": "2022-01-09T00:35:10.632085Z"
    }
   },
   "outputs": [
    {
     "data": {
      "text/plain": [
       "Date\n",
       "2018-01-02    51020\n",
       "2018-01-03    51620\n",
       "2018-01-04    51080\n",
       "2018-01-05    52120\n",
       "2018-01-08    52020\n",
       "              ...  \n",
       "2021-12-13    76800\n",
       "2021-12-14    77000\n",
       "2021-12-15    77600\n",
       "2021-12-16    77800\n",
       "2021-12-17    78000\n",
       "Name: Close, Length: 977, dtype: int64"
      ]
     },
     "execution_count": 60,
     "metadata": {},
     "output_type": "execute_result"
    }
   ],
   "source": [
    "import pandas as pd\n",
    "import numpy as np\n",
    "\n",
    "samsung_price = pd.read_csv('삼성전자 종가.csv', index_col = 0, squeeze = True, header = 0)\n",
    "samsung_price\n",
    "samsung_return = (samsung_price - samsung_price.shift(1))/samsung_price.shift(1)\n",
    "samsung_return = samsung_return * 100\n",
    "samsung_price"
   ]
  },
  {
   "cell_type": "code",
   "execution_count": 61,
   "id": "48140e64",
   "metadata": {
    "ExecuteTime": {
     "end_time": "2022-01-09T00:35:15.320298Z",
     "start_time": "2022-01-09T00:35:15.136868Z"
    }
   },
   "outputs": [
    {
     "data": {
      "text/plain": [
       "<AxesSubplot:xlabel='Date'>"
      ]
     },
     "execution_count": 61,
     "metadata": {},
     "output_type": "execute_result"
    },
    {
     "data": {
      "image/png": "[encoded data removed]",
      "text/plain": [
       "<Figure size 432x288 with 1 Axes>"
      ]
     },
     "metadata": {},
     "output_type": "display_data"
    }
   ],
   "source": [
    "samsung_price.rolling(window = 30).mean().plot()"
   ]
  },
  {
   "cell_type": "markdown",
   "id": "3d899f71",
   "metadata": {},
   "source": [
    "## 크기가 다른 두 Series"
   ]
  },
  {
   "cell_type": "code",
   "execution_count": 63,
   "id": "daf3031e",
   "metadata": {
    "ExecuteTime": {
     "end_time": "2022-01-09T00:36:17.903042Z",
     "start_time": "2022-01-09T00:36:17.882184Z"
    }
   },
   "outputs": [
    {
     "data": {
      "text/plain": [
       "Date\n",
       "2020-01-02    2175.17\n",
       "2020-01-03    2176.46\n",
       "2020-01-06    2155.07\n",
       "2020-01-07    2175.54\n",
       "2020-01-08    2151.31\n",
       "               ...   \n",
       "2021-12-13    3001.66\n",
       "2021-12-14    2987.95\n",
       "2021-12-15    2989.39\n",
       "2021-12-16    3006.41\n",
       "2021-12-17    3017.73\n",
       "Name: Close, Length: 477, dtype: float64"
      ]
     },
     "execution_count": 63,
     "metadata": {},
     "output_type": "execute_result"
    }
   ],
   "source": [
    "import pandas as pd\n",
    "import numpy as np\n",
    "\n",
    "samsung = pd.read_csv('삼성전자 종가.csv', index_col = 0, squeeze = True, header = 0)\n",
    "samsung\n",
    "\n",
    "kospi = pd.read_csv(\"KOSPI.csv\", index_col = 0, squeeze = True, header = 0)\n",
    "kospi"
   ]
  },
  {
   "cell_type": "code",
   "execution_count": 64,
   "id": "f791f1d2",
   "metadata": {
    "ExecuteTime": {
     "end_time": "2022-01-09T00:36:24.405074Z",
     "start_time": "2022-01-09T00:36:24.391995Z"
    }
   },
   "outputs": [
    {
     "name": "stdout",
     "output_type": "stream",
     "text": [
      "(487,)\n"
     ]
    }
   ],
   "source": [
    "#print(samsung.shape)\n",
    "samsung\n",
    "samsung = samsung.loc['2020-01-02':]\n",
    "samsung\n",
    "print(samsung.shape)"
   ]
  },
  {
   "cell_type": "code",
   "execution_count": 65,
   "id": "8387c2ef",
   "metadata": {
    "ExecuteTime": {
     "end_time": "2022-01-09T00:36:28.303593Z",
     "start_time": "2022-01-09T00:36:28.296438Z"
    }
   },
   "outputs": [
    {
     "name": "stdout",
     "output_type": "stream",
     "text": [
      "(477,)\n"
     ]
    },
    {
     "data": {
      "text/plain": [
       "Date\n",
       "2020-01-02    2175.17\n",
       "2020-01-03    2176.46\n",
       "2020-01-06    2155.07\n",
       "2020-01-07    2175.54\n",
       "2020-01-08    2151.31\n",
       "               ...   \n",
       "2021-12-13    3001.66\n",
       "2021-12-14    2987.95\n",
       "2021-12-15    2989.39\n",
       "2021-12-16    3006.41\n",
       "2021-12-17    3017.73\n",
       "Name: Close, Length: 477, dtype: float64"
      ]
     },
     "execution_count": 65,
     "metadata": {},
     "output_type": "execute_result"
    }
   ],
   "source": [
    "print(kospi.shape)\n",
    "kospi"
   ]
  },
  {
   "cell_type": "code",
   "execution_count": 66,
   "id": "26511fc8",
   "metadata": {
    "ExecuteTime": {
     "end_time": "2022-01-09T00:36:33.333724Z",
     "start_time": "2022-01-09T00:36:33.328173Z"
    }
   },
   "outputs": [
    {
     "data": {
      "text/plain": [
       "(477,)"
      ]
     },
     "execution_count": 66,
     "metadata": {},
     "output_type": "execute_result"
    }
   ],
   "source": [
    "samsung_re = samsung.loc[kospi.index]\n",
    "samsung_re.shape"
   ]
  },
  {
   "cell_type": "code",
   "execution_count": 67,
   "id": "800eb7bc",
   "metadata": {
    "ExecuteTime": {
     "end_time": "2022-01-09T00:36:37.097111Z",
     "start_time": "2022-01-09T00:36:37.083831Z"
    }
   },
   "outputs": [
    {
     "data": {
      "text/plain": [
       "0.95839711328083"
      ]
     },
     "execution_count": 67,
     "metadata": {},
     "output_type": "execute_result"
    }
   ],
   "source": [
    "samsung_re.corr(kospi)"
   ]
  },
  {
   "cell_type": "code",
   "execution_count": 68,
   "id": "003cbf88",
   "metadata": {
    "ExecuteTime": {
     "end_time": "2022-01-09T00:36:41.185258Z",
     "start_time": "2022-01-09T00:36:41.175988Z"
    }
   },
   "outputs": [
    {
     "data": {
      "text/plain": [
       "0.95839711328083"
      ]
     },
     "execution_count": 68,
     "metadata": {},
     "output_type": "execute_result"
    }
   ],
   "source": [
    "samsung.corr(kospi)"
   ]
  },
  {
   "cell_type": "code",
   "execution_count": 69,
   "id": "747340b2",
   "metadata": {
    "ExecuteTime": {
     "end_time": "2022-01-09T00:36:44.892105Z",
     "start_time": "2022-01-09T00:36:44.880989Z"
    }
   },
   "outputs": [
    {
     "data": {
      "text/plain": [
       "array([[1.        , 0.95839711],\n",
       "       [0.95839711, 1.        ]])"
      ]
     },
     "execution_count": 69,
     "metadata": {},
     "output_type": "execute_result"
    }
   ],
   "source": [
    "np.corrcoef(samsung_re,kospi)"
   ]
  },
  {
   "cell_type": "code",
   "execution_count": 72,
   "id": "ee4ba367",
   "metadata": {
    "ExecuteTime": {
     "end_time": "2022-01-09T00:37:12.456885Z",
     "start_time": "2022-01-09T00:37:12.432049Z"
    }
   },
   "outputs": [
    {
     "ename": "ValueError",
     "evalue": "all the input array dimensions for the concatenation axis must match exactly, but along dimension 1, the array at index 0 has size 487 and the array at index 1 has size 477",
     "output_type": "error",
     "traceback": [
      "\u001b[1;31m---------------------------------------------------------------------------\u001b[0m",
      "\u001b[1;31mValueError\u001b[0m                                Traceback (most recent call last)",
      "\u001b[1;32m~\\AppData\\Local\\Temp/ipykernel_29992/1021135910.py\u001b[0m in \u001b[0;36m<module>\u001b[1;34m\u001b[0m\n\u001b[1;32m----> 1\u001b[1;33m \u001b[0mnp\u001b[0m\u001b[1;33m.\u001b[0m\u001b[0mcorrcoef\u001b[0m\u001b[1;33m(\u001b[0m\u001b[0msamsung\u001b[0m\u001b[1;33m,\u001b[0m \u001b[0mkospi\u001b[0m\u001b[1;33m)\u001b[0m\u001b[1;33m\u001b[0m\u001b[1;33m\u001b[0m\u001b[0m\n\u001b[0m",
      "\u001b[1;32m<__array_function__ internals>\u001b[0m in \u001b[0;36mcorrcoef\u001b[1;34m(*args, **kwargs)\u001b[0m\n",
      "\u001b[1;32m~\\anaconda3\\lib\\site-packages\\numpy\\lib\\function_base.py\u001b[0m in \u001b[0;36mcorrcoef\u001b[1;34m(x, y, rowvar, bias, ddof, dtype)\u001b[0m\n\u001b[0;32m   2632\u001b[0m         warnings.warn('bias and ddof have no effect and are deprecated',\n\u001b[0;32m   2633\u001b[0m                       DeprecationWarning, stacklevel=3)\n\u001b[1;32m-> 2634\u001b[1;33m     \u001b[0mc\u001b[0m \u001b[1;33m=\u001b[0m \u001b[0mcov\u001b[0m\u001b[1;33m(\u001b[0m\u001b[0mx\u001b[0m\u001b[1;33m,\u001b[0m \u001b[0my\u001b[0m\u001b[1;33m,\u001b[0m \u001b[0mrowvar\u001b[0m\u001b[1;33m,\u001b[0m \u001b[0mdtype\u001b[0m\u001b[1;33m=\u001b[0m\u001b[0mdtype\u001b[0m\u001b[1;33m)\u001b[0m\u001b[1;33m\u001b[0m\u001b[1;33m\u001b[0m\u001b[0m\n\u001b[0m\u001b[0;32m   2635\u001b[0m     \u001b[1;32mtry\u001b[0m\u001b[1;33m:\u001b[0m\u001b[1;33m\u001b[0m\u001b[1;33m\u001b[0m\u001b[0m\n\u001b[0;32m   2636\u001b[0m         \u001b[0md\u001b[0m \u001b[1;33m=\u001b[0m \u001b[0mdiag\u001b[0m\u001b[1;33m(\u001b[0m\u001b[0mc\u001b[0m\u001b[1;33m)\u001b[0m\u001b[1;33m\u001b[0m\u001b[1;33m\u001b[0m\u001b[0m\n",
      "\u001b[1;32m<__array_function__ internals>\u001b[0m in \u001b[0;36mcov\u001b[1;34m(*args, **kwargs)\u001b[0m\n",
      "\u001b[1;32m~\\anaconda3\\lib\\site-packages\\numpy\\lib\\function_base.py\u001b[0m in \u001b[0;36mcov\u001b[1;34m(m, y, rowvar, bias, ddof, fweights, aweights, dtype)\u001b[0m\n\u001b[0;32m   2426\u001b[0m         \u001b[1;32mif\u001b[0m \u001b[1;32mnot\u001b[0m \u001b[0mrowvar\u001b[0m \u001b[1;32mand\u001b[0m \u001b[0my\u001b[0m\u001b[1;33m.\u001b[0m\u001b[0mshape\u001b[0m\u001b[1;33m[\u001b[0m\u001b[1;36m0\u001b[0m\u001b[1;33m]\u001b[0m \u001b[1;33m!=\u001b[0m \u001b[1;36m1\u001b[0m\u001b[1;33m:\u001b[0m\u001b[1;33m\u001b[0m\u001b[1;33m\u001b[0m\u001b[0m\n\u001b[0;32m   2427\u001b[0m             \u001b[0my\u001b[0m \u001b[1;33m=\u001b[0m \u001b[0my\u001b[0m\u001b[1;33m.\u001b[0m\u001b[0mT\u001b[0m\u001b[1;33m\u001b[0m\u001b[1;33m\u001b[0m\u001b[0m\n\u001b[1;32m-> 2428\u001b[1;33m         \u001b[0mX\u001b[0m \u001b[1;33m=\u001b[0m \u001b[0mnp\u001b[0m\u001b[1;33m.\u001b[0m\u001b[0mconcatenate\u001b[0m\u001b[1;33m(\u001b[0m\u001b[1;33m(\u001b[0m\u001b[0mX\u001b[0m\u001b[1;33m,\u001b[0m \u001b[0my\u001b[0m\u001b[1;33m)\u001b[0m\u001b[1;33m,\u001b[0m \u001b[0maxis\u001b[0m\u001b[1;33m=\u001b[0m\u001b[1;36m0\u001b[0m\u001b[1;33m)\u001b[0m\u001b[1;33m\u001b[0m\u001b[1;33m\u001b[0m\u001b[0m\n\u001b[0m\u001b[0;32m   2429\u001b[0m \u001b[1;33m\u001b[0m\u001b[0m\n\u001b[0;32m   2430\u001b[0m     \u001b[1;32mif\u001b[0m \u001b[0mddof\u001b[0m \u001b[1;32mis\u001b[0m \u001b[1;32mNone\u001b[0m\u001b[1;33m:\u001b[0m\u001b[1;33m\u001b[0m\u001b[1;33m\u001b[0m\u001b[0m\n",
      "\u001b[1;32m<__array_function__ internals>\u001b[0m in \u001b[0;36mconcatenate\u001b[1;34m(*args, **kwargs)\u001b[0m\n",
      "\u001b[1;31mValueError\u001b[0m: all the input array dimensions for the concatenation axis must match exactly, but along dimension 1, the array at index 0 has size 487 and the array at index 1 has size 477"
     ]
    }
   ],
   "source": [
    "np.corrcoef(samsung, kospi)"
   ]
  },
  {
   "cell_type": "code",
   "execution_count": 73,
   "id": "5fefd530",
   "metadata": {
    "ExecuteTime": {
     "end_time": "2022-01-09T00:37:17.769200Z",
     "start_time": "2022-01-09T00:37:17.760777Z"
    }
   },
   "outputs": [
    {
     "data": {
      "text/plain": [
       "Date\n",
       "2020-01-02    2175.17\n",
       "2020-01-03    2176.46\n",
       "2020-01-06    2155.07\n",
       "2020-01-07    2175.54\n",
       "2020-01-08    2151.31\n",
       "               ...   \n",
       "2021-12-14    2987.95\n",
       "2021-12-15    2989.39\n",
       "2021-12-16    3006.41\n",
       "2021-12-17    3017.73\n",
       "2021-12-18    2986.45\n",
       "Name: Close, Length: 478, dtype: float64"
      ]
     },
     "execution_count": 73,
     "metadata": {},
     "output_type": "execute_result"
    }
   ],
   "source": [
    "kospi.loc['2021-12-18']=2986.45\n",
    "kospi"
   ]
  },
  {
   "cell_type": "code",
   "execution_count": 74,
   "id": "50230229",
   "metadata": {
    "ExecuteTime": {
     "end_time": "2022-01-09T00:37:23.310255Z",
     "start_time": "2022-01-09T00:37:23.280368Z"
    }
   },
   "outputs": [
    {
     "ename": "KeyError",
     "evalue": "\"['2021-12-18'] not in index\"",
     "output_type": "error",
     "traceback": [
      "\u001b[1;31m---------------------------------------------------------------------------\u001b[0m",
      "\u001b[1;31mKeyError\u001b[0m                                  Traceback (most recent call last)",
      "\u001b[1;32m~\\AppData\\Local\\Temp/ipykernel_29992/2317409612.py\u001b[0m in \u001b[0;36m<module>\u001b[1;34m\u001b[0m\n\u001b[1;32m----> 1\u001b[1;33m \u001b[0msamsung\u001b[0m\u001b[1;33m.\u001b[0m\u001b[0mloc\u001b[0m\u001b[1;33m[\u001b[0m\u001b[0mkospi\u001b[0m\u001b[1;33m.\u001b[0m\u001b[0mindex\u001b[0m\u001b[1;33m]\u001b[0m\u001b[1;33m\u001b[0m\u001b[1;33m\u001b[0m\u001b[0m\n\u001b[0m",
      "\u001b[1;32m~\\anaconda3\\lib\\site-packages\\pandas\\core\\indexing.py\u001b[0m in \u001b[0;36m__getitem__\u001b[1;34m(self, key)\u001b[0m\n\u001b[0;32m    929\u001b[0m \u001b[1;33m\u001b[0m\u001b[0m\n\u001b[0;32m    930\u001b[0m             \u001b[0mmaybe_callable\u001b[0m \u001b[1;33m=\u001b[0m \u001b[0mcom\u001b[0m\u001b[1;33m.\u001b[0m\u001b[0mapply_if_callable\u001b[0m\u001b[1;33m(\u001b[0m\u001b[0mkey\u001b[0m\u001b[1;33m,\u001b[0m \u001b[0mself\u001b[0m\u001b[1;33m.\u001b[0m\u001b[0mobj\u001b[0m\u001b[1;33m)\u001b[0m\u001b[1;33m\u001b[0m\u001b[1;33m\u001b[0m\u001b[0m\n\u001b[1;32m--> 931\u001b[1;33m             \u001b[1;32mreturn\u001b[0m \u001b[0mself\u001b[0m\u001b[1;33m.\u001b[0m\u001b[0m_getitem_axis\u001b[0m\u001b[1;33m(\u001b[0m\u001b[0mmaybe_callable\u001b[0m\u001b[1;33m,\u001b[0m \u001b[0maxis\u001b[0m\u001b[1;33m=\u001b[0m\u001b[0maxis\u001b[0m\u001b[1;33m)\u001b[0m\u001b[1;33m\u001b[0m\u001b[1;33m\u001b[0m\u001b[0m\n\u001b[0m\u001b[0;32m    932\u001b[0m \u001b[1;33m\u001b[0m\u001b[0m\n\u001b[0;32m    933\u001b[0m     \u001b[1;32mdef\u001b[0m \u001b[0m_is_scalar_access\u001b[0m\u001b[1;33m(\u001b[0m\u001b[0mself\u001b[0m\u001b[1;33m,\u001b[0m \u001b[0mkey\u001b[0m\u001b[1;33m:\u001b[0m \u001b[0mtuple\u001b[0m\u001b[1;33m)\u001b[0m\u001b[1;33m:\u001b[0m\u001b[1;33m\u001b[0m\u001b[1;33m\u001b[0m\u001b[0m\n",
      "\u001b[1;32m~\\anaconda3\\lib\\site-packages\\pandas\\core\\indexing.py\u001b[0m in \u001b[0;36m_getitem_axis\u001b[1;34m(self, key, axis)\u001b[0m\n\u001b[0;32m   1151\u001b[0m                     \u001b[1;32mraise\u001b[0m \u001b[0mValueError\u001b[0m\u001b[1;33m(\u001b[0m\u001b[1;34m\"Cannot index with multidimensional key\"\u001b[0m\u001b[1;33m)\u001b[0m\u001b[1;33m\u001b[0m\u001b[1;33m\u001b[0m\u001b[0m\n\u001b[0;32m   1152\u001b[0m \u001b[1;33m\u001b[0m\u001b[0m\n\u001b[1;32m-> 1153\u001b[1;33m                 \u001b[1;32mreturn\u001b[0m \u001b[0mself\u001b[0m\u001b[1;33m.\u001b[0m\u001b[0m_getitem_iterable\u001b[0m\u001b[1;33m(\u001b[0m\u001b[0mkey\u001b[0m\u001b[1;33m,\u001b[0m \u001b[0maxis\u001b[0m\u001b[1;33m=\u001b[0m\u001b[0maxis\u001b[0m\u001b[1;33m)\u001b[0m\u001b[1;33m\u001b[0m\u001b[1;33m\u001b[0m\u001b[0m\n\u001b[0m\u001b[0;32m   1154\u001b[0m \u001b[1;33m\u001b[0m\u001b[0m\n\u001b[0;32m   1155\u001b[0m             \u001b[1;31m# nested tuple slicing\u001b[0m\u001b[1;33m\u001b[0m\u001b[1;33m\u001b[0m\u001b[0m\n",
      "\u001b[1;32m~\\anaconda3\\lib\\site-packages\\pandas\\core\\indexing.py\u001b[0m in \u001b[0;36m_getitem_iterable\u001b[1;34m(self, key, axis)\u001b[0m\n\u001b[0;32m   1091\u001b[0m \u001b[1;33m\u001b[0m\u001b[0m\n\u001b[0;32m   1092\u001b[0m         \u001b[1;31m# A collection of keys\u001b[0m\u001b[1;33m\u001b[0m\u001b[1;33m\u001b[0m\u001b[0m\n\u001b[1;32m-> 1093\u001b[1;33m         \u001b[0mkeyarr\u001b[0m\u001b[1;33m,\u001b[0m \u001b[0mindexer\u001b[0m \u001b[1;33m=\u001b[0m \u001b[0mself\u001b[0m\u001b[1;33m.\u001b[0m\u001b[0m_get_listlike_indexer\u001b[0m\u001b[1;33m(\u001b[0m\u001b[0mkey\u001b[0m\u001b[1;33m,\u001b[0m \u001b[0maxis\u001b[0m\u001b[1;33m)\u001b[0m\u001b[1;33m\u001b[0m\u001b[1;33m\u001b[0m\u001b[0m\n\u001b[0m\u001b[0;32m   1094\u001b[0m         return self.obj._reindex_with_indexers(\n\u001b[0;32m   1095\u001b[0m             \u001b[1;33m{\u001b[0m\u001b[0maxis\u001b[0m\u001b[1;33m:\u001b[0m \u001b[1;33m[\u001b[0m\u001b[0mkeyarr\u001b[0m\u001b[1;33m,\u001b[0m \u001b[0mindexer\u001b[0m\u001b[1;33m]\u001b[0m\u001b[1;33m}\u001b[0m\u001b[1;33m,\u001b[0m \u001b[0mcopy\u001b[0m\u001b[1;33m=\u001b[0m\u001b[1;32mTrue\u001b[0m\u001b[1;33m,\u001b[0m \u001b[0mallow_dups\u001b[0m\u001b[1;33m=\u001b[0m\u001b[1;32mTrue\u001b[0m\u001b[1;33m\u001b[0m\u001b[1;33m\u001b[0m\u001b[0m\n",
      "\u001b[1;32m~\\anaconda3\\lib\\site-packages\\pandas\\core\\indexing.py\u001b[0m in \u001b[0;36m_get_listlike_indexer\u001b[1;34m(self, key, axis)\u001b[0m\n\u001b[0;32m   1312\u001b[0m             \u001b[0mkeyarr\u001b[0m\u001b[1;33m,\u001b[0m \u001b[0mindexer\u001b[0m\u001b[1;33m,\u001b[0m \u001b[0mnew_indexer\u001b[0m \u001b[1;33m=\u001b[0m \u001b[0max\u001b[0m\u001b[1;33m.\u001b[0m\u001b[0m_reindex_non_unique\u001b[0m\u001b[1;33m(\u001b[0m\u001b[0mkeyarr\u001b[0m\u001b[1;33m)\u001b[0m\u001b[1;33m\u001b[0m\u001b[1;33m\u001b[0m\u001b[0m\n\u001b[0;32m   1313\u001b[0m \u001b[1;33m\u001b[0m\u001b[0m\n\u001b[1;32m-> 1314\u001b[1;33m         \u001b[0mself\u001b[0m\u001b[1;33m.\u001b[0m\u001b[0m_validate_read_indexer\u001b[0m\u001b[1;33m(\u001b[0m\u001b[0mkeyarr\u001b[0m\u001b[1;33m,\u001b[0m \u001b[0mindexer\u001b[0m\u001b[1;33m,\u001b[0m \u001b[0maxis\u001b[0m\u001b[1;33m)\u001b[0m\u001b[1;33m\u001b[0m\u001b[1;33m\u001b[0m\u001b[0m\n\u001b[0m\u001b[0;32m   1315\u001b[0m \u001b[1;33m\u001b[0m\u001b[0m\n\u001b[0;32m   1316\u001b[0m         if needs_i8_conversion(ax.dtype) or isinstance(\n",
      "\u001b[1;32m~\\anaconda3\\lib\\site-packages\\pandas\\core\\indexing.py\u001b[0m in \u001b[0;36m_validate_read_indexer\u001b[1;34m(self, key, indexer, axis)\u001b[0m\n\u001b[0;32m   1375\u001b[0m \u001b[1;33m\u001b[0m\u001b[0m\n\u001b[0;32m   1376\u001b[0m             \u001b[0mnot_found\u001b[0m \u001b[1;33m=\u001b[0m \u001b[0mlist\u001b[0m\u001b[1;33m(\u001b[0m\u001b[0mensure_index\u001b[0m\u001b[1;33m(\u001b[0m\u001b[0mkey\u001b[0m\u001b[1;33m)\u001b[0m\u001b[1;33m[\u001b[0m\u001b[0mmissing_mask\u001b[0m\u001b[1;33m.\u001b[0m\u001b[0mnonzero\u001b[0m\u001b[1;33m(\u001b[0m\u001b[1;33m)\u001b[0m\u001b[1;33m[\u001b[0m\u001b[1;36m0\u001b[0m\u001b[1;33m]\u001b[0m\u001b[1;33m]\u001b[0m\u001b[1;33m.\u001b[0m\u001b[0munique\u001b[0m\u001b[1;33m(\u001b[0m\u001b[1;33m)\u001b[0m\u001b[1;33m)\u001b[0m\u001b[1;33m\u001b[0m\u001b[1;33m\u001b[0m\u001b[0m\n\u001b[1;32m-> 1377\u001b[1;33m             \u001b[1;32mraise\u001b[0m \u001b[0mKeyError\u001b[0m\u001b[1;33m(\u001b[0m\u001b[1;34mf\"{not_found} not in index\"\u001b[0m\u001b[1;33m)\u001b[0m\u001b[1;33m\u001b[0m\u001b[1;33m\u001b[0m\u001b[0m\n\u001b[0m\u001b[0;32m   1378\u001b[0m \u001b[1;33m\u001b[0m\u001b[0m\n\u001b[0;32m   1379\u001b[0m \u001b[1;33m\u001b[0m\u001b[0m\n",
      "\u001b[1;31mKeyError\u001b[0m: \"['2021-12-18'] not in index\""
     ]
    }
   ],
   "source": [
    "samsung.loc[kospi.index]"
   ]
  },
  {
   "cell_type": "markdown",
   "id": "e9117368",
   "metadata": {},
   "source": [
    "# About DataFrame"
   ]
  },
  {
   "cell_type": "markdown",
   "id": "86291763",
   "metadata": {
    "ExecuteTime": {
     "end_time": "2022-01-09T00:42:19.433777Z",
     "start_time": "2022-01-09T00:42:19.416864Z"
    }
   },
   "source": [
    "## DataFrame만들기"
   ]
  },
  {
   "cell_type": "code",
   "execution_count": 76,
   "id": "602dead6",
   "metadata": {
    "ExecuteTime": {
     "end_time": "2022-01-09T00:42:29.709061Z",
     "start_time": "2022-01-09T00:42:29.695907Z"
    }
   },
   "outputs": [],
   "source": [
    "import pandas as pd"
   ]
  },
  {
   "cell_type": "code",
   "execution_count": 77,
   "id": "069b68cb",
   "metadata": {
    "ExecuteTime": {
     "end_time": "2022-01-09T00:42:34.330123Z",
     "start_time": "2022-01-09T00:42:34.307195Z"
    }
   },
   "outputs": [
    {
     "data": {
      "text/html": [
       "<div>\n",
       "<style scoped>\n",
       "    .dataframe tbody tr th:only-of-type {\n",
       "        vertical-align: middle;\n",
       "    }\n",
       "\n",
       "    .dataframe tbody tr th {\n",
       "        vertical-align: top;\n",
       "    }\n",
       "\n",
       "    .dataframe thead th {\n",
       "        text-align: right;\n",
       "    }\n",
       "</style>\n",
       "<table border=\"1\" class=\"dataframe\">\n",
       "  <thead>\n",
       "    <tr style=\"text-align: right;\">\n",
       "      <th></th>\n",
       "      <th>성적</th>\n",
       "    </tr>\n",
       "  </thead>\n",
       "  <tbody>\n",
       "    <tr>\n",
       "      <th>영수</th>\n",
       "      <td>a</td>\n",
       "    </tr>\n",
       "    <tr>\n",
       "      <th>영철</th>\n",
       "      <td>b</td>\n",
       "    </tr>\n",
       "    <tr>\n",
       "      <th>영자</th>\n",
       "      <td>c</td>\n",
       "    </tr>\n",
       "    <tr>\n",
       "      <th>영희</th>\n",
       "      <td>d</td>\n",
       "    </tr>\n",
       "    <tr>\n",
       "      <th>영삼</th>\n",
       "      <td>e</td>\n",
       "    </tr>\n",
       "  </tbody>\n",
       "</table>\n",
       "</div>"
      ],
      "text/plain": [
       "   성적\n",
       "영수  a\n",
       "영철  b\n",
       "영자  c\n",
       "영희  d\n",
       "영삼  e"
      ]
     },
     "execution_count": 77,
     "metadata": {},
     "output_type": "execute_result"
    }
   ],
   "source": [
    "ls = [\"a\", \"b\", \"c\", \"d\", \"e\"]\n",
    "\n",
    "ls_df = pd.DataFrame(ls, index=['영수','영철','영자','영희','영삼'], columns=[\"성적\"])\n",
    "ls_df\n",
    "\n",
    "ls_df = pd.DataFrame(ls)\n",
    "ls_df.index = ['영수','영철','영자','영희','영삼']\n",
    "ls_df.columns = [\"성적\"]\n",
    "ls_df"
   ]
  },
  {
   "cell_type": "code",
   "execution_count": 78,
   "id": "64155c57",
   "metadata": {
    "ExecuteTime": {
     "end_time": "2022-01-09T00:42:39.795933Z",
     "start_time": "2022-01-09T00:42:39.776819Z"
    }
   },
   "outputs": [
    {
     "data": {
      "text/html": [
       "<div>\n",
       "<style scoped>\n",
       "    .dataframe tbody tr th:only-of-type {\n",
       "        vertical-align: middle;\n",
       "    }\n",
       "\n",
       "    .dataframe tbody tr th {\n",
       "        vertical-align: top;\n",
       "    }\n",
       "\n",
       "    .dataframe thead th {\n",
       "        text-align: right;\n",
       "    }\n",
       "</style>\n",
       "<table border=\"1\" class=\"dataframe\">\n",
       "  <thead>\n",
       "    <tr style=\"text-align: right;\">\n",
       "      <th></th>\n",
       "      <th>성적</th>\n",
       "    </tr>\n",
       "  </thead>\n",
       "  <tbody>\n",
       "    <tr>\n",
       "      <th>영수</th>\n",
       "      <td>101</td>\n",
       "    </tr>\n",
       "    <tr>\n",
       "      <th>영철</th>\n",
       "      <td>102</td>\n",
       "    </tr>\n",
       "    <tr>\n",
       "      <th>영삼</th>\n",
       "      <td>103</td>\n",
       "    </tr>\n",
       "    <tr>\n",
       "      <th>영자</th>\n",
       "      <td>104</td>\n",
       "    </tr>\n",
       "    <tr>\n",
       "      <th>영호</th>\n",
       "      <td>105</td>\n",
       "    </tr>\n",
       "  </tbody>\n",
       "</table>\n",
       "</div>"
      ],
      "text/plain": [
       "     성적\n",
       "영수  101\n",
       "영철  102\n",
       "영삼  103\n",
       "영자  104\n",
       "영호  105"
      ]
     },
     "execution_count": 78,
     "metadata": {},
     "output_type": "execute_result"
    }
   ],
   "source": [
    "dic = {\"영수\": 101, \"영철\": 102, \"영삼\": 103, \"영자\": 104, \"영호\": 105}\n",
    "\n",
    "dic_df = pd.DataFrame(dic, index = [0])\n",
    "dic_df\n",
    "\n",
    "dic_df = pd.DataFrame(dic.values())\n",
    "dic_df.index = dic.keys()\n",
    "dic_df.columns = ['성적']\n",
    "dic_df"
   ]
  },
  {
   "cell_type": "code",
   "execution_count": 79,
   "id": "6b1d16b8",
   "metadata": {
    "ExecuteTime": {
     "end_time": "2022-01-09T00:42:44.213201Z",
     "start_time": "2022-01-09T00:42:44.200393Z"
    }
   },
   "outputs": [
    {
     "data": {
      "text/plain": [
       "Index(['Close'], dtype='object')"
      ]
     },
     "execution_count": 79,
     "metadata": {},
     "output_type": "execute_result"
    }
   ],
   "source": [
    "samsung = pd.read_csv('삼성전자 종가.csv', index_col = 0, squeeze = True, header = 0)\n",
    "samsung_df = pd.DataFrame(samsung)\n",
    "samsung_df\n",
    "type(samsung_df)\n",
    "samsung_df.index\n",
    "samsung_df.columns"
   ]
  },
  {
   "cell_type": "markdown",
   "id": "edc81205",
   "metadata": {},
   "source": [
    "## 롯데케미칼 주가정보 DataFrame으로 불러오기"
   ]
  },
  {
   "cell_type": "code",
   "execution_count": 59,
   "id": "38eeae19",
   "metadata": {
    "ExecuteTime": {
     "end_time": "2022-01-09T00:43:28.444826Z",
     "start_time": "2022-01-09T00:43:28.417676Z"
    }
   },
   "outputs": [
    {
     "data": {
      "text/html": [
       "<div>\n",
       "<style scoped>\n",
       "    .dataframe tbody tr th:only-of-type {\n",
       "        vertical-align: middle;\n",
       "    }\n",
       "\n",
       "    .dataframe tbody tr th {\n",
       "        vertical-align: top;\n",
       "    }\n",
       "\n",
       "    .dataframe thead th {\n",
       "        text-align: right;\n",
       "    }\n",
       "</style>\n",
       "<table border=\"1\" class=\"dataframe\">\n",
       "  <thead>\n",
       "    <tr style=\"text-align: right;\">\n",
       "      <th></th>\n",
       "      <th>Open</th>\n",
       "      <th>High</th>\n",
       "      <th>Low</th>\n",
       "      <th>Close</th>\n",
       "      <th>Volume</th>\n",
       "      <th>Change</th>\n",
       "    </tr>\n",
       "    <tr>\n",
       "      <th>Date</th>\n",
       "      <th></th>\n",
       "      <th></th>\n",
       "      <th></th>\n",
       "      <th></th>\n",
       "      <th></th>\n",
       "      <th></th>\n",
       "    </tr>\n",
       "  </thead>\n",
       "  <tbody>\n",
       "    <tr>\n",
       "      <th>2018-01-02</th>\n",
       "      <td>368000</td>\n",
       "      <td>370000</td>\n",
       "      <td>360500</td>\n",
       "      <td>360500</td>\n",
       "      <td>92533</td>\n",
       "      <td>-0.020380</td>\n",
       "    </tr>\n",
       "    <tr>\n",
       "      <th>2018-01-03</th>\n",
       "      <td>360000</td>\n",
       "      <td>368500</td>\n",
       "      <td>360000</td>\n",
       "      <td>363000</td>\n",
       "      <td>81340</td>\n",
       "      <td>0.006935</td>\n",
       "    </tr>\n",
       "    <tr>\n",
       "      <th>2018-01-04</th>\n",
       "      <td>367500</td>\n",
       "      <td>367500</td>\n",
       "      <td>349000</td>\n",
       "      <td>349000</td>\n",
       "      <td>190391</td>\n",
       "      <td>-0.038567</td>\n",
       "    </tr>\n",
       "    <tr>\n",
       "      <th>2018-01-05</th>\n",
       "      <td>351000</td>\n",
       "      <td>352000</td>\n",
       "      <td>348000</td>\n",
       "      <td>351500</td>\n",
       "      <td>99268</td>\n",
       "      <td>0.007163</td>\n",
       "    </tr>\n",
       "    <tr>\n",
       "      <th>2018-01-08</th>\n",
       "      <td>359000</td>\n",
       "      <td>383500</td>\n",
       "      <td>358000</td>\n",
       "      <td>383500</td>\n",
       "      <td>490208</td>\n",
       "      <td>0.091038</td>\n",
       "    </tr>\n",
       "    <tr>\n",
       "      <th>...</th>\n",
       "      <td>...</td>\n",
       "      <td>...</td>\n",
       "      <td>...</td>\n",
       "      <td>...</td>\n",
       "      <td>...</td>\n",
       "      <td>...</td>\n",
       "    </tr>\n",
       "    <tr>\n",
       "      <th>2021-12-16</th>\n",
       "      <td>233000</td>\n",
       "      <td>234000</td>\n",
       "      <td>224500</td>\n",
       "      <td>228000</td>\n",
       "      <td>144647</td>\n",
       "      <td>-0.012987</td>\n",
       "    </tr>\n",
       "    <tr>\n",
       "      <th>2021-12-17</th>\n",
       "      <td>227000</td>\n",
       "      <td>235000</td>\n",
       "      <td>226500</td>\n",
       "      <td>234500</td>\n",
       "      <td>138945</td>\n",
       "      <td>0.028509</td>\n",
       "    </tr>\n",
       "    <tr>\n",
       "      <th>2021-12-20</th>\n",
       "      <td>232000</td>\n",
       "      <td>233500</td>\n",
       "      <td>228000</td>\n",
       "      <td>229500</td>\n",
       "      <td>90630</td>\n",
       "      <td>-0.021322</td>\n",
       "    </tr>\n",
       "    <tr>\n",
       "      <th>2021-12-21</th>\n",
       "      <td>232000</td>\n",
       "      <td>232500</td>\n",
       "      <td>227000</td>\n",
       "      <td>229500</td>\n",
       "      <td>98669</td>\n",
       "      <td>0.000000</td>\n",
       "    </tr>\n",
       "    <tr>\n",
       "      <th>2021-12-22</th>\n",
       "      <td>229000</td>\n",
       "      <td>230000</td>\n",
       "      <td>225000</td>\n",
       "      <td>225000</td>\n",
       "      <td>99419</td>\n",
       "      <td>-0.019608</td>\n",
       "    </tr>\n",
       "  </tbody>\n",
       "</table>\n",
       "<p>980 rows × 6 columns</p>\n",
       "</div>"
      ],
      "text/plain": [
       "              Open    High     Low   Close  Volume    Change\n",
       "Date                                                        \n",
       "2018-01-02  368000  370000  360500  360500   92533 -0.020380\n",
       "2018-01-03  360000  368500  360000  363000   81340  0.006935\n",
       "2018-01-04  367500  367500  349000  349000  190391 -0.038567\n",
       "2018-01-05  351000  352000  348000  351500   99268  0.007163\n",
       "2018-01-08  359000  383500  358000  383500  490208  0.091038\n",
       "...            ...     ...     ...     ...     ...       ...\n",
       "2021-12-16  233000  234000  224500  228000  144647 -0.012987\n",
       "2021-12-17  227000  235000  226500  234500  138945  0.028509\n",
       "2021-12-20  232000  233500  228000  229500   90630 -0.021322\n",
       "2021-12-21  232000  232500  227000  229500   98669  0.000000\n",
       "2021-12-22  229000  230000  225000  225000   99419 -0.019608\n",
       "\n",
       "[980 rows x 6 columns]"
      ]
     },
     "execution_count": 59,
     "metadata": {},
     "output_type": "execute_result"
    }
   ],
   "source": [
    "import pandas as pd\n",
    "\n",
    "# path = 'C:/Users/kangg/Google Drive/Project_Mine/(Infrun)강의제작/금융데이터 분석을 위한 판다스/Code/삼성전자 종가.csv'\n",
    "\n",
    "# a = pd.read_csv(path, index_col = 0, squeeze = False, header = 0)\n",
    "# a\n",
    "\n",
    "# 롯데케미칼 주가 불러오기\n",
    "\n",
    "lotte_che = pd.read_csv('/Users/hj/Documents/무제/finance data/Data/롯데케미칼.csv', index_col = 0,header = 0)  # index_col = 0번째를 인덱스로 하겠다. header= 1이면 첫번째 로우를 해더로함. \n",
    "lotte_che"
   ]
  },
  {
   "cell_type": "markdown",
   "id": "bd43b187",
   "metadata": {},
   "source": [
    "## DataFrame 행과 열 선택하기"
   ]
  },
  {
   "cell_type": "code",
   "execution_count": 82,
   "id": "836eec1c",
   "metadata": {
    "ExecuteTime": {
     "end_time": "2022-01-09T00:43:54.106996Z",
     "start_time": "2022-01-09T00:43:54.081493Z"
    }
   },
   "outputs": [
    {
     "data": {
      "text/html": [
       "<div>\n",
       "<style scoped>\n",
       "    .dataframe tbody tr th:only-of-type {\n",
       "        vertical-align: middle;\n",
       "    }\n",
       "\n",
       "    .dataframe tbody tr th {\n",
       "        vertical-align: top;\n",
       "    }\n",
       "\n",
       "    .dataframe thead th {\n",
       "        text-align: right;\n",
       "    }\n",
       "</style>\n",
       "<table border=\"1\" class=\"dataframe\">\n",
       "  <thead>\n",
       "    <tr style=\"text-align: right;\">\n",
       "      <th></th>\n",
       "      <th>Open</th>\n",
       "      <th>High</th>\n",
       "      <th>Low</th>\n",
       "      <th>Close</th>\n",
       "      <th>Volume</th>\n",
       "      <th>Change</th>\n",
       "    </tr>\n",
       "    <tr>\n",
       "      <th>Date</th>\n",
       "      <th></th>\n",
       "      <th></th>\n",
       "      <th></th>\n",
       "      <th></th>\n",
       "      <th></th>\n",
       "      <th></th>\n",
       "    </tr>\n",
       "  </thead>\n",
       "  <tbody>\n",
       "    <tr>\n",
       "      <th>2018-01-02</th>\n",
       "      <td>368000</td>\n",
       "      <td>370000</td>\n",
       "      <td>360500</td>\n",
       "      <td>360500</td>\n",
       "      <td>92533</td>\n",
       "      <td>-0.020380</td>\n",
       "    </tr>\n",
       "    <tr>\n",
       "      <th>2018-01-03</th>\n",
       "      <td>360000</td>\n",
       "      <td>368500</td>\n",
       "      <td>360000</td>\n",
       "      <td>363000</td>\n",
       "      <td>81340</td>\n",
       "      <td>0.006935</td>\n",
       "    </tr>\n",
       "    <tr>\n",
       "      <th>2018-01-04</th>\n",
       "      <td>367500</td>\n",
       "      <td>367500</td>\n",
       "      <td>349000</td>\n",
       "      <td>349000</td>\n",
       "      <td>190391</td>\n",
       "      <td>-0.038567</td>\n",
       "    </tr>\n",
       "    <tr>\n",
       "      <th>2018-01-05</th>\n",
       "      <td>351000</td>\n",
       "      <td>352000</td>\n",
       "      <td>348000</td>\n",
       "      <td>351500</td>\n",
       "      <td>99268</td>\n",
       "      <td>0.007163</td>\n",
       "    </tr>\n",
       "    <tr>\n",
       "      <th>2018-01-08</th>\n",
       "      <td>359000</td>\n",
       "      <td>383500</td>\n",
       "      <td>358000</td>\n",
       "      <td>383500</td>\n",
       "      <td>490208</td>\n",
       "      <td>0.091038</td>\n",
       "    </tr>\n",
       "    <tr>\n",
       "      <th>...</th>\n",
       "      <td>...</td>\n",
       "      <td>...</td>\n",
       "      <td>...</td>\n",
       "      <td>...</td>\n",
       "      <td>...</td>\n",
       "      <td>...</td>\n",
       "    </tr>\n",
       "    <tr>\n",
       "      <th>2021-12-16</th>\n",
       "      <td>233000</td>\n",
       "      <td>234000</td>\n",
       "      <td>224500</td>\n",
       "      <td>228000</td>\n",
       "      <td>144647</td>\n",
       "      <td>-0.012987</td>\n",
       "    </tr>\n",
       "    <tr>\n",
       "      <th>2021-12-17</th>\n",
       "      <td>227000</td>\n",
       "      <td>235000</td>\n",
       "      <td>226500</td>\n",
       "      <td>234500</td>\n",
       "      <td>138945</td>\n",
       "      <td>0.028509</td>\n",
       "    </tr>\n",
       "    <tr>\n",
       "      <th>2021-12-20</th>\n",
       "      <td>232000</td>\n",
       "      <td>233500</td>\n",
       "      <td>228000</td>\n",
       "      <td>229500</td>\n",
       "      <td>90630</td>\n",
       "      <td>-0.021322</td>\n",
       "    </tr>\n",
       "    <tr>\n",
       "      <th>2021-12-21</th>\n",
       "      <td>232000</td>\n",
       "      <td>232500</td>\n",
       "      <td>227000</td>\n",
       "      <td>229500</td>\n",
       "      <td>98669</td>\n",
       "      <td>0.000000</td>\n",
       "    </tr>\n",
       "    <tr>\n",
       "      <th>2021-12-22</th>\n",
       "      <td>229000</td>\n",
       "      <td>230000</td>\n",
       "      <td>225000</td>\n",
       "      <td>225000</td>\n",
       "      <td>99419</td>\n",
       "      <td>-0.019608</td>\n",
       "    </tr>\n",
       "  </tbody>\n",
       "</table>\n",
       "<p>980 rows × 6 columns</p>\n",
       "</div>"
      ],
      "text/plain": [
       "              Open    High     Low   Close  Volume    Change\n",
       "Date                                                        \n",
       "2018-01-02  368000  370000  360500  360500   92533 -0.020380\n",
       "2018-01-03  360000  368500  360000  363000   81340  0.006935\n",
       "2018-01-04  367500  367500  349000  349000  190391 -0.038567\n",
       "2018-01-05  351000  352000  348000  351500   99268  0.007163\n",
       "2018-01-08  359000  383500  358000  383500  490208  0.091038\n",
       "...            ...     ...     ...     ...     ...       ...\n",
       "2021-12-16  233000  234000  224500  228000  144647 -0.012987\n",
       "2021-12-17  227000  235000  226500  234500  138945  0.028509\n",
       "2021-12-20  232000  233500  228000  229500   90630 -0.021322\n",
       "2021-12-21  232000  232500  227000  229500   98669  0.000000\n",
       "2021-12-22  229000  230000  225000  225000   99419 -0.019608\n",
       "\n",
       "[980 rows x 6 columns]"
      ]
     },
     "execution_count": 82,
     "metadata": {},
     "output_type": "execute_result"
    }
   ],
   "source": [
    "import pandas as pd\n",
    "\n",
    "lotte_che = pd.read_csv('롯데케미칼.csv', index_col = 0,header = 0)\n",
    "lotte_che"
   ]
  },
  {
   "cell_type": "code",
   "execution_count": 66,
   "id": "cb0c5561",
   "metadata": {
    "ExecuteTime": {
     "end_time": "2022-01-09T00:44:01.820407Z",
     "start_time": "2022-01-09T00:44:01.808649Z"
    }
   },
   "outputs": [
    {
     "data": {
      "text/html": [
       "<div>\n",
       "<style scoped>\n",
       "    .dataframe tbody tr th:only-of-type {\n",
       "        vertical-align: middle;\n",
       "    }\n",
       "\n",
       "    .dataframe tbody tr th {\n",
       "        vertical-align: top;\n",
       "    }\n",
       "\n",
       "    .dataframe thead th {\n",
       "        text-align: right;\n",
       "    }\n",
       "</style>\n",
       "<table border=\"1\" class=\"dataframe\">\n",
       "  <thead>\n",
       "    <tr style=\"text-align: right;\">\n",
       "      <th></th>\n",
       "      <th>Open</th>\n",
       "      <th>High</th>\n",
       "      <th>Low</th>\n",
       "      <th>Close</th>\n",
       "      <th>Volume</th>\n",
       "      <th>Change</th>\n",
       "    </tr>\n",
       "    <tr>\n",
       "      <th>Date</th>\n",
       "      <th></th>\n",
       "      <th></th>\n",
       "      <th></th>\n",
       "      <th></th>\n",
       "      <th></th>\n",
       "      <th></th>\n",
       "    </tr>\n",
       "  </thead>\n",
       "  <tbody>\n",
       "    <tr>\n",
       "      <th>2021-12-16</th>\n",
       "      <td>233000</td>\n",
       "      <td>234000</td>\n",
       "      <td>224500</td>\n",
       "      <td>228000</td>\n",
       "      <td>144647</td>\n",
       "      <td>-0.012987</td>\n",
       "    </tr>\n",
       "    <tr>\n",
       "      <th>2021-12-17</th>\n",
       "      <td>227000</td>\n",
       "      <td>235000</td>\n",
       "      <td>226500</td>\n",
       "      <td>234500</td>\n",
       "      <td>138945</td>\n",
       "      <td>0.028509</td>\n",
       "    </tr>\n",
       "    <tr>\n",
       "      <th>2021-12-20</th>\n",
       "      <td>232000</td>\n",
       "      <td>233500</td>\n",
       "      <td>228000</td>\n",
       "      <td>229500</td>\n",
       "      <td>90630</td>\n",
       "      <td>-0.021322</td>\n",
       "    </tr>\n",
       "  </tbody>\n",
       "</table>\n",
       "</div>"
      ],
      "text/plain": [
       "              Open    High     Low   Close  Volume    Change\n",
       "Date                                                        \n",
       "2021-12-16  233000  234000  224500  228000  144647 -0.012987\n",
       "2021-12-17  227000  235000  226500  234500  138945  0.028509\n",
       "2021-12-20  232000  233500  228000  229500   90630 -0.021322"
      ]
     },
     "execution_count": 66,
     "metadata": {},
     "output_type": "execute_result"
    }
   ],
   "source": [
    "# 행 선택하기 loc\n",
    "# lotte_che.loc['2018-01-02']  # 꺽쇠 하나는 데이터프레임 하나로 추출하겠다. \n",
    "# lotte_che.loc[['2018-01-02']]  ## 꺾쇠 두개는 데이터프레임으로 추출하겠다. \n",
    "\n",
    "lotte_che.loc[['2021-12-16', '2021-12-17', '2021-12-20']]  ## 특정 날짜를 지정할때는 [[]] 해야함 . "
   ]
  },
  {
   "cell_type": "code",
   "execution_count": 84,
   "id": "d000241a",
   "metadata": {
    "ExecuteTime": {
     "end_time": "2022-01-09T00:44:11.766691Z",
     "start_time": "2022-01-09T00:44:11.761691Z"
    }
   },
   "outputs": [
    {
     "data": {
      "text/plain": [
       "pandas.core.frame.DataFrame"
      ]
     },
     "execution_count": 84,
     "metadata": {},
     "output_type": "execute_result"
    }
   ],
   "source": [
    "lotte_che.loc[['2018-01-02']]\n",
    "type(lotte_che.loc[['2018-01-02']])"
   ]
  },
  {
   "cell_type": "code",
   "execution_count": 69,
   "id": "80a4b0c5",
   "metadata": {
    "ExecuteTime": {
     "end_time": "2022-01-09T00:44:20.374569Z",
     "start_time": "2022-01-09T00:44:20.354119Z"
    }
   },
   "outputs": [
    {
     "data": {
      "text/html": [
       "<div>\n",
       "<style scoped>\n",
       "    .dataframe tbody tr th:only-of-type {\n",
       "        vertical-align: middle;\n",
       "    }\n",
       "\n",
       "    .dataframe tbody tr th {\n",
       "        vertical-align: top;\n",
       "    }\n",
       "\n",
       "    .dataframe thead th {\n",
       "        text-align: right;\n",
       "    }\n",
       "</style>\n",
       "<table border=\"1\" class=\"dataframe\">\n",
       "  <thead>\n",
       "    <tr style=\"text-align: right;\">\n",
       "      <th></th>\n",
       "      <th>Open</th>\n",
       "      <th>High</th>\n",
       "      <th>Low</th>\n",
       "      <th>Close</th>\n",
       "      <th>Volume</th>\n",
       "      <th>Change</th>\n",
       "    </tr>\n",
       "    <tr>\n",
       "      <th>Date</th>\n",
       "      <th></th>\n",
       "      <th></th>\n",
       "      <th></th>\n",
       "      <th></th>\n",
       "      <th></th>\n",
       "      <th></th>\n",
       "    </tr>\n",
       "  </thead>\n",
       "  <tbody>\n",
       "    <tr>\n",
       "      <th>2018-01-02</th>\n",
       "      <td>368000</td>\n",
       "      <td>370000</td>\n",
       "      <td>360500</td>\n",
       "      <td>360500</td>\n",
       "      <td>92533</td>\n",
       "      <td>-0.020380</td>\n",
       "    </tr>\n",
       "    <tr>\n",
       "      <th>2018-05-30</th>\n",
       "      <td>371000</td>\n",
       "      <td>376500</td>\n",
       "      <td>361500</td>\n",
       "      <td>363000</td>\n",
       "      <td>107516</td>\n",
       "      <td>-0.026810</td>\n",
       "    </tr>\n",
       "    <tr>\n",
       "      <th>2018-03-26</th>\n",
       "      <td>423000</td>\n",
       "      <td>440500</td>\n",
       "      <td>423000</td>\n",
       "      <td>440500</td>\n",
       "      <td>93789</td>\n",
       "      <td>0.024419</td>\n",
       "    </tr>\n",
       "  </tbody>\n",
       "</table>\n",
       "</div>"
      ],
      "text/plain": [
       "              Open    High     Low   Close  Volume    Change\n",
       "Date                                                        \n",
       "2018-01-02  368000  370000  360500  360500   92533 -0.020380\n",
       "2018-05-30  371000  376500  361500  363000  107516 -0.026810\n",
       "2018-03-26  423000  440500  423000  440500   93789  0.024419"
      ]
     },
     "execution_count": 69,
     "metadata": {},
     "output_type": "execute_result"
    }
   ],
   "source": [
    "# 행 선택하기 iloc\n",
    "\n",
    "lotte_che.iloc[0]\n",
    "lotte_che.iloc[[0,100, 56]]"
   ]
  },
  {
   "cell_type": "code",
   "execution_count": 72,
   "id": "feb962c4",
   "metadata": {
    "ExecuteTime": {
     "end_time": "2022-01-09T00:44:25.820291Z",
     "start_time": "2022-01-09T00:44:25.801769Z"
    }
   },
   "outputs": [
    {
     "data": {
      "text/html": [
       "<div>\n",
       "<style scoped>\n",
       "    .dataframe tbody tr th:only-of-type {\n",
       "        vertical-align: middle;\n",
       "    }\n",
       "\n",
       "    .dataframe tbody tr th {\n",
       "        vertical-align: top;\n",
       "    }\n",
       "\n",
       "    .dataframe thead th {\n",
       "        text-align: right;\n",
       "    }\n",
       "</style>\n",
       "<table border=\"1\" class=\"dataframe\">\n",
       "  <thead>\n",
       "    <tr style=\"text-align: right;\">\n",
       "      <th></th>\n",
       "      <th>Change</th>\n",
       "      <th>High</th>\n",
       "      <th>Low</th>\n",
       "    </tr>\n",
       "    <tr>\n",
       "      <th>Date</th>\n",
       "      <th></th>\n",
       "      <th></th>\n",
       "      <th></th>\n",
       "    </tr>\n",
       "  </thead>\n",
       "  <tbody>\n",
       "    <tr>\n",
       "      <th>2018-01-02</th>\n",
       "      <td>-0.020380</td>\n",
       "      <td>370000</td>\n",
       "      <td>360500</td>\n",
       "    </tr>\n",
       "    <tr>\n",
       "      <th>2018-01-03</th>\n",
       "      <td>0.006935</td>\n",
       "      <td>368500</td>\n",
       "      <td>360000</td>\n",
       "    </tr>\n",
       "    <tr>\n",
       "      <th>2018-01-04</th>\n",
       "      <td>-0.038567</td>\n",
       "      <td>367500</td>\n",
       "      <td>349000</td>\n",
       "    </tr>\n",
       "    <tr>\n",
       "      <th>2018-01-05</th>\n",
       "      <td>0.007163</td>\n",
       "      <td>352000</td>\n",
       "      <td>348000</td>\n",
       "    </tr>\n",
       "    <tr>\n",
       "      <th>2018-01-08</th>\n",
       "      <td>0.091038</td>\n",
       "      <td>383500</td>\n",
       "      <td>358000</td>\n",
       "    </tr>\n",
       "    <tr>\n",
       "      <th>...</th>\n",
       "      <td>...</td>\n",
       "      <td>...</td>\n",
       "      <td>...</td>\n",
       "    </tr>\n",
       "    <tr>\n",
       "      <th>2021-12-16</th>\n",
       "      <td>-0.012987</td>\n",
       "      <td>234000</td>\n",
       "      <td>224500</td>\n",
       "    </tr>\n",
       "    <tr>\n",
       "      <th>2021-12-17</th>\n",
       "      <td>0.028509</td>\n",
       "      <td>235000</td>\n",
       "      <td>226500</td>\n",
       "    </tr>\n",
       "    <tr>\n",
       "      <th>2021-12-20</th>\n",
       "      <td>-0.021322</td>\n",
       "      <td>233500</td>\n",
       "      <td>228000</td>\n",
       "    </tr>\n",
       "    <tr>\n",
       "      <th>2021-12-21</th>\n",
       "      <td>0.000000</td>\n",
       "      <td>232500</td>\n",
       "      <td>227000</td>\n",
       "    </tr>\n",
       "    <tr>\n",
       "      <th>2021-12-22</th>\n",
       "      <td>-0.019608</td>\n",
       "      <td>230000</td>\n",
       "      <td>225000</td>\n",
       "    </tr>\n",
       "  </tbody>\n",
       "</table>\n",
       "<p>980 rows × 3 columns</p>\n",
       "</div>"
      ],
      "text/plain": [
       "              Change    High     Low\n",
       "Date                                \n",
       "2018-01-02 -0.020380  370000  360500\n",
       "2018-01-03  0.006935  368500  360000\n",
       "2018-01-04 -0.038567  367500  349000\n",
       "2018-01-05  0.007163  352000  348000\n",
       "2018-01-08  0.091038  383500  358000\n",
       "...              ...     ...     ...\n",
       "2021-12-16 -0.012987  234000  224500\n",
       "2021-12-17  0.028509  235000  226500\n",
       "2021-12-20 -0.021322  233500  228000\n",
       "2021-12-21  0.000000  232500  227000\n",
       "2021-12-22 -0.019608  230000  225000\n",
       "\n",
       "[980 rows x 3 columns]"
      ]
     },
     "execution_count": 72,
     "metadata": {},
     "output_type": "execute_result"
    }
   ],
   "source": [
    "# 열 선택하기\n",
    "lotte_che[['Open', 'High']]\n",
    "\n",
    "lotte_che[lotte_che.columns[[5, 1, 2]]]"
   ]
  },
  {
   "cell_type": "code",
   "execution_count": 74,
   "id": "13265dd3",
   "metadata": {},
   "outputs": [
    {
     "data": {
      "text/html": [
       "<div>\n",
       "<style scoped>\n",
       "    .dataframe tbody tr th:only-of-type {\n",
       "        vertical-align: middle;\n",
       "    }\n",
       "\n",
       "    .dataframe tbody tr th {\n",
       "        vertical-align: top;\n",
       "    }\n",
       "\n",
       "    .dataframe thead th {\n",
       "        text-align: right;\n",
       "    }\n",
       "</style>\n",
       "<table border=\"1\" class=\"dataframe\">\n",
       "  <thead>\n",
       "    <tr style=\"text-align: right;\">\n",
       "      <th></th>\n",
       "      <th>Change</th>\n",
       "      <th>High</th>\n",
       "      <th>Low</th>\n",
       "    </tr>\n",
       "    <tr>\n",
       "      <th>Date</th>\n",
       "      <th></th>\n",
       "      <th></th>\n",
       "      <th></th>\n",
       "    </tr>\n",
       "  </thead>\n",
       "  <tbody>\n",
       "    <tr>\n",
       "      <th>2018-01-02</th>\n",
       "      <td>-0.020380</td>\n",
       "      <td>370000</td>\n",
       "      <td>360500</td>\n",
       "    </tr>\n",
       "    <tr>\n",
       "      <th>2018-01-03</th>\n",
       "      <td>0.006935</td>\n",
       "      <td>368500</td>\n",
       "      <td>360000</td>\n",
       "    </tr>\n",
       "    <tr>\n",
       "      <th>2018-01-04</th>\n",
       "      <td>-0.038567</td>\n",
       "      <td>367500</td>\n",
       "      <td>349000</td>\n",
       "    </tr>\n",
       "    <tr>\n",
       "      <th>2018-01-05</th>\n",
       "      <td>0.007163</td>\n",
       "      <td>352000</td>\n",
       "      <td>348000</td>\n",
       "    </tr>\n",
       "    <tr>\n",
       "      <th>2018-01-08</th>\n",
       "      <td>0.091038</td>\n",
       "      <td>383500</td>\n",
       "      <td>358000</td>\n",
       "    </tr>\n",
       "    <tr>\n",
       "      <th>...</th>\n",
       "      <td>...</td>\n",
       "      <td>...</td>\n",
       "      <td>...</td>\n",
       "    </tr>\n",
       "    <tr>\n",
       "      <th>2021-12-16</th>\n",
       "      <td>-0.012987</td>\n",
       "      <td>234000</td>\n",
       "      <td>224500</td>\n",
       "    </tr>\n",
       "    <tr>\n",
       "      <th>2021-12-17</th>\n",
       "      <td>0.028509</td>\n",
       "      <td>235000</td>\n",
       "      <td>226500</td>\n",
       "    </tr>\n",
       "    <tr>\n",
       "      <th>2021-12-20</th>\n",
       "      <td>-0.021322</td>\n",
       "      <td>233500</td>\n",
       "      <td>228000</td>\n",
       "    </tr>\n",
       "    <tr>\n",
       "      <th>2021-12-21</th>\n",
       "      <td>0.000000</td>\n",
       "      <td>232500</td>\n",
       "      <td>227000</td>\n",
       "    </tr>\n",
       "    <tr>\n",
       "      <th>2021-12-22</th>\n",
       "      <td>-0.019608</td>\n",
       "      <td>230000</td>\n",
       "      <td>225000</td>\n",
       "    </tr>\n",
       "  </tbody>\n",
       "</table>\n",
       "<p>980 rows × 3 columns</p>\n",
       "</div>"
      ],
      "text/plain": [
       "              Change    High     Low\n",
       "Date                                \n",
       "2018-01-02 -0.020380  370000  360500\n",
       "2018-01-03  0.006935  368500  360000\n",
       "2018-01-04 -0.038567  367500  349000\n",
       "2018-01-05  0.007163  352000  348000\n",
       "2018-01-08  0.091038  383500  358000\n",
       "...              ...     ...     ...\n",
       "2021-12-16 -0.012987  234000  224500\n",
       "2021-12-17  0.028509  235000  226500\n",
       "2021-12-20 -0.021322  233500  228000\n",
       "2021-12-21  0.000000  232500  227000\n",
       "2021-12-22 -0.019608  230000  225000\n",
       "\n",
       "[980 rows x 3 columns]"
      ]
     },
     "execution_count": 74,
     "metadata": {},
     "output_type": "execute_result"
    }
   ],
   "source": [
    "lotte_che[lotte_che.columns[[5,1,2]]]"
   ]
  },
  {
   "cell_type": "markdown",
   "id": "21018693",
   "metadata": {},
   "source": [
    "## 행과열 추가하기"
   ]
  },
  {
   "cell_type": "code",
   "execution_count": 87,
   "id": "0e544c35",
   "metadata": {
    "ExecuteTime": {
     "end_time": "2022-01-09T00:44:45.801253Z",
     "start_time": "2022-01-09T00:44:45.777034Z"
    }
   },
   "outputs": [
    {
     "data": {
      "text/html": [
       "<div>\n",
       "<style scoped>\n",
       "    .dataframe tbody tr th:only-of-type {\n",
       "        vertical-align: middle;\n",
       "    }\n",
       "\n",
       "    .dataframe tbody tr th {\n",
       "        vertical-align: top;\n",
       "    }\n",
       "\n",
       "    .dataframe thead th {\n",
       "        text-align: right;\n",
       "    }\n",
       "</style>\n",
       "<table border=\"1\" class=\"dataframe\">\n",
       "  <thead>\n",
       "    <tr style=\"text-align: right;\">\n",
       "      <th></th>\n",
       "      <th>Open</th>\n",
       "      <th>High</th>\n",
       "      <th>Low</th>\n",
       "      <th>Close</th>\n",
       "      <th>Volume</th>\n",
       "      <th>Change</th>\n",
       "    </tr>\n",
       "    <tr>\n",
       "      <th>Date</th>\n",
       "      <th></th>\n",
       "      <th></th>\n",
       "      <th></th>\n",
       "      <th></th>\n",
       "      <th></th>\n",
       "      <th></th>\n",
       "    </tr>\n",
       "  </thead>\n",
       "  <tbody>\n",
       "    <tr>\n",
       "      <th>2018-01-02</th>\n",
       "      <td>368000</td>\n",
       "      <td>370000</td>\n",
       "      <td>360500</td>\n",
       "      <td>360500</td>\n",
       "      <td>92533</td>\n",
       "      <td>-0.020380</td>\n",
       "    </tr>\n",
       "    <tr>\n",
       "      <th>2018-01-03</th>\n",
       "      <td>360000</td>\n",
       "      <td>368500</td>\n",
       "      <td>360000</td>\n",
       "      <td>363000</td>\n",
       "      <td>81340</td>\n",
       "      <td>0.006935</td>\n",
       "    </tr>\n",
       "    <tr>\n",
       "      <th>2018-01-04</th>\n",
       "      <td>367500</td>\n",
       "      <td>367500</td>\n",
       "      <td>349000</td>\n",
       "      <td>349000</td>\n",
       "      <td>190391</td>\n",
       "      <td>-0.038567</td>\n",
       "    </tr>\n",
       "    <tr>\n",
       "      <th>2018-01-05</th>\n",
       "      <td>351000</td>\n",
       "      <td>352000</td>\n",
       "      <td>348000</td>\n",
       "      <td>351500</td>\n",
       "      <td>99268</td>\n",
       "      <td>0.007163</td>\n",
       "    </tr>\n",
       "    <tr>\n",
       "      <th>2018-01-08</th>\n",
       "      <td>359000</td>\n",
       "      <td>383500</td>\n",
       "      <td>358000</td>\n",
       "      <td>383500</td>\n",
       "      <td>490208</td>\n",
       "      <td>0.091038</td>\n",
       "    </tr>\n",
       "    <tr>\n",
       "      <th>...</th>\n",
       "      <td>...</td>\n",
       "      <td>...</td>\n",
       "      <td>...</td>\n",
       "      <td>...</td>\n",
       "      <td>...</td>\n",
       "      <td>...</td>\n",
       "    </tr>\n",
       "    <tr>\n",
       "      <th>2021-12-16</th>\n",
       "      <td>233000</td>\n",
       "      <td>234000</td>\n",
       "      <td>224500</td>\n",
       "      <td>228000</td>\n",
       "      <td>144647</td>\n",
       "      <td>-0.012987</td>\n",
       "    </tr>\n",
       "    <tr>\n",
       "      <th>2021-12-17</th>\n",
       "      <td>227000</td>\n",
       "      <td>235000</td>\n",
       "      <td>226500</td>\n",
       "      <td>234500</td>\n",
       "      <td>138945</td>\n",
       "      <td>0.028509</td>\n",
       "    </tr>\n",
       "    <tr>\n",
       "      <th>2021-12-20</th>\n",
       "      <td>232000</td>\n",
       "      <td>233500</td>\n",
       "      <td>228000</td>\n",
       "      <td>229500</td>\n",
       "      <td>90630</td>\n",
       "      <td>-0.021322</td>\n",
       "    </tr>\n",
       "    <tr>\n",
       "      <th>2021-12-21</th>\n",
       "      <td>232000</td>\n",
       "      <td>232500</td>\n",
       "      <td>227000</td>\n",
       "      <td>229500</td>\n",
       "      <td>98669</td>\n",
       "      <td>0.000000</td>\n",
       "    </tr>\n",
       "    <tr>\n",
       "      <th>2021-12-22</th>\n",
       "      <td>229000</td>\n",
       "      <td>230000</td>\n",
       "      <td>225000</td>\n",
       "      <td>225000</td>\n",
       "      <td>99419</td>\n",
       "      <td>-0.019608</td>\n",
       "    </tr>\n",
       "  </tbody>\n",
       "</table>\n",
       "<p>980 rows × 6 columns</p>\n",
       "</div>"
      ],
      "text/plain": [
       "              Open    High     Low   Close  Volume    Change\n",
       "Date                                                        \n",
       "2018-01-02  368000  370000  360500  360500   92533 -0.020380\n",
       "2018-01-03  360000  368500  360000  363000   81340  0.006935\n",
       "2018-01-04  367500  367500  349000  349000  190391 -0.038567\n",
       "2018-01-05  351000  352000  348000  351500   99268  0.007163\n",
       "2018-01-08  359000  383500  358000  383500  490208  0.091038\n",
       "...            ...     ...     ...     ...     ...       ...\n",
       "2021-12-16  233000  234000  224500  228000  144647 -0.012987\n",
       "2021-12-17  227000  235000  226500  234500  138945  0.028509\n",
       "2021-12-20  232000  233500  228000  229500   90630 -0.021322\n",
       "2021-12-21  232000  232500  227000  229500   98669  0.000000\n",
       "2021-12-22  229000  230000  225000  225000   99419 -0.019608\n",
       "\n",
       "[980 rows x 6 columns]"
      ]
     },
     "execution_count": 87,
     "metadata": {},
     "output_type": "execute_result"
    }
   ],
   "source": [
    "import pandas as pd\n",
    "\n",
    "lotte_che = pd.read_csv('롯데케미칼.csv', index_col = 0,header = 0)\n",
    "lotte_che"
   ]
  },
  {
   "cell_type": "code",
   "execution_count": 88,
   "id": "d64f43d1",
   "metadata": {
    "ExecuteTime": {
     "end_time": "2022-01-09T00:44:50.800687Z",
     "start_time": "2022-01-09T00:44:50.793063Z"
    }
   },
   "outputs": [
    {
     "data": {
      "text/html": [
       "<div>\n",
       "<style scoped>\n",
       "    .dataframe tbody tr th:only-of-type {\n",
       "        vertical-align: middle;\n",
       "    }\n",
       "\n",
       "    .dataframe tbody tr th {\n",
       "        vertical-align: top;\n",
       "    }\n",
       "\n",
       "    .dataframe thead th {\n",
       "        text-align: right;\n",
       "    }\n",
       "</style>\n",
       "<table border=\"1\" class=\"dataframe\">\n",
       "  <thead>\n",
       "    <tr style=\"text-align: right;\">\n",
       "      <th></th>\n",
       "      <th>Open</th>\n",
       "      <th>High</th>\n",
       "      <th>Low</th>\n",
       "      <th>Close</th>\n",
       "      <th>Volume</th>\n",
       "    </tr>\n",
       "    <tr>\n",
       "      <th>Date</th>\n",
       "      <th></th>\n",
       "      <th></th>\n",
       "      <th></th>\n",
       "      <th></th>\n",
       "      <th></th>\n",
       "    </tr>\n",
       "  </thead>\n",
       "  <tbody>\n",
       "    <tr>\n",
       "      <th>2018-01-02</th>\n",
       "      <td>368000</td>\n",
       "      <td>370000</td>\n",
       "      <td>360500</td>\n",
       "      <td>360500</td>\n",
       "      <td>92533</td>\n",
       "    </tr>\n",
       "    <tr>\n",
       "      <th>2018-01-03</th>\n",
       "      <td>360000</td>\n",
       "      <td>368500</td>\n",
       "      <td>360000</td>\n",
       "      <td>363000</td>\n",
       "      <td>81340</td>\n",
       "    </tr>\n",
       "    <tr>\n",
       "      <th>2018-01-04</th>\n",
       "      <td>367500</td>\n",
       "      <td>367500</td>\n",
       "      <td>349000</td>\n",
       "      <td>349000</td>\n",
       "      <td>190391</td>\n",
       "    </tr>\n",
       "    <tr>\n",
       "      <th>2018-01-05</th>\n",
       "      <td>351000</td>\n",
       "      <td>352000</td>\n",
       "      <td>348000</td>\n",
       "      <td>351500</td>\n",
       "      <td>99268</td>\n",
       "    </tr>\n",
       "    <tr>\n",
       "      <th>2018-01-08</th>\n",
       "      <td>359000</td>\n",
       "      <td>383500</td>\n",
       "      <td>358000</td>\n",
       "      <td>383500</td>\n",
       "      <td>490208</td>\n",
       "    </tr>\n",
       "    <tr>\n",
       "      <th>...</th>\n",
       "      <td>...</td>\n",
       "      <td>...</td>\n",
       "      <td>...</td>\n",
       "      <td>...</td>\n",
       "      <td>...</td>\n",
       "    </tr>\n",
       "    <tr>\n",
       "      <th>2021-12-16</th>\n",
       "      <td>233000</td>\n",
       "      <td>234000</td>\n",
       "      <td>224500</td>\n",
       "      <td>228000</td>\n",
       "      <td>144647</td>\n",
       "    </tr>\n",
       "    <tr>\n",
       "      <th>2021-12-17</th>\n",
       "      <td>227000</td>\n",
       "      <td>235000</td>\n",
       "      <td>226500</td>\n",
       "      <td>234500</td>\n",
       "      <td>138945</td>\n",
       "    </tr>\n",
       "    <tr>\n",
       "      <th>2021-12-20</th>\n",
       "      <td>232000</td>\n",
       "      <td>233500</td>\n",
       "      <td>228000</td>\n",
       "      <td>229500</td>\n",
       "      <td>90630</td>\n",
       "    </tr>\n",
       "    <tr>\n",
       "      <th>2021-12-21</th>\n",
       "      <td>232000</td>\n",
       "      <td>232500</td>\n",
       "      <td>227000</td>\n",
       "      <td>229500</td>\n",
       "      <td>98669</td>\n",
       "    </tr>\n",
       "    <tr>\n",
       "      <th>2021-12-22</th>\n",
       "      <td>229000</td>\n",
       "      <td>230000</td>\n",
       "      <td>225000</td>\n",
       "      <td>225000</td>\n",
       "      <td>99419</td>\n",
       "    </tr>\n",
       "  </tbody>\n",
       "</table>\n",
       "<p>980 rows × 5 columns</p>\n",
       "</div>"
      ],
      "text/plain": [
       "              Open    High     Low   Close  Volume\n",
       "Date                                              \n",
       "2018-01-02  368000  370000  360500  360500   92533\n",
       "2018-01-03  360000  368500  360000  363000   81340\n",
       "2018-01-04  367500  367500  349000  349000  190391\n",
       "2018-01-05  351000  352000  348000  351500   99268\n",
       "2018-01-08  359000  383500  358000  383500  490208\n",
       "...            ...     ...     ...     ...     ...\n",
       "2021-12-16  233000  234000  224500  228000  144647\n",
       "2021-12-17  227000  235000  226500  234500  138945\n",
       "2021-12-20  232000  233500  228000  229500   90630\n",
       "2021-12-21  232000  232500  227000  229500   98669\n",
       "2021-12-22  229000  230000  225000  225000   99419\n",
       "\n",
       "[980 rows x 5 columns]"
      ]
     },
     "execution_count": 88,
     "metadata": {},
     "output_type": "execute_result"
    }
   ],
   "source": [
    "#lotte_che = lotte_che[['Open', 'High', 'Low', 'Close', 'Volume']]\n",
    "lotte_che = lotte_che[lotte_che.columns[:-1]]\n",
    "lotte_che"
   ]
  },
  {
   "cell_type": "code",
   "execution_count": 89,
   "id": "b8c51a6d",
   "metadata": {
    "ExecuteTime": {
     "end_time": "2022-01-09T00:45:57.416050Z",
     "start_time": "2022-01-09T00:45:57.393599Z"
    }
   },
   "outputs": [
    {
     "data": {
      "text/html": [
       "<div>\n",
       "<style scoped>\n",
       "    .dataframe tbody tr th:only-of-type {\n",
       "        vertical-align: middle;\n",
       "    }\n",
       "\n",
       "    .dataframe tbody tr th {\n",
       "        vertical-align: top;\n",
       "    }\n",
       "\n",
       "    .dataframe thead th {\n",
       "        text-align: right;\n",
       "    }\n",
       "</style>\n",
       "<table border=\"1\" class=\"dataframe\">\n",
       "  <thead>\n",
       "    <tr style=\"text-align: right;\">\n",
       "      <th></th>\n",
       "      <th>Open</th>\n",
       "      <th>High</th>\n",
       "      <th>Low</th>\n",
       "      <th>Close</th>\n",
       "      <th>Volume</th>\n",
       "      <th>Return</th>\n",
       "    </tr>\n",
       "    <tr>\n",
       "      <th>Date</th>\n",
       "      <th></th>\n",
       "      <th></th>\n",
       "      <th></th>\n",
       "      <th></th>\n",
       "      <th></th>\n",
       "      <th></th>\n",
       "    </tr>\n",
       "  </thead>\n",
       "  <tbody>\n",
       "    <tr>\n",
       "      <th>2018-01-02</th>\n",
       "      <td>368000</td>\n",
       "      <td>370000</td>\n",
       "      <td>360500</td>\n",
       "      <td>360500</td>\n",
       "      <td>92533</td>\n",
       "      <td>0.000000</td>\n",
       "    </tr>\n",
       "    <tr>\n",
       "      <th>2018-01-03</th>\n",
       "      <td>360000</td>\n",
       "      <td>368500</td>\n",
       "      <td>360000</td>\n",
       "      <td>363000</td>\n",
       "      <td>81340</td>\n",
       "      <td>0.006935</td>\n",
       "    </tr>\n",
       "    <tr>\n",
       "      <th>2018-01-04</th>\n",
       "      <td>367500</td>\n",
       "      <td>367500</td>\n",
       "      <td>349000</td>\n",
       "      <td>349000</td>\n",
       "      <td>190391</td>\n",
       "      <td>-0.038567</td>\n",
       "    </tr>\n",
       "    <tr>\n",
       "      <th>2018-01-05</th>\n",
       "      <td>351000</td>\n",
       "      <td>352000</td>\n",
       "      <td>348000</td>\n",
       "      <td>351500</td>\n",
       "      <td>99268</td>\n",
       "      <td>0.007163</td>\n",
       "    </tr>\n",
       "    <tr>\n",
       "      <th>2018-01-08</th>\n",
       "      <td>359000</td>\n",
       "      <td>383500</td>\n",
       "      <td>358000</td>\n",
       "      <td>383500</td>\n",
       "      <td>490208</td>\n",
       "      <td>0.091038</td>\n",
       "    </tr>\n",
       "    <tr>\n",
       "      <th>...</th>\n",
       "      <td>...</td>\n",
       "      <td>...</td>\n",
       "      <td>...</td>\n",
       "      <td>...</td>\n",
       "      <td>...</td>\n",
       "      <td>...</td>\n",
       "    </tr>\n",
       "    <tr>\n",
       "      <th>2021-12-16</th>\n",
       "      <td>233000</td>\n",
       "      <td>234000</td>\n",
       "      <td>224500</td>\n",
       "      <td>228000</td>\n",
       "      <td>144647</td>\n",
       "      <td>-0.012987</td>\n",
       "    </tr>\n",
       "    <tr>\n",
       "      <th>2021-12-17</th>\n",
       "      <td>227000</td>\n",
       "      <td>235000</td>\n",
       "      <td>226500</td>\n",
       "      <td>234500</td>\n",
       "      <td>138945</td>\n",
       "      <td>0.028509</td>\n",
       "    </tr>\n",
       "    <tr>\n",
       "      <th>2021-12-20</th>\n",
       "      <td>232000</td>\n",
       "      <td>233500</td>\n",
       "      <td>228000</td>\n",
       "      <td>229500</td>\n",
       "      <td>90630</td>\n",
       "      <td>-0.021322</td>\n",
       "    </tr>\n",
       "    <tr>\n",
       "      <th>2021-12-21</th>\n",
       "      <td>232000</td>\n",
       "      <td>232500</td>\n",
       "      <td>227000</td>\n",
       "      <td>229500</td>\n",
       "      <td>98669</td>\n",
       "      <td>0.000000</td>\n",
       "    </tr>\n",
       "    <tr>\n",
       "      <th>2021-12-22</th>\n",
       "      <td>229000</td>\n",
       "      <td>230000</td>\n",
       "      <td>225000</td>\n",
       "      <td>225000</td>\n",
       "      <td>99419</td>\n",
       "      <td>-0.019608</td>\n",
       "    </tr>\n",
       "  </tbody>\n",
       "</table>\n",
       "<p>980 rows × 6 columns</p>\n",
       "</div>"
      ],
      "text/plain": [
       "              Open    High     Low   Close  Volume    Return\n",
       "Date                                                        \n",
       "2018-01-02  368000  370000  360500  360500   92533  0.000000\n",
       "2018-01-03  360000  368500  360000  363000   81340  0.006935\n",
       "2018-01-04  367500  367500  349000  349000  190391 -0.038567\n",
       "2018-01-05  351000  352000  348000  351500   99268  0.007163\n",
       "2018-01-08  359000  383500  358000  383500  490208  0.091038\n",
       "...            ...     ...     ...     ...     ...       ...\n",
       "2021-12-16  233000  234000  224500  228000  144647 -0.012987\n",
       "2021-12-17  227000  235000  226500  234500  138945  0.028509\n",
       "2021-12-20  232000  233500  228000  229500   90630 -0.021322\n",
       "2021-12-21  232000  232500  227000  229500   98669  0.000000\n",
       "2021-12-22  229000  230000  225000  225000   99419 -0.019608\n",
       "\n",
       "[980 rows x 6 columns]"
      ]
     },
     "execution_count": 89,
     "metadata": {},
     "output_type": "execute_result"
    }
   ],
   "source": [
    "lotte_che['Return'] = lotte_che['Close'].pct_change().fillna(0)\n",
    "lotte_che"
   ]
  },
  {
   "cell_type": "code",
   "execution_count": 90,
   "id": "677cd73c",
   "metadata": {
    "ExecuteTime": {
     "end_time": "2022-01-09T00:46:01.623666Z",
     "start_time": "2022-01-09T00:46:01.617567Z"
    }
   },
   "outputs": [],
   "source": [
    "lotte_che.loc['2021-12-23'] = 0"
   ]
  },
  {
   "cell_type": "markdown",
   "id": "e7a4243f",
   "metadata": {},
   "source": [
    "## 행과열 관련 예제"
   ]
  },
  {
   "cell_type": "code",
   "execution_count": 91,
   "id": "48352d8d",
   "metadata": {
    "ExecuteTime": {
     "end_time": "2022-01-09T00:46:24.025399Z",
     "start_time": "2022-01-09T00:46:24.002421Z"
    }
   },
   "outputs": [
    {
     "data": {
      "text/html": [
       "<div>\n",
       "<style scoped>\n",
       "    .dataframe tbody tr th:only-of-type {\n",
       "        vertical-align: middle;\n",
       "    }\n",
       "\n",
       "    .dataframe tbody tr th {\n",
       "        vertical-align: top;\n",
       "    }\n",
       "\n",
       "    .dataframe thead th {\n",
       "        text-align: right;\n",
       "    }\n",
       "</style>\n",
       "<table border=\"1\" class=\"dataframe\">\n",
       "  <thead>\n",
       "    <tr style=\"text-align: right;\">\n",
       "      <th></th>\n",
       "      <th>Open</th>\n",
       "      <th>High</th>\n",
       "      <th>Low</th>\n",
       "      <th>Close</th>\n",
       "      <th>Volume</th>\n",
       "      <th>Change</th>\n",
       "    </tr>\n",
       "    <tr>\n",
       "      <th>Date</th>\n",
       "      <th></th>\n",
       "      <th></th>\n",
       "      <th></th>\n",
       "      <th></th>\n",
       "      <th></th>\n",
       "      <th></th>\n",
       "    </tr>\n",
       "  </thead>\n",
       "  <tbody>\n",
       "    <tr>\n",
       "      <th>2018-01-02</th>\n",
       "      <td>368000</td>\n",
       "      <td>370000</td>\n",
       "      <td>360500</td>\n",
       "      <td>360500</td>\n",
       "      <td>92533</td>\n",
       "      <td>-0.020380</td>\n",
       "    </tr>\n",
       "    <tr>\n",
       "      <th>2018-01-03</th>\n",
       "      <td>360000</td>\n",
       "      <td>368500</td>\n",
       "      <td>360000</td>\n",
       "      <td>363000</td>\n",
       "      <td>81340</td>\n",
       "      <td>0.006935</td>\n",
       "    </tr>\n",
       "    <tr>\n",
       "      <th>2018-01-04</th>\n",
       "      <td>367500</td>\n",
       "      <td>367500</td>\n",
       "      <td>349000</td>\n",
       "      <td>349000</td>\n",
       "      <td>190391</td>\n",
       "      <td>-0.038567</td>\n",
       "    </tr>\n",
       "    <tr>\n",
       "      <th>2018-01-05</th>\n",
       "      <td>351000</td>\n",
       "      <td>352000</td>\n",
       "      <td>348000</td>\n",
       "      <td>351500</td>\n",
       "      <td>99268</td>\n",
       "      <td>0.007163</td>\n",
       "    </tr>\n",
       "    <tr>\n",
       "      <th>2018-01-08</th>\n",
       "      <td>359000</td>\n",
       "      <td>383500</td>\n",
       "      <td>358000</td>\n",
       "      <td>383500</td>\n",
       "      <td>490208</td>\n",
       "      <td>0.091038</td>\n",
       "    </tr>\n",
       "    <tr>\n",
       "      <th>...</th>\n",
       "      <td>...</td>\n",
       "      <td>...</td>\n",
       "      <td>...</td>\n",
       "      <td>...</td>\n",
       "      <td>...</td>\n",
       "      <td>...</td>\n",
       "    </tr>\n",
       "    <tr>\n",
       "      <th>2021-12-16</th>\n",
       "      <td>233000</td>\n",
       "      <td>234000</td>\n",
       "      <td>224500</td>\n",
       "      <td>228000</td>\n",
       "      <td>144647</td>\n",
       "      <td>-0.012987</td>\n",
       "    </tr>\n",
       "    <tr>\n",
       "      <th>2021-12-17</th>\n",
       "      <td>227000</td>\n",
       "      <td>235000</td>\n",
       "      <td>226500</td>\n",
       "      <td>234500</td>\n",
       "      <td>138945</td>\n",
       "      <td>0.028509</td>\n",
       "    </tr>\n",
       "    <tr>\n",
       "      <th>2021-12-20</th>\n",
       "      <td>232000</td>\n",
       "      <td>233500</td>\n",
       "      <td>228000</td>\n",
       "      <td>229500</td>\n",
       "      <td>90630</td>\n",
       "      <td>-0.021322</td>\n",
       "    </tr>\n",
       "    <tr>\n",
       "      <th>2021-12-21</th>\n",
       "      <td>232000</td>\n",
       "      <td>232500</td>\n",
       "      <td>227000</td>\n",
       "      <td>229500</td>\n",
       "      <td>98669</td>\n",
       "      <td>0.000000</td>\n",
       "    </tr>\n",
       "    <tr>\n",
       "      <th>2021-12-22</th>\n",
       "      <td>229000</td>\n",
       "      <td>230000</td>\n",
       "      <td>225000</td>\n",
       "      <td>225000</td>\n",
       "      <td>99419</td>\n",
       "      <td>-0.019608</td>\n",
       "    </tr>\n",
       "  </tbody>\n",
       "</table>\n",
       "<p>980 rows × 6 columns</p>\n",
       "</div>"
      ],
      "text/plain": [
       "              Open    High     Low   Close  Volume    Change\n",
       "Date                                                        \n",
       "2018-01-02  368000  370000  360500  360500   92533 -0.020380\n",
       "2018-01-03  360000  368500  360000  363000   81340  0.006935\n",
       "2018-01-04  367500  367500  349000  349000  190391 -0.038567\n",
       "2018-01-05  351000  352000  348000  351500   99268  0.007163\n",
       "2018-01-08  359000  383500  358000  383500  490208  0.091038\n",
       "...            ...     ...     ...     ...     ...       ...\n",
       "2021-12-16  233000  234000  224500  228000  144647 -0.012987\n",
       "2021-12-17  227000  235000  226500  234500  138945  0.028509\n",
       "2021-12-20  232000  233500  228000  229500   90630 -0.021322\n",
       "2021-12-21  232000  232500  227000  229500   98669  0.000000\n",
       "2021-12-22  229000  230000  225000  225000   99419 -0.019608\n",
       "\n",
       "[980 rows x 6 columns]"
      ]
     },
     "execution_count": 91,
     "metadata": {},
     "output_type": "execute_result"
    }
   ],
   "source": [
    "import pandas as pd\n",
    "\n",
    "lotte_che = pd.read_csv('롯데케미칼.csv', index_col = 0,header = 0)\n",
    "lotte_che"
   ]
  },
  {
   "cell_type": "code",
   "execution_count": 94,
   "id": "7e321244",
   "metadata": {
    "ExecuteTime": {
     "end_time": "2022-01-09T00:47:06.308608Z",
     "start_time": "2022-01-09T00:47:06.296683Z"
    }
   },
   "outputs": [],
   "source": [
    "def return_fn(df):\n",
    "    \n",
    "    df_close = df[['Close']].copy() # Series\n",
    "    \n",
    "    df_close['Return'] = df_close.pct_change().fillna(0)\n",
    "    \n",
    "    return df_close"
   ]
  },
  {
   "cell_type": "code",
   "execution_count": 95,
   "id": "f4782118",
   "metadata": {
    "ExecuteTime": {
     "end_time": "2022-01-09T00:47:08.505291Z",
     "start_time": "2022-01-09T00:47:08.489356Z"
    }
   },
   "outputs": [
    {
     "data": {
      "text/html": [
       "<div>\n",
       "<style scoped>\n",
       "    .dataframe tbody tr th:only-of-type {\n",
       "        vertical-align: middle;\n",
       "    }\n",
       "\n",
       "    .dataframe tbody tr th {\n",
       "        vertical-align: top;\n",
       "    }\n",
       "\n",
       "    .dataframe thead th {\n",
       "        text-align: right;\n",
       "    }\n",
       "</style>\n",
       "<table border=\"1\" class=\"dataframe\">\n",
       "  <thead>\n",
       "    <tr style=\"text-align: right;\">\n",
       "      <th></th>\n",
       "      <th>Close</th>\n",
       "      <th>Return</th>\n",
       "    </tr>\n",
       "    <tr>\n",
       "      <th>Date</th>\n",
       "      <th></th>\n",
       "      <th></th>\n",
       "    </tr>\n",
       "  </thead>\n",
       "  <tbody>\n",
       "    <tr>\n",
       "      <th>2018-01-02</th>\n",
       "      <td>360500</td>\n",
       "      <td>0.000000</td>\n",
       "    </tr>\n",
       "    <tr>\n",
       "      <th>2018-01-03</th>\n",
       "      <td>363000</td>\n",
       "      <td>0.006935</td>\n",
       "    </tr>\n",
       "    <tr>\n",
       "      <th>2018-01-04</th>\n",
       "      <td>349000</td>\n",
       "      <td>-0.038567</td>\n",
       "    </tr>\n",
       "    <tr>\n",
       "      <th>2018-01-05</th>\n",
       "      <td>351500</td>\n",
       "      <td>0.007163</td>\n",
       "    </tr>\n",
       "    <tr>\n",
       "      <th>2018-01-08</th>\n",
       "      <td>383500</td>\n",
       "      <td>0.091038</td>\n",
       "    </tr>\n",
       "    <tr>\n",
       "      <th>...</th>\n",
       "      <td>...</td>\n",
       "      <td>...</td>\n",
       "    </tr>\n",
       "    <tr>\n",
       "      <th>2021-12-16</th>\n",
       "      <td>228000</td>\n",
       "      <td>-0.012987</td>\n",
       "    </tr>\n",
       "    <tr>\n",
       "      <th>2021-12-17</th>\n",
       "      <td>234500</td>\n",
       "      <td>0.028509</td>\n",
       "    </tr>\n",
       "    <tr>\n",
       "      <th>2021-12-20</th>\n",
       "      <td>229500</td>\n",
       "      <td>-0.021322</td>\n",
       "    </tr>\n",
       "    <tr>\n",
       "      <th>2021-12-21</th>\n",
       "      <td>229500</td>\n",
       "      <td>0.000000</td>\n",
       "    </tr>\n",
       "    <tr>\n",
       "      <th>2021-12-22</th>\n",
       "      <td>225000</td>\n",
       "      <td>-0.019608</td>\n",
       "    </tr>\n",
       "  </tbody>\n",
       "</table>\n",
       "<p>980 rows × 2 columns</p>\n",
       "</div>"
      ],
      "text/plain": [
       "             Close    Return\n",
       "Date                        \n",
       "2018-01-02  360500  0.000000\n",
       "2018-01-03  363000  0.006935\n",
       "2018-01-04  349000 -0.038567\n",
       "2018-01-05  351500  0.007163\n",
       "2018-01-08  383500  0.091038\n",
       "...            ...       ...\n",
       "2021-12-16  228000 -0.012987\n",
       "2021-12-17  234500  0.028509\n",
       "2021-12-20  229500 -0.021322\n",
       "2021-12-21  229500  0.000000\n",
       "2021-12-22  225000 -0.019608\n",
       "\n",
       "[980 rows x 2 columns]"
      ]
     },
     "execution_count": 95,
     "metadata": {},
     "output_type": "execute_result"
    }
   ],
   "source": [
    "df = return_fn(df = lotte_che)\n",
    "df"
   ]
  },
  {
   "cell_type": "markdown",
   "id": "9518e278",
   "metadata": {},
   "source": [
    "## 두개의 DataFrame합치기"
   ]
  },
  {
   "cell_type": "code",
   "execution_count": 98,
   "id": "94d3373d",
   "metadata": {
    "ExecuteTime": {
     "end_time": "2022-01-09T00:48:36.584821Z",
     "start_time": "2022-01-09T00:48:36.428629Z"
    }
   },
   "outputs": [
    {
     "data": {
      "text/html": [
       "<div>\n",
       "<style scoped>\n",
       "    .dataframe tbody tr th:only-of-type {\n",
       "        vertical-align: middle;\n",
       "    }\n",
       "\n",
       "    .dataframe tbody tr th {\n",
       "        vertical-align: top;\n",
       "    }\n",
       "\n",
       "    .dataframe thead th {\n",
       "        text-align: right;\n",
       "    }\n",
       "</style>\n",
       "<table border=\"1\" class=\"dataframe\">\n",
       "  <thead>\n",
       "    <tr style=\"text-align: right;\">\n",
       "      <th></th>\n",
       "      <th>Open</th>\n",
       "      <th>High</th>\n",
       "      <th>Low</th>\n",
       "      <th>Close</th>\n",
       "      <th>Volume</th>\n",
       "      <th>Change</th>\n",
       "    </tr>\n",
       "    <tr>\n",
       "      <th>Date</th>\n",
       "      <th></th>\n",
       "      <th></th>\n",
       "      <th></th>\n",
       "      <th></th>\n",
       "      <th></th>\n",
       "      <th></th>\n",
       "    </tr>\n",
       "  </thead>\n",
       "  <tbody>\n",
       "    <tr>\n",
       "      <th>2016-01-04</th>\n",
       "      <td>130182</td>\n",
       "      <td>131784</td>\n",
       "      <td>126578</td>\n",
       "      <td>126579</td>\n",
       "      <td>93272</td>\n",
       "      <td>-0.039511</td>\n",
       "    </tr>\n",
       "    <tr>\n",
       "      <th>2016-01-05</th>\n",
       "      <td>126778</td>\n",
       "      <td>128580</td>\n",
       "      <td>126378</td>\n",
       "      <td>127580</td>\n",
       "      <td>69456</td>\n",
       "      <td>0.007908</td>\n",
       "    </tr>\n",
       "    <tr>\n",
       "      <th>2016-01-06</th>\n",
       "      <td>129181</td>\n",
       "      <td>129181</td>\n",
       "      <td>124575</td>\n",
       "      <td>124776</td>\n",
       "      <td>95682</td>\n",
       "      <td>-0.021978</td>\n",
       "    </tr>\n",
       "    <tr>\n",
       "      <th>2016-01-07</th>\n",
       "      <td>125377</td>\n",
       "      <td>132187</td>\n",
       "      <td>125377</td>\n",
       "      <td>130585</td>\n",
       "      <td>125253</td>\n",
       "      <td>0.046555</td>\n",
       "    </tr>\n",
       "    <tr>\n",
       "      <th>2016-01-08</th>\n",
       "      <td>130585</td>\n",
       "      <td>131987</td>\n",
       "      <td>128582</td>\n",
       "      <td>130585</td>\n",
       "      <td>63922</td>\n",
       "      <td>0.000000</td>\n",
       "    </tr>\n",
       "    <tr>\n",
       "      <th>...</th>\n",
       "      <td>...</td>\n",
       "      <td>...</td>\n",
       "      <td>...</td>\n",
       "      <td>...</td>\n",
       "      <td>...</td>\n",
       "      <td>...</td>\n",
       "    </tr>\n",
       "    <tr>\n",
       "      <th>2019-12-23</th>\n",
       "      <td>185000</td>\n",
       "      <td>185500</td>\n",
       "      <td>182000</td>\n",
       "      <td>184000</td>\n",
       "      <td>250256</td>\n",
       "      <td>0.002725</td>\n",
       "    </tr>\n",
       "    <tr>\n",
       "      <th>2019-12-24</th>\n",
       "      <td>184000</td>\n",
       "      <td>184000</td>\n",
       "      <td>179000</td>\n",
       "      <td>182000</td>\n",
       "      <td>193440</td>\n",
       "      <td>-0.010870</td>\n",
       "    </tr>\n",
       "    <tr>\n",
       "      <th>2019-12-26</th>\n",
       "      <td>181500</td>\n",
       "      <td>183000</td>\n",
       "      <td>179000</td>\n",
       "      <td>180500</td>\n",
       "      <td>173426</td>\n",
       "      <td>-0.008242</td>\n",
       "    </tr>\n",
       "    <tr>\n",
       "      <th>2019-12-27</th>\n",
       "      <td>182000</td>\n",
       "      <td>185000</td>\n",
       "      <td>179000</td>\n",
       "      <td>183500</td>\n",
       "      <td>323473</td>\n",
       "      <td>0.016620</td>\n",
       "    </tr>\n",
       "    <tr>\n",
       "      <th>2019-12-30</th>\n",
       "      <td>183500</td>\n",
       "      <td>190000</td>\n",
       "      <td>183500</td>\n",
       "      <td>186500</td>\n",
       "      <td>376541</td>\n",
       "      <td>0.016349</td>\n",
       "    </tr>\n",
       "  </tbody>\n",
       "</table>\n",
       "<p>979 rows × 6 columns</p>\n",
       "</div>"
      ],
      "text/plain": [
       "              Open    High     Low   Close  Volume    Change\n",
       "Date                                                        \n",
       "2016-01-04  130182  131784  126578  126579   93272 -0.039511\n",
       "2016-01-05  126778  128580  126378  127580   69456  0.007908\n",
       "2016-01-06  129181  129181  124575  124776   95682 -0.021978\n",
       "2016-01-07  125377  132187  125377  130585  125253  0.046555\n",
       "2016-01-08  130585  131987  128582  130585   63922  0.000000\n",
       "...            ...     ...     ...     ...     ...       ...\n",
       "2019-12-23  185000  185500  182000  184000  250256  0.002725\n",
       "2019-12-24  184000  184000  179000  182000  193440 -0.010870\n",
       "2019-12-26  181500  183000  179000  180500  173426 -0.008242\n",
       "2019-12-27  182000  185000  179000  183500  323473  0.016620\n",
       "2019-12-30  183500  190000  183500  186500  376541  0.016349\n",
       "\n",
       "[979 rows x 6 columns]"
      ]
     },
     "execution_count": 98,
     "metadata": {},
     "output_type": "execute_result"
    }
   ],
   "source": [
    "import pandas as pd\n",
    "#pd.set_option('display.max_rows', None)\n",
    "pd.set_option('display.max_rows', 200)\n",
    "df_samsung = pd.read_excel('samsung_naver_excel.xlsx', sheet_name = 'samsung', index_col = 0)\n",
    "df_samsung\n",
    "\n",
    "df_naver = pd.read_excel('samsung_naver_excel.xlsx', sheet_name = 'naver', index_col = 0)\n",
    "df_naver"
   ]
  },
  {
   "cell_type": "code",
   "execution_count": 99,
   "id": "0014bcde",
   "metadata": {
    "ExecuteTime": {
     "end_time": "2022-01-09T00:48:51.348243Z",
     "start_time": "2022-01-09T00:48:51.321816Z"
    }
   },
   "outputs": [
    {
     "data": {
      "text/plain": [
       "Open       52000.00000\n",
       "High       52020.00000\n",
       "Low        51020.00000\n",
       "Close      51540.00000\n",
       "Volume    177649.00000\n",
       "Change        -0.00425\n",
       "Name: (samsung, 2018-03-15 00:00:00), dtype: float64"
      ]
     },
     "execution_count": 99,
     "metadata": {},
     "output_type": "execute_result"
    }
   ],
   "source": [
    "df = pd.concat([df_naver, df_samsung], keys=['naver', 'samsung'], names=['stock', '날짜'])\n",
    "\n",
    "df.loc[('samsung','2018-03-15')]"
   ]
  },
  {
   "cell_type": "code",
   "execution_count": 100,
   "id": "827e1e30",
   "metadata": {
    "ExecuteTime": {
     "end_time": "2022-01-09T00:48:55.637720Z",
     "start_time": "2022-01-09T00:48:55.601603Z"
    }
   },
   "outputs": [
    {
     "data": {
      "text/html": [
       "<div>\n",
       "<style scoped>\n",
       "    .dataframe tbody tr th:only-of-type {\n",
       "        vertical-align: middle;\n",
       "    }\n",
       "\n",
       "    .dataframe tbody tr th {\n",
       "        vertical-align: top;\n",
       "    }\n",
       "\n",
       "    .dataframe thead tr th {\n",
       "        text-align: left;\n",
       "    }\n",
       "\n",
       "    .dataframe thead tr:last-of-type th {\n",
       "        text-align: right;\n",
       "    }\n",
       "</style>\n",
       "<table border=\"1\" class=\"dataframe\">\n",
       "  <thead>\n",
       "    <tr>\n",
       "      <th>stock</th>\n",
       "      <th colspan=\"6\" halign=\"left\">naver</th>\n",
       "      <th colspan=\"6\" halign=\"left\">samsung</th>\n",
       "    </tr>\n",
       "    <tr>\n",
       "      <th>날짜</th>\n",
       "      <th>Open</th>\n",
       "      <th>High</th>\n",
       "      <th>Low</th>\n",
       "      <th>Close</th>\n",
       "      <th>Volume</th>\n",
       "      <th>Change</th>\n",
       "      <th>Open</th>\n",
       "      <th>High</th>\n",
       "      <th>Low</th>\n",
       "      <th>Close</th>\n",
       "      <th>Volume</th>\n",
       "      <th>Change</th>\n",
       "    </tr>\n",
       "    <tr>\n",
       "      <th>Date</th>\n",
       "      <th></th>\n",
       "      <th></th>\n",
       "      <th></th>\n",
       "      <th></th>\n",
       "      <th></th>\n",
       "      <th></th>\n",
       "      <th></th>\n",
       "      <th></th>\n",
       "      <th></th>\n",
       "      <th></th>\n",
       "      <th></th>\n",
       "      <th></th>\n",
       "    </tr>\n",
       "  </thead>\n",
       "  <tbody>\n",
       "    <tr>\n",
       "      <th>2016-01-04</th>\n",
       "      <td>130182.0</td>\n",
       "      <td>131784.0</td>\n",
       "      <td>126578.0</td>\n",
       "      <td>126579.0</td>\n",
       "      <td>93272.0</td>\n",
       "      <td>-0.039511</td>\n",
       "      <td>NaN</td>\n",
       "      <td>NaN</td>\n",
       "      <td>NaN</td>\n",
       "      <td>NaN</td>\n",
       "      <td>NaN</td>\n",
       "      <td>NaN</td>\n",
       "    </tr>\n",
       "    <tr>\n",
       "      <th>2016-01-05</th>\n",
       "      <td>126778.0</td>\n",
       "      <td>128580.0</td>\n",
       "      <td>126378.0</td>\n",
       "      <td>127580.0</td>\n",
       "      <td>69456.0</td>\n",
       "      <td>0.007908</td>\n",
       "      <td>NaN</td>\n",
       "      <td>NaN</td>\n",
       "      <td>NaN</td>\n",
       "      <td>NaN</td>\n",
       "      <td>NaN</td>\n",
       "      <td>NaN</td>\n",
       "    </tr>\n",
       "    <tr>\n",
       "      <th>2016-01-06</th>\n",
       "      <td>129181.0</td>\n",
       "      <td>129181.0</td>\n",
       "      <td>124575.0</td>\n",
       "      <td>124776.0</td>\n",
       "      <td>95682.0</td>\n",
       "      <td>-0.021978</td>\n",
       "      <td>NaN</td>\n",
       "      <td>NaN</td>\n",
       "      <td>NaN</td>\n",
       "      <td>NaN</td>\n",
       "      <td>NaN</td>\n",
       "      <td>NaN</td>\n",
       "    </tr>\n",
       "    <tr>\n",
       "      <th>2016-01-07</th>\n",
       "      <td>125377.0</td>\n",
       "      <td>132187.0</td>\n",
       "      <td>125377.0</td>\n",
       "      <td>130585.0</td>\n",
       "      <td>125253.0</td>\n",
       "      <td>0.046555</td>\n",
       "      <td>NaN</td>\n",
       "      <td>NaN</td>\n",
       "      <td>NaN</td>\n",
       "      <td>NaN</td>\n",
       "      <td>NaN</td>\n",
       "      <td>NaN</td>\n",
       "    </tr>\n",
       "    <tr>\n",
       "      <th>2016-01-08</th>\n",
       "      <td>130585.0</td>\n",
       "      <td>131987.0</td>\n",
       "      <td>128582.0</td>\n",
       "      <td>130585.0</td>\n",
       "      <td>63922.0</td>\n",
       "      <td>0.000000</td>\n",
       "      <td>NaN</td>\n",
       "      <td>NaN</td>\n",
       "      <td>NaN</td>\n",
       "      <td>NaN</td>\n",
       "      <td>NaN</td>\n",
       "      <td>NaN</td>\n",
       "    </tr>\n",
       "    <tr>\n",
       "      <th>...</th>\n",
       "      <td>...</td>\n",
       "      <td>...</td>\n",
       "      <td>...</td>\n",
       "      <td>...</td>\n",
       "      <td>...</td>\n",
       "      <td>...</td>\n",
       "      <td>...</td>\n",
       "      <td>...</td>\n",
       "      <td>...</td>\n",
       "      <td>...</td>\n",
       "      <td>...</td>\n",
       "      <td>...</td>\n",
       "    </tr>\n",
       "    <tr>\n",
       "      <th>2020-12-23</th>\n",
       "      <td>NaN</td>\n",
       "      <td>NaN</td>\n",
       "      <td>NaN</td>\n",
       "      <td>NaN</td>\n",
       "      <td>NaN</td>\n",
       "      <td>NaN</td>\n",
       "      <td>72400.0</td>\n",
       "      <td>74000.0</td>\n",
       "      <td>72300.0</td>\n",
       "      <td>73900.0</td>\n",
       "      <td>19411326.0</td>\n",
       "      <td>0.022130</td>\n",
       "    </tr>\n",
       "    <tr>\n",
       "      <th>2020-12-24</th>\n",
       "      <td>NaN</td>\n",
       "      <td>NaN</td>\n",
       "      <td>NaN</td>\n",
       "      <td>NaN</td>\n",
       "      <td>NaN</td>\n",
       "      <td>NaN</td>\n",
       "      <td>74100.0</td>\n",
       "      <td>78800.0</td>\n",
       "      <td>74000.0</td>\n",
       "      <td>77800.0</td>\n",
       "      <td>32502870.0</td>\n",
       "      <td>0.052774</td>\n",
       "    </tr>\n",
       "    <tr>\n",
       "      <th>2020-12-28</th>\n",
       "      <td>NaN</td>\n",
       "      <td>NaN</td>\n",
       "      <td>NaN</td>\n",
       "      <td>NaN</td>\n",
       "      <td>NaN</td>\n",
       "      <td>NaN</td>\n",
       "      <td>79000.0</td>\n",
       "      <td>80100.0</td>\n",
       "      <td>78200.0</td>\n",
       "      <td>78700.0</td>\n",
       "      <td>40085044.0</td>\n",
       "      <td>0.011568</td>\n",
       "    </tr>\n",
       "    <tr>\n",
       "      <th>2020-12-29</th>\n",
       "      <td>NaN</td>\n",
       "      <td>NaN</td>\n",
       "      <td>NaN</td>\n",
       "      <td>NaN</td>\n",
       "      <td>NaN</td>\n",
       "      <td>NaN</td>\n",
       "      <td>78800.0</td>\n",
       "      <td>78900.0</td>\n",
       "      <td>77300.0</td>\n",
       "      <td>78300.0</td>\n",
       "      <td>30339449.0</td>\n",
       "      <td>-0.005083</td>\n",
       "    </tr>\n",
       "    <tr>\n",
       "      <th>2020-12-30</th>\n",
       "      <td>NaN</td>\n",
       "      <td>NaN</td>\n",
       "      <td>NaN</td>\n",
       "      <td>NaN</td>\n",
       "      <td>NaN</td>\n",
       "      <td>NaN</td>\n",
       "      <td>77400.0</td>\n",
       "      <td>81300.0</td>\n",
       "      <td>77300.0</td>\n",
       "      <td>81000.0</td>\n",
       "      <td>29417421.0</td>\n",
       "      <td>0.034483</td>\n",
       "    </tr>\n",
       "  </tbody>\n",
       "</table>\n",
       "<p>1227 rows × 12 columns</p>\n",
       "</div>"
      ],
      "text/plain": [
       "stock          naver                                                    samsung                                                 \n",
       "날짜              Open      High       Low     Close    Volume    Change     Open     High      Low    Close      Volume    Change\n",
       "Date                                                                                                                            \n",
       "2016-01-04  130182.0  131784.0  126578.0  126579.0   93272.0 -0.039511      NaN      NaN      NaN      NaN         NaN       NaN\n",
       "2016-01-05  126778.0  128580.0  126378.0  127580.0   69456.0  0.007908      NaN      NaN      NaN      NaN         NaN       NaN\n",
       "2016-01-06  129181.0  129181.0  124575.0  124776.0   95682.0 -0.021978      NaN      NaN      NaN      NaN         NaN       NaN\n",
       "2016-01-07  125377.0  132187.0  125377.0  130585.0  125253.0  0.046555      NaN      NaN      NaN      NaN         NaN       NaN\n",
       "2016-01-08  130585.0  131987.0  128582.0  130585.0   63922.0  0.000000      NaN      NaN      NaN      NaN         NaN       NaN\n",
       "...              ...       ...       ...       ...       ...       ...      ...      ...      ...      ...         ...       ...\n",
       "2020-12-23       NaN       NaN       NaN       NaN       NaN       NaN  72400.0  74000.0  72300.0  73900.0  19411326.0  0.022130\n",
       "2020-12-24       NaN       NaN       NaN       NaN       NaN       NaN  74100.0  78800.0  74000.0  77800.0  32502870.0  0.052774\n",
       "2020-12-28       NaN       NaN       NaN       NaN       NaN       NaN  79000.0  80100.0  78200.0  78700.0  40085044.0  0.011568\n",
       "2020-12-29       NaN       NaN       NaN       NaN       NaN       NaN  78800.0  78900.0  77300.0  78300.0  30339449.0 -0.005083\n",
       "2020-12-30       NaN       NaN       NaN       NaN       NaN       NaN  77400.0  81300.0  77300.0  81000.0  29417421.0  0.034483\n",
       "\n",
       "[1227 rows x 12 columns]"
      ]
     },
     "execution_count": 100,
     "metadata": {},
     "output_type": "execute_result"
    }
   ],
   "source": [
    "df = pd.concat([df_naver, df_samsung], keys=['naver', 'samsung'], names=['stock', '날짜'], axis = 1, join = 'outer')\n",
    "df"
   ]
  },
  {
   "cell_type": "code",
   "execution_count": 101,
   "id": "d0e56057",
   "metadata": {
    "ExecuteTime": {
     "end_time": "2022-01-09T00:49:08.335708Z",
     "start_time": "2022-01-09T00:49:08.313298Z"
    }
   },
   "outputs": [
    {
     "data": {
      "text/html": [
       "<div>\n",
       "<style scoped>\n",
       "    .dataframe tbody tr th:only-of-type {\n",
       "        vertical-align: middle;\n",
       "    }\n",
       "\n",
       "    .dataframe tbody tr th {\n",
       "        vertical-align: top;\n",
       "    }\n",
       "\n",
       "    .dataframe thead th {\n",
       "        text-align: right;\n",
       "    }\n",
       "</style>\n",
       "<table border=\"1\" class=\"dataframe\">\n",
       "  <thead>\n",
       "    <tr style=\"text-align: right;\">\n",
       "      <th></th>\n",
       "      <th>Open</th>\n",
       "      <th>High</th>\n",
       "      <th>Low</th>\n",
       "      <th>Close</th>\n",
       "      <th>Volume</th>\n",
       "      <th>Change</th>\n",
       "    </tr>\n",
       "    <tr>\n",
       "      <th>Date</th>\n",
       "      <th></th>\n",
       "      <th></th>\n",
       "      <th></th>\n",
       "      <th></th>\n",
       "      <th></th>\n",
       "      <th></th>\n",
       "    </tr>\n",
       "  </thead>\n",
       "  <tbody>\n",
       "    <tr>\n",
       "      <th>2018-01-02</th>\n",
       "      <td>368000</td>\n",
       "      <td>370000</td>\n",
       "      <td>360500</td>\n",
       "      <td>360500</td>\n",
       "      <td>92533</td>\n",
       "      <td>-0.020380</td>\n",
       "    </tr>\n",
       "    <tr>\n",
       "      <th>2018-01-03</th>\n",
       "      <td>360000</td>\n",
       "      <td>368500</td>\n",
       "      <td>360000</td>\n",
       "      <td>363000</td>\n",
       "      <td>81340</td>\n",
       "      <td>0.006935</td>\n",
       "    </tr>\n",
       "    <tr>\n",
       "      <th>2018-01-04</th>\n",
       "      <td>367500</td>\n",
       "      <td>367500</td>\n",
       "      <td>349000</td>\n",
       "      <td>349000</td>\n",
       "      <td>190391</td>\n",
       "      <td>-0.038567</td>\n",
       "    </tr>\n",
       "    <tr>\n",
       "      <th>2018-01-05</th>\n",
       "      <td>351000</td>\n",
       "      <td>352000</td>\n",
       "      <td>348000</td>\n",
       "      <td>351500</td>\n",
       "      <td>99268</td>\n",
       "      <td>0.007163</td>\n",
       "    </tr>\n",
       "    <tr>\n",
       "      <th>2018-01-08</th>\n",
       "      <td>359000</td>\n",
       "      <td>383500</td>\n",
       "      <td>358000</td>\n",
       "      <td>383500</td>\n",
       "      <td>490208</td>\n",
       "      <td>0.091038</td>\n",
       "    </tr>\n",
       "    <tr>\n",
       "      <th>...</th>\n",
       "      <td>...</td>\n",
       "      <td>...</td>\n",
       "      <td>...</td>\n",
       "      <td>...</td>\n",
       "      <td>...</td>\n",
       "      <td>...</td>\n",
       "    </tr>\n",
       "    <tr>\n",
       "      <th>2021-12-16</th>\n",
       "      <td>233000</td>\n",
       "      <td>234000</td>\n",
       "      <td>224500</td>\n",
       "      <td>228000</td>\n",
       "      <td>144647</td>\n",
       "      <td>-0.012987</td>\n",
       "    </tr>\n",
       "    <tr>\n",
       "      <th>2021-12-17</th>\n",
       "      <td>227000</td>\n",
       "      <td>235000</td>\n",
       "      <td>226500</td>\n",
       "      <td>234500</td>\n",
       "      <td>138945</td>\n",
       "      <td>0.028509</td>\n",
       "    </tr>\n",
       "    <tr>\n",
       "      <th>2021-12-20</th>\n",
       "      <td>232000</td>\n",
       "      <td>233500</td>\n",
       "      <td>228000</td>\n",
       "      <td>229500</td>\n",
       "      <td>90630</td>\n",
       "      <td>-0.021322</td>\n",
       "    </tr>\n",
       "    <tr>\n",
       "      <th>2021-12-21</th>\n",
       "      <td>232000</td>\n",
       "      <td>232500</td>\n",
       "      <td>227000</td>\n",
       "      <td>229500</td>\n",
       "      <td>98669</td>\n",
       "      <td>0.000000</td>\n",
       "    </tr>\n",
       "    <tr>\n",
       "      <th>2021-12-22</th>\n",
       "      <td>229000</td>\n",
       "      <td>230000</td>\n",
       "      <td>225000</td>\n",
       "      <td>225000</td>\n",
       "      <td>99419</td>\n",
       "      <td>-0.019608</td>\n",
       "    </tr>\n",
       "  </tbody>\n",
       "</table>\n",
       "<p>980 rows × 6 columns</p>\n",
       "</div>"
      ],
      "text/plain": [
       "              Open    High     Low   Close  Volume    Change\n",
       "Date                                                        \n",
       "2018-01-02  368000  370000  360500  360500   92533 -0.020380\n",
       "2018-01-03  360000  368500  360000  363000   81340  0.006935\n",
       "2018-01-04  367500  367500  349000  349000  190391 -0.038567\n",
       "2018-01-05  351000  352000  348000  351500   99268  0.007163\n",
       "2018-01-08  359000  383500  358000  383500  490208  0.091038\n",
       "...            ...     ...     ...     ...     ...       ...\n",
       "2021-12-16  233000  234000  224500  228000  144647 -0.012987\n",
       "2021-12-17  227000  235000  226500  234500  138945  0.028509\n",
       "2021-12-20  232000  233500  228000  229500   90630 -0.021322\n",
       "2021-12-21  232000  232500  227000  229500   98669  0.000000\n",
       "2021-12-22  229000  230000  225000  225000   99419 -0.019608\n",
       "\n",
       "[980 rows x 6 columns]"
      ]
     },
     "execution_count": 101,
     "metadata": {},
     "output_type": "execute_result"
    }
   ],
   "source": [
    "df_lotte = pd.read_csv('롯데케미칼.csv', index_col = 0,header = 0)\n",
    "df_lotte"
   ]
  },
  {
   "cell_type": "code",
   "execution_count": 102,
   "id": "352246c3",
   "metadata": {
    "ExecuteTime": {
     "end_time": "2022-01-09T00:49:15.064879Z",
     "start_time": "2022-01-09T00:49:15.041519Z"
    }
   },
   "outputs": [
    {
     "data": {
      "text/html": [
       "<div>\n",
       "<style scoped>\n",
       "    .dataframe tbody tr th:only-of-type {\n",
       "        vertical-align: middle;\n",
       "    }\n",
       "\n",
       "    .dataframe tbody tr th {\n",
       "        vertical-align: top;\n",
       "    }\n",
       "\n",
       "    .dataframe thead tr th {\n",
       "        text-align: left;\n",
       "    }\n",
       "\n",
       "    .dataframe thead tr:last-of-type th {\n",
       "        text-align: right;\n",
       "    }\n",
       "</style>\n",
       "<table border=\"1\" class=\"dataframe\">\n",
       "  <thead>\n",
       "    <tr>\n",
       "      <th>stock</th>\n",
       "      <th colspan=\"6\" halign=\"left\">naver</th>\n",
       "      <th colspan=\"6\" halign=\"left\">samsung</th>\n",
       "      <th colspan=\"6\" halign=\"left\">lotte</th>\n",
       "    </tr>\n",
       "    <tr>\n",
       "      <th>날짜</th>\n",
       "      <th>Open</th>\n",
       "      <th>High</th>\n",
       "      <th>Low</th>\n",
       "      <th>Close</th>\n",
       "      <th>Volume</th>\n",
       "      <th>Change</th>\n",
       "      <th>Open</th>\n",
       "      <th>High</th>\n",
       "      <th>Low</th>\n",
       "      <th>Close</th>\n",
       "      <th>Volume</th>\n",
       "      <th>Change</th>\n",
       "      <th>Open</th>\n",
       "      <th>High</th>\n",
       "      <th>Low</th>\n",
       "      <th>Close</th>\n",
       "      <th>Volume</th>\n",
       "      <th>Change</th>\n",
       "    </tr>\n",
       "    <tr>\n",
       "      <th>Date</th>\n",
       "      <th></th>\n",
       "      <th></th>\n",
       "      <th></th>\n",
       "      <th></th>\n",
       "      <th></th>\n",
       "      <th></th>\n",
       "      <th></th>\n",
       "      <th></th>\n",
       "      <th></th>\n",
       "      <th></th>\n",
       "      <th></th>\n",
       "      <th></th>\n",
       "      <th></th>\n",
       "      <th></th>\n",
       "      <th></th>\n",
       "      <th></th>\n",
       "      <th></th>\n",
       "      <th></th>\n",
       "    </tr>\n",
       "  </thead>\n",
       "  <tbody>\n",
       "  </tbody>\n",
       "</table>\n",
       "</div>"
      ],
      "text/plain": [
       "Empty DataFrame\n",
       "Columns: [(naver, Open), (naver, High), (naver, Low), (naver, Close), (naver, Volume), (naver, Change), (samsung, Open), (samsung, High), (samsung, Low), (samsung, Close), (samsung, Volume), (samsung, Change), (lotte, Open), (lotte, High), (lotte, Low), (lotte, Close), (lotte, Volume), (lotte, Change)]\n",
       "Index: []"
      ]
     },
     "execution_count": 102,
     "metadata": {},
     "output_type": "execute_result"
    }
   ],
   "source": [
    "df = pd.concat([df_naver, df_samsung, df_lotte], keys=['naver', 'samsung', 'lotte'], names=['stock', '날짜'], axis = 1, join = 'inner')\n",
    "df"
   ]
  },
  {
   "cell_type": "markdown",
   "id": "239231b2",
   "metadata": {},
   "source": [
    "## DataFrame Index type"
   ]
  },
  {
   "cell_type": "code",
   "execution_count": 103,
   "id": "48b27b78",
   "metadata": {
    "ExecuteTime": {
     "end_time": "2022-01-09T00:49:45.245604Z",
     "start_time": "2022-01-09T00:49:45.105348Z"
    }
   },
   "outputs": [],
   "source": [
    "import pandas as pd\n",
    "#pd.set_option('display.max_rows', None)\n",
    "\n",
    "df_samsung = pd.read_excel('samsung_naver_excel.xlsx', sheet_name = 'samsung', index_col = 0)\n",
    "\n",
    "df_naver = pd.read_excel('samsung_naver_excel.xlsx', sheet_name = 'naver', index_col = 0)\n",
    "\n",
    "df_lotte = pd.read_csv('롯데케미칼.csv', index_col = 0,header = 0)"
   ]
  },
  {
   "cell_type": "code",
   "execution_count": 104,
   "id": "1a9ee8ed",
   "metadata": {
    "ExecuteTime": {
     "end_time": "2022-01-09T00:49:49.741773Z",
     "start_time": "2022-01-09T00:49:49.712298Z"
    }
   },
   "outputs": [
    {
     "data": {
      "text/html": [
       "<div>\n",
       "<style scoped>\n",
       "    .dataframe tbody tr th:only-of-type {\n",
       "        vertical-align: middle;\n",
       "    }\n",
       "\n",
       "    .dataframe tbody tr th {\n",
       "        vertical-align: top;\n",
       "    }\n",
       "\n",
       "    .dataframe thead tr th {\n",
       "        text-align: left;\n",
       "    }\n",
       "\n",
       "    .dataframe thead tr:last-of-type th {\n",
       "        text-align: right;\n",
       "    }\n",
       "</style>\n",
       "<table border=\"1\" class=\"dataframe\">\n",
       "  <thead>\n",
       "    <tr>\n",
       "      <th>stock</th>\n",
       "      <th colspan=\"6\" halign=\"left\">naver</th>\n",
       "      <th colspan=\"6\" halign=\"left\">samsung</th>\n",
       "      <th colspan=\"6\" halign=\"left\">lotte</th>\n",
       "    </tr>\n",
       "    <tr>\n",
       "      <th>날짜</th>\n",
       "      <th>Open</th>\n",
       "      <th>High</th>\n",
       "      <th>Low</th>\n",
       "      <th>Close</th>\n",
       "      <th>Volume</th>\n",
       "      <th>Change</th>\n",
       "      <th>Open</th>\n",
       "      <th>High</th>\n",
       "      <th>Low</th>\n",
       "      <th>Close</th>\n",
       "      <th>Volume</th>\n",
       "      <th>Change</th>\n",
       "      <th>Open</th>\n",
       "      <th>High</th>\n",
       "      <th>Low</th>\n",
       "      <th>Close</th>\n",
       "      <th>Volume</th>\n",
       "      <th>Change</th>\n",
       "    </tr>\n",
       "    <tr>\n",
       "      <th>Date</th>\n",
       "      <th></th>\n",
       "      <th></th>\n",
       "      <th></th>\n",
       "      <th></th>\n",
       "      <th></th>\n",
       "      <th></th>\n",
       "      <th></th>\n",
       "      <th></th>\n",
       "      <th></th>\n",
       "      <th></th>\n",
       "      <th></th>\n",
       "      <th></th>\n",
       "      <th></th>\n",
       "      <th></th>\n",
       "      <th></th>\n",
       "      <th></th>\n",
       "      <th></th>\n",
       "      <th></th>\n",
       "    </tr>\n",
       "  </thead>\n",
       "  <tbody>\n",
       "    <tr>\n",
       "      <th>2018-01-02</th>\n",
       "      <td>174447</td>\n",
       "      <td>177251</td>\n",
       "      <td>174247</td>\n",
       "      <td>177251</td>\n",
       "      <td>93587</td>\n",
       "      <td>0.017240</td>\n",
       "      <td>51380</td>\n",
       "      <td>51400</td>\n",
       "      <td>50780</td>\n",
       "      <td>51020</td>\n",
       "      <td>169485</td>\n",
       "      <td>0.001177</td>\n",
       "      <td>368000</td>\n",
       "      <td>370000</td>\n",
       "      <td>360500</td>\n",
       "      <td>360500</td>\n",
       "      <td>92533</td>\n",
       "      <td>-0.020380</td>\n",
       "    </tr>\n",
       "    <tr>\n",
       "      <th>2018-01-03</th>\n",
       "      <td>175448</td>\n",
       "      <td>177051</td>\n",
       "      <td>173045</td>\n",
       "      <td>174447</td>\n",
       "      <td>84790</td>\n",
       "      <td>-0.015819</td>\n",
       "      <td>52540</td>\n",
       "      <td>52560</td>\n",
       "      <td>51420</td>\n",
       "      <td>51620</td>\n",
       "      <td>200270</td>\n",
       "      <td>0.011760</td>\n",
       "      <td>360000</td>\n",
       "      <td>368500</td>\n",
       "      <td>360000</td>\n",
       "      <td>363000</td>\n",
       "      <td>81340</td>\n",
       "      <td>0.006935</td>\n",
       "    </tr>\n",
       "    <tr>\n",
       "      <th>2018-01-04</th>\n",
       "      <td>176048</td>\n",
       "      <td>179653</td>\n",
       "      <td>174847</td>\n",
       "      <td>178853</td>\n",
       "      <td>130112</td>\n",
       "      <td>0.025257</td>\n",
       "      <td>52120</td>\n",
       "      <td>52180</td>\n",
       "      <td>50640</td>\n",
       "      <td>51080</td>\n",
       "      <td>233909</td>\n",
       "      <td>-0.010461</td>\n",
       "      <td>367500</td>\n",
       "      <td>367500</td>\n",
       "      <td>349000</td>\n",
       "      <td>349000</td>\n",
       "      <td>190391</td>\n",
       "      <td>-0.038567</td>\n",
       "    </tr>\n",
       "    <tr>\n",
       "      <th>2018-01-05</th>\n",
       "      <td>178852</td>\n",
       "      <td>183858</td>\n",
       "      <td>176249</td>\n",
       "      <td>181857</td>\n",
       "      <td>136811</td>\n",
       "      <td>0.016796</td>\n",
       "      <td>51300</td>\n",
       "      <td>52120</td>\n",
       "      <td>51200</td>\n",
       "      <td>52120</td>\n",
       "      <td>189623</td>\n",
       "      <td>0.020360</td>\n",
       "      <td>351000</td>\n",
       "      <td>352000</td>\n",
       "      <td>348000</td>\n",
       "      <td>351500</td>\n",
       "      <td>99268</td>\n",
       "      <td>0.007163</td>\n",
       "    </tr>\n",
       "    <tr>\n",
       "      <th>2018-01-08</th>\n",
       "      <td>183258</td>\n",
       "      <td>190869</td>\n",
       "      <td>181856</td>\n",
       "      <td>190269</td>\n",
       "      <td>196338</td>\n",
       "      <td>0.046256</td>\n",
       "      <td>52400</td>\n",
       "      <td>52520</td>\n",
       "      <td>51500</td>\n",
       "      <td>52020</td>\n",
       "      <td>167673</td>\n",
       "      <td>-0.001919</td>\n",
       "      <td>359000</td>\n",
       "      <td>383500</td>\n",
       "      <td>358000</td>\n",
       "      <td>383500</td>\n",
       "      <td>490208</td>\n",
       "      <td>0.091038</td>\n",
       "    </tr>\n",
       "    <tr>\n",
       "      <th>...</th>\n",
       "      <td>...</td>\n",
       "      <td>...</td>\n",
       "      <td>...</td>\n",
       "      <td>...</td>\n",
       "      <td>...</td>\n",
       "      <td>...</td>\n",
       "      <td>...</td>\n",
       "      <td>...</td>\n",
       "      <td>...</td>\n",
       "      <td>...</td>\n",
       "      <td>...</td>\n",
       "      <td>...</td>\n",
       "      <td>...</td>\n",
       "      <td>...</td>\n",
       "      <td>...</td>\n",
       "      <td>...</td>\n",
       "      <td>...</td>\n",
       "      <td>...</td>\n",
       "    </tr>\n",
       "    <tr>\n",
       "      <th>2019-12-23</th>\n",
       "      <td>185000</td>\n",
       "      <td>185500</td>\n",
       "      <td>182000</td>\n",
       "      <td>184000</td>\n",
       "      <td>250256</td>\n",
       "      <td>0.002725</td>\n",
       "      <td>56100</td>\n",
       "      <td>56400</td>\n",
       "      <td>55100</td>\n",
       "      <td>55500</td>\n",
       "      <td>9839252</td>\n",
       "      <td>-0.008929</td>\n",
       "      <td>235500</td>\n",
       "      <td>237000</td>\n",
       "      <td>231500</td>\n",
       "      <td>233000</td>\n",
       "      <td>87888</td>\n",
       "      <td>-0.006397</td>\n",
       "    </tr>\n",
       "    <tr>\n",
       "      <th>2019-12-24</th>\n",
       "      <td>184000</td>\n",
       "      <td>184000</td>\n",
       "      <td>179000</td>\n",
       "      <td>182000</td>\n",
       "      <td>193440</td>\n",
       "      <td>-0.010870</td>\n",
       "      <td>55600</td>\n",
       "      <td>55700</td>\n",
       "      <td>54800</td>\n",
       "      <td>55000</td>\n",
       "      <td>11868463</td>\n",
       "      <td>-0.009009</td>\n",
       "      <td>232000</td>\n",
       "      <td>235500</td>\n",
       "      <td>230000</td>\n",
       "      <td>232000</td>\n",
       "      <td>56481</td>\n",
       "      <td>-0.004292</td>\n",
       "    </tr>\n",
       "    <tr>\n",
       "      <th>2019-12-26</th>\n",
       "      <td>181500</td>\n",
       "      <td>183000</td>\n",
       "      <td>179000</td>\n",
       "      <td>180500</td>\n",
       "      <td>173426</td>\n",
       "      <td>-0.008242</td>\n",
       "      <td>54700</td>\n",
       "      <td>55400</td>\n",
       "      <td>54400</td>\n",
       "      <td>55400</td>\n",
       "      <td>9645034</td>\n",
       "      <td>0.007273</td>\n",
       "      <td>234000</td>\n",
       "      <td>234000</td>\n",
       "      <td>229500</td>\n",
       "      <td>230500</td>\n",
       "      <td>97614</td>\n",
       "      <td>-0.006466</td>\n",
       "    </tr>\n",
       "    <tr>\n",
       "      <th>2019-12-27</th>\n",
       "      <td>182000</td>\n",
       "      <td>185000</td>\n",
       "      <td>179000</td>\n",
       "      <td>183500</td>\n",
       "      <td>323473</td>\n",
       "      <td>0.016620</td>\n",
       "      <td>55700</td>\n",
       "      <td>56900</td>\n",
       "      <td>55500</td>\n",
       "      <td>56500</td>\n",
       "      <td>12313056</td>\n",
       "      <td>0.019856</td>\n",
       "      <td>226500</td>\n",
       "      <td>229500</td>\n",
       "      <td>225000</td>\n",
       "      <td>228500</td>\n",
       "      <td>91022</td>\n",
       "      <td>-0.008677</td>\n",
       "    </tr>\n",
       "    <tr>\n",
       "      <th>2019-12-30</th>\n",
       "      <td>183500</td>\n",
       "      <td>190000</td>\n",
       "      <td>183500</td>\n",
       "      <td>186500</td>\n",
       "      <td>376541</td>\n",
       "      <td>0.016349</td>\n",
       "      <td>56200</td>\n",
       "      <td>56600</td>\n",
       "      <td>55700</td>\n",
       "      <td>55800</td>\n",
       "      <td>8356767</td>\n",
       "      <td>-0.012389</td>\n",
       "      <td>228500</td>\n",
       "      <td>229000</td>\n",
       "      <td>223000</td>\n",
       "      <td>224000</td>\n",
       "      <td>113754</td>\n",
       "      <td>-0.019694</td>\n",
       "    </tr>\n",
       "  </tbody>\n",
       "</table>\n",
       "<p>490 rows × 18 columns</p>\n",
       "</div>"
      ],
      "text/plain": [
       "stock        naver                                           samsung                                            lotte                                          \n",
       "날짜            Open    High     Low   Close  Volume    Change    Open   High    Low  Close    Volume    Change    Open    High     Low   Close  Volume    Change\n",
       "Date                                                                                                                                                           \n",
       "2018-01-02  174447  177251  174247  177251   93587  0.017240   51380  51400  50780  51020    169485  0.001177  368000  370000  360500  360500   92533 -0.020380\n",
       "2018-01-03  175448  177051  173045  174447   84790 -0.015819   52540  52560  51420  51620    200270  0.011760  360000  368500  360000  363000   81340  0.006935\n",
       "2018-01-04  176048  179653  174847  178853  130112  0.025257   52120  52180  50640  51080    233909 -0.010461  367500  367500  349000  349000  190391 -0.038567\n",
       "2018-01-05  178852  183858  176249  181857  136811  0.016796   51300  52120  51200  52120    189623  0.020360  351000  352000  348000  351500   99268  0.007163\n",
       "2018-01-08  183258  190869  181856  190269  196338  0.046256   52400  52520  51500  52020    167673 -0.001919  359000  383500  358000  383500  490208  0.091038\n",
       "...            ...     ...     ...     ...     ...       ...     ...    ...    ...    ...       ...       ...     ...     ...     ...     ...     ...       ...\n",
       "2019-12-23  185000  185500  182000  184000  250256  0.002725   56100  56400  55100  55500   9839252 -0.008929  235500  237000  231500  233000   87888 -0.006397\n",
       "2019-12-24  184000  184000  179000  182000  193440 -0.010870   55600  55700  54800  55000  11868463 -0.009009  232000  235500  230000  232000   56481 -0.004292\n",
       "2019-12-26  181500  183000  179000  180500  173426 -0.008242   54700  55400  54400  55400   9645034  0.007273  234000  234000  229500  230500   97614 -0.006466\n",
       "2019-12-27  182000  185000  179000  183500  323473  0.016620   55700  56900  55500  56500  12313056  0.019856  226500  229500  225000  228500   91022 -0.008677\n",
       "2019-12-30  183500  190000  183500  186500  376541  0.016349   56200  56600  55700  55800   8356767 -0.012389  228500  229000  223000  224000  113754 -0.019694\n",
       "\n",
       "[490 rows x 18 columns]"
      ]
     },
     "execution_count": 104,
     "metadata": {},
     "output_type": "execute_result"
    }
   ],
   "source": [
    "df_lotte.index = pd.to_datetime(df_lotte.index)\n",
    "\n",
    "df = pd.concat([df_naver, df_samsung, df_lotte], keys=['naver', 'samsung', 'lotte'], names=['stock', '날짜'], axis = 1, join = 'inner')\n",
    "df"
   ]
  },
  {
   "cell_type": "markdown",
   "id": "646519e9",
   "metadata": {},
   "source": [
    "## About Nan Value"
   ]
  },
  {
   "cell_type": "code",
   "execution_count": 106,
   "id": "dcd43df1",
   "metadata": {
    "ExecuteTime": {
     "end_time": "2022-01-09T00:50:50.063304Z",
     "start_time": "2022-01-09T00:50:49.896463Z"
    }
   },
   "outputs": [
    {
     "data": {
      "text/html": [
       "<div>\n",
       "<style scoped>\n",
       "    .dataframe tbody tr th:only-of-type {\n",
       "        vertical-align: middle;\n",
       "    }\n",
       "\n",
       "    .dataframe tbody tr th {\n",
       "        vertical-align: top;\n",
       "    }\n",
       "\n",
       "    .dataframe thead tr th {\n",
       "        text-align: left;\n",
       "    }\n",
       "\n",
       "    .dataframe thead tr:last-of-type th {\n",
       "        text-align: right;\n",
       "    }\n",
       "</style>\n",
       "<table border=\"1\" class=\"dataframe\">\n",
       "  <thead>\n",
       "    <tr>\n",
       "      <th>stock</th>\n",
       "      <th colspan=\"6\" halign=\"left\">naver</th>\n",
       "      <th colspan=\"6\" halign=\"left\">samsung</th>\n",
       "      <th colspan=\"6\" halign=\"left\">lotte</th>\n",
       "    </tr>\n",
       "    <tr>\n",
       "      <th>날짜</th>\n",
       "      <th>Open</th>\n",
       "      <th>High</th>\n",
       "      <th>Low</th>\n",
       "      <th>Close</th>\n",
       "      <th>Volume</th>\n",
       "      <th>Change</th>\n",
       "      <th>Open</th>\n",
       "      <th>High</th>\n",
       "      <th>Low</th>\n",
       "      <th>Close</th>\n",
       "      <th>Volume</th>\n",
       "      <th>Change</th>\n",
       "      <th>Open</th>\n",
       "      <th>High</th>\n",
       "      <th>Low</th>\n",
       "      <th>Close</th>\n",
       "      <th>Volume</th>\n",
       "      <th>Change</th>\n",
       "    </tr>\n",
       "    <tr>\n",
       "      <th>Date</th>\n",
       "      <th></th>\n",
       "      <th></th>\n",
       "      <th></th>\n",
       "      <th></th>\n",
       "      <th></th>\n",
       "      <th></th>\n",
       "      <th></th>\n",
       "      <th></th>\n",
       "      <th></th>\n",
       "      <th></th>\n",
       "      <th></th>\n",
       "      <th></th>\n",
       "      <th></th>\n",
       "      <th></th>\n",
       "      <th></th>\n",
       "      <th></th>\n",
       "      <th></th>\n",
       "      <th></th>\n",
       "    </tr>\n",
       "  </thead>\n",
       "  <tbody>\n",
       "    <tr>\n",
       "      <th>2016-01-04</th>\n",
       "      <td>130182.0</td>\n",
       "      <td>131784.0</td>\n",
       "      <td>126578.0</td>\n",
       "      <td>126579.0</td>\n",
       "      <td>93272.0</td>\n",
       "      <td>-0.039511</td>\n",
       "      <td>NaN</td>\n",
       "      <td>NaN</td>\n",
       "      <td>NaN</td>\n",
       "      <td>NaN</td>\n",
       "      <td>NaN</td>\n",
       "      <td>NaN</td>\n",
       "      <td>NaN</td>\n",
       "      <td>NaN</td>\n",
       "      <td>NaN</td>\n",
       "      <td>NaN</td>\n",
       "      <td>NaN</td>\n",
       "      <td>NaN</td>\n",
       "    </tr>\n",
       "    <tr>\n",
       "      <th>2016-01-05</th>\n",
       "      <td>126778.0</td>\n",
       "      <td>128580.0</td>\n",
       "      <td>126378.0</td>\n",
       "      <td>127580.0</td>\n",
       "      <td>69456.0</td>\n",
       "      <td>0.007908</td>\n",
       "      <td>NaN</td>\n",
       "      <td>NaN</td>\n",
       "      <td>NaN</td>\n",
       "      <td>NaN</td>\n",
       "      <td>NaN</td>\n",
       "      <td>NaN</td>\n",
       "      <td>NaN</td>\n",
       "      <td>NaN</td>\n",
       "      <td>NaN</td>\n",
       "      <td>NaN</td>\n",
       "      <td>NaN</td>\n",
       "      <td>NaN</td>\n",
       "    </tr>\n",
       "    <tr>\n",
       "      <th>2016-01-06</th>\n",
       "      <td>129181.0</td>\n",
       "      <td>129181.0</td>\n",
       "      <td>124575.0</td>\n",
       "      <td>124776.0</td>\n",
       "      <td>95682.0</td>\n",
       "      <td>-0.021978</td>\n",
       "      <td>NaN</td>\n",
       "      <td>NaN</td>\n",
       "      <td>NaN</td>\n",
       "      <td>NaN</td>\n",
       "      <td>NaN</td>\n",
       "      <td>NaN</td>\n",
       "      <td>NaN</td>\n",
       "      <td>NaN</td>\n",
       "      <td>NaN</td>\n",
       "      <td>NaN</td>\n",
       "      <td>NaN</td>\n",
       "      <td>NaN</td>\n",
       "    </tr>\n",
       "    <tr>\n",
       "      <th>2016-01-07</th>\n",
       "      <td>125377.0</td>\n",
       "      <td>132187.0</td>\n",
       "      <td>125377.0</td>\n",
       "      <td>130585.0</td>\n",
       "      <td>125253.0</td>\n",
       "      <td>0.046555</td>\n",
       "      <td>NaN</td>\n",
       "      <td>NaN</td>\n",
       "      <td>NaN</td>\n",
       "      <td>NaN</td>\n",
       "      <td>NaN</td>\n",
       "      <td>NaN</td>\n",
       "      <td>NaN</td>\n",
       "      <td>NaN</td>\n",
       "      <td>NaN</td>\n",
       "      <td>NaN</td>\n",
       "      <td>NaN</td>\n",
       "      <td>NaN</td>\n",
       "    </tr>\n",
       "    <tr>\n",
       "      <th>2016-01-08</th>\n",
       "      <td>130585.0</td>\n",
       "      <td>131987.0</td>\n",
       "      <td>128582.0</td>\n",
       "      <td>130585.0</td>\n",
       "      <td>63922.0</td>\n",
       "      <td>0.000000</td>\n",
       "      <td>NaN</td>\n",
       "      <td>NaN</td>\n",
       "      <td>NaN</td>\n",
       "      <td>NaN</td>\n",
       "      <td>NaN</td>\n",
       "      <td>NaN</td>\n",
       "      <td>NaN</td>\n",
       "      <td>NaN</td>\n",
       "      <td>NaN</td>\n",
       "      <td>NaN</td>\n",
       "      <td>NaN</td>\n",
       "      <td>NaN</td>\n",
       "    </tr>\n",
       "    <tr>\n",
       "      <th>...</th>\n",
       "      <td>...</td>\n",
       "      <td>...</td>\n",
       "      <td>...</td>\n",
       "      <td>...</td>\n",
       "      <td>...</td>\n",
       "      <td>...</td>\n",
       "      <td>...</td>\n",
       "      <td>...</td>\n",
       "      <td>...</td>\n",
       "      <td>...</td>\n",
       "      <td>...</td>\n",
       "      <td>...</td>\n",
       "      <td>...</td>\n",
       "      <td>...</td>\n",
       "      <td>...</td>\n",
       "      <td>...</td>\n",
       "      <td>...</td>\n",
       "      <td>...</td>\n",
       "    </tr>\n",
       "    <tr>\n",
       "      <th>2021-12-16</th>\n",
       "      <td>NaN</td>\n",
       "      <td>NaN</td>\n",
       "      <td>NaN</td>\n",
       "      <td>NaN</td>\n",
       "      <td>NaN</td>\n",
       "      <td>NaN</td>\n",
       "      <td>NaN</td>\n",
       "      <td>NaN</td>\n",
       "      <td>NaN</td>\n",
       "      <td>NaN</td>\n",
       "      <td>NaN</td>\n",
       "      <td>NaN</td>\n",
       "      <td>233000.0</td>\n",
       "      <td>234000.0</td>\n",
       "      <td>224500.0</td>\n",
       "      <td>228000.0</td>\n",
       "      <td>144647.0</td>\n",
       "      <td>-0.012987</td>\n",
       "    </tr>\n",
       "    <tr>\n",
       "      <th>2021-12-17</th>\n",
       "      <td>NaN</td>\n",
       "      <td>NaN</td>\n",
       "      <td>NaN</td>\n",
       "      <td>NaN</td>\n",
       "      <td>NaN</td>\n",
       "      <td>NaN</td>\n",
       "      <td>NaN</td>\n",
       "      <td>NaN</td>\n",
       "      <td>NaN</td>\n",
       "      <td>NaN</td>\n",
       "      <td>NaN</td>\n",
       "      <td>NaN</td>\n",
       "      <td>227000.0</td>\n",
       "      <td>235000.0</td>\n",
       "      <td>226500.0</td>\n",
       "      <td>234500.0</td>\n",
       "      <td>138945.0</td>\n",
       "      <td>0.028509</td>\n",
       "    </tr>\n",
       "    <tr>\n",
       "      <th>2021-12-20</th>\n",
       "      <td>NaN</td>\n",
       "      <td>NaN</td>\n",
       "      <td>NaN</td>\n",
       "      <td>NaN</td>\n",
       "      <td>NaN</td>\n",
       "      <td>NaN</td>\n",
       "      <td>NaN</td>\n",
       "      <td>NaN</td>\n",
       "      <td>NaN</td>\n",
       "      <td>NaN</td>\n",
       "      <td>NaN</td>\n",
       "      <td>NaN</td>\n",
       "      <td>232000.0</td>\n",
       "      <td>233500.0</td>\n",
       "      <td>228000.0</td>\n",
       "      <td>229500.0</td>\n",
       "      <td>90630.0</td>\n",
       "      <td>-0.021322</td>\n",
       "    </tr>\n",
       "    <tr>\n",
       "      <th>2021-12-21</th>\n",
       "      <td>NaN</td>\n",
       "      <td>NaN</td>\n",
       "      <td>NaN</td>\n",
       "      <td>NaN</td>\n",
       "      <td>NaN</td>\n",
       "      <td>NaN</td>\n",
       "      <td>NaN</td>\n",
       "      <td>NaN</td>\n",
       "      <td>NaN</td>\n",
       "      <td>NaN</td>\n",
       "      <td>NaN</td>\n",
       "      <td>NaN</td>\n",
       "      <td>232000.0</td>\n",
       "      <td>232500.0</td>\n",
       "      <td>227000.0</td>\n",
       "      <td>229500.0</td>\n",
       "      <td>98669.0</td>\n",
       "      <td>0.000000</td>\n",
       "    </tr>\n",
       "    <tr>\n",
       "      <th>2021-12-22</th>\n",
       "      <td>NaN</td>\n",
       "      <td>NaN</td>\n",
       "      <td>NaN</td>\n",
       "      <td>NaN</td>\n",
       "      <td>NaN</td>\n",
       "      <td>NaN</td>\n",
       "      <td>NaN</td>\n",
       "      <td>NaN</td>\n",
       "      <td>NaN</td>\n",
       "      <td>NaN</td>\n",
       "      <td>NaN</td>\n",
       "      <td>NaN</td>\n",
       "      <td>229000.0</td>\n",
       "      <td>230000.0</td>\n",
       "      <td>225000.0</td>\n",
       "      <td>225000.0</td>\n",
       "      <td>99419.0</td>\n",
       "      <td>-0.019608</td>\n",
       "    </tr>\n",
       "  </tbody>\n",
       "</table>\n",
       "<p>1469 rows × 18 columns</p>\n",
       "</div>"
      ],
      "text/plain": [
       "stock          naver                                                   samsung                                  lotte                                                  \n",
       "날짜              Open      High       Low     Close    Volume    Change    Open High Low Close Volume Change      Open      High       Low     Close    Volume    Change\n",
       "Date                                                                                                                                                                   \n",
       "2016-01-04  130182.0  131784.0  126578.0  126579.0   93272.0 -0.039511     NaN  NaN NaN   NaN    NaN    NaN       NaN       NaN       NaN       NaN       NaN       NaN\n",
       "2016-01-05  126778.0  128580.0  126378.0  127580.0   69456.0  0.007908     NaN  NaN NaN   NaN    NaN    NaN       NaN       NaN       NaN       NaN       NaN       NaN\n",
       "2016-01-06  129181.0  129181.0  124575.0  124776.0   95682.0 -0.021978     NaN  NaN NaN   NaN    NaN    NaN       NaN       NaN       NaN       NaN       NaN       NaN\n",
       "2016-01-07  125377.0  132187.0  125377.0  130585.0  125253.0  0.046555     NaN  NaN NaN   NaN    NaN    NaN       NaN       NaN       NaN       NaN       NaN       NaN\n",
       "2016-01-08  130585.0  131987.0  128582.0  130585.0   63922.0  0.000000     NaN  NaN NaN   NaN    NaN    NaN       NaN       NaN       NaN       NaN       NaN       NaN\n",
       "...              ...       ...       ...       ...       ...       ...     ...  ...  ..   ...    ...    ...       ...       ...       ...       ...       ...       ...\n",
       "2021-12-16       NaN       NaN       NaN       NaN       NaN       NaN     NaN  NaN NaN   NaN    NaN    NaN  233000.0  234000.0  224500.0  228000.0  144647.0 -0.012987\n",
       "2021-12-17       NaN       NaN       NaN       NaN       NaN       NaN     NaN  NaN NaN   NaN    NaN    NaN  227000.0  235000.0  226500.0  234500.0  138945.0  0.028509\n",
       "2021-12-20       NaN       NaN       NaN       NaN       NaN       NaN     NaN  NaN NaN   NaN    NaN    NaN  232000.0  233500.0  228000.0  229500.0   90630.0 -0.021322\n",
       "2021-12-21       NaN       NaN       NaN       NaN       NaN       NaN     NaN  NaN NaN   NaN    NaN    NaN  232000.0  232500.0  227000.0  229500.0   98669.0  0.000000\n",
       "2021-12-22       NaN       NaN       NaN       NaN       NaN       NaN     NaN  NaN NaN   NaN    NaN    NaN  229000.0  230000.0  225000.0  225000.0   99419.0 -0.019608\n",
       "\n",
       "[1469 rows x 18 columns]"
      ]
     },
     "execution_count": 106,
     "metadata": {},
     "output_type": "execute_result"
    }
   ],
   "source": [
    "import pandas as pd\n",
    "pd.set_option('display.max_rows', 200)\n",
    "#pd.set_option('display.max_rows', None)\n",
    "\n",
    "df_samsung = pd.read_excel('samsung_naver_excel.xlsx', sheet_name = 'samsung', index_col = 0)\n",
    "\n",
    "df_naver = pd.read_excel('samsung_naver_excel.xlsx', sheet_name = 'naver', index_col = 0)\n",
    "\n",
    "df_lotte = pd.read_csv('롯데케미칼.csv', index_col = 0,header = 0)\n",
    "\n",
    "df_lotte.index = pd.to_datetime(df_lotte.index)\n",
    "\n",
    "df = pd.concat([df_naver, df_samsung, df_lotte], keys=['naver', 'samsung', 'lotte'], names=['stock', '날짜'], axis = 1, join = 'outer')\n",
    "df"
   ]
  },
  {
   "cell_type": "code",
   "execution_count": 107,
   "id": "f739530f",
   "metadata": {
    "ExecuteTime": {
     "end_time": "2022-01-09T00:50:55.692707Z",
     "start_time": "2022-01-09T00:50:55.682388Z"
    }
   },
   "outputs": [
    {
     "data": {
      "text/plain": [
       "(1469, 1)"
      ]
     },
     "execution_count": 107,
     "metadata": {},
     "output_type": "execute_result"
    }
   ],
   "source": [
    "df_samsung_close = df[[('samsung','Close')]]\n",
    "df_samsung_close\n",
    "df_samsung_close.shape"
   ]
  },
  {
   "cell_type": "code",
   "execution_count": 108,
   "id": "e42a416c",
   "metadata": {
    "ExecuteTime": {
     "end_time": "2022-01-09T00:51:08.699218Z",
     "start_time": "2022-01-09T00:51:08.682070Z"
    }
   },
   "outputs": [
    {
     "data": {
      "text/plain": [
       "pandas.core.frame.DataFrame"
      ]
     },
     "execution_count": 108,
     "metadata": {},
     "output_type": "execute_result"
    }
   ],
   "source": [
    "# isna()\n",
    "\n",
    "df_samsung_close.isna()\n",
    "df_samsung_close.isna().sum()\n",
    "type(df_samsung_close.isna())"
   ]
  },
  {
   "cell_type": "code",
   "execution_count": 109,
   "id": "63e3073f",
   "metadata": {
    "ExecuteTime": {
     "end_time": "2022-01-09T00:51:12.885695Z",
     "start_time": "2022-01-09T00:51:12.865768Z"
    }
   },
   "outputs": [
    {
     "data": {
      "text/html": [
       "<div>\n",
       "<style scoped>\n",
       "    .dataframe tbody tr th:only-of-type {\n",
       "        vertical-align: middle;\n",
       "    }\n",
       "\n",
       "    .dataframe tbody tr th {\n",
       "        vertical-align: top;\n",
       "    }\n",
       "\n",
       "    .dataframe thead tr th {\n",
       "        text-align: left;\n",
       "    }\n",
       "\n",
       "    .dataframe thead tr:last-of-type th {\n",
       "        text-align: right;\n",
       "    }\n",
       "</style>\n",
       "<table border=\"1\" class=\"dataframe\">\n",
       "  <thead>\n",
       "    <tr>\n",
       "      <th>stock</th>\n",
       "      <th>samsung</th>\n",
       "    </tr>\n",
       "    <tr>\n",
       "      <th>날짜</th>\n",
       "      <th>Close</th>\n",
       "    </tr>\n",
       "    <tr>\n",
       "      <th>Date</th>\n",
       "      <th></th>\n",
       "    </tr>\n",
       "  </thead>\n",
       "  <tbody>\n",
       "    <tr>\n",
       "      <th>2018-01-02</th>\n",
       "      <td>51020.0</td>\n",
       "    </tr>\n",
       "    <tr>\n",
       "      <th>2018-01-03</th>\n",
       "      <td>51620.0</td>\n",
       "    </tr>\n",
       "    <tr>\n",
       "      <th>2018-01-04</th>\n",
       "      <td>51080.0</td>\n",
       "    </tr>\n",
       "    <tr>\n",
       "      <th>2018-01-05</th>\n",
       "      <td>52120.0</td>\n",
       "    </tr>\n",
       "    <tr>\n",
       "      <th>2018-01-08</th>\n",
       "      <td>52020.0</td>\n",
       "    </tr>\n",
       "    <tr>\n",
       "      <th>...</th>\n",
       "      <td>...</td>\n",
       "    </tr>\n",
       "    <tr>\n",
       "      <th>2020-12-23</th>\n",
       "      <td>73900.0</td>\n",
       "    </tr>\n",
       "    <tr>\n",
       "      <th>2020-12-24</th>\n",
       "      <td>77800.0</td>\n",
       "    </tr>\n",
       "    <tr>\n",
       "      <th>2020-12-28</th>\n",
       "      <td>78700.0</td>\n",
       "    </tr>\n",
       "    <tr>\n",
       "      <th>2020-12-29</th>\n",
       "      <td>78300.0</td>\n",
       "    </tr>\n",
       "    <tr>\n",
       "      <th>2020-12-30</th>\n",
       "      <td>81000.0</td>\n",
       "    </tr>\n",
       "  </tbody>\n",
       "</table>\n",
       "<p>738 rows × 1 columns</p>\n",
       "</div>"
      ],
      "text/plain": [
       "stock       samsung\n",
       "날짜            Close\n",
       "Date               \n",
       "2018-01-02  51020.0\n",
       "2018-01-03  51620.0\n",
       "2018-01-04  51080.0\n",
       "2018-01-05  52120.0\n",
       "2018-01-08  52020.0\n",
       "...             ...\n",
       "2020-12-23  73900.0\n",
       "2020-12-24  77800.0\n",
       "2020-12-28  78700.0\n",
       "2020-12-29  78300.0\n",
       "2020-12-30  81000.0\n",
       "\n",
       "[738 rows x 1 columns]"
      ]
     },
     "execution_count": 109,
     "metadata": {},
     "output_type": "execute_result"
    }
   ],
   "source": [
    "df_samsung_close.dropna()"
   ]
  },
  {
   "cell_type": "code",
   "execution_count": 110,
   "id": "1aba9af5",
   "metadata": {
    "ExecuteTime": {
     "end_time": "2022-01-09T00:51:36.803841Z",
     "start_time": "2022-01-09T00:51:36.793328Z"
    }
   },
   "outputs": [
    {
     "data": {
      "text/html": [
       "<div>\n",
       "<style scoped>\n",
       "    .dataframe tbody tr th:only-of-type {\n",
       "        vertical-align: middle;\n",
       "    }\n",
       "\n",
       "    .dataframe tbody tr th {\n",
       "        vertical-align: top;\n",
       "    }\n",
       "\n",
       "    .dataframe thead tr th {\n",
       "        text-align: left;\n",
       "    }\n",
       "\n",
       "    .dataframe thead tr:last-of-type th {\n",
       "        text-align: right;\n",
       "    }\n",
       "</style>\n",
       "<table border=\"1\" class=\"dataframe\">\n",
       "  <thead>\n",
       "    <tr>\n",
       "      <th>Date</th>\n",
       "    </tr>\n",
       "  </thead>\n",
       "  <tbody>\n",
       "    <tr>\n",
       "      <th>2016-01-04</th>\n",
       "    </tr>\n",
       "    <tr>\n",
       "      <th>2016-01-05</th>\n",
       "    </tr>\n",
       "    <tr>\n",
       "      <th>2016-01-06</th>\n",
       "    </tr>\n",
       "    <tr>\n",
       "      <th>2016-01-07</th>\n",
       "    </tr>\n",
       "    <tr>\n",
       "      <th>2016-01-08</th>\n",
       "    </tr>\n",
       "    <tr>\n",
       "      <th>...</th>\n",
       "    </tr>\n",
       "    <tr>\n",
       "      <th>2021-12-16</th>\n",
       "    </tr>\n",
       "    <tr>\n",
       "      <th>2021-12-17</th>\n",
       "    </tr>\n",
       "    <tr>\n",
       "      <th>2021-12-20</th>\n",
       "    </tr>\n",
       "    <tr>\n",
       "      <th>2021-12-21</th>\n",
       "    </tr>\n",
       "    <tr>\n",
       "      <th>2021-12-22</th>\n",
       "    </tr>\n",
       "  </tbody>\n",
       "</table>\n",
       "<p>1469 rows × 0 columns</p>\n",
       "</div>"
      ],
      "text/plain": [
       "Empty DataFrame\n",
       "Columns: []\n",
       "Index: [2016-01-04 00:00:00, 2016-01-05 00:00:00, 2016-01-06 00:00:00, 2016-01-07 00:00:00, 2016-01-08 00:00:00, 2016-01-11 00:00:00, 2016-01-12 00:00:00, 2016-01-13 00:00:00, 2016-01-14 00:00:00, 2016-01-15 00:00:00, 2016-01-18 00:00:00, 2016-01-19 00:00:00, 2016-01-20 00:00:00, 2016-01-21 00:00:00, 2016-01-22 00:00:00, 2016-01-25 00:00:00, 2016-01-26 00:00:00, 2016-01-27 00:00:00, 2016-01-28 00:00:00, 2016-01-29 00:00:00, 2016-02-01 00:00:00, 2016-02-02 00:00:00, 2016-02-03 00:00:00, 2016-02-04 00:00:00, 2016-02-05 00:00:00, 2016-02-11 00:00:00, 2016-02-12 00:00:00, 2016-02-15 00:00:00, 2016-02-16 00:00:00, 2016-02-17 00:00:00, 2016-02-18 00:00:00, 2016-02-19 00:00:00, 2016-02-22 00:00:00, 2016-02-23 00:00:00, 2016-02-24 00:00:00, 2016-02-25 00:00:00, 2016-02-26 00:00:00, 2016-02-29 00:00:00, 2016-03-02 00:00:00, 2016-03-03 00:00:00, 2016-03-04 00:00:00, 2016-03-07 00:00:00, 2016-03-08 00:00:00, 2016-03-09 00:00:00, 2016-03-10 00:00:00, 2016-03-11 00:00:00, 2016-03-14 00:00:00, 2016-03-15 00:00:00, 2016-03-16 00:00:00, 2016-03-17 00:00:00, 2016-03-18 00:00:00, 2016-03-21 00:00:00, 2016-03-22 00:00:00, 2016-03-23 00:00:00, 2016-03-24 00:00:00, 2016-03-25 00:00:00, 2016-03-28 00:00:00, 2016-03-29 00:00:00, 2016-03-30 00:00:00, 2016-03-31 00:00:00, 2016-04-01 00:00:00, 2016-04-04 00:00:00, 2016-04-05 00:00:00, 2016-04-06 00:00:00, 2016-04-07 00:00:00, 2016-04-08 00:00:00, 2016-04-11 00:00:00, 2016-04-12 00:00:00, 2016-04-14 00:00:00, 2016-04-15 00:00:00, 2016-04-18 00:00:00, 2016-04-19 00:00:00, 2016-04-20 00:00:00, 2016-04-21 00:00:00, 2016-04-22 00:00:00, 2016-04-25 00:00:00, 2016-04-26 00:00:00, 2016-04-27 00:00:00, 2016-04-28 00:00:00, 2016-04-29 00:00:00, 2016-05-02 00:00:00, 2016-05-03 00:00:00, 2016-05-04 00:00:00, 2016-05-09 00:00:00, 2016-05-10 00:00:00, 2016-05-11 00:00:00, 2016-05-12 00:00:00, 2016-05-13 00:00:00, 2016-05-16 00:00:00, 2016-05-17 00:00:00, 2016-05-18 00:00:00, 2016-05-19 00:00:00, 2016-05-20 00:00:00, 2016-05-23 00:00:00, 2016-05-24 00:00:00, 2016-05-25 00:00:00, 2016-05-26 00:00:00, 2016-05-27 00:00:00, 2016-05-30 00:00:00, 2016-05-31 00:00:00, ...]\n",
       "\n",
       "[1469 rows x 0 columns]"
      ]
     },
     "execution_count": 110,
     "metadata": {},
     "output_type": "execute_result"
    }
   ],
   "source": [
    "# dropna() 예제\n",
    "\n",
    "df.dropna(axis = 0)\n",
    "df.dropna(axis = 1)"
   ]
  },
  {
   "cell_type": "code",
   "execution_count": 111,
   "id": "8c86319f",
   "metadata": {
    "ExecuteTime": {
     "end_time": "2022-01-09T00:51:41.274170Z",
     "start_time": "2022-01-09T00:51:41.257080Z"
    }
   },
   "outputs": [
    {
     "data": {
      "text/html": [
       "<div>\n",
       "<style scoped>\n",
       "    .dataframe tbody tr th:only-of-type {\n",
       "        vertical-align: middle;\n",
       "    }\n",
       "\n",
       "    .dataframe tbody tr th {\n",
       "        vertical-align: top;\n",
       "    }\n",
       "\n",
       "    .dataframe thead tr th {\n",
       "        text-align: left;\n",
       "    }\n",
       "\n",
       "    .dataframe thead tr:last-of-type th {\n",
       "        text-align: right;\n",
       "    }\n",
       "</style>\n",
       "<table border=\"1\" class=\"dataframe\">\n",
       "  <thead>\n",
       "    <tr>\n",
       "      <th>stock</th>\n",
       "      <th>samsung</th>\n",
       "    </tr>\n",
       "    <tr>\n",
       "      <th>날짜</th>\n",
       "      <th>Close</th>\n",
       "    </tr>\n",
       "    <tr>\n",
       "      <th>Date</th>\n",
       "      <th></th>\n",
       "    </tr>\n",
       "  </thead>\n",
       "  <tbody>\n",
       "    <tr>\n",
       "      <th>2016-01-04</th>\n",
       "      <td>0.0</td>\n",
       "    </tr>\n",
       "    <tr>\n",
       "      <th>2016-01-05</th>\n",
       "      <td>0.0</td>\n",
       "    </tr>\n",
       "    <tr>\n",
       "      <th>2016-01-06</th>\n",
       "      <td>0.0</td>\n",
       "    </tr>\n",
       "    <tr>\n",
       "      <th>2016-01-07</th>\n",
       "      <td>0.0</td>\n",
       "    </tr>\n",
       "    <tr>\n",
       "      <th>2016-01-08</th>\n",
       "      <td>0.0</td>\n",
       "    </tr>\n",
       "    <tr>\n",
       "      <th>...</th>\n",
       "      <td>...</td>\n",
       "    </tr>\n",
       "    <tr>\n",
       "      <th>2021-12-16</th>\n",
       "      <td>0.0</td>\n",
       "    </tr>\n",
       "    <tr>\n",
       "      <th>2021-12-17</th>\n",
       "      <td>0.0</td>\n",
       "    </tr>\n",
       "    <tr>\n",
       "      <th>2021-12-20</th>\n",
       "      <td>0.0</td>\n",
       "    </tr>\n",
       "    <tr>\n",
       "      <th>2021-12-21</th>\n",
       "      <td>0.0</td>\n",
       "    </tr>\n",
       "    <tr>\n",
       "      <th>2021-12-22</th>\n",
       "      <td>0.0</td>\n",
       "    </tr>\n",
       "  </tbody>\n",
       "</table>\n",
       "<p>1469 rows × 1 columns</p>\n",
       "</div>"
      ],
      "text/plain": [
       "stock      samsung\n",
       "날짜           Close\n",
       "Date              \n",
       "2016-01-04     0.0\n",
       "2016-01-05     0.0\n",
       "2016-01-06     0.0\n",
       "2016-01-07     0.0\n",
       "2016-01-08     0.0\n",
       "...            ...\n",
       "2021-12-16     0.0\n",
       "2021-12-17     0.0\n",
       "2021-12-20     0.0\n",
       "2021-12-21     0.0\n",
       "2021-12-22     0.0\n",
       "\n",
       "[1469 rows x 1 columns]"
      ]
     },
     "execution_count": 111,
     "metadata": {},
     "output_type": "execute_result"
    }
   ],
   "source": [
    "# fillna() 예제\n",
    "\n",
    "df_samsung_close.fillna(0)"
   ]
  },
  {
   "cell_type": "code",
   "execution_count": 112,
   "id": "43880b98",
   "metadata": {
    "ExecuteTime": {
     "end_time": "2022-01-09T00:51:47.852643Z",
     "start_time": "2022-01-09T00:51:47.833507Z"
    }
   },
   "outputs": [
    {
     "data": {
      "text/plain": [
       "DatetimeIndex(['2016-01-04', '2016-01-05', '2016-01-06', '2016-01-07', '2016-01-08', '2016-01-11', '2016-01-12', '2016-01-13', '2016-01-14', '2016-01-15',\n",
       "               ...\n",
       "               '2021-12-09', '2021-12-10', '2021-12-13', '2021-12-14', '2021-12-15', '2021-12-16', '2021-12-17', '2021-12-20', '2021-12-21', '2021-12-22'], dtype='datetime64[ns]', name='Date', length=731, freq=None)"
      ]
     },
     "execution_count": 112,
     "metadata": {},
     "output_type": "execute_result"
    }
   ],
   "source": [
    "# Nan날짜 찾기\n",
    "\n",
    "df_samsung_close[df_samsung_close.isna().values].index"
   ]
  },
  {
   "cell_type": "markdown",
   "id": "1e2f5237",
   "metadata": {},
   "source": [
    "## info() & describe()"
   ]
  },
  {
   "cell_type": "code",
   "execution_count": 113,
   "id": "0684a0c9",
   "metadata": {
    "ExecuteTime": {
     "end_time": "2022-01-09T00:52:08.662446Z",
     "start_time": "2022-01-09T00:52:08.467313Z"
    }
   },
   "outputs": [
    {
     "data": {
      "text/html": [
       "<div>\n",
       "<style scoped>\n",
       "    .dataframe tbody tr th:only-of-type {\n",
       "        vertical-align: middle;\n",
       "    }\n",
       "\n",
       "    .dataframe tbody tr th {\n",
       "        vertical-align: top;\n",
       "    }\n",
       "\n",
       "    .dataframe thead tr th {\n",
       "        text-align: left;\n",
       "    }\n",
       "\n",
       "    .dataframe thead tr:last-of-type th {\n",
       "        text-align: right;\n",
       "    }\n",
       "</style>\n",
       "<table border=\"1\" class=\"dataframe\">\n",
       "  <thead>\n",
       "    <tr>\n",
       "      <th>stock</th>\n",
       "      <th colspan=\"6\" halign=\"left\">naver</th>\n",
       "      <th colspan=\"6\" halign=\"left\">samsung</th>\n",
       "      <th colspan=\"6\" halign=\"left\">lotte</th>\n",
       "    </tr>\n",
       "    <tr>\n",
       "      <th>날짜</th>\n",
       "      <th>Open</th>\n",
       "      <th>High</th>\n",
       "      <th>Low</th>\n",
       "      <th>Close</th>\n",
       "      <th>Volume</th>\n",
       "      <th>Change</th>\n",
       "      <th>Open</th>\n",
       "      <th>High</th>\n",
       "      <th>Low</th>\n",
       "      <th>Close</th>\n",
       "      <th>Volume</th>\n",
       "      <th>Change</th>\n",
       "      <th>Open</th>\n",
       "      <th>High</th>\n",
       "      <th>Low</th>\n",
       "      <th>Close</th>\n",
       "      <th>Volume</th>\n",
       "      <th>Change</th>\n",
       "    </tr>\n",
       "    <tr>\n",
       "      <th>Date</th>\n",
       "      <th></th>\n",
       "      <th></th>\n",
       "      <th></th>\n",
       "      <th></th>\n",
       "      <th></th>\n",
       "      <th></th>\n",
       "      <th></th>\n",
       "      <th></th>\n",
       "      <th></th>\n",
       "      <th></th>\n",
       "      <th></th>\n",
       "      <th></th>\n",
       "      <th></th>\n",
       "      <th></th>\n",
       "      <th></th>\n",
       "      <th></th>\n",
       "      <th></th>\n",
       "      <th></th>\n",
       "    </tr>\n",
       "  </thead>\n",
       "  <tbody>\n",
       "    <tr>\n",
       "      <th>2016-01-04</th>\n",
       "      <td>130182.0</td>\n",
       "      <td>131784.0</td>\n",
       "      <td>126578.0</td>\n",
       "      <td>126579.0</td>\n",
       "      <td>93272.0</td>\n",
       "      <td>-0.039511</td>\n",
       "      <td>NaN</td>\n",
       "      <td>NaN</td>\n",
       "      <td>NaN</td>\n",
       "      <td>NaN</td>\n",
       "      <td>NaN</td>\n",
       "      <td>NaN</td>\n",
       "      <td>NaN</td>\n",
       "      <td>NaN</td>\n",
       "      <td>NaN</td>\n",
       "      <td>NaN</td>\n",
       "      <td>NaN</td>\n",
       "      <td>NaN</td>\n",
       "    </tr>\n",
       "    <tr>\n",
       "      <th>2016-01-05</th>\n",
       "      <td>126778.0</td>\n",
       "      <td>128580.0</td>\n",
       "      <td>126378.0</td>\n",
       "      <td>127580.0</td>\n",
       "      <td>69456.0</td>\n",
       "      <td>0.007908</td>\n",
       "      <td>NaN</td>\n",
       "      <td>NaN</td>\n",
       "      <td>NaN</td>\n",
       "      <td>NaN</td>\n",
       "      <td>NaN</td>\n",
       "      <td>NaN</td>\n",
       "      <td>NaN</td>\n",
       "      <td>NaN</td>\n",
       "      <td>NaN</td>\n",
       "      <td>NaN</td>\n",
       "      <td>NaN</td>\n",
       "      <td>NaN</td>\n",
       "    </tr>\n",
       "    <tr>\n",
       "      <th>2016-01-06</th>\n",
       "      <td>129181.0</td>\n",
       "      <td>129181.0</td>\n",
       "      <td>124575.0</td>\n",
       "      <td>124776.0</td>\n",
       "      <td>95682.0</td>\n",
       "      <td>-0.021978</td>\n",
       "      <td>NaN</td>\n",
       "      <td>NaN</td>\n",
       "      <td>NaN</td>\n",
       "      <td>NaN</td>\n",
       "      <td>NaN</td>\n",
       "      <td>NaN</td>\n",
       "      <td>NaN</td>\n",
       "      <td>NaN</td>\n",
       "      <td>NaN</td>\n",
       "      <td>NaN</td>\n",
       "      <td>NaN</td>\n",
       "      <td>NaN</td>\n",
       "    </tr>\n",
       "    <tr>\n",
       "      <th>2016-01-07</th>\n",
       "      <td>125377.0</td>\n",
       "      <td>132187.0</td>\n",
       "      <td>125377.0</td>\n",
       "      <td>130585.0</td>\n",
       "      <td>125253.0</td>\n",
       "      <td>0.046555</td>\n",
       "      <td>NaN</td>\n",
       "      <td>NaN</td>\n",
       "      <td>NaN</td>\n",
       "      <td>NaN</td>\n",
       "      <td>NaN</td>\n",
       "      <td>NaN</td>\n",
       "      <td>NaN</td>\n",
       "      <td>NaN</td>\n",
       "      <td>NaN</td>\n",
       "      <td>NaN</td>\n",
       "      <td>NaN</td>\n",
       "      <td>NaN</td>\n",
       "    </tr>\n",
       "    <tr>\n",
       "      <th>2016-01-08</th>\n",
       "      <td>130585.0</td>\n",
       "      <td>131987.0</td>\n",
       "      <td>128582.0</td>\n",
       "      <td>130585.0</td>\n",
       "      <td>63922.0</td>\n",
       "      <td>0.000000</td>\n",
       "      <td>NaN</td>\n",
       "      <td>NaN</td>\n",
       "      <td>NaN</td>\n",
       "      <td>NaN</td>\n",
       "      <td>NaN</td>\n",
       "      <td>NaN</td>\n",
       "      <td>NaN</td>\n",
       "      <td>NaN</td>\n",
       "      <td>NaN</td>\n",
       "      <td>NaN</td>\n",
       "      <td>NaN</td>\n",
       "      <td>NaN</td>\n",
       "    </tr>\n",
       "    <tr>\n",
       "      <th>...</th>\n",
       "      <td>...</td>\n",
       "      <td>...</td>\n",
       "      <td>...</td>\n",
       "      <td>...</td>\n",
       "      <td>...</td>\n",
       "      <td>...</td>\n",
       "      <td>...</td>\n",
       "      <td>...</td>\n",
       "      <td>...</td>\n",
       "      <td>...</td>\n",
       "      <td>...</td>\n",
       "      <td>...</td>\n",
       "      <td>...</td>\n",
       "      <td>...</td>\n",
       "      <td>...</td>\n",
       "      <td>...</td>\n",
       "      <td>...</td>\n",
       "      <td>...</td>\n",
       "    </tr>\n",
       "    <tr>\n",
       "      <th>2021-12-16</th>\n",
       "      <td>NaN</td>\n",
       "      <td>NaN</td>\n",
       "      <td>NaN</td>\n",
       "      <td>NaN</td>\n",
       "      <td>NaN</td>\n",
       "      <td>NaN</td>\n",
       "      <td>NaN</td>\n",
       "      <td>NaN</td>\n",
       "      <td>NaN</td>\n",
       "      <td>NaN</td>\n",
       "      <td>NaN</td>\n",
       "      <td>NaN</td>\n",
       "      <td>233000.0</td>\n",
       "      <td>234000.0</td>\n",
       "      <td>224500.0</td>\n",
       "      <td>228000.0</td>\n",
       "      <td>144647.0</td>\n",
       "      <td>-0.012987</td>\n",
       "    </tr>\n",
       "    <tr>\n",
       "      <th>2021-12-17</th>\n",
       "      <td>NaN</td>\n",
       "      <td>NaN</td>\n",
       "      <td>NaN</td>\n",
       "      <td>NaN</td>\n",
       "      <td>NaN</td>\n",
       "      <td>NaN</td>\n",
       "      <td>NaN</td>\n",
       "      <td>NaN</td>\n",
       "      <td>NaN</td>\n",
       "      <td>NaN</td>\n",
       "      <td>NaN</td>\n",
       "      <td>NaN</td>\n",
       "      <td>227000.0</td>\n",
       "      <td>235000.0</td>\n",
       "      <td>226500.0</td>\n",
       "      <td>234500.0</td>\n",
       "      <td>138945.0</td>\n",
       "      <td>0.028509</td>\n",
       "    </tr>\n",
       "    <tr>\n",
       "      <th>2021-12-20</th>\n",
       "      <td>NaN</td>\n",
       "      <td>NaN</td>\n",
       "      <td>NaN</td>\n",
       "      <td>NaN</td>\n",
       "      <td>NaN</td>\n",
       "      <td>NaN</td>\n",
       "      <td>NaN</td>\n",
       "      <td>NaN</td>\n",
       "      <td>NaN</td>\n",
       "      <td>NaN</td>\n",
       "      <td>NaN</td>\n",
       "      <td>NaN</td>\n",
       "      <td>232000.0</td>\n",
       "      <td>233500.0</td>\n",
       "      <td>228000.0</td>\n",
       "      <td>229500.0</td>\n",
       "      <td>90630.0</td>\n",
       "      <td>-0.021322</td>\n",
       "    </tr>\n",
       "    <tr>\n",
       "      <th>2021-12-21</th>\n",
       "      <td>NaN</td>\n",
       "      <td>NaN</td>\n",
       "      <td>NaN</td>\n",
       "      <td>NaN</td>\n",
       "      <td>NaN</td>\n",
       "      <td>NaN</td>\n",
       "      <td>NaN</td>\n",
       "      <td>NaN</td>\n",
       "      <td>NaN</td>\n",
       "      <td>NaN</td>\n",
       "      <td>NaN</td>\n",
       "      <td>NaN</td>\n",
       "      <td>232000.0</td>\n",
       "      <td>232500.0</td>\n",
       "      <td>227000.0</td>\n",
       "      <td>229500.0</td>\n",
       "      <td>98669.0</td>\n",
       "      <td>0.000000</td>\n",
       "    </tr>\n",
       "    <tr>\n",
       "      <th>2021-12-22</th>\n",
       "      <td>NaN</td>\n",
       "      <td>NaN</td>\n",
       "      <td>NaN</td>\n",
       "      <td>NaN</td>\n",
       "      <td>NaN</td>\n",
       "      <td>NaN</td>\n",
       "      <td>NaN</td>\n",
       "      <td>NaN</td>\n",
       "      <td>NaN</td>\n",
       "      <td>NaN</td>\n",
       "      <td>NaN</td>\n",
       "      <td>NaN</td>\n",
       "      <td>229000.0</td>\n",
       "      <td>230000.0</td>\n",
       "      <td>225000.0</td>\n",
       "      <td>225000.0</td>\n",
       "      <td>99419.0</td>\n",
       "      <td>-0.019608</td>\n",
       "    </tr>\n",
       "  </tbody>\n",
       "</table>\n",
       "<p>1469 rows × 18 columns</p>\n",
       "</div>"
      ],
      "text/plain": [
       "stock          naver                                                   samsung                                  lotte                                                  \n",
       "날짜              Open      High       Low     Close    Volume    Change    Open High Low Close Volume Change      Open      High       Low     Close    Volume    Change\n",
       "Date                                                                                                                                                                   \n",
       "2016-01-04  130182.0  131784.0  126578.0  126579.0   93272.0 -0.039511     NaN  NaN NaN   NaN    NaN    NaN       NaN       NaN       NaN       NaN       NaN       NaN\n",
       "2016-01-05  126778.0  128580.0  126378.0  127580.0   69456.0  0.007908     NaN  NaN NaN   NaN    NaN    NaN       NaN       NaN       NaN       NaN       NaN       NaN\n",
       "2016-01-06  129181.0  129181.0  124575.0  124776.0   95682.0 -0.021978     NaN  NaN NaN   NaN    NaN    NaN       NaN       NaN       NaN       NaN       NaN       NaN\n",
       "2016-01-07  125377.0  132187.0  125377.0  130585.0  125253.0  0.046555     NaN  NaN NaN   NaN    NaN    NaN       NaN       NaN       NaN       NaN       NaN       NaN\n",
       "2016-01-08  130585.0  131987.0  128582.0  130585.0   63922.0  0.000000     NaN  NaN NaN   NaN    NaN    NaN       NaN       NaN       NaN       NaN       NaN       NaN\n",
       "...              ...       ...       ...       ...       ...       ...     ...  ...  ..   ...    ...    ...       ...       ...       ...       ...       ...       ...\n",
       "2021-12-16       NaN       NaN       NaN       NaN       NaN       NaN     NaN  NaN NaN   NaN    NaN    NaN  233000.0  234000.0  224500.0  228000.0  144647.0 -0.012987\n",
       "2021-12-17       NaN       NaN       NaN       NaN       NaN       NaN     NaN  NaN NaN   NaN    NaN    NaN  227000.0  235000.0  226500.0  234500.0  138945.0  0.028509\n",
       "2021-12-20       NaN       NaN       NaN       NaN       NaN       NaN     NaN  NaN NaN   NaN    NaN    NaN  232000.0  233500.0  228000.0  229500.0   90630.0 -0.021322\n",
       "2021-12-21       NaN       NaN       NaN       NaN       NaN       NaN     NaN  NaN NaN   NaN    NaN    NaN  232000.0  232500.0  227000.0  229500.0   98669.0  0.000000\n",
       "2021-12-22       NaN       NaN       NaN       NaN       NaN       NaN     NaN  NaN NaN   NaN    NaN    NaN  229000.0  230000.0  225000.0  225000.0   99419.0 -0.019608\n",
       "\n",
       "[1469 rows x 18 columns]"
      ]
     },
     "execution_count": 113,
     "metadata": {},
     "output_type": "execute_result"
    }
   ],
   "source": [
    "import pandas as pd\n",
    "\n",
    "df_samsung = pd.read_excel('samsung_naver_excel.xlsx', sheet_name = 'samsung', index_col = 0)\n",
    "\n",
    "df_naver = pd.read_excel('samsung_naver_excel.xlsx', sheet_name = 'naver', index_col = 0)\n",
    "\n",
    "df_lotte = pd.read_csv('롯데케미칼.csv', index_col = 0,header = 0)\n",
    "\n",
    "df_lotte.index = pd.to_datetime(df_lotte.index)\n",
    "\n",
    "df = pd.concat([df_naver, df_samsung, df_lotte], keys=['naver', 'samsung', 'lotte'], names=['stock', '날짜'], axis = 1, join = 'outer')\n",
    "df"
   ]
  },
  {
   "cell_type": "code",
   "execution_count": 114,
   "id": "5edc728d",
   "metadata": {
    "ExecuteTime": {
     "end_time": "2022-01-09T00:52:19.144068Z",
     "start_time": "2022-01-09T00:52:19.130536Z"
    }
   },
   "outputs": [
    {
     "name": "stdout",
     "output_type": "stream",
     "text": [
      "<class 'pandas.core.frame.DataFrame'>\n",
      "DatetimeIndex: 1469 entries, 2016-01-04 to 2021-12-22\n",
      "Data columns (total 18 columns):\n",
      " #   Column             Non-Null Count  Dtype  \n",
      "---  ------             --------------  -----  \n",
      " 0   (naver, Open)      979 non-null    float64\n",
      " 1   (naver, High)      979 non-null    float64\n",
      " 2   (naver, Low)       979 non-null    float64\n",
      " 3   (naver, Close)     979 non-null    float64\n",
      " 4   (naver, Volume)    979 non-null    float64\n",
      " 5   (naver, Change)    979 non-null    float64\n",
      " 6   (samsung, Open)    738 non-null    float64\n",
      " 7   (samsung, High)    738 non-null    float64\n",
      " 8   (samsung, Low)     738 non-null    float64\n",
      " 9   (samsung, Close)   738 non-null    float64\n",
      " 10  (samsung, Volume)  738 non-null    float64\n",
      " 11  (samsung, Change)  738 non-null    float64\n",
      " 12  (lotte, Open)      980 non-null    float64\n",
      " 13  (lotte, High)      980 non-null    float64\n",
      " 14  (lotte, Low)       980 non-null    float64\n",
      " 15  (lotte, Close)     980 non-null    float64\n",
      " 16  (lotte, Volume)    980 non-null    float64\n",
      " 17  (lotte, Change)    980 non-null    float64\n",
      "dtypes: float64(18)\n",
      "memory usage: 218.1 KB\n"
     ]
    }
   ],
   "source": [
    "# info\n",
    "df.info()"
   ]
  },
  {
   "cell_type": "code",
   "execution_count": 115,
   "id": "b1dfe67a",
   "metadata": {
    "ExecuteTime": {
     "end_time": "2022-01-09T00:52:23.611371Z",
     "start_time": "2022-01-09T00:52:23.551449Z"
    }
   },
   "outputs": [
    {
     "data": {
      "text/html": [
       "<div>\n",
       "<style scoped>\n",
       "    .dataframe tbody tr th:only-of-type {\n",
       "        vertical-align: middle;\n",
       "    }\n",
       "\n",
       "    .dataframe tbody tr th {\n",
       "        vertical-align: top;\n",
       "    }\n",
       "\n",
       "    .dataframe thead tr th {\n",
       "        text-align: left;\n",
       "    }\n",
       "</style>\n",
       "<table border=\"1\" class=\"dataframe\">\n",
       "  <thead>\n",
       "    <tr>\n",
       "      <th>stock</th>\n",
       "      <th colspan=\"6\" halign=\"left\">naver</th>\n",
       "      <th colspan=\"6\" halign=\"left\">samsung</th>\n",
       "      <th colspan=\"6\" halign=\"left\">lotte</th>\n",
       "    </tr>\n",
       "    <tr>\n",
       "      <th>날짜</th>\n",
       "      <th>Open</th>\n",
       "      <th>High</th>\n",
       "      <th>Low</th>\n",
       "      <th>Close</th>\n",
       "      <th>Volume</th>\n",
       "      <th>Change</th>\n",
       "      <th>Open</th>\n",
       "      <th>High</th>\n",
       "      <th>Low</th>\n",
       "      <th>Close</th>\n",
       "      <th>Volume</th>\n",
       "      <th>Change</th>\n",
       "      <th>Open</th>\n",
       "      <th>High</th>\n",
       "      <th>Low</th>\n",
       "      <th>Close</th>\n",
       "      <th>Volume</th>\n",
       "      <th>Change</th>\n",
       "    </tr>\n",
       "  </thead>\n",
       "  <tbody>\n",
       "    <tr>\n",
       "      <th>count</th>\n",
       "      <td>979.000000</td>\n",
       "      <td>979.000000</td>\n",
       "      <td>979.000000</td>\n",
       "      <td>979.000000</td>\n",
       "      <td>9.790000e+02</td>\n",
       "      <td>979.000000</td>\n",
       "      <td>738.000000</td>\n",
       "      <td>738.000000</td>\n",
       "      <td>738.000000</td>\n",
       "      <td>738.000000</td>\n",
       "      <td>7.380000e+02</td>\n",
       "      <td>738.000000</td>\n",
       "      <td>980.000000</td>\n",
       "      <td>980.000000</td>\n",
       "      <td>980.000000</td>\n",
       "      <td>980.000000</td>\n",
       "      <td>9.800000e+02</td>\n",
       "      <td>980.000000</td>\n",
       "    </tr>\n",
       "    <tr>\n",
       "      <th>mean</th>\n",
       "      <td>147904.304392</td>\n",
       "      <td>149774.075587</td>\n",
       "      <td>145962.802860</td>\n",
       "      <td>148274.173647</td>\n",
       "      <td>2.208698e+05</td>\n",
       "      <td>0.000545</td>\n",
       "      <td>50000.460705</td>\n",
       "      <td>50533.481030</td>\n",
       "      <td>49458.523035</td>\n",
       "      <td>50216.869919</td>\n",
       "      <td>1.361474e+07</td>\n",
       "      <td>0.000784</td>\n",
       "      <td>270290.816327</td>\n",
       "      <td>274691.836735</td>\n",
       "      <td>265755.102041</td>\n",
       "      <td>269804.081633</td>\n",
       "      <td>1.881471e+05</td>\n",
       "      <td>-0.000144</td>\n",
       "    </tr>\n",
       "    <tr>\n",
       "      <th>std</th>\n",
       "      <td>20766.399720</td>\n",
       "      <td>20897.664784</td>\n",
       "      <td>20573.241066</td>\n",
       "      <td>19056.913614</td>\n",
       "      <td>2.856504e+05</td>\n",
       "      <td>0.019582</td>\n",
       "      <td>7702.675480</td>\n",
       "      <td>7820.644455</td>\n",
       "      <td>7631.618287</td>\n",
       "      <td>7055.377470</td>\n",
       "      <td>9.439103e+06</td>\n",
       "      <td>0.017700</td>\n",
       "      <td>67071.213030</td>\n",
       "      <td>67905.088593</td>\n",
       "      <td>66068.051743</td>\n",
       "      <td>66937.798972</td>\n",
       "      <td>2.816061e+05</td>\n",
       "      <td>0.026984</td>\n",
       "    </tr>\n",
       "    <tr>\n",
       "      <th>min</th>\n",
       "      <td>0.000000</td>\n",
       "      <td>0.000000</td>\n",
       "      <td>0.000000</td>\n",
       "      <td>106500.000000</td>\n",
       "      <td>0.000000e+00</td>\n",
       "      <td>-0.067706</td>\n",
       "      <td>0.000000</td>\n",
       "      <td>0.000000</td>\n",
       "      <td>0.000000</td>\n",
       "      <td>37450.000000</td>\n",
       "      <td>0.000000e+00</td>\n",
       "      <td>-0.063877</td>\n",
       "      <td>121000.000000</td>\n",
       "      <td>143000.000000</td>\n",
       "      <td>114500.000000</td>\n",
       "      <td>117000.000000</td>\n",
       "      <td>4.348100e+04</td>\n",
       "      <td>-0.155235</td>\n",
       "    </tr>\n",
       "    <tr>\n",
       "      <th>25%</th>\n",
       "      <td>132544.000000</td>\n",
       "      <td>134500.000000</td>\n",
       "      <td>130441.500000</td>\n",
       "      <td>133000.000000</td>\n",
       "      <td>7.384250e+04</td>\n",
       "      <td>-0.010662</td>\n",
       "      <td>45262.500000</td>\n",
       "      <td>45900.000000</td>\n",
       "      <td>44900.000000</td>\n",
       "      <td>45500.000000</td>\n",
       "      <td>8.077088e+06</td>\n",
       "      <td>-0.009950</td>\n",
       "      <td>223500.000000</td>\n",
       "      <td>226375.000000</td>\n",
       "      <td>219500.000000</td>\n",
       "      <td>223000.000000</td>\n",
       "      <td>1.030385e+05</td>\n",
       "      <td>-0.013799</td>\n",
       "    </tr>\n",
       "    <tr>\n",
       "      <th>50%</th>\n",
       "      <td>151412.000000</td>\n",
       "      <td>153500.000000</td>\n",
       "      <td>149811.000000</td>\n",
       "      <td>151214.000000</td>\n",
       "      <td>1.083110e+05</td>\n",
       "      <td>0.000000</td>\n",
       "      <td>48680.000000</td>\n",
       "      <td>49200.000000</td>\n",
       "      <td>48000.000000</td>\n",
       "      <td>48745.000000</td>\n",
       "      <td>1.199751e+07</td>\n",
       "      <td>0.001065</td>\n",
       "      <td>265500.000000</td>\n",
       "      <td>269000.000000</td>\n",
       "      <td>262000.000000</td>\n",
       "      <td>265000.000000</td>\n",
       "      <td>1.483915e+05</td>\n",
       "      <td>-0.001410</td>\n",
       "    </tr>\n",
       "    <tr>\n",
       "      <th>75%</th>\n",
       "      <td>162230.000000</td>\n",
       "      <td>164000.000000</td>\n",
       "      <td>160426.500000</td>\n",
       "      <td>162029.000000</td>\n",
       "      <td>2.941180e+05</td>\n",
       "      <td>0.010373</td>\n",
       "      <td>53600.000000</td>\n",
       "      <td>53900.000000</td>\n",
       "      <td>52875.000000</td>\n",
       "      <td>53500.000000</td>\n",
       "      <td>1.775210e+07</td>\n",
       "      <td>0.010629</td>\n",
       "      <td>299625.000000</td>\n",
       "      <td>304000.000000</td>\n",
       "      <td>293625.000000</td>\n",
       "      <td>299000.000000</td>\n",
       "      <td>2.241755e+05</td>\n",
       "      <td>0.012306</td>\n",
       "    </tr>\n",
       "    <tr>\n",
       "      <th>max</th>\n",
       "      <td>189068.000000</td>\n",
       "      <td>195275.000000</td>\n",
       "      <td>186865.000000</td>\n",
       "      <td>192272.000000</td>\n",
       "      <td>5.304519e+06</td>\n",
       "      <td>0.139241</td>\n",
       "      <td>79000.000000</td>\n",
       "      <td>81300.000000</td>\n",
       "      <td>78200.000000</td>\n",
       "      <td>81000.000000</td>\n",
       "      <td>6.349111e+07</td>\n",
       "      <td>0.104706</td>\n",
       "      <td>474500.000000</td>\n",
       "      <td>475000.000000</td>\n",
       "      <td>463500.000000</td>\n",
       "      <td>474500.000000</td>\n",
       "      <td>8.154268e+06</td>\n",
       "      <td>0.260684</td>\n",
       "    </tr>\n",
       "  </tbody>\n",
       "</table>\n",
       "</div>"
      ],
      "text/plain": [
       "stock          naver                                                                              samsung                                                                              lotte                                                                       \n",
       "날짜              Open           High            Low          Close        Volume      Change          Open          High           Low         Close        Volume      Change           Open           High            Low          Close        Volume      Change\n",
       "count     979.000000     979.000000     979.000000     979.000000  9.790000e+02  979.000000    738.000000    738.000000    738.000000    738.000000  7.380000e+02  738.000000     980.000000     980.000000     980.000000     980.000000  9.800000e+02  980.000000\n",
       "mean   147904.304392  149774.075587  145962.802860  148274.173647  2.208698e+05    0.000545  50000.460705  50533.481030  49458.523035  50216.869919  1.361474e+07    0.000784  270290.816327  274691.836735  265755.102041  269804.081633  1.881471e+05   -0.000144\n",
       "std     20766.399720   20897.664784   20573.241066   19056.913614  2.856504e+05    0.019582   7702.675480   7820.644455   7631.618287   7055.377470  9.439103e+06    0.017700   67071.213030   67905.088593   66068.051743   66937.798972  2.816061e+05    0.026984\n",
       "min         0.000000       0.000000       0.000000  106500.000000  0.000000e+00   -0.067706      0.000000      0.000000      0.000000  37450.000000  0.000000e+00   -0.063877  121000.000000  143000.000000  114500.000000  117000.000000  4.348100e+04   -0.155235\n",
       "25%    132544.000000  134500.000000  130441.500000  133000.000000  7.384250e+04   -0.010662  45262.500000  45900.000000  44900.000000  45500.000000  8.077088e+06   -0.009950  223500.000000  226375.000000  219500.000000  223000.000000  1.030385e+05   -0.013799\n",
       "50%    151412.000000  153500.000000  149811.000000  151214.000000  1.083110e+05    0.000000  48680.000000  49200.000000  48000.000000  48745.000000  1.199751e+07    0.001065  265500.000000  269000.000000  262000.000000  265000.000000  1.483915e+05   -0.001410\n",
       "75%    162230.000000  164000.000000  160426.500000  162029.000000  2.941180e+05    0.010373  53600.000000  53900.000000  52875.000000  53500.000000  1.775210e+07    0.010629  299625.000000  304000.000000  293625.000000  299000.000000  2.241755e+05    0.012306\n",
       "max    189068.000000  195275.000000  186865.000000  192272.000000  5.304519e+06    0.139241  79000.000000  81300.000000  78200.000000  81000.000000  6.349111e+07    0.104706  474500.000000  475000.000000  463500.000000  474500.000000  8.154268e+06    0.260684"
      ]
     },
     "execution_count": 115,
     "metadata": {},
     "output_type": "execute_result"
    }
   ],
   "source": [
    "# describe()\n",
    "df.describe()"
   ]
  },
  {
   "cell_type": "markdown",
   "id": "58a97816",
   "metadata": {},
   "source": [
    "## 조건 (DataFrame과 DataFrame의 연산 주의!)"
   ]
  },
  {
   "cell_type": "code",
   "execution_count": 118,
   "id": "67e76572",
   "metadata": {
    "ExecuteTime": {
     "end_time": "2022-01-09T00:54:33.713292Z",
     "start_time": "2022-01-09T00:54:33.691054Z"
    }
   },
   "outputs": [
    {
     "data": {
      "text/html": [
       "<div>\n",
       "<style scoped>\n",
       "    .dataframe tbody tr th:only-of-type {\n",
       "        vertical-align: middle;\n",
       "    }\n",
       "\n",
       "    .dataframe tbody tr th {\n",
       "        vertical-align: top;\n",
       "    }\n",
       "\n",
       "    .dataframe thead th {\n",
       "        text-align: right;\n",
       "    }\n",
       "</style>\n",
       "<table border=\"1\" class=\"dataframe\">\n",
       "  <thead>\n",
       "    <tr style=\"text-align: right;\">\n",
       "      <th></th>\n",
       "      <th>a</th>\n",
       "      <th>b</th>\n",
       "      <th>c</th>\n",
       "      <th>e</th>\n",
       "    </tr>\n",
       "  </thead>\n",
       "  <tbody>\n",
       "    <tr>\n",
       "      <th>0</th>\n",
       "      <td>0</td>\n",
       "      <td>NaN</td>\n",
       "      <td>NaN</td>\n",
       "      <td>NaN</td>\n",
       "    </tr>\n",
       "    <tr>\n",
       "      <th>1</th>\n",
       "      <td>0</td>\n",
       "      <td>NaN</td>\n",
       "      <td>NaN</td>\n",
       "      <td>NaN</td>\n",
       "    </tr>\n",
       "    <tr>\n",
       "      <th>2</th>\n",
       "      <td>0</td>\n",
       "      <td>NaN</td>\n",
       "      <td>NaN</td>\n",
       "      <td>NaN</td>\n",
       "    </tr>\n",
       "  </tbody>\n",
       "</table>\n",
       "</div>"
      ],
      "text/plain": [
       "   a   b   c   e\n",
       "0  0 NaN NaN NaN\n",
       "1  0 NaN NaN NaN\n",
       "2  0 NaN NaN NaN"
      ]
     },
     "execution_count": 118,
     "metadata": {},
     "output_type": "execute_result"
    }
   ],
   "source": [
    "import pandas as pd\n",
    "import numpy as np\n",
    "\n",
    "df1 = pd.DataFrame({'a':[1,4,7], 'b':[2,5,8], 'c':[3,6,9]})\n",
    "df1\n",
    "\n",
    "df2 = pd.DataFrame({'a':[-1,-4,-7], 'b':[np.nan,np.nan,np.nan], 'e':[3,6,9]})\n",
    "df2\n",
    "\n",
    "df1 + df2"
   ]
  },
  {
   "cell_type": "code",
   "execution_count": 120,
   "id": "34f4f413",
   "metadata": {
    "ExecuteTime": {
     "end_time": "2022-01-09T00:54:45.499267Z",
     "start_time": "2022-01-09T00:54:45.294033Z"
    }
   },
   "outputs": [
    {
     "data": {
      "text/html": [
       "<div>\n",
       "<style scoped>\n",
       "    .dataframe tbody tr th:only-of-type {\n",
       "        vertical-align: middle;\n",
       "    }\n",
       "\n",
       "    .dataframe tbody tr th {\n",
       "        vertical-align: top;\n",
       "    }\n",
       "\n",
       "    .dataframe thead th {\n",
       "        text-align: right;\n",
       "    }\n",
       "</style>\n",
       "<table border=\"1\" class=\"dataframe\">\n",
       "  <thead>\n",
       "    <tr style=\"text-align: right;\">\n",
       "      <th></th>\n",
       "      <th>Close</th>\n",
       "      <th>Open</th>\n",
       "      <th>High</th>\n",
       "      <th>Low</th>\n",
       "      <th>Volume</th>\n",
       "      <th>Change</th>\n",
       "    </tr>\n",
       "    <tr>\n",
       "      <th>Date</th>\n",
       "      <th></th>\n",
       "      <th></th>\n",
       "      <th></th>\n",
       "      <th></th>\n",
       "      <th></th>\n",
       "      <th></th>\n",
       "    </tr>\n",
       "  </thead>\n",
       "  <tbody>\n",
       "    <tr>\n",
       "      <th>2016-01-04</th>\n",
       "      <td>1918.76</td>\n",
       "      <td>1954.47</td>\n",
       "      <td>1954.52</td>\n",
       "      <td>1918.76</td>\n",
       "      <td>359020000.0</td>\n",
       "      <td>-0.0217</td>\n",
       "    </tr>\n",
       "    <tr>\n",
       "      <th>2016-01-05</th>\n",
       "      <td>1930.53</td>\n",
       "      <td>1911.93</td>\n",
       "      <td>1937.57</td>\n",
       "      <td>1911.93</td>\n",
       "      <td>446550000.0</td>\n",
       "      <td>0.0061</td>\n",
       "    </tr>\n",
       "    <tr>\n",
       "      <th>2016-01-06</th>\n",
       "      <td>1925.43</td>\n",
       "      <td>1934.25</td>\n",
       "      <td>1934.25</td>\n",
       "      <td>1911.61</td>\n",
       "      <td>594610000.0</td>\n",
       "      <td>-0.0026</td>\n",
       "    </tr>\n",
       "    <tr>\n",
       "      <th>2016-01-07</th>\n",
       "      <td>1904.33</td>\n",
       "      <td>1915.71</td>\n",
       "      <td>1926.41</td>\n",
       "      <td>1901.24</td>\n",
       "      <td>393040000.0</td>\n",
       "      <td>-0.0110</td>\n",
       "    </tr>\n",
       "    <tr>\n",
       "      <th>2016-01-08</th>\n",
       "      <td>1917.62</td>\n",
       "      <td>1889.42</td>\n",
       "      <td>1918.25</td>\n",
       "      <td>1883.82</td>\n",
       "      <td>430200000.0</td>\n",
       "      <td>0.0070</td>\n",
       "    </tr>\n",
       "    <tr>\n",
       "      <th>...</th>\n",
       "      <td>...</td>\n",
       "      <td>...</td>\n",
       "      <td>...</td>\n",
       "      <td>...</td>\n",
       "      <td>...</td>\n",
       "      <td>...</td>\n",
       "    </tr>\n",
       "    <tr>\n",
       "      <th>2021-12-20</th>\n",
       "      <td>2963.00</td>\n",
       "      <td>3001.33</td>\n",
       "      <td>3001.33</td>\n",
       "      <td>2962.07</td>\n",
       "      <td>377580000.0</td>\n",
       "      <td>-0.0181</td>\n",
       "    </tr>\n",
       "    <tr>\n",
       "      <th>2021-12-21</th>\n",
       "      <td>2975.03</td>\n",
       "      <td>2981.67</td>\n",
       "      <td>2984.56</td>\n",
       "      <td>2955.90</td>\n",
       "      <td>410980000.0</td>\n",
       "      <td>0.0041</td>\n",
       "    </tr>\n",
       "    <tr>\n",
       "      <th>2021-12-22</th>\n",
       "      <td>2984.48</td>\n",
       "      <td>2993.50</td>\n",
       "      <td>3000.79</td>\n",
       "      <td>2976.65</td>\n",
       "      <td>461760000.0</td>\n",
       "      <td>0.0032</td>\n",
       "    </tr>\n",
       "    <tr>\n",
       "      <th>2021-12-23</th>\n",
       "      <td>2998.17</td>\n",
       "      <td>2998.02</td>\n",
       "      <td>3000.70</td>\n",
       "      <td>2980.91</td>\n",
       "      <td>483840000.0</td>\n",
       "      <td>0.0046</td>\n",
       "    </tr>\n",
       "    <tr>\n",
       "      <th>2021-12-24</th>\n",
       "      <td>3012.43</td>\n",
       "      <td>3009.48</td>\n",
       "      <td>3025.77</td>\n",
       "      <td>3009.48</td>\n",
       "      <td>537550000.0</td>\n",
       "      <td>0.0048</td>\n",
       "    </tr>\n",
       "  </tbody>\n",
       "</table>\n",
       "<p>1471 rows × 6 columns</p>\n",
       "</div>"
      ],
      "text/plain": [
       "              Close     Open     High      Low       Volume  Change\n",
       "Date                                                               \n",
       "2016-01-04  1918.76  1954.47  1954.52  1918.76  359020000.0 -0.0217\n",
       "2016-01-05  1930.53  1911.93  1937.57  1911.93  446550000.0  0.0061\n",
       "2016-01-06  1925.43  1934.25  1934.25  1911.61  594610000.0 -0.0026\n",
       "2016-01-07  1904.33  1915.71  1926.41  1901.24  393040000.0 -0.0110\n",
       "2016-01-08  1917.62  1889.42  1918.25  1883.82  430200000.0  0.0070\n",
       "...             ...      ...      ...      ...          ...     ...\n",
       "2021-12-20  2963.00  3001.33  3001.33  2962.07  377580000.0 -0.0181\n",
       "2021-12-21  2975.03  2981.67  2984.56  2955.90  410980000.0  0.0041\n",
       "2021-12-22  2984.48  2993.50  3000.79  2976.65  461760000.0  0.0032\n",
       "2021-12-23  2998.17  2998.02  3000.70  2980.91  483840000.0  0.0046\n",
       "2021-12-24  3012.43  3009.48  3025.77  3009.48  537550000.0  0.0048\n",
       "\n",
       "[1471 rows x 6 columns]"
      ]
     },
     "execution_count": 120,
     "metadata": {},
     "output_type": "execute_result"
    }
   ],
   "source": [
    "pd.set_option('display.max_rows', 200)\n",
    "#pd.set_option('display.max_rows', None)\n",
    "\n",
    "df_samsung = pd.read_excel('samsung_kospi_excel.xlsx', sheet_name = 'samsung', index_col = 0)\n",
    "\n",
    "df_kospi = pd.read_excel('samsung_kospi_excel.xlsx', sheet_name = 'kospi', index_col = 0)\n",
    "\n",
    "df_kospi"
   ]
  },
  {
   "cell_type": "code",
   "execution_count": 121,
   "id": "1caa4ea8",
   "metadata": {
    "ExecuteTime": {
     "end_time": "2022-01-09T00:55:02.169451Z",
     "start_time": "2022-01-09T00:55:02.146546Z"
    }
   },
   "outputs": [
    {
     "data": {
      "text/plain": [
       "count    180.000000\n",
       "mean       2.087939\n",
       "std        1.539910\n",
       "min       -0.698080\n",
       "25%        0.983679\n",
       "50%        1.884999\n",
       "75%        3.011250\n",
       "max       10.470588\n",
       "Name: Change, dtype: float64"
      ]
     },
     "execution_count": 121,
     "metadata": {},
     "output_type": "execute_result"
    }
   ],
   "source": [
    "df_samsung[df_kospi['Change']>=0.01]['Change']*100\n",
    "(df_samsung[df_kospi['Change']>=0.01]['Change']*100).describe()"
   ]
  },
  {
   "cell_type": "markdown",
   "id": "2c223fc9",
   "metadata": {},
   "source": [
    "## Sorting"
   ]
  },
  {
   "cell_type": "code",
   "execution_count": 122,
   "id": "0c8053e4",
   "metadata": {
    "ExecuteTime": {
     "end_time": "2022-01-09T00:55:14.104879Z",
     "start_time": "2022-01-09T00:55:13.890661Z"
    }
   },
   "outputs": [
    {
     "data": {
      "text/html": [
       "<div>\n",
       "<style scoped>\n",
       "    .dataframe tbody tr th:only-of-type {\n",
       "        vertical-align: middle;\n",
       "    }\n",
       "\n",
       "    .dataframe tbody tr th {\n",
       "        vertical-align: top;\n",
       "    }\n",
       "\n",
       "    .dataframe thead th {\n",
       "        text-align: right;\n",
       "    }\n",
       "</style>\n",
       "<table border=\"1\" class=\"dataframe\">\n",
       "  <thead>\n",
       "    <tr style=\"text-align: right;\">\n",
       "      <th></th>\n",
       "      <th>Close</th>\n",
       "      <th>Open</th>\n",
       "      <th>High</th>\n",
       "      <th>Low</th>\n",
       "      <th>Volume</th>\n",
       "      <th>Change</th>\n",
       "    </tr>\n",
       "    <tr>\n",
       "      <th>Date</th>\n",
       "      <th></th>\n",
       "      <th></th>\n",
       "      <th></th>\n",
       "      <th></th>\n",
       "      <th></th>\n",
       "      <th></th>\n",
       "    </tr>\n",
       "  </thead>\n",
       "  <tbody>\n",
       "    <tr>\n",
       "      <th>2016-01-04</th>\n",
       "      <td>1918.76</td>\n",
       "      <td>1954.47</td>\n",
       "      <td>1954.52</td>\n",
       "      <td>1918.76</td>\n",
       "      <td>359020000.0</td>\n",
       "      <td>-0.0217</td>\n",
       "    </tr>\n",
       "    <tr>\n",
       "      <th>2016-01-05</th>\n",
       "      <td>1930.53</td>\n",
       "      <td>1911.93</td>\n",
       "      <td>1937.57</td>\n",
       "      <td>1911.93</td>\n",
       "      <td>446550000.0</td>\n",
       "      <td>0.0061</td>\n",
       "    </tr>\n",
       "    <tr>\n",
       "      <th>2016-01-06</th>\n",
       "      <td>1925.43</td>\n",
       "      <td>1934.25</td>\n",
       "      <td>1934.25</td>\n",
       "      <td>1911.61</td>\n",
       "      <td>594610000.0</td>\n",
       "      <td>-0.0026</td>\n",
       "    </tr>\n",
       "    <tr>\n",
       "      <th>2016-01-07</th>\n",
       "      <td>1904.33</td>\n",
       "      <td>1915.71</td>\n",
       "      <td>1926.41</td>\n",
       "      <td>1901.24</td>\n",
       "      <td>393040000.0</td>\n",
       "      <td>-0.0110</td>\n",
       "    </tr>\n",
       "    <tr>\n",
       "      <th>2016-01-08</th>\n",
       "      <td>1917.62</td>\n",
       "      <td>1889.42</td>\n",
       "      <td>1918.25</td>\n",
       "      <td>1883.82</td>\n",
       "      <td>430200000.0</td>\n",
       "      <td>0.0070</td>\n",
       "    </tr>\n",
       "    <tr>\n",
       "      <th>...</th>\n",
       "      <td>...</td>\n",
       "      <td>...</td>\n",
       "      <td>...</td>\n",
       "      <td>...</td>\n",
       "      <td>...</td>\n",
       "      <td>...</td>\n",
       "    </tr>\n",
       "    <tr>\n",
       "      <th>2021-12-20</th>\n",
       "      <td>2963.00</td>\n",
       "      <td>3001.33</td>\n",
       "      <td>3001.33</td>\n",
       "      <td>2962.07</td>\n",
       "      <td>377580000.0</td>\n",
       "      <td>-0.0181</td>\n",
       "    </tr>\n",
       "    <tr>\n",
       "      <th>2021-12-21</th>\n",
       "      <td>2975.03</td>\n",
       "      <td>2981.67</td>\n",
       "      <td>2984.56</td>\n",
       "      <td>2955.90</td>\n",
       "      <td>410980000.0</td>\n",
       "      <td>0.0041</td>\n",
       "    </tr>\n",
       "    <tr>\n",
       "      <th>2021-12-22</th>\n",
       "      <td>2984.48</td>\n",
       "      <td>2993.50</td>\n",
       "      <td>3000.79</td>\n",
       "      <td>2976.65</td>\n",
       "      <td>461760000.0</td>\n",
       "      <td>0.0032</td>\n",
       "    </tr>\n",
       "    <tr>\n",
       "      <th>2021-12-23</th>\n",
       "      <td>2998.17</td>\n",
       "      <td>2998.02</td>\n",
       "      <td>3000.70</td>\n",
       "      <td>2980.91</td>\n",
       "      <td>483840000.0</td>\n",
       "      <td>0.0046</td>\n",
       "    </tr>\n",
       "    <tr>\n",
       "      <th>2021-12-24</th>\n",
       "      <td>3012.43</td>\n",
       "      <td>3009.48</td>\n",
       "      <td>3025.77</td>\n",
       "      <td>3009.48</td>\n",
       "      <td>537550000.0</td>\n",
       "      <td>0.0048</td>\n",
       "    </tr>\n",
       "  </tbody>\n",
       "</table>\n",
       "<p>1471 rows × 6 columns</p>\n",
       "</div>"
      ],
      "text/plain": [
       "              Close     Open     High      Low       Volume  Change\n",
       "Date                                                               \n",
       "2016-01-04  1918.76  1954.47  1954.52  1918.76  359020000.0 -0.0217\n",
       "2016-01-05  1930.53  1911.93  1937.57  1911.93  446550000.0  0.0061\n",
       "2016-01-06  1925.43  1934.25  1934.25  1911.61  594610000.0 -0.0026\n",
       "2016-01-07  1904.33  1915.71  1926.41  1901.24  393040000.0 -0.0110\n",
       "2016-01-08  1917.62  1889.42  1918.25  1883.82  430200000.0  0.0070\n",
       "...             ...      ...      ...      ...          ...     ...\n",
       "2021-12-20  2963.00  3001.33  3001.33  2962.07  377580000.0 -0.0181\n",
       "2021-12-21  2975.03  2981.67  2984.56  2955.90  410980000.0  0.0041\n",
       "2021-12-22  2984.48  2993.50  3000.79  2976.65  461760000.0  0.0032\n",
       "2021-12-23  2998.17  2998.02  3000.70  2980.91  483840000.0  0.0046\n",
       "2021-12-24  3012.43  3009.48  3025.77  3009.48  537550000.0  0.0048\n",
       "\n",
       "[1471 rows x 6 columns]"
      ]
     },
     "execution_count": 122,
     "metadata": {},
     "output_type": "execute_result"
    }
   ],
   "source": [
    "import pandas as pd\n",
    "\n",
    "df_samsung = pd.read_excel('samsung_kospi_excel.xlsx', sheet_name = 'samsung', index_col = 0)\n",
    "\n",
    "df_kospi = pd.read_excel('samsung_kospi_excel.xlsx', sheet_name = 'kospi', index_col = 0)\n",
    "\n",
    "df_kospi"
   ]
  },
  {
   "cell_type": "code",
   "execution_count": 123,
   "id": "c23c40ce",
   "metadata": {
    "ExecuteTime": {
     "end_time": "2022-01-09T00:55:19.413556Z",
     "start_time": "2022-01-09T00:55:19.386140Z"
    }
   },
   "outputs": [
    {
     "data": {
      "text/html": [
       "<div>\n",
       "<style scoped>\n",
       "    .dataframe tbody tr th:only-of-type {\n",
       "        vertical-align: middle;\n",
       "    }\n",
       "\n",
       "    .dataframe tbody tr th {\n",
       "        vertical-align: top;\n",
       "    }\n",
       "\n",
       "    .dataframe thead th {\n",
       "        text-align: right;\n",
       "    }\n",
       "</style>\n",
       "<table border=\"1\" class=\"dataframe\">\n",
       "  <thead>\n",
       "    <tr style=\"text-align: right;\">\n",
       "      <th></th>\n",
       "      <th>Kospi_Return</th>\n",
       "      <th>Samsung_Return</th>\n",
       "    </tr>\n",
       "    <tr>\n",
       "      <th>Date</th>\n",
       "      <th></th>\n",
       "      <th></th>\n",
       "    </tr>\n",
       "  </thead>\n",
       "  <tbody>\n",
       "    <tr>\n",
       "      <th>2016-01-04</th>\n",
       "      <td>-2.17</td>\n",
       "      <td>-4.365079</td>\n",
       "    </tr>\n",
       "    <tr>\n",
       "      <th>2016-01-05</th>\n",
       "      <td>0.61</td>\n",
       "      <td>0.248963</td>\n",
       "    </tr>\n",
       "    <tr>\n",
       "      <th>2016-01-06</th>\n",
       "      <td>-0.26</td>\n",
       "      <td>-2.731788</td>\n",
       "    </tr>\n",
       "    <tr>\n",
       "      <th>2016-01-07</th>\n",
       "      <td>-1.10</td>\n",
       "      <td>-1.021277</td>\n",
       "    </tr>\n",
       "    <tr>\n",
       "      <th>2016-01-08</th>\n",
       "      <td>0.70</td>\n",
       "      <td>0.687876</td>\n",
       "    </tr>\n",
       "    <tr>\n",
       "      <th>...</th>\n",
       "      <td>...</td>\n",
       "      <td>...</td>\n",
       "    </tr>\n",
       "    <tr>\n",
       "      <th>2021-12-20</th>\n",
       "      <td>-1.81</td>\n",
       "      <td>-1.153846</td>\n",
       "    </tr>\n",
       "    <tr>\n",
       "      <th>2021-12-21</th>\n",
       "      <td>0.41</td>\n",
       "      <td>1.297017</td>\n",
       "    </tr>\n",
       "    <tr>\n",
       "      <th>2021-12-22</th>\n",
       "      <td>0.32</td>\n",
       "      <td>1.664533</td>\n",
       "    </tr>\n",
       "    <tr>\n",
       "      <th>2021-12-23</th>\n",
       "      <td>0.46</td>\n",
       "      <td>0.629723</td>\n",
       "    </tr>\n",
       "    <tr>\n",
       "      <th>2021-12-24</th>\n",
       "      <td>0.48</td>\n",
       "      <td>0.750939</td>\n",
       "    </tr>\n",
       "  </tbody>\n",
       "</table>\n",
       "<p>1471 rows × 2 columns</p>\n",
       "</div>"
      ],
      "text/plain": [
       "            Kospi_Return  Samsung_Return\n",
       "Date                                    \n",
       "2016-01-04         -2.17       -4.365079\n",
       "2016-01-05          0.61        0.248963\n",
       "2016-01-06         -0.26       -2.731788\n",
       "2016-01-07         -1.10       -1.021277\n",
       "2016-01-08          0.70        0.687876\n",
       "...                  ...             ...\n",
       "2021-12-20         -1.81       -1.153846\n",
       "2021-12-21          0.41        1.297017\n",
       "2021-12-22          0.32        1.664533\n",
       "2021-12-23          0.46        0.629723\n",
       "2021-12-24          0.48        0.750939\n",
       "\n",
       "[1471 rows x 2 columns]"
      ]
     },
     "execution_count": 123,
     "metadata": {},
     "output_type": "execute_result"
    }
   ],
   "source": [
    "df = pd.DataFrame()\n",
    "\n",
    "df['Kospi_Return'] = df_kospi['Change']\n",
    "\n",
    "df['Samsung_Return'] = df_samsung['Change']\n",
    "\n",
    "df = df * 100\n",
    "df"
   ]
  },
  {
   "cell_type": "code",
   "execution_count": 124,
   "id": "55ed68ee",
   "metadata": {
    "ExecuteTime": {
     "end_time": "2022-01-09T00:55:23.980517Z",
     "start_time": "2022-01-09T00:55:23.953624Z"
    }
   },
   "outputs": [
    {
     "data": {
      "text/html": [
       "<div>\n",
       "<style scoped>\n",
       "    .dataframe tbody tr th:only-of-type {\n",
       "        vertical-align: middle;\n",
       "    }\n",
       "\n",
       "    .dataframe tbody tr th {\n",
       "        vertical-align: top;\n",
       "    }\n",
       "\n",
       "    .dataframe thead th {\n",
       "        text-align: right;\n",
       "    }\n",
       "</style>\n",
       "<table border=\"1\" class=\"dataframe\">\n",
       "  <thead>\n",
       "    <tr style=\"text-align: right;\">\n",
       "      <th></th>\n",
       "      <th>Kospi_Return</th>\n",
       "      <th>Samsung_Return</th>\n",
       "      <th>Condition</th>\n",
       "    </tr>\n",
       "    <tr>\n",
       "      <th>Date</th>\n",
       "      <th></th>\n",
       "      <th></th>\n",
       "      <th></th>\n",
       "    </tr>\n",
       "  </thead>\n",
       "  <tbody>\n",
       "    <tr>\n",
       "      <th>2020-12-09</th>\n",
       "      <td>2.02</td>\n",
       "      <td>3.068340</td>\n",
       "      <td>3.068340</td>\n",
       "    </tr>\n",
       "    <tr>\n",
       "      <th>2016-01-22</th>\n",
       "      <td>2.11</td>\n",
       "      <td>3.271441</td>\n",
       "      <td>3.271441</td>\n",
       "    </tr>\n",
       "    <tr>\n",
       "      <th>2021-12-01</th>\n",
       "      <td>2.14</td>\n",
       "      <td>4.347826</td>\n",
       "      <td>4.347826</td>\n",
       "    </tr>\n",
       "    <tr>\n",
       "      <th>2021-01-25</th>\n",
       "      <td>2.18</td>\n",
       "      <td>2.995392</td>\n",
       "      <td>2.995392</td>\n",
       "    </tr>\n",
       "    <tr>\n",
       "      <th>2020-03-04</th>\n",
       "      <td>2.24</td>\n",
       "      <td>3.610108</td>\n",
       "      <td>3.610108</td>\n",
       "    </tr>\n",
       "    <tr>\n",
       "      <th>2020-05-19</th>\n",
       "      <td>2.25</td>\n",
       "      <td>3.073770</td>\n",
       "      <td>3.073770</td>\n",
       "    </tr>\n",
       "    <tr>\n",
       "      <th>2016-11-10</th>\n",
       "      <td>2.26</td>\n",
       "      <td>3.320802</td>\n",
       "      <td>3.320802</td>\n",
       "    </tr>\n",
       "    <tr>\n",
       "      <th>2017-05-08</th>\n",
       "      <td>2.30</td>\n",
       "      <td>3.295255</td>\n",
       "      <td>3.295255</td>\n",
       "    </tr>\n",
       "    <tr>\n",
       "      <th>2020-04-02</th>\n",
       "      <td>2.34</td>\n",
       "      <td>2.183406</td>\n",
       "      <td>2.183406</td>\n",
       "    </tr>\n",
       "    <tr>\n",
       "      <th>2020-11-05</th>\n",
       "      <td>2.40</td>\n",
       "      <td>3.076923</td>\n",
       "      <td>3.076923</td>\n",
       "    </tr>\n",
       "    <tr>\n",
       "      <th>2021-01-04</th>\n",
       "      <td>2.47</td>\n",
       "      <td>2.469136</td>\n",
       "      <td>2.469136</td>\n",
       "    </tr>\n",
       "    <tr>\n",
       "      <th>2021-01-19</th>\n",
       "      <td>2.61</td>\n",
       "      <td>2.352941</td>\n",
       "      <td>2.352941</td>\n",
       "    </tr>\n",
       "    <tr>\n",
       "      <th>2020-06-03</th>\n",
       "      <td>2.87</td>\n",
       "      <td>6.031128</td>\n",
       "      <td>6.031128</td>\n",
       "    </tr>\n",
       "    <tr>\n",
       "      <th>2020-02-06</th>\n",
       "      <td>2.88</td>\n",
       "      <td>2.689076</td>\n",
       "      <td>2.689076</td>\n",
       "    </tr>\n",
       "    <tr>\n",
       "      <th>2020-04-17</th>\n",
       "      <td>3.09</td>\n",
       "      <td>4.897959</td>\n",
       "      <td>4.897959</td>\n",
       "    </tr>\n",
       "    <tr>\n",
       "      <th>2021-02-25</th>\n",
       "      <td>3.50</td>\n",
       "      <td>4.024390</td>\n",
       "      <td>4.024390</td>\n",
       "    </tr>\n",
       "    <tr>\n",
       "      <th>2018-11-02</th>\n",
       "      <td>3.53</td>\n",
       "      <td>4.744958</td>\n",
       "      <td>4.744958</td>\n",
       "    </tr>\n",
       "    <tr>\n",
       "      <th>2020-04-06</th>\n",
       "      <td>3.85</td>\n",
       "      <td>3.617021</td>\n",
       "      <td>3.617021</td>\n",
       "    </tr>\n",
       "    <tr>\n",
       "      <th>2021-01-08</th>\n",
       "      <td>3.97</td>\n",
       "      <td>7.117008</td>\n",
       "      <td>7.117008</td>\n",
       "    </tr>\n",
       "    <tr>\n",
       "      <th>2020-06-16</th>\n",
       "      <td>5.28</td>\n",
       "      <td>4.408818</td>\n",
       "      <td>4.408818</td>\n",
       "    </tr>\n",
       "    <tr>\n",
       "      <th>2020-03-25</th>\n",
       "      <td>5.89</td>\n",
       "      <td>3.620873</td>\n",
       "      <td>3.620873</td>\n",
       "    </tr>\n",
       "    <tr>\n",
       "      <th>2020-03-20</th>\n",
       "      <td>7.44</td>\n",
       "      <td>5.704307</td>\n",
       "      <td>5.704307</td>\n",
       "    </tr>\n",
       "    <tr>\n",
       "      <th>2020-03-24</th>\n",
       "      <td>8.60</td>\n",
       "      <td>10.470588</td>\n",
       "      <td>10.470588</td>\n",
       "    </tr>\n",
       "  </tbody>\n",
       "</table>\n",
       "</div>"
      ],
      "text/plain": [
       "            Kospi_Return  Samsung_Return  Condition\n",
       "Date                                               \n",
       "2020-12-09          2.02        3.068340   3.068340\n",
       "2016-01-22          2.11        3.271441   3.271441\n",
       "2021-12-01          2.14        4.347826   4.347826\n",
       "2021-01-25          2.18        2.995392   2.995392\n",
       "2020-03-04          2.24        3.610108   3.610108\n",
       "2020-05-19          2.25        3.073770   3.073770\n",
       "2016-11-10          2.26        3.320802   3.320802\n",
       "2017-05-08          2.30        3.295255   3.295255\n",
       "2020-04-02          2.34        2.183406   2.183406\n",
       "2020-11-05          2.40        3.076923   3.076923\n",
       "2021-01-04          2.47        2.469136   2.469136\n",
       "2021-01-19          2.61        2.352941   2.352941\n",
       "2020-06-03          2.87        6.031128   6.031128\n",
       "2020-02-06          2.88        2.689076   2.689076\n",
       "2020-04-17          3.09        4.897959   4.897959\n",
       "2021-02-25          3.50        4.024390   4.024390\n",
       "2018-11-02          3.53        4.744958   4.744958\n",
       "2020-04-06          3.85        3.617021   3.617021\n",
       "2021-01-08          3.97        7.117008   7.117008\n",
       "2020-06-16          5.28        4.408818   4.408818\n",
       "2020-03-25          5.89        3.620873   3.620873\n",
       "2020-03-20          7.44        5.704307   5.704307\n",
       "2020-03-24          8.60       10.470588  10.470588"
      ]
     },
     "execution_count": 124,
     "metadata": {},
     "output_type": "execute_result"
    }
   ],
   "source": [
    "# Condition: Kospi가 2%상승한날과 삼성전자가 2%상승한날\n",
    "pd.set_option('display.max_rows', None)\n",
    "\n",
    "df['Kospi_Return']>=2\n",
    "df['Samsung_Return'] >=2\n",
    "\n",
    "(df['Kospi_Return'] >=2) & (df['Samsung_Return']>=2)\n",
    "\n",
    "df['Condition'] = np.where(((df['Kospi_Return'] >=2) & (df['Samsung_Return']>=2)), df['Samsung_Return'], np.nan)\n",
    "\n",
    "df_result = df.dropna()\n",
    "\n",
    "df_result\n",
    "\n",
    "# index _ Sorting\n",
    "\n",
    "df_result.sort_index(ascending = False)\n",
    "\n",
    "# Value _ Sorting\n",
    "\n",
    "df_result.sort_values(by = 'Kospi_Return', ascending = True)"
   ]
  },
  {
   "cell_type": "markdown",
   "id": "b72c8972",
   "metadata": {
    "ExecuteTime": {
     "end_time": "2022-01-09T00:56:46.967409Z",
     "start_time": "2022-01-09T00:56:46.953624Z"
    }
   },
   "source": [
    "## reset_index & drop"
   ]
  },
  {
   "cell_type": "code",
   "execution_count": 126,
   "id": "18e5ca17",
   "metadata": {
    "ExecuteTime": {
     "end_time": "2022-01-09T00:56:57.047038Z",
     "start_time": "2022-01-09T00:56:56.768992Z"
    }
   },
   "outputs": [
    {
     "data": {
      "text/html": [
       "<div>\n",
       "<style scoped>\n",
       "    .dataframe tbody tr th:only-of-type {\n",
       "        vertical-align: middle;\n",
       "    }\n",
       "\n",
       "    .dataframe tbody tr th {\n",
       "        vertical-align: top;\n",
       "    }\n",
       "\n",
       "    .dataframe thead th {\n",
       "        text-align: right;\n",
       "    }\n",
       "</style>\n",
       "<table border=\"1\" class=\"dataframe\">\n",
       "  <thead>\n",
       "    <tr style=\"text-align: right;\">\n",
       "      <th></th>\n",
       "      <th>Kospi_Return</th>\n",
       "      <th>Samsung_Return</th>\n",
       "      <th>Condition</th>\n",
       "    </tr>\n",
       "    <tr>\n",
       "      <th>Date</th>\n",
       "      <th></th>\n",
       "      <th></th>\n",
       "      <th></th>\n",
       "    </tr>\n",
       "  </thead>\n",
       "  <tbody>\n",
       "    <tr>\n",
       "      <th>2016-01-22</th>\n",
       "      <td>2.11</td>\n",
       "      <td>3.271441</td>\n",
       "      <td>3.271441</td>\n",
       "    </tr>\n",
       "    <tr>\n",
       "      <th>2016-11-10</th>\n",
       "      <td>2.26</td>\n",
       "      <td>3.320802</td>\n",
       "      <td>3.320802</td>\n",
       "    </tr>\n",
       "    <tr>\n",
       "      <th>2017-05-08</th>\n",
       "      <td>2.30</td>\n",
       "      <td>3.295255</td>\n",
       "      <td>3.295255</td>\n",
       "    </tr>\n",
       "    <tr>\n",
       "      <th>2018-11-02</th>\n",
       "      <td>3.53</td>\n",
       "      <td>4.744958</td>\n",
       "      <td>4.744958</td>\n",
       "    </tr>\n",
       "    <tr>\n",
       "      <th>2020-02-06</th>\n",
       "      <td>2.88</td>\n",
       "      <td>2.689076</td>\n",
       "      <td>2.689076</td>\n",
       "    </tr>\n",
       "    <tr>\n",
       "      <th>2020-03-04</th>\n",
       "      <td>2.24</td>\n",
       "      <td>3.610108</td>\n",
       "      <td>3.610108</td>\n",
       "    </tr>\n",
       "    <tr>\n",
       "      <th>2020-03-20</th>\n",
       "      <td>7.44</td>\n",
       "      <td>5.704307</td>\n",
       "      <td>5.704307</td>\n",
       "    </tr>\n",
       "    <tr>\n",
       "      <th>2020-03-24</th>\n",
       "      <td>8.60</td>\n",
       "      <td>10.470588</td>\n",
       "      <td>10.470588</td>\n",
       "    </tr>\n",
       "    <tr>\n",
       "      <th>2020-03-25</th>\n",
       "      <td>5.89</td>\n",
       "      <td>3.620873</td>\n",
       "      <td>3.620873</td>\n",
       "    </tr>\n",
       "    <tr>\n",
       "      <th>2020-04-02</th>\n",
       "      <td>2.34</td>\n",
       "      <td>2.183406</td>\n",
       "      <td>2.183406</td>\n",
       "    </tr>\n",
       "    <tr>\n",
       "      <th>2020-04-06</th>\n",
       "      <td>3.85</td>\n",
       "      <td>3.617021</td>\n",
       "      <td>3.617021</td>\n",
       "    </tr>\n",
       "    <tr>\n",
       "      <th>2020-04-17</th>\n",
       "      <td>3.09</td>\n",
       "      <td>4.897959</td>\n",
       "      <td>4.897959</td>\n",
       "    </tr>\n",
       "    <tr>\n",
       "      <th>2020-05-19</th>\n",
       "      <td>2.25</td>\n",
       "      <td>3.073770</td>\n",
       "      <td>3.073770</td>\n",
       "    </tr>\n",
       "    <tr>\n",
       "      <th>2020-06-03</th>\n",
       "      <td>2.87</td>\n",
       "      <td>6.031128</td>\n",
       "      <td>6.031128</td>\n",
       "    </tr>\n",
       "    <tr>\n",
       "      <th>2020-06-16</th>\n",
       "      <td>5.28</td>\n",
       "      <td>4.408818</td>\n",
       "      <td>4.408818</td>\n",
       "    </tr>\n",
       "    <tr>\n",
       "      <th>2020-11-05</th>\n",
       "      <td>2.40</td>\n",
       "      <td>3.076923</td>\n",
       "      <td>3.076923</td>\n",
       "    </tr>\n",
       "    <tr>\n",
       "      <th>2020-12-09</th>\n",
       "      <td>2.02</td>\n",
       "      <td>3.068340</td>\n",
       "      <td>3.068340</td>\n",
       "    </tr>\n",
       "    <tr>\n",
       "      <th>2021-01-04</th>\n",
       "      <td>2.47</td>\n",
       "      <td>2.469136</td>\n",
       "      <td>2.469136</td>\n",
       "    </tr>\n",
       "    <tr>\n",
       "      <th>2021-01-08</th>\n",
       "      <td>3.97</td>\n",
       "      <td>7.117008</td>\n",
       "      <td>7.117008</td>\n",
       "    </tr>\n",
       "    <tr>\n",
       "      <th>2021-01-19</th>\n",
       "      <td>2.61</td>\n",
       "      <td>2.352941</td>\n",
       "      <td>2.352941</td>\n",
       "    </tr>\n",
       "    <tr>\n",
       "      <th>2021-01-25</th>\n",
       "      <td>2.18</td>\n",
       "      <td>2.995392</td>\n",
       "      <td>2.995392</td>\n",
       "    </tr>\n",
       "    <tr>\n",
       "      <th>2021-02-25</th>\n",
       "      <td>3.50</td>\n",
       "      <td>4.024390</td>\n",
       "      <td>4.024390</td>\n",
       "    </tr>\n",
       "    <tr>\n",
       "      <th>2021-12-01</th>\n",
       "      <td>2.14</td>\n",
       "      <td>4.347826</td>\n",
       "      <td>4.347826</td>\n",
       "    </tr>\n",
       "  </tbody>\n",
       "</table>\n",
       "</div>"
      ],
      "text/plain": [
       "            Kospi_Return  Samsung_Return  Condition\n",
       "Date                                               \n",
       "2016-01-22          2.11        3.271441   3.271441\n",
       "2016-11-10          2.26        3.320802   3.320802\n",
       "2017-05-08          2.30        3.295255   3.295255\n",
       "2018-11-02          3.53        4.744958   4.744958\n",
       "2020-02-06          2.88        2.689076   2.689076\n",
       "2020-03-04          2.24        3.610108   3.610108\n",
       "2020-03-20          7.44        5.704307   5.704307\n",
       "2020-03-24          8.60       10.470588  10.470588\n",
       "2020-03-25          5.89        3.620873   3.620873\n",
       "2020-04-02          2.34        2.183406   2.183406\n",
       "2020-04-06          3.85        3.617021   3.617021\n",
       "2020-04-17          3.09        4.897959   4.897959\n",
       "2020-05-19          2.25        3.073770   3.073770\n",
       "2020-06-03          2.87        6.031128   6.031128\n",
       "2020-06-16          5.28        4.408818   4.408818\n",
       "2020-11-05          2.40        3.076923   3.076923\n",
       "2020-12-09          2.02        3.068340   3.068340\n",
       "2021-01-04          2.47        2.469136   2.469136\n",
       "2021-01-08          3.97        7.117008   7.117008\n",
       "2021-01-19          2.61        2.352941   2.352941\n",
       "2021-01-25          2.18        2.995392   2.995392\n",
       "2021-02-25          3.50        4.024390   4.024390\n",
       "2021-12-01          2.14        4.347826   4.347826"
      ]
     },
     "execution_count": 126,
     "metadata": {},
     "output_type": "execute_result"
    }
   ],
   "source": [
    "import pandas as pd\n",
    "\n",
    "df_samsung = pd.read_excel('samsung_kospi_excel.xlsx', sheet_name = 'samsung', index_col = 0)\n",
    "\n",
    "df_kospi = pd.read_excel('samsung_kospi_excel.xlsx', sheet_name = 'kospi', index_col = 0)\n",
    "\n",
    "df['Condition'] = np.where(((df['Kospi_Return'] >=2) & (df['Samsung_Return']>=2)), df['Samsung_Return'], np.nan)\n",
    "\n",
    "df_result = df.dropna()\n",
    "\n",
    "df_result"
   ]
  },
  {
   "cell_type": "code",
   "execution_count": 127,
   "id": "2b6198f5",
   "metadata": {
    "ExecuteTime": {
     "end_time": "2022-01-09T00:57:01.866349Z",
     "start_time": "2022-01-09T00:57:01.850186Z"
    }
   },
   "outputs": [
    {
     "data": {
      "text/html": [
       "<div>\n",
       "<style scoped>\n",
       "    .dataframe tbody tr th:only-of-type {\n",
       "        vertical-align: middle;\n",
       "    }\n",
       "\n",
       "    .dataframe tbody tr th {\n",
       "        vertical-align: top;\n",
       "    }\n",
       "\n",
       "    .dataframe thead th {\n",
       "        text-align: right;\n",
       "    }\n",
       "</style>\n",
       "<table border=\"1\" class=\"dataframe\">\n",
       "  <thead>\n",
       "    <tr style=\"text-align: right;\">\n",
       "      <th></th>\n",
       "      <th>Date</th>\n",
       "      <th>Kospi_Return</th>\n",
       "      <th>Samsung_Return</th>\n",
       "      <th>Condition</th>\n",
       "    </tr>\n",
       "  </thead>\n",
       "  <tbody>\n",
       "    <tr>\n",
       "      <th>0</th>\n",
       "      <td>2016-01-22</td>\n",
       "      <td>2.11</td>\n",
       "      <td>3.271441</td>\n",
       "      <td>3.271441</td>\n",
       "    </tr>\n",
       "    <tr>\n",
       "      <th>1</th>\n",
       "      <td>2016-11-10</td>\n",
       "      <td>2.26</td>\n",
       "      <td>3.320802</td>\n",
       "      <td>3.320802</td>\n",
       "    </tr>\n",
       "    <tr>\n",
       "      <th>2</th>\n",
       "      <td>2017-05-08</td>\n",
       "      <td>2.30</td>\n",
       "      <td>3.295255</td>\n",
       "      <td>3.295255</td>\n",
       "    </tr>\n",
       "    <tr>\n",
       "      <th>3</th>\n",
       "      <td>2018-11-02</td>\n",
       "      <td>3.53</td>\n",
       "      <td>4.744958</td>\n",
       "      <td>4.744958</td>\n",
       "    </tr>\n",
       "    <tr>\n",
       "      <th>4</th>\n",
       "      <td>2020-02-06</td>\n",
       "      <td>2.88</td>\n",
       "      <td>2.689076</td>\n",
       "      <td>2.689076</td>\n",
       "    </tr>\n",
       "    <tr>\n",
       "      <th>5</th>\n",
       "      <td>2020-03-04</td>\n",
       "      <td>2.24</td>\n",
       "      <td>3.610108</td>\n",
       "      <td>3.610108</td>\n",
       "    </tr>\n",
       "    <tr>\n",
       "      <th>7</th>\n",
       "      <td>2020-03-24</td>\n",
       "      <td>8.60</td>\n",
       "      <td>10.470588</td>\n",
       "      <td>10.470588</td>\n",
       "    </tr>\n",
       "    <tr>\n",
       "      <th>8</th>\n",
       "      <td>2020-03-25</td>\n",
       "      <td>5.89</td>\n",
       "      <td>3.620873</td>\n",
       "      <td>3.620873</td>\n",
       "    </tr>\n",
       "    <tr>\n",
       "      <th>9</th>\n",
       "      <td>2020-04-02</td>\n",
       "      <td>2.34</td>\n",
       "      <td>2.183406</td>\n",
       "      <td>2.183406</td>\n",
       "    </tr>\n",
       "    <tr>\n",
       "      <th>10</th>\n",
       "      <td>2020-04-06</td>\n",
       "      <td>3.85</td>\n",
       "      <td>3.617021</td>\n",
       "      <td>3.617021</td>\n",
       "    </tr>\n",
       "    <tr>\n",
       "      <th>11</th>\n",
       "      <td>2020-04-17</td>\n",
       "      <td>3.09</td>\n",
       "      <td>4.897959</td>\n",
       "      <td>4.897959</td>\n",
       "    </tr>\n",
       "    <tr>\n",
       "      <th>12</th>\n",
       "      <td>2020-05-19</td>\n",
       "      <td>2.25</td>\n",
       "      <td>3.073770</td>\n",
       "      <td>3.073770</td>\n",
       "    </tr>\n",
       "    <tr>\n",
       "      <th>13</th>\n",
       "      <td>2020-06-03</td>\n",
       "      <td>2.87</td>\n",
       "      <td>6.031128</td>\n",
       "      <td>6.031128</td>\n",
       "    </tr>\n",
       "    <tr>\n",
       "      <th>14</th>\n",
       "      <td>2020-06-16</td>\n",
       "      <td>5.28</td>\n",
       "      <td>4.408818</td>\n",
       "      <td>4.408818</td>\n",
       "    </tr>\n",
       "    <tr>\n",
       "      <th>15</th>\n",
       "      <td>2020-11-05</td>\n",
       "      <td>2.40</td>\n",
       "      <td>3.076923</td>\n",
       "      <td>3.076923</td>\n",
       "    </tr>\n",
       "    <tr>\n",
       "      <th>16</th>\n",
       "      <td>2020-12-09</td>\n",
       "      <td>2.02</td>\n",
       "      <td>3.068340</td>\n",
       "      <td>3.068340</td>\n",
       "    </tr>\n",
       "    <tr>\n",
       "      <th>17</th>\n",
       "      <td>2021-01-04</td>\n",
       "      <td>2.47</td>\n",
       "      <td>2.469136</td>\n",
       "      <td>2.469136</td>\n",
       "    </tr>\n",
       "    <tr>\n",
       "      <th>18</th>\n",
       "      <td>2021-01-08</td>\n",
       "      <td>3.97</td>\n",
       "      <td>7.117008</td>\n",
       "      <td>7.117008</td>\n",
       "    </tr>\n",
       "    <tr>\n",
       "      <th>19</th>\n",
       "      <td>2021-01-19</td>\n",
       "      <td>2.61</td>\n",
       "      <td>2.352941</td>\n",
       "      <td>2.352941</td>\n",
       "    </tr>\n",
       "    <tr>\n",
       "      <th>20</th>\n",
       "      <td>2021-01-25</td>\n",
       "      <td>2.18</td>\n",
       "      <td>2.995392</td>\n",
       "      <td>2.995392</td>\n",
       "    </tr>\n",
       "    <tr>\n",
       "      <th>21</th>\n",
       "      <td>2021-02-25</td>\n",
       "      <td>3.50</td>\n",
       "      <td>4.024390</td>\n",
       "      <td>4.024390</td>\n",
       "    </tr>\n",
       "    <tr>\n",
       "      <th>22</th>\n",
       "      <td>2021-12-01</td>\n",
       "      <td>2.14</td>\n",
       "      <td>4.347826</td>\n",
       "      <td>4.347826</td>\n",
       "    </tr>\n",
       "  </tbody>\n",
       "</table>\n",
       "</div>"
      ],
      "text/plain": [
       "         Date  Kospi_Return  Samsung_Return  Condition\n",
       "0  2016-01-22          2.11        3.271441   3.271441\n",
       "1  2016-11-10          2.26        3.320802   3.320802\n",
       "2  2017-05-08          2.30        3.295255   3.295255\n",
       "3  2018-11-02          3.53        4.744958   4.744958\n",
       "4  2020-02-06          2.88        2.689076   2.689076\n",
       "5  2020-03-04          2.24        3.610108   3.610108\n",
       "7  2020-03-24          8.60       10.470588  10.470588\n",
       "8  2020-03-25          5.89        3.620873   3.620873\n",
       "9  2020-04-02          2.34        2.183406   2.183406\n",
       "10 2020-04-06          3.85        3.617021   3.617021\n",
       "11 2020-04-17          3.09        4.897959   4.897959\n",
       "12 2020-05-19          2.25        3.073770   3.073770\n",
       "13 2020-06-03          2.87        6.031128   6.031128\n",
       "14 2020-06-16          5.28        4.408818   4.408818\n",
       "15 2020-11-05          2.40        3.076923   3.076923\n",
       "16 2020-12-09          2.02        3.068340   3.068340\n",
       "17 2021-01-04          2.47        2.469136   2.469136\n",
       "18 2021-01-08          3.97        7.117008   7.117008\n",
       "19 2021-01-19          2.61        2.352941   2.352941\n",
       "20 2021-01-25          2.18        2.995392   2.995392\n",
       "21 2021-02-25          3.50        4.024390   4.024390\n",
       "22 2021-12-01          2.14        4.347826   4.347826"
      ]
     },
     "execution_count": 127,
     "metadata": {},
     "output_type": "execute_result"
    }
   ],
   "source": [
    "# reset_index\n",
    "\n",
    "df_reset = df_result.reset_index()\n",
    "df_reset\n",
    "\n",
    "# drop\n",
    "df_reset.drop(['Date','Kospi_Return','Samsung_Return'], axis = 1)\n",
    "\n",
    "df_reset.drop(6, axis = 0)"
   ]
  },
  {
   "cell_type": "markdown",
   "id": "0feb1f5a",
   "metadata": {},
   "source": [
    "## count"
   ]
  },
  {
   "cell_type": "code",
   "execution_count": 133,
   "id": "f3e764af",
   "metadata": {
    "ExecuteTime": {
     "end_time": "2022-01-09T00:59:03.514265Z",
     "start_time": "2022-01-09T00:59:03.481385Z"
    }
   },
   "outputs": [
    {
     "data": {
      "text/html": [
       "<div>\n",
       "<style scoped>\n",
       "    .dataframe tbody tr th:only-of-type {\n",
       "        vertical-align: middle;\n",
       "    }\n",
       "\n",
       "    .dataframe tbody tr th {\n",
       "        vertical-align: top;\n",
       "    }\n",
       "\n",
       "    .dataframe thead th {\n",
       "        text-align: right;\n",
       "    }\n",
       "</style>\n",
       "<table border=\"1\" class=\"dataframe\">\n",
       "  <thead>\n",
       "    <tr style=\"text-align: right;\">\n",
       "      <th></th>\n",
       "      <th>Symbol</th>\n",
       "      <th>Market</th>\n",
       "      <th>Name</th>\n",
       "      <th>Sector</th>\n",
       "      <th>Industry</th>\n",
       "      <th>ListingDate</th>\n",
       "      <th>SettleMonth</th>\n",
       "      <th>Representative</th>\n",
       "      <th>HomePage</th>\n",
       "      <th>Region</th>\n",
       "      <th>Unnamed: 11</th>\n",
       "    </tr>\n",
       "  </thead>\n",
       "  <tbody>\n",
       "    <tr>\n",
       "      <th>0</th>\n",
       "      <td>60310</td>\n",
       "      <td>KOSDAQ</td>\n",
       "      <td>3S</td>\n",
       "      <td>전자부품 제조업</td>\n",
       "      <td>반도체 웨이퍼 캐리어</td>\n",
       "      <td>2002-04-23</td>\n",
       "      <td>03월</td>\n",
       "      <td>박종익, 김세완 (각자 대표이사)</td>\n",
       "      <td>http://www.3sref.com</td>\n",
       "      <td>서울특별시</td>\n",
       "      <td>NaN</td>\n",
       "    </tr>\n",
       "    <tr>\n",
       "      <th>1</th>\n",
       "      <td>95570</td>\n",
       "      <td>KOSPI</td>\n",
       "      <td>AJ네트웍스</td>\n",
       "      <td>산업용 기계 및 장비 임대업</td>\n",
       "      <td>렌탈(파렛트, OA장비, 건설장비)</td>\n",
       "      <td>2015-08-21</td>\n",
       "      <td>12월</td>\n",
       "      <td>박대현</td>\n",
       "      <td>http://www.ajnet.co.kr</td>\n",
       "      <td>서울특별시</td>\n",
       "      <td>NaN</td>\n",
       "    </tr>\n",
       "    <tr>\n",
       "      <th>2</th>\n",
       "      <td>6840</td>\n",
       "      <td>KOSPI</td>\n",
       "      <td>AK홀딩스</td>\n",
       "      <td>기타 금융업</td>\n",
       "      <td>지주사업</td>\n",
       "      <td>1999-08-11</td>\n",
       "      <td>12월</td>\n",
       "      <td>채형석, 이석주(각자 대표이사)</td>\n",
       "      <td>http://www.aekyunggroup.co.kr</td>\n",
       "      <td>서울특별시</td>\n",
       "      <td>NaN</td>\n",
       "    </tr>\n",
       "    <tr>\n",
       "      <th>3</th>\n",
       "      <td>54620</td>\n",
       "      <td>KOSDAQ</td>\n",
       "      <td>APS홀딩스</td>\n",
       "      <td>기타 금융업</td>\n",
       "      <td>인터넷 트래픽 솔루션</td>\n",
       "      <td>2001-12-04</td>\n",
       "      <td>12월</td>\n",
       "      <td>정기로</td>\n",
       "      <td>http://www.apsholdings.co.kr</td>\n",
       "      <td>경기도</td>\n",
       "      <td>NaN</td>\n",
       "    </tr>\n",
       "    <tr>\n",
       "      <th>4</th>\n",
       "      <td>265520</td>\n",
       "      <td>KOSDAQ</td>\n",
       "      <td>AP시스템</td>\n",
       "      <td>특수 목적용 기계 제조업</td>\n",
       "      <td>디스플레이 제조 장비</td>\n",
       "      <td>2017-04-07</td>\n",
       "      <td>12월</td>\n",
       "      <td>김영주</td>\n",
       "      <td>http://www.apsystems.co.kr</td>\n",
       "      <td>경기도</td>\n",
       "      <td>NaN</td>\n",
       "    </tr>\n",
       "    <tr>\n",
       "      <th>...</th>\n",
       "      <td>...</td>\n",
       "      <td>...</td>\n",
       "      <td>...</td>\n",
       "      <td>...</td>\n",
       "      <td>...</td>\n",
       "      <td>...</td>\n",
       "      <td>...</td>\n",
       "      <td>...</td>\n",
       "      <td>...</td>\n",
       "      <td>...</td>\n",
       "      <td>...</td>\n",
       "    </tr>\n",
       "    <tr>\n",
       "      <th>7296</th>\n",
       "      <td>547</td>\n",
       "      <td>KOSPI</td>\n",
       "      <td>흥국화재2우B</td>\n",
       "      <td>NaN</td>\n",
       "      <td>NaN</td>\n",
       "      <td>NaN</td>\n",
       "      <td>NaN</td>\n",
       "      <td>NaN</td>\n",
       "      <td>NaN</td>\n",
       "      <td>NaN</td>\n",
       "      <td>NaN</td>\n",
       "    </tr>\n",
       "    <tr>\n",
       "      <th>7297</th>\n",
       "      <td>545</td>\n",
       "      <td>KOSPI</td>\n",
       "      <td>흥국화재우</td>\n",
       "      <td>NaN</td>\n",
       "      <td>NaN</td>\n",
       "      <td>NaN</td>\n",
       "      <td>NaN</td>\n",
       "      <td>NaN</td>\n",
       "      <td>NaN</td>\n",
       "      <td>NaN</td>\n",
       "      <td>NaN</td>\n",
       "    </tr>\n",
       "    <tr>\n",
       "      <th>7298</th>\n",
       "      <td>3280</td>\n",
       "      <td>KOSPI</td>\n",
       "      <td>흥아해운</td>\n",
       "      <td>해상 운송업</td>\n",
       "      <td>외항화물운송업(케미컬탱커)</td>\n",
       "      <td>1976-06-29</td>\n",
       "      <td>12월</td>\n",
       "      <td>이환구</td>\n",
       "      <td>http://www.heung-a.com</td>\n",
       "      <td>서울특별시</td>\n",
       "      <td>NaN</td>\n",
       "    </tr>\n",
       "    <tr>\n",
       "      <th>7299</th>\n",
       "      <td>37440</td>\n",
       "      <td>KOSDAQ</td>\n",
       "      <td>희림</td>\n",
       "      <td>건축기술, 엔지니어링 및 관련 기술 서비스업</td>\n",
       "      <td>설계 및 감리용역</td>\n",
       "      <td>2000-02-03</td>\n",
       "      <td>12월</td>\n",
       "      <td>정영균, 이목운, 허철호 (각자대표)</td>\n",
       "      <td>http://www.heerim.com</td>\n",
       "      <td>서울특별시</td>\n",
       "      <td>NaN</td>\n",
       "    </tr>\n",
       "    <tr>\n",
       "      <th>7300</th>\n",
       "      <td>238490</td>\n",
       "      <td>KOSDAQ</td>\n",
       "      <td>힘스</td>\n",
       "      <td>특수 목적용 기계 제조업</td>\n",
       "      <td>OLED Mask 인장기, OLED Mask 검사기 등</td>\n",
       "      <td>2017-07-20</td>\n",
       "      <td>12월</td>\n",
       "      <td>김주환</td>\n",
       "      <td>http://www.hims.co.kr</td>\n",
       "      <td>인천광역시</td>\n",
       "      <td>NaN</td>\n",
       "    </tr>\n",
       "  </tbody>\n",
       "</table>\n",
       "<p>7301 rows × 11 columns</p>\n",
       "</div>"
      ],
      "text/plain": [
       "      Symbol  Market     Name                    Sector                        Industry ListingDate SettleMonth        Representative                       HomePage Region Unnamed: 11\n",
       "0      60310  KOSDAQ       3S                  전자부품 제조업                     반도체 웨이퍼 캐리어  2002-04-23         03월    박종익, 김세완 (각자 대표이사)           http://www.3sref.com  서울특별시         NaN\n",
       "1      95570   KOSPI   AJ네트웍스           산업용 기계 및 장비 임대업             렌탈(파렛트, OA장비, 건설장비)  2015-08-21         12월                   박대현         http://www.ajnet.co.kr  서울특별시         NaN\n",
       "2       6840   KOSPI    AK홀딩스                    기타 금융업                            지주사업  1999-08-11         12월     채형석, 이석주(각자 대표이사)  http://www.aekyunggroup.co.kr  서울특별시         NaN\n",
       "3      54620  KOSDAQ   APS홀딩스                    기타 금융업                     인터넷 트래픽 솔루션  2001-12-04         12월                   정기로   http://www.apsholdings.co.kr    경기도         NaN\n",
       "4     265520  KOSDAQ    AP시스템             특수 목적용 기계 제조업                     디스플레이 제조 장비  2017-04-07         12월                   김영주     http://www.apsystems.co.kr    경기도         NaN\n",
       "...      ...     ...      ...                       ...                             ...         ...         ...                   ...                            ...    ...         ...\n",
       "7296     547   KOSPI  흥국화재2우B                       NaN                             NaN         NaN         NaN                   NaN                            NaN    NaN         NaN\n",
       "7297     545   KOSPI    흥국화재우                       NaN                             NaN         NaN         NaN                   NaN                            NaN    NaN         NaN\n",
       "7298    3280   KOSPI     흥아해운                    해상 운송업                  외항화물운송업(케미컬탱커)  1976-06-29         12월                   이환구         http://www.heung-a.com  서울특별시         NaN\n",
       "7299   37440  KOSDAQ       희림  건축기술, 엔지니어링 및 관련 기술 서비스업                       설계 및 감리용역  2000-02-03         12월  정영균, 이목운, 허철호 (각자대표)          http://www.heerim.com  서울특별시         NaN\n",
       "7300  238490  KOSDAQ       힘스             특수 목적용 기계 제조업  OLED Mask 인장기, OLED Mask 검사기 등  2017-07-20         12월                   김주환          http://www.hims.co.kr  인천광역시         NaN\n",
       "\n",
       "[7301 rows x 11 columns]"
      ]
     },
     "execution_count": 133,
     "metadata": {},
     "output_type": "execute_result"
    }
   ],
   "source": [
    "import pandas as pd\n",
    "pd.set_option('display.max_rows', 200)\n",
    "#pd.set_option('display.max_rows', None)\n",
    "\n",
    "krx = pd.read_csv(\"KRX.csv\", encoding = 'cp949', index_col = 0)\n",
    "krx"
   ]
  },
  {
   "cell_type": "code",
   "execution_count": 134,
   "id": "56909b27",
   "metadata": {
    "ExecuteTime": {
     "end_time": "2022-01-09T00:59:04.245237Z",
     "start_time": "2022-01-09T00:59:04.232919Z"
    }
   },
   "outputs": [
    {
     "data": {
      "text/plain": [
       "array(['전자부품 제조업', '산업용 기계 및 장비 임대업', '기타 금융업', '특수 목적용 기계 제조업',\n",
       "       '통신 및 방송 장비 제조업', nan, '종합 소매업', '기계장비 및 관련 물품 도매업', '봉제의복 제조업',\n",
       "       '자동차 신품 부품 제조업', '영화, 비디오물, 방송프로그램 제작 및 배급업', '텔레비전 방송업',\n",
       "       '도로 화물 운송업', '기타 식품 제조업', '음·식료품 및 담배 도매업', '의약품 제조업',\n",
       "       '신탁업 및 집합투자업', '기타 전문 도매업', '소프트웨어 개발 및 공급업', '기타 화학제품 제조업',\n",
       "       '컴퓨터 프로그래밍, 시스템 통합 및 관리업', '금융 지원 서비스업', '보험업', '반도체 제조업',\n",
       "       '상품 중개업', '건물 건설업', '토목 건설업', '고무제품 제조업', '1차 비철금속 제조업',\n",
       "       '1차 철강 제조업', '자연과학 및 공학 연구개발업',\n",
       "       '전동기, 발전기 및 전기 변환 · 공급 · 제어 장치 제조업', '부동산 임대 및 공급업', '생활용품 도매업',\n",
       "       '기타 섬유제품 제조업', '유원지 및 기타 오락관련 서비스업', '상품 종합 도매업', '전기 및 통신 공사업',\n",
       "       '해상 운송업', '합성고무 및 플라스틱 물질 제조업', '일반 목적용 기계 제조업', '영상 및 음향기기 제조업',\n",
       "       '오디오물 출판 및 원판 녹음업', '유리 및 유리제품 제조업', '시멘트, 석회, 플라스터 및 그 제품 제조업',\n",
       "       '폐기물 처리업', '기초 화학물질 제조업', '플라스틱제품 제조업', '기초 의약물질 및 생물학적 제제 제조업',\n",
       "       '그외 기타 운송장비 제조업', '전기 통신업', '담배 제조업', '기타 정보 서비스업', '무기 및 총포탄 제조업',\n",
       "       '알코올음료 제조업', '자료처리, 호스팅, 포털 및 기타 인터넷 정보매개 서비스업',\n",
       "       '서적, 잡지 및 기타 인쇄물 출판업', '회사 본부 및 경영 컨설팅 서비스업', '기타 금속 가공제품 제조업',\n",
       "       '석유 정제품 제조업', '기타 비금속 광물제품 제조업', '전기업', '자동차 부품 및 내장품 판매업',\n",
       "       '운송장비 임대업', '일차전지 및 축전지 제조업', '광고업', '기록매체 복제업', '나무제품 제조업',\n",
       "       '일반 교습 학원', '그외 기타 제품 제조업', '교육지원 서비스업', '절연선 및 케이블 제조업',\n",
       "       '구조용 금속제품, 탱크 및 증기발생기 제조업', '스포츠 서비스업', '비료, 농약 및 살균, 살충제 제조업',\n",
       "       '가정용 기기 제조업', '연료용 가스 제조 및 배관공급업', '곡물가공품, 전분 및 전분제품 제조업',\n",
       "       '기타 사업지원 서비스업', '측정, 시험, 항해, 제어 및 기타 정밀기기 제조업; 광학기기 제외',\n",
       "       '기반조성 및 시설물 축조관련 전문공사업', '자동차용 엔진 및 자동차 제조업', '실내건축 및 건축마무리 공사업',\n",
       "       '기타 종이 및 판지 제품 제조업', '전구 및 조명장치 제조업', '은행 및 저축기관',\n",
       "       '섬유, 의복, 신발 및 가죽제품 소매업', '펄프, 종이 및 판지 제조업', '의료용 기기 제조업',\n",
       "       '의료용품 및 기타 의약 관련제품 제조업', '낙농제품 및 식용빙과류 제조업',\n",
       "       '그외 기타 전문, 과학 및 기술 서비스업', '기타 비금속광물 광업', '여행사 및 기타 여행보조 서비스업',\n",
       "       '인쇄 및 인쇄관련 산업', '작물 재배업', '사진장비 및 광학기기 제조업', '초등 교육기관', '금속 주조업',\n",
       "       '내화, 비내화 요업제품 제조업', '기타 전기장비 제조업', '연료 소매업', '선박 및 보트 건조업',\n",
       "       '골판지, 종이 상자 및 종이용기 제조업', '동물용 사료 및 조제식품 제조업', '직물직조 및 직물제품 제조업',\n",
       "       '항공 여객 운송업', '화학섬유 제조업', '의복 액세서리 제조업', '자동차 판매업',\n",
       "       '건축기술, 엔지니어링 및 관련 기술 서비스업', '기타 운송관련 서비스업', '육상 여객 운송업',\n",
       "       '도축, 육류 가공 및 저장 처리업', '어로 어업', '가구 제조업', '음식점업', '컴퓨터 및 주변장치 제조업',\n",
       "       '기타 과학기술 서비스업', '자동차 차체 및 트레일러 제조업', '비알코올음료 및 얼음 제조업',\n",
       "       '가전제품 및 정보통신장비 소매업', '기타 교육기관', '수산물 가공 및 저장 처리업', '운동 및 경기용구 제조업',\n",
       "       '인형,장난감 및 오락용품 제조업', '가죽, 가방 및 유사제품 제조업', '악기 제조업',\n",
       "       '항공기,우주선 및 부품 제조업', '일반 및 생활 숙박시설 운영업', '건물설비 설치 공사업',\n",
       "       '창작 및 예술관련 서비스업', '산업용 농·축산물 및 동·식물 도매업', '전문디자인업', '기타 전문 서비스업',\n",
       "       '무점포 소매업', '섬유제품 염색, 정리 및 마무리 가공업', '컴퓨터 및 통신장비 수리업', '석탄 광업',\n",
       "       '경비, 경호 및 탐정업', '보험 및 연금관련 서비스업', '사업시설 유지·관리 서비스업',\n",
       "       '시장조사 및 여론조사업', '편조의복 제조업', '자동차 재제조 부품 제조업', '기타 생활용품 소매업',\n",
       "       '과실, 채소 가공 및 저장 처리업', '제재 및 목재 가공업', '귀금속 및 장신용품 제조업',\n",
       "       '방적 및 가공사 제조업', '건축자재, 철물 및 난방장치 도매업', '편조원단 제조업', '환경 정화 및 복원업',\n",
       "       '증기, 냉·온수 및 공기조절 공급업', '재 보험업', '그외 기타 개인 서비스업', '개인 및 가정용품 임대업',\n",
       "       '기타 상품 전문 소매업', '음·식료품 및 담배 소매업', '철도장비 제조업', '신발 및 신발 부분품 제조업',\n",
       "       '해체, 선별 및 원료 재생업'], dtype=object)"
      ]
     },
     "execution_count": 134,
     "metadata": {},
     "output_type": "execute_result"
    }
   ],
   "source": [
    "krx['Sector'].unique()"
   ]
  },
  {
   "cell_type": "code",
   "execution_count": 135,
   "id": "77948572",
   "metadata": {
    "ExecuteTime": {
     "end_time": "2022-01-09T00:59:04.791867Z",
     "start_time": "2022-01-09T00:59:04.785868Z"
    }
   },
   "outputs": [
    {
     "data": {
      "text/plain": [
       "2487"
      ]
     },
     "execution_count": 135,
     "metadata": {},
     "output_type": "execute_result"
    }
   ],
   "source": [
    "krx['Sector'].count()"
   ]
  },
  {
   "cell_type": "code",
   "execution_count": 136,
   "id": "27548cfd",
   "metadata": {
    "ExecuteTime": {
     "end_time": "2022-01-09T00:59:06.036916Z",
     "start_time": "2022-01-09T00:59:06.016597Z"
    }
   },
   "outputs": [
    {
     "data": {
      "text/plain": [
       "소프트웨어 개발 및 공급업                           152\n",
       "특수 목적용 기계 제조업                            143\n",
       "전자부품 제조업                                 128\n",
       "자동차 신품 부품 제조업                             96\n",
       "의약품 제조업                                   95\n",
       "기타 화학제품 제조업                               94\n",
       "기타 금융업                                    92\n",
       "금융 지원 서비스업                                74\n",
       "통신 및 방송 장비 제조업                            72\n",
       "자연과학 및 공학 연구개발업                           59\n",
       "반도체 제조업                                   58\n",
       "1차 철강 제조업                                 57\n",
       "의료용 기기 제조업                                56\n",
       "일반 목적용 기계 제조업                             45\n",
       "플라스틱제품 제조업                                44\n",
       "기초 화학물질 제조업                               43\n",
       "기초 의약물질 및 생물학적 제제 제조업                     39\n",
       "기타 전문 도매업                                 38\n",
       "컴퓨터 프로그래밍, 시스템 통합 및 관리업                   37\n",
       "전동기, 발전기 및 전기 변환 · 공급 · 제어 장치 제조업         35\n",
       "기타 식품 제조업                                 34\n",
       "영화, 비디오물, 방송프로그램 제작 및 배급업                 32\n",
       "의료용품 및 기타 의약 관련제품 제조업                     30\n",
       "봉제의복 제조업                                  28\n",
       "기계장비 및 관련 물품 도매업                          25\n",
       "기타 금속 가공제품 제조업                            24\n",
       "건물 건설업                                    23\n",
       "측정, 시험, 항해, 제어 및 기타 정밀기기 제조업; 광학기기 제외     22\n",
       "부동산 임대 및 공급업                              21\n",
       "자료처리, 호스팅, 포털 및 기타 인터넷 정보매개 서비스업          20\n",
       "구조용 금속제품, 탱크 및 증기발생기 제조업                  20\n",
       "생활용품 도매업                                  20\n",
       "토목 건설업                                    19\n",
       "기타 정보 서비스업                                18\n",
       "시멘트, 석회, 플라스터 및 그 제품 제조업                  18\n",
       "영상 및 음향기기 제조업                             18\n",
       "1차 비철금속 제조업                               18\n",
       "상품 종합 도매업                                 17\n",
       "신탁업 및 집합투자업                               16\n",
       "선박 및 보트 건조업                               14\n",
       "건축기술, 엔지니어링 및 관련 기술 서비스업                  14\n",
       "컴퓨터 및 주변장치 제조업                            13\n",
       "종합 소매업                                    13\n",
       "전기 통신업                                    13\n",
       "회사 본부 및 경영 컨설팅 서비스업                       12\n",
       "일차전지 및 축전지 제조업                            12\n",
       "그외 기타 전문, 과학 및 기술 서비스업                    12\n",
       "펄프, 종이 및 판지 제조업                           12\n",
       "텔레비전 방송업                                  11\n",
       "광고업                                       11\n",
       "음·식료품 및 담배 도매업                            11\n",
       "보험업                                       11\n",
       "사진장비 및 광학기기 제조업                           11\n",
       "상품 중개업                                    10\n",
       "동물용 사료 및 조제식품 제조업                         10\n",
       "기타 전기장비 제조업                               10\n",
       "기타 비금속 광물제품 제조업                           10\n",
       "그외 기타 제품 제조업                              10\n",
       "서적, 잡지 및 기타 인쇄물 출판업                       10\n",
       "섬유, 의복, 신발 및 가죽제품 소매업                      9\n",
       "골판지, 종이 상자 및 종이용기 제조업                      9\n",
       "연료용 가스 제조 및 배관공급업                          9\n",
       "화학섬유 제조업                                   9\n",
       "가정용 기기 제조업                                 9\n",
       "알코올음료 제조업                                  9\n",
       "고무제품 제조업                                   9\n",
       "기타 사업지원 서비스업                               8\n",
       "일반 교습 학원                                   8\n",
       "도로 화물 운송업                                  8\n",
       "가구 제조업                                     8\n",
       "비료, 농약 및 살균, 살충제 제조업                       8\n",
       "합성고무 및 플라스틱 물질 제조업                         8\n",
       "곡물가공품, 전분 및 전분제품 제조업                       8\n",
       "항공 여객 운송업                                  7\n",
       "무점포 소매업                                    7\n",
       "전구 및 조명장치 제조업                              7\n",
       "항공기,우주선 및 부품 제조업                           7\n",
       "기타 운송관련 서비스업                               7\n",
       "도축, 육류 가공 및 저장 처리업                         7\n",
       "여행사 및 기타 여행보조 서비스업                         7\n",
       "오디오물 출판 및 원판 녹음업                           6\n",
       "기타 과학기술 서비스업                               6\n",
       "내화, 비내화 요업제품 제조업                           6\n",
       "석유 정제품 제조업                                 6\n",
       "전기 및 통신 공사업                                6\n",
       "절연선 및 케이블 제조업                              6\n",
       "기타 섬유제품 제조업                                6\n",
       "가죽, 가방 및 유사제품 제조업                          5\n",
       "수산물 가공 및 저장 처리업                            5\n",
       "직물직조 및 직물제품 제조업                            5\n",
       "자동차용 엔진 및 자동차 제조업                          5\n",
       "해상 운송업                                     5\n",
       "낙농제품 및 식용빙과류 제조업                           5\n",
       "유리 및 유리제품 제조업                              5\n",
       "운송장비 임대업                                   5\n",
       "그외 기타 운송장비 제조업                             4\n",
       "창작 및 예술관련 서비스업                             4\n",
       "은행 및 저축기관                                  4\n",
       "실내건축 및 건축마무리 공사업                           4\n",
       "폐기물 처리업                                    4\n",
       "기반조성 및 시설물 축조관련 전문공사업                      4\n",
       "어로 어업                                      4\n",
       "자동차 판매업                                    3\n",
       "유원지 및 기타 오락관련 서비스업                         3\n",
       "일반 및 생활 숙박시설 운영업                           3\n",
       "육상 여객 운송업                                  3\n",
       "자동차 부품 및 내장품 판매업                           3\n",
       "제재 및 목재 가공업                                3\n",
       "기타 종이 및 판지 제품 제조업                          3\n",
       "나무제품 제조업                                   3\n",
       "금속 주조업                                     3\n",
       "기타 상품 전문 소매업                               2\n",
       "인쇄 및 인쇄관련 산업                               2\n",
       "보험 및 연금관련 서비스업                             2\n",
       "전문디자인업                                     2\n",
       "산업용 농·축산물 및 동·식물 도매업                       2\n",
       "작물 재배업                                     2\n",
       "건물설비 설치 공사업                                2\n",
       "초등 교육기관                                    2\n",
       "기록매체 복제업                                   2\n",
       "연료 소매업                                     2\n",
       "산업용 기계 및 장비 임대업                            2\n",
       "방적 및 가공사 제조업                               2\n",
       "가전제품 및 정보통신장비 소매업                          2\n",
       "비알코올음료 및 얼음 제조업                            2\n",
       "자동차 차체 및 트레일러 제조업                          2\n",
       "과실, 채소 가공 및 저장 처리업                         2\n",
       "귀금속 및 장신용품 제조업                             2\n",
       "음식점업                                       2\n",
       "무기 및 총포탄 제조업                               2\n",
       "스포츠 서비스업                                   2\n",
       "전기업                                        2\n",
       "교육지원 서비스업                                  2\n",
       "환경 정화 및 복원업                                1\n",
       "건축자재, 철물 및 난방장치 도매업                        1\n",
       "편조원단 제조업                                   1\n",
       "신발 및 신발 부분품 제조업                            1\n",
       "증기, 냉·온수 및 공기조절 공급업                        1\n",
       "재 보험업                                      1\n",
       "그외 기타 개인 서비스업                              1\n",
       "개인 및 가정용품 임대업                              1\n",
       "음·식료품 및 담배 소매업                             1\n",
       "철도장비 제조업                                   1\n",
       "기타 비금속광물 광업                                1\n",
       "악기 제조업                                     1\n",
       "기타 생활용품 소매업                                1\n",
       "자동차 재제조 부품 제조업                             1\n",
       "편조의복 제조업                                   1\n",
       "시장조사 및 여론조사업                               1\n",
       "사업시설 유지·관리 서비스업                            1\n",
       "경비, 경호 및 탐정업                               1\n",
       "석탄 광업                                      1\n",
       "컴퓨터 및 통신장비 수리업                             1\n",
       "섬유제품 염색, 정리 및 마무리 가공업                      1\n",
       "기타 전문 서비스업                                 1\n",
       "인형,장난감 및 오락용품 제조업                          1\n",
       "운동 및 경기용구 제조업                              1\n",
       "기타 교육기관                                    1\n",
       "담배 제조업                                     1\n",
       "의복 액세서리 제조업                                1\n",
       "해체, 선별 및 원료 재생업                            1\n",
       "Name: Sector, dtype: int64"
      ]
     },
     "execution_count": 136,
     "metadata": {},
     "output_type": "execute_result"
    }
   ],
   "source": [
    "krx['Sector'].value_counts()"
   ]
  },
  {
   "cell_type": "code",
   "execution_count": 137,
   "id": "d3fb58ca",
   "metadata": {
    "ExecuteTime": {
     "end_time": "2022-01-09T00:59:18.035948Z",
     "start_time": "2022-01-09T00:59:18.025338Z"
    }
   },
   "outputs": [
    {
     "data": {
      "text/html": [
       "<div>\n",
       "<style scoped>\n",
       "    .dataframe tbody tr th:only-of-type {\n",
       "        vertical-align: middle;\n",
       "    }\n",
       "\n",
       "    .dataframe tbody tr th {\n",
       "        vertical-align: top;\n",
       "    }\n",
       "\n",
       "    .dataframe thead th {\n",
       "        text-align: right;\n",
       "    }\n",
       "</style>\n",
       "<table border=\"1\" class=\"dataframe\">\n",
       "  <thead>\n",
       "    <tr style=\"text-align: right;\">\n",
       "      <th></th>\n",
       "      <th>Symbol</th>\n",
       "      <th>Market</th>\n",
       "      <th>Name</th>\n",
       "      <th>Sector</th>\n",
       "      <th>Industry</th>\n",
       "      <th>ListingDate</th>\n",
       "      <th>SettleMonth</th>\n",
       "      <th>Representative</th>\n",
       "      <th>HomePage</th>\n",
       "      <th>Region</th>\n",
       "      <th>Unnamed: 11</th>\n",
       "    </tr>\n",
       "  </thead>\n",
       "  <tbody>\n",
       "    <tr>\n",
       "      <th>1892</th>\n",
       "      <td>10950</td>\n",
       "      <td>KOSPI</td>\n",
       "      <td>S-Oil</td>\n",
       "      <td>석유 정제품 제조업</td>\n",
       "      <td>석유제품,가스,윤활기유,윤활유,그리스,석유화학제품 제조,도매</td>\n",
       "      <td>1987-05-27</td>\n",
       "      <td>12월</td>\n",
       "      <td>Hussain A.Al-Qahtani</td>\n",
       "      <td>http://www.s-oil.com</td>\n",
       "      <td>서울특별시</td>\n",
       "      <td>NaN</td>\n",
       "    </tr>\n",
       "    <tr>\n",
       "      <th>1933</th>\n",
       "      <td>96770</td>\n",
       "      <td>KOSPI</td>\n",
       "      <td>SK이노베이션</td>\n",
       "      <td>석유 정제품 제조업</td>\n",
       "      <td>석유정제,석유화학제품,윤활유제품,아스팔트제품,의약중간체 제조,판매,유전개발,대체에너지사업</td>\n",
       "      <td>2007-07-25</td>\n",
       "      <td>12월</td>\n",
       "      <td>김준</td>\n",
       "      <td>http://www.SKinnovation.com</td>\n",
       "      <td>서울특별시</td>\n",
       "      <td>NaN</td>\n",
       "    </tr>\n",
       "    <tr>\n",
       "      <th>2232</th>\n",
       "      <td>14530</td>\n",
       "      <td>KOSPI</td>\n",
       "      <td>극동유화</td>\n",
       "      <td>석유 정제품 제조업</td>\n",
       "      <td>윤활유,유동파라핀,왁스,방수용시트,아스팔트 제조/수입자동차,부품 도매/가스충전,산업...</td>\n",
       "      <td>1991-01-31</td>\n",
       "      <td>12월</td>\n",
       "      <td>장홍선, 장선우 (각자대표)</td>\n",
       "      <td>http://www.kdoc.co.kr</td>\n",
       "      <td>경상남도</td>\n",
       "      <td>NaN</td>\n",
       "    </tr>\n",
       "    <tr>\n",
       "      <th>3936</th>\n",
       "      <td>3650</td>\n",
       "      <td>KOSPI</td>\n",
       "      <td>미창석유</td>\n",
       "      <td>석유 정제품 제조업</td>\n",
       "      <td>윤활유,고무배합유,전기절연유 제조,판매,수출입</td>\n",
       "      <td>1989-09-27</td>\n",
       "      <td>12월</td>\n",
       "      <td>유재순</td>\n",
       "      <td>http://www.michang.co.kr</td>\n",
       "      <td>부산광역시</td>\n",
       "      <td>NaN</td>\n",
       "    </tr>\n",
       "    <tr>\n",
       "      <th>7059</th>\n",
       "      <td>2960</td>\n",
       "      <td>KOSPI</td>\n",
       "      <td>한국쉘석유</td>\n",
       "      <td>석유 정제품 제조업</td>\n",
       "      <td>윤활유,그리스 제조,도매</td>\n",
       "      <td>1988-08-10</td>\n",
       "      <td>12월</td>\n",
       "      <td>라머스 예룬 피터</td>\n",
       "      <td>http://www.shell.co.kr</td>\n",
       "      <td>부산광역시</td>\n",
       "      <td>NaN</td>\n",
       "    </tr>\n",
       "    <tr>\n",
       "      <th>7226</th>\n",
       "      <td>267250</td>\n",
       "      <td>KOSPI</td>\n",
       "      <td>현대중공업지주</td>\n",
       "      <td>석유 정제품 제조업</td>\n",
       "      <td>지주회사</td>\n",
       "      <td>2017-05-10</td>\n",
       "      <td>12월</td>\n",
       "      <td>권오갑</td>\n",
       "      <td>http://www.hyundai-holdings.co.kr</td>\n",
       "      <td>서울특별시</td>\n",
       "      <td>NaN</td>\n",
       "    </tr>\n",
       "  </tbody>\n",
       "</table>\n",
       "</div>"
      ],
      "text/plain": [
       "      Symbol Market     Name      Sector                                           Industry ListingDate SettleMonth        Representative                           HomePage Region Unnamed: 11\n",
       "1892   10950  KOSPI    S-Oil  석유 정제품 제조업                  석유제품,가스,윤활기유,윤활유,그리스,석유화학제품 제조,도매  1987-05-27         12월  Hussain A.Al-Qahtani               http://www.s-oil.com  서울특별시         NaN\n",
       "1933   96770  KOSPI  SK이노베이션  석유 정제품 제조업  석유정제,석유화학제품,윤활유제품,아스팔트제품,의약중간체 제조,판매,유전개발,대체에너지사업  2007-07-25         12월                    김준        http://www.SKinnovation.com  서울특별시         NaN\n",
       "2232   14530  KOSPI     극동유화  석유 정제품 제조업  윤활유,유동파라핀,왁스,방수용시트,아스팔트 제조/수입자동차,부품 도매/가스충전,산업...  1991-01-31         12월       장홍선, 장선우 (각자대표)              http://www.kdoc.co.kr   경상남도         NaN\n",
       "3936    3650  KOSPI     미창석유  석유 정제품 제조업                          윤활유,고무배합유,전기절연유 제조,판매,수출입  1989-09-27         12월                   유재순           http://www.michang.co.kr  부산광역시         NaN\n",
       "7059    2960  KOSPI    한국쉘석유  석유 정제품 제조업                                      윤활유,그리스 제조,도매  1988-08-10         12월             라머스 예룬 피터             http://www.shell.co.kr  부산광역시         NaN\n",
       "7226  267250  KOSPI  현대중공업지주  석유 정제품 제조업                                               지주회사  2017-05-10         12월                   권오갑  http://www.hyundai-holdings.co.kr  서울특별시         NaN"
      ]
     },
     "execution_count": 137,
     "metadata": {},
     "output_type": "execute_result"
    }
   ],
   "source": [
    "krx[krx['Sector'] == \"석유 정제품 제조업\"]"
   ]
  },
  {
   "cell_type": "markdown",
   "id": "6f70a607",
   "metadata": {},
   "source": [
    "## GroupBy"
   ]
  },
  {
   "cell_type": "code",
   "execution_count": 141,
   "id": "84400b75",
   "metadata": {
    "ExecuteTime": {
     "end_time": "2022-01-09T01:00:29.694802Z",
     "start_time": "2022-01-09T01:00:29.673007Z"
    }
   },
   "outputs": [
    {
     "data": {
      "text/html": [
       "<div>\n",
       "<style scoped>\n",
       "    .dataframe tbody tr th:only-of-type {\n",
       "        vertical-align: middle;\n",
       "    }\n",
       "\n",
       "    .dataframe tbody tr th {\n",
       "        vertical-align: top;\n",
       "    }\n",
       "\n",
       "    .dataframe thead th {\n",
       "        text-align: right;\n",
       "    }\n",
       "</style>\n",
       "<table border=\"1\" class=\"dataframe\">\n",
       "  <thead>\n",
       "    <tr style=\"text-align: right;\">\n",
       "      <th></th>\n",
       "      <th>Sector</th>\n",
       "      <th>PER</th>\n",
       "    </tr>\n",
       "    <tr>\n",
       "      <th>기업</th>\n",
       "      <th></th>\n",
       "      <th></th>\n",
       "    </tr>\n",
       "  </thead>\n",
       "  <tbody>\n",
       "    <tr>\n",
       "      <th>기업1</th>\n",
       "      <td>반도체</td>\n",
       "      <td>1.5</td>\n",
       "    </tr>\n",
       "    <tr>\n",
       "      <th>기업2</th>\n",
       "      <td>통신</td>\n",
       "      <td>1.1</td>\n",
       "    </tr>\n",
       "    <tr>\n",
       "      <th>기업3</th>\n",
       "      <td>화학</td>\n",
       "      <td>0.5</td>\n",
       "    </tr>\n",
       "    <tr>\n",
       "      <th>기업4</th>\n",
       "      <td>플랫폼</td>\n",
       "      <td>3.0</td>\n",
       "    </tr>\n",
       "    <tr>\n",
       "      <th>기업5</th>\n",
       "      <td>바이오</td>\n",
       "      <td>10.0</td>\n",
       "    </tr>\n",
       "    <tr>\n",
       "      <th>기업6</th>\n",
       "      <td>통신</td>\n",
       "      <td>1.6</td>\n",
       "    </tr>\n",
       "    <tr>\n",
       "      <th>기업7</th>\n",
       "      <td>화학</td>\n",
       "      <td>0.7</td>\n",
       "    </tr>\n",
       "    <tr>\n",
       "      <th>기업8</th>\n",
       "      <td>바이오</td>\n",
       "      <td>15.0</td>\n",
       "    </tr>\n",
       "    <tr>\n",
       "      <th>기업9</th>\n",
       "      <td>반도체</td>\n",
       "      <td>2.0</td>\n",
       "    </tr>\n",
       "    <tr>\n",
       "      <th>기업10</th>\n",
       "      <td>통신</td>\n",
       "      <td>1.6</td>\n",
       "    </tr>\n",
       "    <tr>\n",
       "      <th>기업11</th>\n",
       "      <td>화학</td>\n",
       "      <td>0.7</td>\n",
       "    </tr>\n",
       "    <tr>\n",
       "      <th>기업12</th>\n",
       "      <td>플랫폼</td>\n",
       "      <td>4.0</td>\n",
       "    </tr>\n",
       "    <tr>\n",
       "      <th>기업13</th>\n",
       "      <td>바이오</td>\n",
       "      <td>2.0</td>\n",
       "    </tr>\n",
       "    <tr>\n",
       "      <th>기업14</th>\n",
       "      <td>바이오</td>\n",
       "      <td>10.0</td>\n",
       "    </tr>\n",
       "    <tr>\n",
       "      <th>기업15</th>\n",
       "      <td>통신</td>\n",
       "      <td>1.6</td>\n",
       "    </tr>\n",
       "    <tr>\n",
       "      <th>기업16</th>\n",
       "      <td>반도체</td>\n",
       "      <td>0.9</td>\n",
       "    </tr>\n",
       "    <tr>\n",
       "      <th>기업17</th>\n",
       "      <td>반도체</td>\n",
       "      <td>2.1</td>\n",
       "    </tr>\n",
       "    <tr>\n",
       "      <th>기업18</th>\n",
       "      <td>플랫폼</td>\n",
       "      <td>2.5</td>\n",
       "    </tr>\n",
       "    <tr>\n",
       "      <th>기업19</th>\n",
       "      <td>화학</td>\n",
       "      <td>1.1</td>\n",
       "    </tr>\n",
       "    <tr>\n",
       "      <th>기업20</th>\n",
       "      <td>화학</td>\n",
       "      <td>0.4</td>\n",
       "    </tr>\n",
       "    <tr>\n",
       "      <th>기업21</th>\n",
       "      <td>반도체</td>\n",
       "      <td>1.6</td>\n",
       "    </tr>\n",
       "    <tr>\n",
       "      <th>기업22</th>\n",
       "      <td>플랫폼</td>\n",
       "      <td>4.2</td>\n",
       "    </tr>\n",
       "    <tr>\n",
       "      <th>기업23</th>\n",
       "      <td>통신</td>\n",
       "      <td>1.3</td>\n",
       "    </tr>\n",
       "    <tr>\n",
       "      <th>기업24</th>\n",
       "      <td>화학</td>\n",
       "      <td>0.6</td>\n",
       "    </tr>\n",
       "    <tr>\n",
       "      <th>기업25</th>\n",
       "      <td>바이오</td>\n",
       "      <td>12.0</td>\n",
       "    </tr>\n",
       "  </tbody>\n",
       "</table>\n",
       "</div>"
      ],
      "text/plain": [
       "     Sector   PER\n",
       "기업               \n",
       "기업1     반도체   1.5\n",
       "기업2      통신   1.1\n",
       "기업3      화학   0.5\n",
       "기업4     플랫폼   3.0\n",
       "기업5     바이오  10.0\n",
       "기업6      통신   1.6\n",
       "기업7      화학   0.7\n",
       "기업8     바이오  15.0\n",
       "기업9     반도체   2.0\n",
       "기업10     통신   1.6\n",
       "기업11     화학   0.7\n",
       "기업12    플랫폼   4.0\n",
       "기업13    바이오   2.0\n",
       "기업14    바이오  10.0\n",
       "기업15     통신   1.6\n",
       "기업16    반도체   0.9\n",
       "기업17    반도체   2.1\n",
       "기업18    플랫폼   2.5\n",
       "기업19     화학   1.1\n",
       "기업20     화학   0.4\n",
       "기업21    반도체   1.6\n",
       "기업22    플랫폼   4.2\n",
       "기업23     통신   1.3\n",
       "기업24     화학   0.6\n",
       "기업25    바이오  12.0"
      ]
     },
     "execution_count": 141,
     "metadata": {},
     "output_type": "execute_result"
    }
   ],
   "source": [
    "import pandas as pd\n",
    "pd.set_option('display.max_rows', 200)\n",
    "#pd.set_option('display.max_rows', None)\n",
    "\n",
    "df = pd.read_excel('groupby_example.xlsx', header = 6)\n",
    "\n",
    "df = df.dropna(axis = 1)\n",
    "df.columns = ['기업', 'Sector', 'PER']\n",
    "df.index = df['기업']\n",
    "df = df.drop('기업', axis = 1)\n",
    "df"
   ]
  },
  {
   "cell_type": "code",
   "execution_count": 142,
   "id": "46cebd87",
   "metadata": {
    "ExecuteTime": {
     "end_time": "2022-01-09T01:00:37.844924Z",
     "start_time": "2022-01-09T01:00:37.826118Z"
    }
   },
   "outputs": [
    {
     "data": {
      "text/html": [
       "<div>\n",
       "<style scoped>\n",
       "    .dataframe tbody tr th:only-of-type {\n",
       "        vertical-align: middle;\n",
       "    }\n",
       "\n",
       "    .dataframe tbody tr th {\n",
       "        vertical-align: top;\n",
       "    }\n",
       "\n",
       "    .dataframe thead th {\n",
       "        text-align: right;\n",
       "    }\n",
       "</style>\n",
       "<table border=\"1\" class=\"dataframe\">\n",
       "  <thead>\n",
       "    <tr style=\"text-align: right;\">\n",
       "      <th></th>\n",
       "      <th>PER</th>\n",
       "    </tr>\n",
       "    <tr>\n",
       "      <th>Sector</th>\n",
       "      <th></th>\n",
       "    </tr>\n",
       "  </thead>\n",
       "  <tbody>\n",
       "    <tr>\n",
       "      <th>바이오</th>\n",
       "      <td>9.800000</td>\n",
       "    </tr>\n",
       "    <tr>\n",
       "      <th>반도체</th>\n",
       "      <td>1.620000</td>\n",
       "    </tr>\n",
       "    <tr>\n",
       "      <th>통신</th>\n",
       "      <td>1.440000</td>\n",
       "    </tr>\n",
       "    <tr>\n",
       "      <th>플랫폼</th>\n",
       "      <td>3.425000</td>\n",
       "    </tr>\n",
       "    <tr>\n",
       "      <th>화학</th>\n",
       "      <td>0.666667</td>\n",
       "    </tr>\n",
       "  </tbody>\n",
       "</table>\n",
       "</div>"
      ],
      "text/plain": [
       "             PER\n",
       "Sector          \n",
       "바이오     9.800000\n",
       "반도체     1.620000\n",
       "통신      1.440000\n",
       "플랫폼     3.425000\n",
       "화학      0.666667"
      ]
     },
     "execution_count": 142,
     "metadata": {},
     "output_type": "execute_result"
    }
   ],
   "source": [
    "undervalued_mean = df.groupby(['Sector']).mean().loc['화학'].values[0]\n",
    "undervalued_mean\n",
    "\n",
    "df.groupby(['Sector']).mean()"
   ]
  },
  {
   "cell_type": "code",
   "execution_count": 143,
   "id": "d30c7630",
   "metadata": {
    "ExecuteTime": {
     "end_time": "2022-01-09T01:00:41.966840Z",
     "start_time": "2022-01-09T01:00:41.945072Z"
    }
   },
   "outputs": [
    {
     "name": "stderr",
     "output_type": "stream",
     "text": [
      "C:\\Users\\kangg\\AppData\\Local\\Temp/ipykernel_29992/2611283107.py:2: SettingWithCopyWarning: \n",
      "A value is trying to be set on a copy of a slice from a DataFrame.\n",
      "Try using .loc[row_indexer,col_indexer] = value instead\n",
      "\n",
      "See the caveats in the documentation: https://pandas.pydata.org/pandas-docs/stable/user_guide/indexing.html#returning-a-view-versus-a-copy\n",
      "  df_che['Condition'] = np.where(df_che['PER']<=undervalued_mean,1,np.nan)\n"
     ]
    },
    {
     "data": {
      "text/plain": [
       "Index(['기업3', '기업20', '기업24'], dtype='object', name='기업')"
      ]
     },
     "execution_count": 143,
     "metadata": {},
     "output_type": "execute_result"
    }
   ],
   "source": [
    "df_che = df[df['Sector'] == '화학']\n",
    "df_che['Condition'] = np.where(df_che['PER']<=undervalued_mean,1,np.nan)\n",
    "df_che.dropna().index"
   ]
  },
  {
   "cell_type": "code",
   "execution_count": null,
   "id": "f6518965",
   "metadata": {},
   "outputs": [],
   "source": []
  }
 ],
 "metadata": {
  "hide_input": false,
  "kernelspec": {
   "display_name": "Python 3 (ipykernel)",
   "language": "python",
   "name": "python3"
  },
  "language_info": {
   "codemirror_mode": {
    "name": "ipython",
    "version": 3
   },
   "file_extension": ".py",
   "mimetype": "text/x-python",
   "name": "python",
   "nbconvert_exporter": "python",
   "pygments_lexer": "ipython3",
   "version": "3.11.5"
  },
  "toc": {
   "base_numbering": 1,
   "nav_menu": {},
   "number_sections": true,
   "sideBar": true,
   "skip_h1_title": false,
   "title_cell": "Table of Contents",
   "title_sidebar": "Contents",
   "toc_cell": false,
   "toc_position": {},
   "toc_section_display": true,
   "toc_window_display": true
  },
  "varInspector": {
   "cols": {
    "lenName": 16,
    "lenType": 16,
    "lenVar": 40
   },
   "kernels_config": {
    "python": {
     "delete_cmd_postfix": "",
     "delete_cmd_prefix": "del ",
     "library": "var_list.py",
     "varRefreshCmd": "print(var_dic_list())"
    },
    "r": {
     "delete_cmd_postfix": ") ",
     "delete_cmd_prefix": "rm(",
     "library": "var_list.r",
     "varRefreshCmd": "cat(var_dic_list()) "
    }
   },
   "types_to_exclude": [
    "module",
    "function",
    "builtin_function_or_method",
    "instance",
    "_Feature"
   ],
   "window_display": false
  }
 },
 "nbformat": 4,
 "nbformat_minor": 5
}
